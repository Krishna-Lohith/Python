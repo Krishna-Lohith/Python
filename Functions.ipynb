{
 "cells": [
  {
   "cell_type": "markdown",
   "id": "75cd7913",
   "metadata": {},
   "source": [
    "# Python_Functions\n",
    "\n",
    "Do not use print function for output for premitive datatype bcoz we will get NoneType(Not any type in python).\n",
    "so use return in functions so it will give accurate datatype. \n",
    "\n",
    "def mul_5(n):  \n",
    "||||\"\"\"\" Define what does the function does \"\"\"         #Docstring     \n",
    "||||return n * 5.5    \n",
    "\n",
    "Check docstring  \n",
    "press shift + TAb inside the function.  \n",
    "or help(function)  "
   ]
  },
  {
   "cell_type": "code",
   "execution_count": null,
   "id": "7d0caa52",
   "metadata": {},
   "outputs": [],
   "source": [
    "def first():\n",
    "    \"\"\"This is my first function\"\"\"     #Docstring\n",
    "    print(\"Welcome all\")\n",
    "first()"
   ]
  },
  {
   "cell_type": "code",
   "execution_count": null,
   "id": "fd612a27",
   "metadata": {},
   "outputs": [],
   "source": [
    "help(first)"
   ]
  },
  {
   "cell_type": "code",
   "execution_count": null,
   "id": "382d76b0",
   "metadata": {},
   "outputs": [],
   "source": [
    "help(first())"
   ]
  },
  {
   "cell_type": "code",
   "execution_count": null,
   "id": "b71330d0",
   "metadata": {},
   "outputs": [],
   "source": [
    "#Multi line comment\n",
    "print(\"hi\")\n",
    "\"\"\"\n",
    "    hi\n",
    "    krishna\n",
    "    lohith\n",
    "    byee\"\"\"\n"
   ]
  },
  {
   "cell_type": "code",
   "execution_count": null,
   "id": "988320fa",
   "metadata": {},
   "outputs": [],
   "source": [
    "type(first())    # print always returns NoneType"
   ]
  },
  {
   "cell_type": "code",
   "execution_count": null,
   "id": "7ffbdc96",
   "metadata": {},
   "outputs": [],
   "source": [
    "a = first()"
   ]
  },
  {
   "cell_type": "code",
   "execution_count": null,
   "id": "6748262e",
   "metadata": {},
   "outputs": [],
   "source": [
    "# output of print is looks like a string but it is not a string. it is nonetype.\n",
    "a + \"lohith\""
   ]
  },
  {
   "cell_type": "code",
   "execution_count": null,
   "id": "d1c1d46e",
   "metadata": {},
   "outputs": [],
   "source": [
    "#unable to convert the str Nonetype into string.\n",
    "b = str(a)"
   ]
  },
  {
   "cell_type": "code",
   "execution_count": null,
   "id": "dc9f60ef",
   "metadata": {},
   "outputs": [],
   "source": [
    "b + \"lohith\""
   ]
  },
  {
   "cell_type": "code",
   "execution_count": null,
   "id": "bf25d319",
   "metadata": {},
   "outputs": [],
   "source": [
    "def secc():\n",
    "    return \"Welcome all\""
   ]
  },
  {
   "cell_type": "code",
   "execution_count": null,
   "id": "b7f13ed6",
   "metadata": {},
   "outputs": [],
   "source": [
    "print(secc())\n",
    "type(secc())"
   ]
  },
  {
   "cell_type": "code",
   "execution_count": null,
   "id": "fd1498ac",
   "metadata": {},
   "outputs": [],
   "source": [
    "def mul_5(n):\n",
    "    return n * 5.5"
   ]
  },
  {
   "cell_type": "code",
   "execution_count": null,
   "id": "67468144",
   "metadata": {},
   "outputs": [],
   "source": [
    "type(mul_5(4))"
   ]
  },
  {
   "cell_type": "code",
   "execution_count": null,
   "id": "edeae4b4",
   "metadata": {},
   "outputs": [],
   "source": [
    "def third():\n",
    "    return 3,4.6,'krishna',4+6j,[3,4.6,'krishna',4+6j],(3,4.6,'krishna',4+6j),{3,4.6,'krishna',4+6j},{'a':3,'b':4}\n",
    "print(third())\n",
    "type(third())"
   ]
  },
  {
   "cell_type": "code",
   "execution_count": null,
   "id": "c5fa11e0",
   "metadata": {},
   "outputs": [],
   "source": [
    "type(third())"
   ]
  },
  {
   "cell_type": "code",
   "execution_count": null,
   "id": "6a76c985",
   "metadata": {},
   "outputs": [],
   "source": [
    "def four():\n",
    "    return 3,4.6,'krishna',4+6j,[3,4.6,'krishna',4+6j],(3,4.6,'krishna',4+6j),{3,4.6,'krishna',4+6j},{'a':3,'b':4}\n",
    "four()"
   ]
  },
  {
   "cell_type": "code",
   "execution_count": null,
   "id": "c67e9179",
   "metadata": {},
   "outputs": [],
   "source": [
    "type(four())"
   ]
  },
  {
   "cell_type": "code",
   "execution_count": null,
   "id": "f3fbc2f0",
   "metadata": {},
   "outputs": [],
   "source": [
    "len(four())"
   ]
  },
  {
   "cell_type": "code",
   "execution_count": null,
   "id": "388ef296",
   "metadata": {},
   "outputs": [],
   "source": [
    "four()[3]"
   ]
  },
  {
   "cell_type": "code",
   "execution_count": null,
   "id": "e8a5703a",
   "metadata": {},
   "outputs": [],
   "source": [
    "z,x,c,v,b,n,m = four()"
   ]
  },
  {
   "cell_type": "code",
   "execution_count": null,
   "id": "ce04fa03",
   "metadata": {},
   "outputs": [],
   "source": [
    "z,x,c,v,b,n,m,k = four()"
   ]
  },
  {
   "cell_type": "code",
   "execution_count": null,
   "id": "9891f6cd",
   "metadata": {},
   "outputs": [],
   "source": [
    "print(z)\n",
    "print(x)\n",
    "print(c)\n",
    "print(v)\n",
    "print(b)\n",
    "print(n)\n",
    "print(m)\n",
    "print(k)\n"
   ]
  },
  {
   "cell_type": "code",
   "execution_count": null,
   "id": "4ba108ee",
   "metadata": {},
   "outputs": [],
   "source": [
    "l = [2,3,45,6,6,'krishna',89,[2,53,34,2], 77]"
   ]
  },
  {
   "cell_type": "code",
   "execution_count": null,
   "id": "8fe88d64",
   "metadata": {},
   "outputs": [],
   "source": [
    "\n",
    "def li(l):\n",
    "    n = []\n",
    "    if type(l) == list:\n",
    "        for i in l:\n",
    "            if type(i) == int:\n",
    "                n.append(i)\n",
    "    else:\n",
    "        print('Enter a list')\n",
    "    return n\n",
    "li(l)"
   ]
  },
  {
   "cell_type": "code",
   "execution_count": null,
   "id": "54bb47f3",
   "metadata": {},
   "outputs": [],
   "source": [
    "li(l)"
   ]
  },
  {
   "cell_type": "code",
   "execution_count": null,
   "id": "a995dd45",
   "metadata": {},
   "outputs": [],
   "source": [
    "li([2,'krisakns',423])"
   ]
  },
  {
   "cell_type": "code",
   "execution_count": null,
   "id": "44852c72",
   "metadata": {},
   "outputs": [],
   "source": [
    "li((3,4))"
   ]
  },
  {
   "cell_type": "code",
   "execution_count": null,
   "id": "1834d9f6",
   "metadata": {},
   "outputs": [],
   "source": [
    "li((3,4))"
   ]
  },
  {
   "cell_type": "code",
   "execution_count": null,
   "id": "296df34d",
   "metadata": {},
   "outputs": [],
   "source": [
    "# This dict doesn't have any iterable keys.\n",
    "d = {\"ineuron\" : {\n",
    "                    \"a\": 14,\n",
    "                    \"b\":10,\n",
    "                    \"c\": 4\n",
    "                    }, \n",
    "        \"course\" :  {\n",
    "                      \"d\":45,\n",
    "                      \"e\":34,\n",
    "                      \"f\":1\n",
    "                    },\n",
    "     \"price\" :  {\n",
    "                      \"g\":85,\n",
    "                      \"h\":114,\n",
    "                      \"i\":10\n",
    "      },  \"k\":[3,45,43,232,24,532,777],\n",
    "     \"l\":(23,324,34),\n",
    "     \"m\":\"krishna\",\n",
    "     \"n\" : 88\n",
    "    }"
   ]
  },
  {
   "cell_type": "code",
   "execution_count": null,
   "id": "58ba5033",
   "metadata": {},
   "outputs": [],
   "source": [
    "# Takes input as dict and returns keys\n",
    "def test8(d):\n",
    "    l = []\n",
    "    if type(d) == dict:\n",
    "        for i in d.keys():\n",
    "            l.append(i)\n",
    "    return l\n",
    "test8(d)"
   ]
  },
  {
   "cell_type": "code",
   "execution_count": null,
   "id": "bfde37b9",
   "metadata": {},
   "outputs": [],
   "source": [
    "type(test8(d))"
   ]
  },
  {
   "cell_type": "code",
   "execution_count": null,
   "id": "8c8cae89",
   "metadata": {},
   "outputs": [],
   "source": [
    "# Takes input as dict and returns keys\n",
    "def test8(d):\n",
    "    if type(d) == dict:\n",
    "        for i in d.keys():\n",
    "            pass\n",
    "        return i\n",
    "test8(d)"
   ]
  },
  {
   "cell_type": "code",
   "execution_count": null,
   "id": "089021f6",
   "metadata": {},
   "outputs": [],
   "source": [
    "# Takes input as dict and returns keys\n",
    "def test8(d):\n",
    "    if type(d) == dict:\n",
    "        return d.keys()\n",
    "test8(d)"
   ]
  },
  {
   "cell_type": "code",
   "execution_count": null,
   "id": "beaf6771",
   "metadata": {},
   "outputs": [],
   "source": [
    "type(test8(d))"
   ]
  },
  {
   "cell_type": "code",
   "execution_count": null,
   "id": "bf65ad44",
   "metadata": {},
   "outputs": [],
   "source": [
    "def test9(d):\n",
    "    N = input(\"How many key's do you need:- \")\n",
    "    a = {}\n",
    "    for i in range(1,N):\n",
    "        k = input(f\"Enter key {i}\")\n",
    "        v = input(f\"Enter value {i}\")\n",
    "    a.update(k)\n",
    "    #converting strings to dict\n",
    "    "
   ]
  },
  {
   "cell_type": "code",
   "execution_count": null,
   "id": "07b0d2f1",
   "metadata": {},
   "outputs": [],
   "source": [
    "# This dict doesn't have any iterable keys.\n",
    "d = {\"ineuron\" : {\n",
    "                    \"a\": 14,\n",
    "                    \"b\":10,\n",
    "                    \"c\": 4\n",
    "                    }, \n",
    "        \"course\" :  {\n",
    "                      \"d\":45,\n",
    "                      \"e\":34,\n",
    "                      \"f\":1\n",
    "                    },\n",
    "     \"price\" :  {\n",
    "                      \"g\":85,\n",
    "                      \"h\":114,\n",
    "                      \"i\":10\n",
    "      },  \"k\":[3,45,43,232,24,532,777],\n",
    "     \"l\":(23,324,34),\n",
    "     \"m\":\"krishna\",\n",
    "     \"n\" : 88,\n",
    "     'p':9.99,\n",
    "     'q':7+6j,\n",
    "    }"
   ]
  },
  {
   "cell_type": "code",
   "execution_count": null,
   "id": "0cf5b086",
   "metadata": {},
   "outputs": [],
   "source": [
    "if type(d) == dict:\n",
    "    for i in d.keys():\n",
    "        print(i)"
   ]
  },
  {
   "cell_type": "code",
   "execution_count": null,
   "id": "b39a8759",
   "metadata": {},
   "outputs": [],
   "source": [
    "# Takes input as dict and returns keys\n",
    "def test8(d):\n",
    "    if type(d) == dict:\n",
    "        for i in d.keys():\n",
    "            return i\n",
    "test8(d)"
   ]
  },
  {
   "cell_type": "code",
   "execution_count": null,
   "id": "cf8c3fe5",
   "metadata": {},
   "outputs": [],
   "source": [
    "# Take 2 lists as input and append it\n",
    "def test10(l1,l2):\n",
    "    if type(l1) == list and type(l2) == list :\n",
    "        return l1.extend(l2)\n",
    "    else:\n",
    "        print(\"Entered is not a list\")\n",
    "        \n",
    "l1 = [1,2,3,4,5]\n",
    "l2 = [6,7,8,9]\n",
    "\n",
    "test10(l1,l2)\n",
    "\n",
    "l1"
   ]
  },
  {
   "cell_type": "code",
   "execution_count": null,
   "id": "78ed4a4d",
   "metadata": {},
   "outputs": [],
   "source": [
    "# Take 2 lists as input and append it\n",
    "def test10(l1,l2):\n",
    "    if type(l1) == list and type(l2) == list :\n",
    "        l1.extend(l2)\n",
    "        return l1\n",
    "    else:\n",
    "        print(\"Entered is not a list\")\n",
    "        \n",
    "l1 = [1,2,3,4,5]\n",
    "l2 = [6,7,8,9]"
   ]
  },
  {
   "cell_type": "code",
   "execution_count": null,
   "id": "e4aaeda8",
   "metadata": {},
   "outputs": [],
   "source": [
    "n = test10(l1,l2)"
   ]
  },
  {
   "cell_type": "code",
   "execution_count": null,
   "id": "10ce1833",
   "metadata": {},
   "outputs": [],
   "source": [
    "n"
   ]
  },
  {
   "cell_type": "code",
   "execution_count": null,
   "id": "056681bf",
   "metadata": {},
   "outputs": [],
   "source": [
    "# Call a function for right angle triangle\n",
    "def test11(n):\n",
    "    \"\"\"Define about the function\"\"\"\n",
    "    for i in range(n):\n",
    "        for j in range(0,i+1):\n",
    "            print(\"* \", end=\"\")\n",
    "        print('\\r')"
   ]
  },
  {
   "cell_type": "code",
   "execution_count": null,
   "id": "60026154",
   "metadata": {},
   "outputs": [],
   "source": [
    "test11(7)"
   ]
  },
  {
   "cell_type": "markdown",
   "id": "a93e4bd2",
   "metadata": {},
   "source": [
    "# Functions Assignment"
   ]
  },
  {
   "cell_type": "markdown",
   "id": "9f80cc22",
   "metadata": {},
   "source": [
    "### 1.Write a len() function for string"
   ]
  },
  {
   "cell_type": "code",
   "execution_count": null,
   "id": "34c49876",
   "metadata": {},
   "outputs": [],
   "source": [
    "def length_(a):\n",
    "    \"\"\"\n",
    "    This function gives the output as length of the given string\n",
    "    Argument should not be empty\n",
    "    \"\"\"\n",
    "    count = 0\n",
    "    for i in a:\n",
    "        count+=1    \n",
    "    return count\n",
    "\n",
    "length_('python')"
   ]
  },
  {
   "cell_type": "markdown",
   "id": "d47afc4c",
   "metadata": {},
   "source": [
    "### 2. Write a func which will able to print an index of the elements in a collection(list,tuple,set,dict)"
   ]
  },
  {
   "cell_type": "code",
   "execution_count": null,
   "id": "53b51e11",
   "metadata": {},
   "outputs": [],
   "source": [
    "\n",
    "def inde_x(a):\n",
    "    \"\"\"\n",
    "    Give input as a list\n",
    "    Returns indexes of the elements in a list\n",
    "    \"\"\"\n",
    "    count = 0\n",
    "    if type(a) == list or type(a) == tuple or type(a) == set or type(a) == dict:\n",
    "        s =  set(a)\n",
    "        for i in s:\n",
    "            count +=1\n",
    "            print(f\"Element {i} has index {count-1}\")\n",
    "        return \n",
    "    \n",
    "l = [1,1,2.34,'lohith',4+6j,True]\n",
    "inde_x(l)"
   ]
  },
  {
   "cell_type": "markdown",
   "id": "c2aea6bb",
   "metadata": {},
   "source": [
    "### 3. write a func which will take an input as dict and give out as a list of all the values even in case of 2 level nesting it should work."
   ]
  },
  {
   "cell_type": "code",
   "execution_count": null,
   "id": "df3b2062",
   "metadata": {},
   "outputs": [],
   "source": [
    "d = {'a':3,'b':4.44,'s':'lohith','x':6+5j,'n':{'c':5.6,'d':6},'z':[2,3.4,'krishna',4-8j],'t':(2,3.4,'krishna',4-8j)}\n",
    "def Dict_list(a):\n",
    "    \"\"\"\n",
    "    Give input as a dictionary and returns the values in the dictionary including nested collections\n",
    "    \"\"\"\n",
    "    l = []\n",
    "    if type(a) == dict:\n",
    "        for v in a.values():\n",
    "            if type(v) == int or type(v) == float or type(v) == str or type(v) == complex:\n",
    "                l.append(v)\n",
    "            elif type(v) == dict:\n",
    "                l.extend(v.values())\n",
    "            elif type(v) == list or type(v) == tuple:\n",
    "                l.extend(v)\n",
    "        return l\n",
    "    \n",
    "Dict_list(d)"
   ]
  },
  {
   "cell_type": "markdown",
   "id": "4704e0ca",
   "metadata": {},
   "source": [
    "### 4. Write a func which calls another function."
   ]
  },
  {
   "cell_type": "code",
   "execution_count": null,
   "id": "0cdd5cee",
   "metadata": {},
   "outputs": [],
   "source": [
    "#how to do a switch case\n",
    "def q4(a):\n",
    "    a = length_(a)\n",
    "    return a\n",
    "\n",
    "q4('krishna')"
   ]
  },
  {
   "cell_type": "markdown",
   "id": "51d1a2dd",
   "metadata": {},
   "source": [
    "### 5. write a function which will take list as input and gives concatinaton of the elements. "
   ]
  },
  {
   "cell_type": "code",
   "execution_count": null,
   "id": "0c19eee5",
   "metadata": {},
   "outputs": [],
   "source": [
    "def suml(a):\n",
    "    \"\"\"\n",
    "    Concatinates the list\n",
    "    \"\"\"\n",
    "    if type(a) == list:\n",
    "        return sum(a)\n",
    "    else:\n",
    "        print(\"please enter a list with values.\")\n",
    "\n",
    "suml([2,3,4,9+9j])"
   ]
  },
  {
   "cell_type": "code",
   "execution_count": null,
   "id": "a10c6488",
   "metadata": {},
   "outputs": [],
   "source": [
    "def sum_ml(a):\n",
    "    \"\"\"\n",
    "    Concatinates multiple lists of elements\n",
    "    \"\"\"\n",
    "    l = []\n",
    "    if type(a) == list:\n",
    "        for i in a:\n",
    "            l.extend(i)\n",
    "            for j in l:\n",
    "                if type(j)==str:\n",
    "                    print('Do not enter a string in a list')\n",
    "        return sum(l)\n",
    "    else:\n",
    "        print(\"Entered is not a list\")\n",
    "\n",
    "sum_ml([[2,3,4],[2,3]])"
   ]
  },
  {
   "cell_type": "markdown",
   "id": "ec84e505",
   "metadata": {},
   "source": [
    "### 6.Write a func which will be able to take a list as an input and return an index of each element like .index() but show index for multiple eliments also."
   ]
  },
  {
   "cell_type": "code",
   "execution_count": null,
   "id": "3e15d5c3",
   "metadata": {},
   "outputs": [],
   "source": [
    "def Duplicate_index(a):\n",
    "    \"\"\"\n",
    "    Index of duplicate elements\n",
    "    \"\"\"\n",
    "    count = 0\n",
    "    if list or tuple or dictionary or set in a:   #type(a)==list or type(a)==tupe or type(a)==set or type(a)==dict:\n",
    "        for i in a:\n",
    "            count+=1\n",
    "            print(f\"Element {i} has index {count-1}\")\n",
    "\n",
    "l = [1,1,'krishna',2,2,3]\n",
    "Duplicate_index(l)"
   ]
  },
  {
   "cell_type": "markdown",
   "id": "8d2aaac9",
   "metadata": {},
   "source": [
    "### 7.write a func which returns a list of all the file names from a directory"
   ]
  },
  {
   "cell_type": "code",
   "execution_count": null,
   "id": "59de11d3",
   "metadata": {},
   "outputs": [],
   "source": [
    "import os\n",
    "def file_names(a):\n",
    "    \"\"\"\n",
    "    Returns file names from a given directory file_name(r\"path\")\"\"\"\n",
    "    return os.listdir(a)\n",
    "\n",
    "print(file_names(r\"C:\\Users\\User\\Desktop\\Learning\\FSDS\\Python\"))"
   ]
  },
  {
   "cell_type": "markdown",
   "id": "7040f8e3",
   "metadata": {},
   "source": [
    "### 8. Write a function which will be able to show your system configuration"
   ]
  },
  {
   "cell_type": "code",
   "execution_count": null,
   "id": "465b2221",
   "metadata": {},
   "outputs": [],
   "source": [
    "#pip install psutil\n",
    "\n",
    "import platform\n",
    "\n",
    "def sys_con():\n",
    "    \"\"\"\n",
    "    System confuration\n",
    "    \"\"\"\n",
    "    print(f\"Computer network name: {platform.node()}\")\n",
    "    #Machine type\n",
    "    print(f\"Machine type: {platform.machine()}\")\n",
    "    #Processor type\n",
    "    print(f\"Processor type: {platform.processor()}\")\n",
    "    #Platform type\n",
    "    print(f\"Platform type: {platform.platform()}\")\n",
    "    #Operating system\n",
    "    print(f\"Operating system: {platform.system()}\")\n",
    "    #Operating system release\n",
    "    print(f\"Operating system release: {platform.release()}\")\n",
    "    #Operating system version\n",
    "    print(f\"Operating system version: {platform.version()}\")\n",
    "    #Physical cores\n",
    "    print(f\"Number of physical cores: {psutil.cpu_count(logical=False)}\")\n",
    "    #Logical cores\n",
    "    print(f\"Number of logical cores: {psutil.cpu_count(logical=True)}\")\n",
    "    #Current frequency\n",
    "    print(f\"Current CPU frequency: {psutil.cpu_freq().current}\")\n",
    "    #Min frequency\n",
    "    print(f\"Min CPU frequency: {psutil.cpu_freq().min}\")\n",
    "    #Max frequency\n",
    "    print(f\"Max CPU frequency: {psutil.cpu_freq().max}\")\n",
    "    #System-wide CPU utilization\n",
    "    print(f\"Current CPU utilization: {psutil.cpu_percent(interval=1)}\")\n",
    "    #System-wide per-CPU utilization\n",
    "    print(f\"Current per-CPU utilization: {psutil.cpu_percent(interval=1, percpu=True)}\")\n",
    "    #Total RAM\n",
    "    print(f\"Total RAM installed: {round(psutil.virtual_memory().total/1000000000, 2)} GB\")\n",
    "    #Available RAM\n",
    "    print(f\"Available RAM: {round(psutil.virtual_memory().available/1000000000, 2)} GB\")\n",
    "    #Used RAM\n",
    "    print(f\"Used RAM: {round(psutil.virtual_memory().used/1000000000, 2)} GB\")\n",
    "    #RAM usage\n",
    "    print(f\"RAM usage: {psutil.virtual_memory().percent}%\")\n",
    "\n",
    "    \n",
    "sys_con()"
   ]
  },
  {
   "cell_type": "markdown",
   "id": "936f8636",
   "metadata": {},
   "source": [
    "### 9.write a function which will get date and time"
   ]
  },
  {
   "cell_type": "code",
   "execution_count": null,
   "id": "797f0919",
   "metadata": {},
   "outputs": [],
   "source": [
    "# Getting current date and time using now().\n",
    "\n",
    "# importing datetime module for now()\n",
    "import datetime\n",
    "\n",
    "# using now() to get current time\n",
    "\n",
    "def date_time():\n",
    "    \"\"\"\n",
    "    Gets date and time\"\"\"\n",
    "    current_time = datetime.datetime.now()\n",
    "    return print(\"Current date and time:- \",current_time)\n",
    "\n",
    "date_time()"
   ]
  },
  {
   "cell_type": "markdown",
   "id": "b7602240",
   "metadata": {},
   "source": [
    "### 10.Write a function which will be able to read a image file and show it to you."
   ]
  },
  {
   "cell_type": "code",
   "execution_count": null,
   "id": "22d6dc70",
   "metadata": {},
   "outputs": [],
   "source": [
    "from IPython.display import Image\n",
    "\n",
    "def Read_Image(a):\n",
    "    \"\"\"\n",
    "    Please give the file name in the format Read_Image(r\"filename.mp4\") \n",
    "    Returns Image\n",
    "    \"\"\"\n",
    "    return Image(a)\n",
    "\n",
    "Read_Image(r\"pic for resume.jpeg\")    # (r\"C:\\Users\\User\\Desktop\\pic for resume.jpeg\")"
   ]
  },
  {
   "cell_type": "markdown",
   "id": "cd0b69aa",
   "metadata": {},
   "source": [
    "### 11. Write function to read a video file "
   ]
  },
  {
   "cell_type": "code",
   "execution_count": null,
   "id": "88cf64b4",
   "metadata": {
    "scrolled": true
   },
   "outputs": [],
   "source": [
    "from IPython.display import Video\n",
    "\n",
    "def Read_Video(a):\n",
    "    \"\"\"\n",
    "    Please give the file name in the format Read_video(r\"filename.mp4\") \n",
    "    Returns Mp4\n",
    "    \"\"\"\n",
    "    return Video(a)\n",
    "\n",
    "Read_Video(\"67439583_431111364159107_3868945810002857815_n.mp4\")"
   ]
  },
  {
   "cell_type": "markdown",
   "id": "b9eaef1c",
   "metadata": {},
   "source": [
    "### Write a function to read Audio file."
   ]
  },
  {
   "cell_type": "code",
   "execution_count": null,
   "id": "258c4c03",
   "metadata": {},
   "outputs": [],
   "source": [
    "from IPython.display import Audio\n",
    "\n",
    "def Read_Audio(a):\n",
    "    \"\"\"\n",
    "    Return Audio file Read_Audio(\"filepath\"):\n",
    "    \"\"\"\n",
    "    return Audio(a)\n",
    "\n",
    "Read_Audio(\"D:\\PerfLogs\\Folder\\WhatsApp Business\\Media\\WhatsApp Business Audio\\AUD-20220223-WA0001.opus\")"
   ]
  },
  {
   "cell_type": "markdown",
   "id": "8c3386a6",
   "metadata": {},
   "source": [
    "### 12. Moving a file from one directory to another directory."
   ]
  },
  {
   "cell_type": "code",
   "execution_count": null,
   "id": "64af2c30",
   "metadata": {},
   "outputs": [],
   "source": [
    "import shutil\n",
    "\n",
    "def dir_dir(a,b):\n",
    "    \"\"\"\n",
    "    move any file from one directory to other directory dir_dir(r\"filepath\",r\"destination path\")\n",
    "    \"\"\"\n",
    "    return shutil.move(a,b)\n",
    "\n",
    "dir_dir(r\"C:\\Users\\User\\Desktop\\Masters\\IELinks.txt\", r\"C:\\Users\\User\\Desktop\\Masters\\Avanse\")"
   ]
  },
  {
   "cell_type": "markdown",
   "id": "3abac987",
   "metadata": {},
   "source": [
    "### 13. Write a function which will shutdown the system."
   ]
  },
  {
   "cell_type": "markdown",
   "id": "b214004e",
   "metadata": {},
   "source": [
    "### 14. Write function to get all inbox mails from a gmail acoount."
   ]
  },
  {
   "cell_type": "code",
   "execution_count": null,
   "id": "a37ea84e",
   "metadata": {},
   "outputs": [],
   "source": [
    "import imaplib\n",
    "\n",
    "mail = imaplib.IMAP4_SSL(\"imap.gmail.com\")\n",
    "mail.login(\"krishnalohith@gmail.com\", \"\")\n",
    "mail.select(\"inbox\")\n",
    "\n",
    "status, messages = mail.search(None, \"ALL\")\n",
    "\n",
    "for num in messages[0].split():\n",
    "    status, message = mail.fetch(num, \"(RFC822)\")\n",
    "    print(message[0][1])\n",
    "\n",
    "mail.close()\n",
    "mail.logout()\n"
   ]
  },
  {
   "cell_type": "code",
   "execution_count": null,
   "id": "a6d0d87e",
   "metadata": {},
   "outputs": [],
   "source": [
    "import smtplib\n",
    "from email.mime.text import MIMEText\n",
    "\n",
    "sender = \"krishnalohith99@gmail.com\"\n",
    "recipient = \"krishnalohith22@gmail.com\"\n",
    "password = \"\"\n",
    "\n",
    "message = MIMEText(\"Hello, this is a test email.\")\n",
    "message[\"From\"] = sender\n",
    "message[\"To\"] = recipient\n",
    "message[\"Subject\"] = \"Test Email\"\n",
    "\n",
    "server = smtplib.SMTP_SSL(\"smtp.gmail.com\", 465)\n",
    "server.login(sender, password)\n",
    "server.sendmail(sender, [recipient], message.as_string())\n",
    "server.quit()\n"
   ]
  },
  {
   "cell_type": "markdown",
   "id": "fb2d3a62",
   "metadata": {},
   "source": [
    "### "
   ]
  },
  {
   "cell_type": "markdown",
   "id": "b9dc12d1",
   "metadata": {},
   "source": [
    "### 16. write a function which reads a complete pdf file."
   ]
  },
  {
   "cell_type": "code",
   "execution_count": null,
   "id": "33abe07e",
   "metadata": {
    "scrolled": false
   },
   "outputs": [],
   "source": [
    "\n",
    "import PyPDF2\n",
    "\n",
    "def Read_PDF(a):\n",
    "    \"\"\"\n",
    "    Function to read a pdf file\n",
    "    \"\"\"\n",
    "    with open(a, \"rb\") as file:\n",
    "        reader = PyPDF2.PdfReader(file)\n",
    "        number_of_pages = len(reader.pages)\n",
    "        for page_number in range(number_of_pages):\n",
    "            page = reader.pages[page_number]\n",
    "            page_content = page.extract_text()\n",
    "            print(page_content)\n",
    "\n",
    "Read_PDF(r\"C:\\Users\\User\\Desktop\\Learning\\Power BI\\FMS Active User.pdf\")"
   ]
  },
  {
   "cell_type": "markdown",
   "id": "11445380",
   "metadata": {},
   "source": [
    "### 17. Write a function to read a word file."
   ]
  },
  {
   "cell_type": "code",
   "execution_count": null,
   "id": "4229d6f7",
   "metadata": {},
   "outputs": [],
   "source": [
    "pip install python-docx"
   ]
  },
  {
   "cell_type": "code",
   "execution_count": null,
   "id": "dbbce313",
   "metadata": {},
   "outputs": [],
   "source": [
    "import docx\n",
    "\n",
    "def Read_Doc(a):\n",
    "    from docx.opc.exceptions import PackageNotFoundError\n",
    "\n",
    "    try:\n",
    "        doc = docx.Document(a)\n",
    "\n",
    "        for para in doc.paragraphs:\n",
    "            print(para.text)\n",
    "    except PackageNotFoundError:\n",
    "        print(\"The specified Word file could not be found.\")\n",
    "\n",
    "Read_Doc(r\"C:\\Users\\User\\Desktop\\Learning\\Kaggle\\python kaggle.docx\")"
   ]
  },
  {
   "cell_type": "markdown",
   "id": "416e6d2e",
   "metadata": {},
   "source": [
    "### 18. write a function which will filter out only word files from a directorty(folder)"
   ]
  },
  {
   "cell_type": "code",
   "execution_count": null,
   "id": "6ae654c2",
   "metadata": {},
   "outputs": [],
   "source": [
    "import os\n",
    "\n",
    "def filter_word_files(directory):\n",
    "    \"\"\"\n",
    "    Returns only doc files from a given directory\n",
    "    \"\"\"\n",
    "    word_files = []\n",
    "    for filename in os.listdir(directory):\n",
    "        if filename.endswith(\".docx\"):\n",
    "            word_files.append(os.path.join(directory, filename))\n",
    "    return word_files\n",
    "word_files = filter_word_files(r\"C:\\Users\\User\\Desktop\\Learning\\Document filtered code\")\n",
    "\n",
    "for word_file in word_files:\n",
    "    print(word_file)\n",
    "\n",
    "filter_word_files(r\"C:\\Users\\User\\Desktop\\Learning\\Docs\")"
   ]
  },
  {
   "cell_type": "markdown",
   "id": "f6edf213",
   "metadata": {},
   "source": [
    "### 19. write a function by which you can print ip address of our system"
   ]
  },
  {
   "cell_type": "code",
   "execution_count": null,
   "id": "63bbbf98",
   "metadata": {},
   "outputs": [],
   "source": [
    "import socket\n",
    "\n",
    "def get_ip_address():\n",
    "    \"\"\"\n",
    "    Returns the system ip address\n",
    "    \"\"\"\n",
    "    hostname = socket.gethostname()\n",
    "    ip_address = socket.gethostbyname(hostname)\n",
    "    return ip_address\n",
    "\n",
    "ip = get_ip_address()\n",
    "print(\"The IP address of this system is:\", ip)\n"
   ]
  },
  {
   "cell_type": "markdown",
   "id": "8774148d",
   "metadata": {},
   "source": [
    "### 20. Write a function in python in which we will append 2 pdf files"
   ]
  },
  {
   "cell_type": "code",
   "execution_count": null,
   "id": "ac3e3af5",
   "metadata": {},
   "outputs": [],
   "source": [
    "from PyPDF2 import PdfMerger\n",
    "\n",
    "def Merge_files(a,b):\n",
    "    \"\"\"\n",
    "    Merges two pdf files and creates a new pdf file\n",
    "    \"\"\"\n",
    "    pdfs = [a,b]\n",
    "    merger = PdfMerger()\n",
    "    for pdf in pdfs:\n",
    "        merger.append(pdf)\n",
    "    \n",
    "    merger.write(\"Merged_File.pdf\")    #C:\\Users\\User\\Desktop\\Learning\\FSDS\\Python\n",
    "    merger.close()\n",
    "    \n",
    "Merge_files(r\"C:\\Users\\User\\Desktop\\Learning\\Power BI\\FMS Active User.pdf\", r\"C:\\Users\\User\\Desktop\\Learning\\Power BI\\FMS Alerts Dashboard_UAT.pdf\")"
   ]
  }
 ],
 "metadata": {
  "kernelspec": {
   "display_name": "Python 3",
   "language": "python",
   "name": "python3"
  },
  "language_info": {
   "codemirror_mode": {
    "name": "ipython",
    "version": 3
   },
   "file_extension": ".py",
   "mimetype": "text/x-python",
   "name": "python",
   "nbconvert_exporter": "python",
   "pygments_lexer": "ipython3",
   "version": "3.6.2"
  }
 },
 "nbformat": 4,
 "nbformat_minor": 5
}
