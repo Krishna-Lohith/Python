{
 "cells": [
  {
   "cell_type": "markdown",
   "id": "37fd2ed4",
   "metadata": {},
   "source": [
    "# Python_Class_Dtypes_003"
   ]
  },
  {
   "cell_type": "markdown",
   "id": "f24bc595",
   "metadata": {},
   "source": [
    "Datatypes | Ordered | Changeable | Unique / Not\n",
    "-|-|-|-\n",
    "List | Ordered | changeable | Allow Duplicates\n",
    "Tuple | Ordered | Unchangeable | Allow Duplicates\n",
    "Set | Unordered | Unchangeable | Not Allow Duplicates\n",
    "Dictionary | Ordered | changeable | Not Allow Duplicates"
   ]
  },
  {
   "cell_type": "markdown",
   "id": "752bc753",
   "metadata": {},
   "source": [
    "## String Methods\n",
    "\n",
    "String datatype is immutable entity - can't change with other values   # Item assignment is not possible     \n",
    "**press TAB after (variable.)**  \n",
    "A single element is a str.  \n",
    "Multple elements is a tuple"
   ]
  },
  {
   "cell_type": "code",
   "execution_count": null,
   "id": "51b7e327",
   "metadata": {},
   "outputs": [],
   "source": [
    "s = \"krishna lohith\"\n",
    "s2 = \"krishna lohith\" ,'mothukuri'\n",
    "i = 2\n",
    "i2 = 2,3,4,5,6\n",
    "print(type(s))\n",
    "print(type(s2))\n",
    "print(type(i))\n",
    "print(type(i2))"
   ]
  },
  {
   "cell_type": "markdown",
   "id": "18a1d109",
   "metadata": {},
   "source": [
    "### Indexing   - Accessing each string\n",
    "starts from 0 to positive in right direction  \n",
    "starts from -1 to negative in left direction  \n",
    "\n",
    "n[start:stop:step]  \n",
    " 0 1 2 3 4 5 6  \n",
    " k r i s h n a  \n",
    "-7-6-5-4-3-2-1 "
   ]
  },
  {
   "cell_type": "code",
   "execution_count": null,
   "id": "e237fd9b",
   "metadata": {},
   "outputs": [],
   "source": [
    "print(len(s))\n",
    "print(s[0])\n",
    "print(s[-1])\n",
    "#print(n[100])  #error"
   ]
  },
  {
   "cell_type": "code",
   "execution_count": null,
   "id": "abaf54e0",
   "metadata": {},
   "outputs": [],
   "source": [
    "# Item assignment is not possible\n",
    "#s1[0] = 'k'"
   ]
  },
  {
   "cell_type": "code",
   "execution_count": null,
   "id": "d3f1511e",
   "metadata": {},
   "outputs": [],
   "source": [
    "# Iterations for loop and while loops \n",
    "for i in s:\n",
    "    print(i)"
   ]
  },
  {
   "cell_type": "markdown",
   "id": "ff8c7f6c",
   "metadata": {},
   "source": [
    "### Modify Strings"
   ]
  },
  {
   "cell_type": "code",
   "execution_count": null,
   "id": "ec8a3a91",
   "metadata": {},
   "outputs": [],
   "source": [
    "s = \"krishna LOHITH\"\n",
    "#s.split()   #if split is used then list will created\n",
    "print('Upper case:- ',s.upper())\n",
    "print('Lower case:- ',s.lower())\n",
    "print('Replaced:-   ',s.replace('k','p'))\n",
    "print('Title:-      ',n.title())    #capital of first letters of words  \n",
    "print('Capitalize:- ',n.capitalize())   #capitals of first letter in first word"
   ]
  },
  {
   "cell_type": "code",
   "execution_count": null,
   "id": "39b2a513",
   "metadata": {},
   "outputs": [],
   "source": [
    "p = \"krishna LOHITH\"\n",
    "print('Swapcase:- ',p.swapcase())"
   ]
  },
  {
   "cell_type": "code",
   "execution_count": null,
   "id": "33b83f79",
   "metadata": {},
   "outputs": [],
   "source": [
    "# Check (in and not in)\n",
    "'lohith' in s2"
   ]
  },
  {
   "cell_type": "code",
   "execution_count": null,
   "id": "98f336d9",
   "metadata": {},
   "outputs": [],
   "source": [
    "#concatination (only strings)\n",
    "s1 = 'lohith'\n",
    "print(s1, type(s1))\n",
    "s2 = 'krishna '+ 'lohith'   # string + string \n",
    "print(s2, type(s2))\n",
    "s3 = \"krishna \" * 10    # string * n   - multiplication\n",
    "print(s3, type(s3))"
   ]
  },
  {
   "cell_type": "code",
   "execution_count": null,
   "id": "c7d2e7c8",
   "metadata": {},
   "outputs": [],
   "source": [
    "# format\n",
    "s1 = 'krishna '\n",
    "s2 = 'lohith'\n",
    "age = 24\n",
    "print('my name is ',s1 + s2 + \" Mothukuri\")\n",
    "#print(s1 + s2 + \" Mothukuri\" + age)\n",
    "print(f'My first name is {s1} and second name is {s2} and age is {age} ')"
   ]
  },
  {
   "cell_type": "markdown",
   "id": "af187575",
   "metadata": {},
   "source": [
    "### String Slicing   -  Accessing Multiple strings\n",
    "use [:] to get all values \n",
    "\n",
    " \n"
   ]
  },
  {
   "cell_type": "code",
   "execution_count": null,
   "id": "d45c526b",
   "metadata": {},
   "outputs": [],
   "source": [
    "n = 'krishna Lohith@gmail'\n",
    "print(len(n))   # length - 20\n",
    "print(n[:])     # whole string\n",
    "print(n[:4])    # starts from 0 till 4(not include 4).\n",
    "print(n[2:])    # starts from 2 to end\n",
    "print(n[:100])   # string goes till 100. so 20 is inside 100 it gives till 20\n",
    "print(n[0:100]) # starts from 0 and goes to 100 \n",
    "print(n[-3:6])  # blank bcoz it has positive step \n",
    "\n",
    "#Positive step\n",
    "print(n[3:10:1])\n",
    "print(n[3:-10:1])\n",
    "print(n[-3:10:1])   #blank - opposite direction\n",
    "print(n[-10:3:1])\n",
    "print(n[-3:-10:1])  #blank - opposite direction\n",
    "print(n[-10:-3:1])\n",
    "\n",
    "#Negative step\n",
    "print(n[3:10:-1])     #blank - opposite direction\n",
    "print(n[3:-10:-1])    #blank - opposite direction\n",
    "print(n[-3:10:-1])     #blank\n",
    "print(n[-3:-10:-1])\n",
    "print(n[-1:20])\n",
    "print(n[0:-21:-1])\n",
    "print(n[-18:-8])"
   ]
  },
  {
   "cell_type": "code",
   "execution_count": null,
   "id": "ac6d0986",
   "metadata": {},
   "outputs": [],
   "source": [
    "# Gives first occured index\n",
    "n ='krishna lohith' \n",
    "print(type(n))\n",
    "print(n.find('i'))\n",
    "print(n.find('na'))\n",
    "print(n.find('z'))  # if not found then returns -1\n",
    "n.count('i')   #counts occurences in the strings"
   ]
  },
  {
   "cell_type": "code",
   "execution_count": null,
   "id": "af065980",
   "metadata": {},
   "outputs": [],
   "source": [
    "# creats a list converts into list\n",
    "p = n.split()   \n",
    "print(p)\n",
    "print(p[1])\n",
    "print(p[1][0])"
   ]
  },
  {
   "cell_type": "code",
   "execution_count": null,
   "id": "bd85a2f4",
   "metadata": {},
   "outputs": [],
   "source": [
    "a = 'krishna'\n",
    "b ='lohith'\n",
    "a.join(b)\n",
    "\" \".join(b)"
   ]
  },
  {
   "cell_type": "code",
   "execution_count": null,
   "id": "bf567010",
   "metadata": {},
   "outputs": [],
   "source": [
    "x = '   krishna lohith   '\n",
    "print(x.rstrip())\n",
    "print(t.lstrip())\n",
    "print(x.replace('h','p'))"
   ]
  },
  {
   "cell_type": "markdown",
   "id": "190c3fa1",
   "metadata": {},
   "source": [
    "### String Methods\n",
    "\n",
    "Method\t|\tDescription  \n",
    " - | -\n",
    "capitalize()\t|\tConverts the first character to upper case  \n",
    "casefold()\t|\tConverts string into lower case  \n",
    "center()\t|\tReturns a centered string  \n",
    "count()\t|\tReturns the number of times a specified value occurs in a string  \n",
    "encode()\t|\tReturns an encoded version of the string  \n",
    "endswith()\t|\tReturns true if the string ends with the specified value  \n",
    "expandtabs()\t|\tSets the tab size of the string  \n",
    "find()\t|\tSearches the string for a specified value and returns the position of where it was found  \n",
    "format()\t|\tFormats specified values in a string    \n",
    "format_map()\t|\tFormats specified values in a string  \n",
    "index()\t|\tSearches the string for a specified value and returns the position of where it was found  \n",
    "isalnum()\t|\tReturns True if all characters in the string are alphanumeric  \n",
    "isalpha()\t|\tReturns True if all characters in the string are in the alphabet  \n",
    "isdecimal()\t|\tReturns True if all characters in the string are decimals  \n",
    "isdigit()\t|\tReturns True if all characters in the string are digits  \n",
    "isidentifier()\t|\tReturns True if the string is an identifier  \n",
    "islower()\t|\tReturns True if all characters in the string are lower case  \n",
    "isnumeric()\t|\tReturns True if all characters in the string are numeric  \n",
    "isprintable()\t|\tReturns True if all characters in the string are printable  \n",
    "isspace()\t|\tReturns True if all characters in the string are whitespaces  \n",
    "istitle()\t|\tReturns True if the string follows the rules of a title  \n",
    "isupper()\t|\tReturns True if all characters in the string are upper case  \n",
    "join()\t|\tJoins the elements of an iterable to the end of the string   \n",
    "ljust()\t|\tReturns a left justified version of the string   \n",
    "lower()\t|\tConverts a string into lower case   \n",
    "lstrip()\t|\tReturns a left trim version of the string   \n",
    "maketrans()\t|\tReturns a translation table to be used in translations   \n",
    "partition()\t|\tReturns a tuple where the string is parted into three parts   \n",
    "replace()\t|\tReturns a string where a specified value is replaced with a specified value  \n",
    "rfind()\t|\tSearches the string for a specified value and returns the last position of where it was found  \n",
    "rindex()\t|\tSearches the string for a specified value and returns the last position of where it was found   \n",
    "rjust()\t|\tReturns a right justified version of the string   \n",
    "rpartition()\t|\tReturns a tuple where the string is parted into three parts  \n",
    "rsplit()\t|\tSplits the string at the specified separator, and returns a list   \n",
    "rstrip()\t|\tReturns a right trim version of the string   \n",
    "split()\t|\tSplits the string at the specified separator, and returns a list  \n",
    "splitlines()\t|\tSplits the string at line breaks and returns a list  \n",
    "startswith()\t|\tReturns true if the string starts with the specified value  \n",
    "strip()\t|\tReturns a trimmed version of the string  \n",
    "swapcase()\t|\tSwaps cases, lower case becomes upper case and vice versa  \n",
    "title()\t|\tConverts the first character of each word to upper case  \n",
    "translate()\t|\tReturns a translated string  \n",
    "upper()\t|\tConverts a string into upper case  \n",
    "zfill()\t|\tFills the string with a specified number of 0 values at the beginning  "
   ]
  },
  {
   "cell_type": "markdown",
   "id": "f5d4b7dd",
   "metadata": {},
   "source": [
    "# List  \n",
    "\n",
    "List is a collection which is ordered and changeable. Allows duplicate members.  \n",
    "List has []   \n",
    "we can also use- list()  \n",
    "List can also accepts keywords like (!,@,#,$....)  \n",
    "count(3)  #gives how many times 3 is repeated  \n",
    "if isinstance(i, (int,str))  - use instead of this - if type(i) == int or type(i) == str:     \n",
    "List is mutable - change     \n",
    "inside list is called as elements      \n",
    "replace()  #replace creates a new memory  and allocates the changed data in there.       \n",
    " (+)   #concatination - not a permanent change so use extend   -   c = l1 + l2    \n",
    "for item in list:   #use item if the list has a sublist    "
   ]
  },
  {
   "cell_type": "code",
   "execution_count": null,
   "id": "3fddcf61",
   "metadata": {},
   "outputs": [],
   "source": [
    "# Single list of elements\n",
    "list_string = ['krishna']\n",
    "list_int = [3]\n",
    "list_float = [45.6789]\n",
    "list_bool = [True]\n",
    "print(list_string, type(list_string))\n",
    "print(list_int, type(list_int))\n",
    "print(list_float, type(list_float))\n",
    "print(list_bool, type(list_bool))"
   ]
  },
  {
   "cell_type": "code",
   "execution_count": null,
   "id": "61002e2f",
   "metadata": {},
   "outputs": [],
   "source": [
    "# A list can accept int, float, str, bool, list, tuple, set, dict\n",
    "list_all = ['venky',3,['List',34,3+8j],True,('Tuple',3,45.56,2-4j,False),'hi',{'set',2,35.56,True,4+6j},{'name':'krishna','age':24}] \n",
    "print(type(list_all))"
   ]
  },
  {
   "cell_type": "markdown",
   "id": "4aa85d35",
   "metadata": {},
   "source": [
    "### Datatype Conversion"
   ]
  },
  {
   "cell_type": "code",
   "execution_count": null,
   "id": "c148385e",
   "metadata": {},
   "outputs": [],
   "source": [
    "#Converting list, tuple, set, dict into list using []\n",
    "list_list  = [ ['List',78.90,56,False]  ]\n",
    "list_tuple = [ ('Tuple',78.90,56,False) ]\n",
    "list_set   = [ {'Set',78.90,56,False}   ]\n",
    "list_dic   = [ {'key1':23,'key2':56.87} ]\n",
    "print(type(list_list))\n",
    "print(type(list_tuple))\n",
    "print(type(list_set))\n",
    "print(type(list_dic))"
   ]
  },
  {
   "cell_type": "code",
   "execution_count": null,
   "id": "6b811ec0",
   "metadata": {},
   "outputs": [],
   "source": [
    "#Converting list, tuple, set, dict into list using list()\n",
    "print(list('lohith'))\n",
    "list_list  = list( ['List',78.90,56,False]  )    \n",
    "list_tuple = list( ('Tuple',78.90,56,False) )    \n",
    "list_set   = list( {'Set',78.90,56,False}   )\n",
    "list_dic   = list( {'key1':23,'key2':56.87} ) \n",
    "print(type(list_list))\n",
    "print(type(list_tuple))\n",
    "print(type(list_set))\n",
    "print(type(list_dic))"
   ]
  },
  {
   "cell_type": "code",
   "execution_count": null,
   "id": "8aa14c85",
   "metadata": {},
   "outputs": [],
   "source": [
    "lis1 = ['krishna',123,23.12,3+4j, True, 76,'LOHITH',78.90,56,False]\n",
    "print(lis1, type(lis1))"
   ]
  },
  {
   "cell_type": "markdown",
   "id": "e917db91",
   "metadata": {},
   "source": [
    "### Accessing items"
   ]
  },
  {
   "cell_type": "code",
   "execution_count": null,
   "id": "342230c9",
   "metadata": {},
   "outputs": [],
   "source": [
    "print(lis1)\n",
    "print(lis1[2])           # takes index and gives value\n",
    "print(lis1.index(23.12)) # takes value and gives index\n",
    "print(lis1[2:7])         #slicing\n",
    "print(lis1[-1::-1])\n",
    "print(lis1[3].real)\n",
    "print(lis1.index(123))"
   ]
  },
  {
   "cell_type": "markdown",
   "id": "b73d38e1",
   "metadata": {},
   "source": [
    "### Changing items"
   ]
  },
  {
   "cell_type": "code",
   "execution_count": null,
   "id": "eba3708d",
   "metadata": {},
   "outputs": [],
   "source": [
    "#Item Assignment\n",
    "print(lis1)\n",
    "lis1[0] = 'lohith'\n",
    "lis1[2:4] = 'k','l'\n",
    "lis1"
   ]
  },
  {
   "cell_type": "markdown",
   "id": "1b60ee49",
   "metadata": {},
   "source": [
    "### Add items"
   ]
  },
  {
   "cell_type": "code",
   "execution_count": null,
   "id": "e933bfc5",
   "metadata": {},
   "outputs": [],
   "source": [
    "# concatination\n",
    "l1 = ['krishna']\n",
    "l2 = ['lohith']\n",
    "age = [24]\n",
    "flo = [45.76]\n",
    "boo = [True]\n",
    "print('Concatination:- ', l1+l2+ age + flo + boo)       #can add lists bcoz they are same type\n",
    "\n",
    "print(l1 * 10)   # Multiplication\n",
    "\n",
    "#appending\n",
    "l1.append([23,43.34,'doremon',True])   # add any dtype\n",
    "print(l1)\n",
    "\n",
    "#lis1.extend(l1)    # concates elements in one list to another list at the end.  \n",
    "lis1\n",
    "\n",
    "lis1.insert(0,l1)  # concates new elements in a particular index to a list \n",
    "lis1"
   ]
  },
  {
   "cell_type": "code",
   "execution_count": null,
   "id": "356c2c84",
   "metadata": {},
   "outputs": [],
   "source": [
    "l = [1,2,3,4,5,6,7]\n",
    "l.append(l)\n",
    "print(l)\n",
    "print(l[7])   # Nested List"
   ]
  },
  {
   "cell_type": "markdown",
   "id": "31d0262d",
   "metadata": {},
   "source": [
    "### Remove items"
   ]
  },
  {
   "cell_type": "code",
   "execution_count": null,
   "id": "faa42e20",
   "metadata": {},
   "outputs": [],
   "source": [
    "lis1.remove('mothukuri')\n",
    "lis1\n",
    "lis1.pop(10)             # removes an element based on index\n",
    "del lis1                 #delets entire list\n",
    "lis1.clear()             #removes all elements from the list"
   ]
  },
  {
   "cell_type": "markdown",
   "id": "6f9300de",
   "metadata": {},
   "source": [
    "### Loop"
   ]
  },
  {
   "cell_type": "code",
   "execution_count": null,
   "id": "e20f1688",
   "metadata": {},
   "outputs": [],
   "source": [
    "for i in [1,3,5,6,8]:\n",
    "    print(l[i])"
   ]
  },
  {
   "cell_type": "markdown",
   "id": "64c8d407",
   "metadata": {},
   "source": [
    "### Sorting items"
   ]
  },
  {
   "cell_type": "code",
   "execution_count": null,
   "id": "5802f442",
   "metadata": {},
   "outputs": [],
   "source": [
    "ls = [23,65,0,35,456,354.654,4646.453,42,534]\n",
    "ls.sort()          # only for int,float\n",
    "ls.sort(reverse = True)\n",
    "ls\n",
    "ls.reverse()  # reverses whole list"
   ]
  },
  {
   "cell_type": "markdown",
   "id": "27f875c9",
   "metadata": {},
   "source": [
    "### Other Methods"
   ]
  },
  {
   "cell_type": "code",
   "execution_count": null,
   "id": "a51522cc",
   "metadata": {},
   "outputs": [],
   "source": [
    "# when using list use index for count\n",
    "y = ['lohith']\n",
    "y[0].count('h')"
   ]
  },
  {
   "cell_type": "code",
   "execution_count": null,
   "id": "8023637a",
   "metadata": {},
   "outputs": [],
   "source": [
    "l2.copy()  # Returns a shallow copy of a list. A shallow copy means any modification in the new list won't be reflected in the original list.\n",
    "l2\n",
    "l2.clear()  # Removes all items from the list"
   ]
  },
  {
   "cell_type": "code",
   "execution_count": null,
   "id": "7f00a8db",
   "metadata": {},
   "outputs": [],
   "source": [
    "56 in l"
   ]
  },
  {
   "cell_type": "code",
   "execution_count": null,
   "id": "e8290287",
   "metadata": {},
   "outputs": [],
   "source": [
    "nums = [92,30,03.332]\n",
    "max(nums)              #- ASCII values"
   ]
  },
  {
   "cell_type": "code",
   "execution_count": null,
   "id": "3403721c",
   "metadata": {},
   "outputs": [],
   "source": [
    "cha = ['za','n','s']\n",
    "max(cha)         # Aplhabatical ASCII order"
   ]
  },
  {
   "cell_type": "markdown",
   "id": "dbdfd0e7",
   "metadata": {},
   "source": [
    "## List Comprehensions"
   ]
  },
  {
   "cell_type": "code",
   "execution_count": null,
   "id": "42ef2549",
   "metadata": {},
   "outputs": [],
   "source": [
    "A = [1,2,3,4,5,6,7]\n",
    "A"
   ]
  },
  {
   "cell_type": "code",
   "execution_count": null,
   "id": "5ac63bf4",
   "metadata": {},
   "outputs": [],
   "source": [
    "l =  list()\n",
    "for i in A:\n",
    "    l.append(i)\n",
    "print(l)"
   ]
  },
  {
   "cell_type": "code",
   "execution_count": null,
   "id": "d59dae01",
   "metadata": {},
   "outputs": [],
   "source": [
    "c = [i*2 for i in A if i%2==0]\n",
    "c"
   ]
  },
  {
   "cell_type": "code",
   "execution_count": null,
   "id": "11c80488",
   "metadata": {},
   "outputs": [],
   "source": [
    "l = 'lohith'\n",
    "for i in l:\n",
    "    print(i,l.count(i))"
   ]
  },
  {
   "cell_type": "code",
   "execution_count": null,
   "id": "4a0e8422",
   "metadata": {},
   "outputs": [],
   "source": [
    "A = [2,6,'lohith',9+8j,3,'krishna',7-8j,8]"
   ]
  },
  {
   "cell_type": "code",
   "execution_count": null,
   "id": "8b2d82a8",
   "metadata": {},
   "outputs": [],
   "source": [
    "for i in A:\n",
    "    if type(i) == complex :\n",
    "        print(i,A.index(i))"
   ]
  },
  {
   "cell_type": "code",
   "execution_count": null,
   "id": "1eba8914",
   "metadata": {},
   "outputs": [],
   "source": [
    "#isinstance(i, str)\n",
    "c = [print(i,A.index(i)) for i in A if isinstance(i,complex)]\n",
    "c"
   ]
  },
  {
   "cell_type": "markdown",
   "id": "2899ecc7",
   "metadata": {},
   "source": [
    "### List Methods   \n",
    "Method | Description\n",
    "-|-\n",
    "append()\t| Adds an element at the end of the list\n",
    "clear()\t|  Removes all the elements from the list\n",
    "copy()\t|  Returns a copy of the list\n",
    "count()\t|  Returns the number of elements with the specified value\n",
    "extend()\t|  Add the elements of a list (or any iterable), to the end of the current list\n",
    "index()\t|  Returns the index of the first element with the specified value\n",
    "insert()\t|  Adds an element at the specified position\n",
    "pop()\t|  Removes the element at the specified position\n",
    "remove()\t|  Removes the item with the specified value\n",
    "reverse()\t|  Reverses the order of the list\n",
    "sort()\t|  Sorts the list\n"
   ]
  },
  {
   "cell_type": "markdown",
   "id": "98f9dea7",
   "metadata": {},
   "source": [
    "# Tuple  \n",
    "\n",
    "Tuple is a collection which is ordered and unchangeable. Allows duplicate members.  \n",
    "Tuple is immutable - unchangeable.      \n",
    "Tuple  () symbol unable to use.   \n",
    "Use tuple()    \n",
    "When indexing use [].  "
   ]
  },
  {
   "cell_type": "code",
   "execution_count": null,
   "id": "dde9e332",
   "metadata": {},
   "outputs": [],
   "source": [
    "# single tuple of element\n",
    "tuple_string  = ('lohith')\n",
    "tuple_int     = (78)\n",
    "tuple_float   = (67.09)\n",
    "tuple_bool    = (False)\n",
    "print(tuple_string, type(tuple_string))\n",
    "print(tuple_int, type(tuple_int))\n",
    "print(tuple_float, type(tuple_float))\n",
    "print(tuple_bool, type(tuple_bool))"
   ]
  },
  {
   "cell_type": "code",
   "execution_count": null,
   "id": "13ec7d79",
   "metadata": {},
   "outputs": [],
   "source": [
    "# Multiple Elements are called as a tuple\n",
    "t = 3,5,6\n",
    "t"
   ]
  },
  {
   "cell_type": "code",
   "execution_count": null,
   "id": "6ce33833",
   "metadata": {},
   "outputs": [],
   "source": [
    "# Tuple can accepts any data type str,int,float,bool,list,tuple,set,dict\n",
    "t1 = (2,'krishna',['List',7.8],4.90,('tuple',3,2.5,4+5j, False), 5+3j,{34,'Set',4.29,True,40-3j},3.4,{'key1':3,'key2':'dict'})\n",
    "print(t1, type(t1))"
   ]
  },
  {
   "cell_type": "markdown",
   "id": "ee817bf5",
   "metadata": {},
   "source": [
    "### Datatype Conversion"
   ]
  },
  {
   "cell_type": "code",
   "execution_count": null,
   "id": "cc33b767",
   "metadata": {},
   "outputs": [],
   "source": [
    "tile_brac =   ( ['List',78.90,56,False] )    # can't convert into tuple using just bracets\n",
    "\n",
    "tuple_list =  tuple( ['List',78.90,56,False] )\n",
    "tuple_tuple = tuple( ('tuple',78.90,56,False))\n",
    "tuple_set =   tuple( {'set',3,4.6,3+4j,True} )\n",
    "tuple_dict =  tuple( {'key1':3,'key':5.6}    )\n",
    "print(tuple_list, type(tuple_list))\n",
    "print(tuple_tuple, type(tuple_tuple))\n",
    "print(tuple_set, type(tuple_set))\n",
    "print(tuple_dict, type(tuple_dict))"
   ]
  },
  {
   "cell_type": "code",
   "execution_count": null,
   "id": "4c1f8df7",
   "metadata": {},
   "outputs": [],
   "source": [
    "t = (2,34.56,'krishna',4+5j,[3,5.6,'lohith'])\n",
    "t"
   ]
  },
  {
   "cell_type": "markdown",
   "id": "6ba3a00b",
   "metadata": {},
   "source": [
    "### Accessing Items"
   ]
  },
  {
   "cell_type": "code",
   "execution_count": null,
   "id": "15a61240",
   "metadata": {},
   "outputs": [],
   "source": [
    "print(t[1])\n",
    "print(t[4][0])        # Access\n",
    "print(t[2:4])         # slicing\n",
    "print(t.index(34.56)) "
   ]
  },
  {
   "cell_type": "markdown",
   "id": "448b807f",
   "metadata": {},
   "source": [
    "### Adding and Removing items"
   ]
  },
  {
   "cell_type": "code",
   "execution_count": null,
   "id": "66af0eb3",
   "metadata": {},
   "outputs": [],
   "source": [
    "# Item assignment can't possible in a tuple\n",
    "t[4][0] = 'doremon'   # Item assignment inside a list which is in a tuple\n",
    "# append, pop, remove - change tuple into list append then change it back to tuple\n",
    "del t\n",
    "#loops if, while\n",
    "t1 = (3,4,6.3,'lohith')\n",
    "t2 = (3,4,6.3,'lohith')\n",
    "t1 + t2\n",
    "t1 * 10"
   ]
  },
  {
   "cell_type": "markdown",
   "id": "0b3779d9",
   "metadata": {},
   "source": [
    "### Methods"
   ]
  },
  {
   "cell_type": "code",
   "execution_count": null,
   "id": "83a2d79d",
   "metadata": {},
   "outputs": [],
   "source": [
    "# only 2 methods\n",
    "print(t2.count(3))\n",
    "print(t2.index(3))\n",
    "\n",
    "#Methods not apply. convert into list, after changes then list to tuple.\n",
    "#t.append()\n",
    "#t.pop()\n",
    "#t.remove()\n",
    "#t2.sort()\n",
    "#t2.reverse()\n",
    "#t2.clear()"
   ]
  },
  {
   "cell_type": "markdown",
   "id": "733a0e49",
   "metadata": {},
   "source": [
    "### Tuple Methods\n",
    "\n",
    "Method\t| Description\n",
    "-|-\n",
    "count()\t| Returns the number of times a specified value occurs in a tuple\n",
    "index()\t| Searches the tuple for a specified value and returns the position of where it was found"
   ]
  },
  {
   "cell_type": "markdown",
   "id": "45ffe7e3",
   "metadata": {},
   "source": [
    "# Set\n",
    "Set is a collection which is unordered, unchangeable*, and unindexed. No duplicate members.  \n",
    "Use set() to convert.  \n",
    "Tuple can accepts only data types of str,int,float,bool,tuple (not accept list, set, dict)"
   ]
  },
  {
   "cell_type": "code",
   "execution_count": null,
   "id": "0861a636",
   "metadata": {},
   "outputs": [],
   "source": [
    "# single set of elements\n",
    "set_string = {'krishna'}\n",
    "set_int  = {77}\n",
    "set_float = {45.123}\n",
    "set_bool = {True}\n",
    "print(set_string, type(set_string))\n",
    "print(set_int, type(set_int))\n",
    "print(set_float, type(set_float))\n",
    "print(set_bool, type(set_bool))"
   ]
  },
  {
   "cell_type": "markdown",
   "id": "9495b49b",
   "metadata": {},
   "source": [
    "### Datatype Conversion"
   ]
  },
  {
   "cell_type": "code",
   "execution_count": null,
   "id": "5c2815ec",
   "metadata": {},
   "outputs": [],
   "source": [
    "#when using {} only tuple is able to convert\n",
    "#set_list = { [2,3.44,'doremon',4+6j] } \n",
    "set_tuple = { (2,3.44,'doremon',4+6j) }\n",
    "#set_set =  { {2,3.44,'doremon',4+6j} }\n",
    "#set_dict = { {'key1':3,'key':5.6}    }"
   ]
  },
  {
   "cell_type": "code",
   "execution_count": null,
   "id": "66c5cb92",
   "metadata": {},
   "outputs": [],
   "source": [
    "# when using set() all datatypes will convert\n",
    "set_list = set( [2,3.44,'doremon',4+6j] )\n",
    "set_tuple= set( (2,3.44,'doremon',4+6j) )\n",
    "set_set =  set( {2,3.44,'doremon',4+6j} )\n",
    "set_dict = set( {'key1':3,'key':5.6}    )"
   ]
  },
  {
   "cell_type": "code",
   "execution_count": null,
   "id": "ac2293c4",
   "metadata": {},
   "outputs": [],
   "source": [
    "#set, list, dict inside a set is not possible.\n",
    "#list and dict are not accepted in a set bcoz lists andn dicts are mutable elements\n",
    "#s1 = { 2,3.4,'krishna',9+4j,['list',2,3.4,9+4j], {'key1':3,'key2':34} }   "
   ]
  },
  {
   "cell_type": "code",
   "execution_count": null,
   "id": "dc88588c",
   "metadata": {},
   "outputs": [],
   "source": [
    "# Tuple can accepts only data types of str,int,float,bool,tuple\n",
    "s = {2,'krishna',4.90,('tuple',3,2.5,4+5j, False), 5+3j,3.4}\n",
    "print(s, type(s))"
   ]
  },
  {
   "cell_type": "code",
   "execution_count": null,
   "id": "f8ba8b93",
   "metadata": {},
   "outputs": [],
   "source": [
    "s1 = {1,2,3,4,5,5,6,6}\n",
    "s1"
   ]
  },
  {
   "cell_type": "code",
   "execution_count": null,
   "id": "75ed08bc",
   "metadata": {},
   "outputs": [],
   "source": [
    "s2 = {1,2.89,'lohith',5,6+8j,-5,-1,0}   #set is unordered(not in order which we assign)\n",
    "s2"
   ]
  },
  {
   "cell_type": "code",
   "execution_count": null,
   "id": "422c6aca",
   "metadata": {},
   "outputs": [],
   "source": [
    "s1.add('krishna')\n",
    "s1"
   ]
  },
  {
   "cell_type": "code",
   "execution_count": null,
   "id": "cf84fa26",
   "metadata": {},
   "outputs": [],
   "source": [
    "s1.discard(5)\n",
    "s"
   ]
  },
  {
   "cell_type": "markdown",
   "id": "5f858322",
   "metadata": {},
   "source": [
    "### Set Methods\n",
    "Method\t|\tDescription\n",
    "-\t|\t-\n",
    "add()\t|\tAdds an element to the set\n",
    "clear()\t|\tRemoves all the elements from the set\n",
    "copy()\t|\tReturns a copy of the set\n",
    "difference()\t|\tReturns a set containing the difference between two or more sets\n",
    "difference_update()\t|\tRemoves the items in this set that are also included in another, specified set\n",
    "discard()\t|\tRemove the specified item\n",
    "intersection()\t|\tReturns a set, that is the intersection of two other sets\n",
    "intersection_update()\t|\tRemoves the items in this set that are not present in other, specified set(s)\n",
    "isdisjoint()\t|\tReturns whether two sets have a intersection or not\n",
    "issubset()\t|\tReturns whether another set contains this set or not\n",
    "issuperset()\t|\tReturns whether this set contains another set or not\n",
    "pop()\t|\tRemoves an element from the set\n",
    "remove()\t|\tRemoves the specified element\n",
    "symmetric_difference()\t|\tReturns a set with the symmetric differences of two sets\n",
    "symmetric_difference_update()\t|\tinserts the symmetric differences from this set and another\n",
    "union()\t|\tReturn a set containing the union of sets\n",
    "update()\t|\tUpdate the set with the union of this set and others"
   ]
  },
  {
   "cell_type": "markdown",
   "id": "e462b73f",
   "metadata": {},
   "source": [
    "## Dictionaries\n",
    "\n",
    "Dictionary is a collection which is ordered** and changeable. No duplicate members.    \n",
    "Allows all datatypes   \n",
    "Keys can accept only tuple  \n",
    "Values can accept all datatypes  \n",
    "{'key': value}    \n",
    "Nested dicts possible  "
   ]
  },
  {
   "cell_type": "code",
   "execution_count": null,
   "id": "6c6e6bb9",
   "metadata": {},
   "outputs": [],
   "source": [
    "# single set of elements\n",
    "set_string = {'name':'krishna'}\n",
    "set_int  = {'age':24}\n",
    "set_float = {'marks':99.99}\n",
    "set_bool = {'boo':True}\n",
    "print(set_string, type(set_string))\n",
    "print(set_int, type(set_int))\n",
    "print(set_float, type(set_float))\n",
    "print(set_bool, type(set_bool))"
   ]
  },
  {
   "cell_type": "code",
   "execution_count": null,
   "id": "5b4b39ef",
   "metadata": {},
   "outputs": [],
   "source": [
    "# Using {} or dict() we can't able to convert list and tuple into a dict. except below one.\n",
    "#Keys can accept only tuple\n",
    "dict_list = dict( {'name':'lohith'} )"
   ]
  },
  {
   "cell_type": "code",
   "execution_count": null,
   "id": "7d2c27c1",
   "metadata": {},
   "outputs": [],
   "source": [
    "#Keys can accept only tuple\n",
    "#Values can accept any data type\n",
    "d = {\n",
    "  \"brand\": \"Ford\",   \n",
    "  \"model\": \"Ford\", \n",
    "  \"year\": 1964, \n",
    "  \"year\": 2020, \n",
    "    '#)&%*' : '*@&#()', \n",
    "    'mylist' : [3,4,'cdcac',8.4], \n",
    "    'mytuple' : (8,'lohith',8,9.89,4,4,4,4,77,7,7,77,77), \n",
    "    'myset' : {4,6,6,'krishna'}, \n",
    "    'mycomplex' : 3+4j,  \n",
    "    '[myfloat, thisfloat]' : 5.66 , \n",
    "    'data' : {1:3,6:10},   #dictionary 1 is key and 3 is value\n",
    "    'name' : ['krishna','krishna']\n",
    "}\n",
    "print(d)\n",
    "d"
   ]
  },
  {
   "cell_type": "markdown",
   "id": "1619001d",
   "metadata": {},
   "source": [
    "### Accessing"
   ]
  },
  {
   "cell_type": "code",
   "execution_count": null,
   "id": "d933f0df",
   "metadata": {},
   "outputs": [],
   "source": [
    "print(d['year'])   # We can Allow duplicates to the keys but output will get only one key.\n",
    "print(d['data'][6])\n",
    "print(d['name'])  # We can have Duplicate values"
   ]
  },
  {
   "cell_type": "code",
   "execution_count": null,
   "id": "61418aac",
   "metadata": {},
   "outputs": [],
   "source": [
    "print(d['jdc'])      # if key is not there gives error\n",
    "print(d.get('ndk'))  # if the key is not found then it will not get error "
   ]
  },
  {
   "cell_type": "code",
   "execution_count": null,
   "id": "bb64e666",
   "metadata": {},
   "outputs": [],
   "source": [
    "print(d.keys())  # All keys only"
   ]
  },
  {
   "cell_type": "code",
   "execution_count": null,
   "id": "fc0a280b",
   "metadata": {},
   "outputs": [],
   "source": [
    "print(d.values())   #All values only"
   ]
  },
  {
   "cell_type": "code",
   "execution_count": null,
   "id": "cd34ec54",
   "metadata": {},
   "outputs": [],
   "source": [
    "print(d.items())    # Gets all keys and values in the form of list []\n",
    "type(d.items())"
   ]
  },
  {
   "cell_type": "markdown",
   "id": "fa913646",
   "metadata": {},
   "source": [
    "### Changing items"
   ]
  },
  {
   "cell_type": "code",
   "execution_count": null,
   "id": "d713e04f",
   "metadata": {},
   "outputs": [],
   "source": [
    "# Item Assignment\n",
    "d['key1'] = 777777   \n",
    "# item reassignment\n",
    "d['key1'] = 4444\n",
    "d"
   ]
  },
  {
   "cell_type": "code",
   "execution_count": null,
   "id": "b32ff021",
   "metadata": {},
   "outputs": [],
   "source": [
    "#print(d.update({'key1':5768}))"
   ]
  },
  {
   "cell_type": "code",
   "execution_count": null,
   "id": "ab91a882",
   "metadata": {},
   "outputs": [],
   "source": [
    "d1 = {'name' : 'lohith','age': 24}\n",
    "d1"
   ]
  },
  {
   "cell_type": "code",
   "execution_count": null,
   "id": "e88ad62a",
   "metadata": {},
   "outputs": [],
   "source": [
    "#d1[['sex','cast']] = ['male','bc']   # not possible\n",
    "#d1[[1,2,3]] = ['male','bc']"
   ]
  },
  {
   "cell_type": "code",
   "execution_count": null,
   "id": "ead1573d",
   "metadata": {},
   "outputs": [],
   "source": [
    "d1[('sex','cast')] = ['male','bc']   #possible bcoz tuple is immutable\n",
    "d2 = {\"Visa\": 'Approved'}\n",
    "d1.update(d2)\n",
    "d1"
   ]
  },
  {
   "cell_type": "code",
   "execution_count": null,
   "id": "030827fd",
   "metadata": {},
   "outputs": [],
   "source": [
    "key = (2,'lohith',3.4)\n",
    "value = 'dora'\n",
    "d_new = d.fromkeys(key,value) \n",
    "d_new"
   ]
  },
  {
   "cell_type": "markdown",
   "id": "3ce325ce",
   "metadata": {},
   "source": [
    "### Removing Items"
   ]
  },
  {
   "cell_type": "code",
   "execution_count": null,
   "id": "9e7db8e8",
   "metadata": {},
   "outputs": [],
   "source": [
    "d_new.pop(2)\n",
    "d_new"
   ]
  },
  {
   "cell_type": "code",
   "execution_count": null,
   "id": "5d002f19",
   "metadata": {},
   "outputs": [],
   "source": [
    "d.popitem()\n",
    "del \n",
    "d.clear()"
   ]
  },
  {
   "cell_type": "code",
   "execution_count": null,
   "id": "ee7e1700",
   "metadata": {},
   "outputs": [],
   "source": [
    "#Loops \n",
    "for, while .."
   ]
  },
  {
   "cell_type": "code",
   "execution_count": null,
   "id": "a3cadf90",
   "metadata": {},
   "outputs": [],
   "source": [
    "d.copy()"
   ]
  },
  {
   "cell_type": "code",
   "execution_count": null,
   "id": "9803c98b",
   "metadata": {},
   "outputs": [],
   "source": [
    "# Error Methods\n",
    "# d1 + d2\n",
    "# d1 * 2"
   ]
  },
  {
   "cell_type": "markdown",
   "id": "08b75d68",
   "metadata": {},
   "source": [
    "### Dictionary Methods\n",
    "\n",
    "Method\t|   Description\n",
    "-|-\n",
    "clear()\t|   Removes all the elements from the dictionary\n",
    "copy()\t|   Returns a copy of the dictionary\n",
    "fromkeys()\t|   Returns a dictionary with the specified keys and value\n",
    "get()\t|   Returns the value of the specified key\n",
    "items()\t|   Returns a list containing a tuple for each key value pair\n",
    "keys()\t|   Returns a list containing the dictionary's keys\n",
    "pop()\t|   Removes the element with the specified key\n",
    "popitem()\t|   Removes the last inserted key-value pair\n",
    "setdefault()\t|   Returns the value of the specified key. If the key does not exist: insert the key, with the specified value\n",
    "update()\t|   Updates the dictionary with the specified key-value pairs\n",
    "values()\t|   Returns a list of all the values in the dictionary\n"
   ]
  }
 ],
 "metadata": {
  "kernelspec": {
   "display_name": "Python 3",
   "language": "python",
   "name": "python3"
  },
  "language_info": {
   "codemirror_mode": {
    "name": "ipython",
    "version": 3
   },
   "file_extension": ".py",
   "mimetype": "text/x-python",
   "name": "python",
   "nbconvert_exporter": "python",
   "pygments_lexer": "ipython3",
   "version": "3.6.2"
  }
 },
 "nbformat": 4,
 "nbformat_minor": 5
}
