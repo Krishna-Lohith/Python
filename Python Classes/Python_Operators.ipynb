{
 "cells": [
  {
   "cell_type": "markdown",
   "id": "50dcb9d9",
   "metadata": {},
   "source": [
    "# Python_Operators"
   ]
  },
  {
   "cell_type": "markdown",
   "id": "6c06a412",
   "metadata": {},
   "source": [
    "**Topics covered:-**  \n",
    "BuiltIn functions    \n",
    "Type conversions  \n",
    "Memory Blocks  \n",
    "Operators  "
   ]
  },
  {
   "cell_type": "markdown",
   "id": "14d2e771",
   "metadata": {},
   "source": [
    "## Variable Case Sensitive"
   ]
  },
  {
   "cell_type": "code",
   "execution_count": null,
   "id": "d5918de9",
   "metadata": {},
   "outputs": [],
   "source": [
    "TEN = 10\n",
    "ten = 100"
   ]
  },
  {
   "cell_type": "code",
   "execution_count": null,
   "id": "ed4b0606",
   "metadata": {},
   "outputs": [],
   "source": [
    "print(TEN)\n",
    "print(ten)"
   ]
  },
  {
   "cell_type": "markdown",
   "id": "ff0724bf",
   "metadata": {},
   "source": [
    "## Reserved words in python \n",
    "### Builtin functions or methods"
   ]
  },
  {
   "cell_type": "code",
   "execution_count": null,
   "id": "ac7f703d",
   "metadata": {},
   "outputs": [],
   "source": [
    "#print = 'lohith'\n",
    "#print"
   ]
  },
  {
   "cell_type": "code",
   "execution_count": null,
   "id": "0b48843b",
   "metadata": {},
   "outputs": [],
   "source": [
    "type(print)"
   ]
  },
  {
   "cell_type": "code",
   "execution_count": null,
   "id": "d18eb8b4",
   "metadata": {},
   "outputs": [],
   "source": [
    "#print('krishna')\n",
    "# Print will not work so we have to del the print "
   ]
  },
  {
   "cell_type": "code",
   "execution_count": null,
   "id": "c8685352",
   "metadata": {},
   "outputs": [],
   "source": [
    "#del print"
   ]
  },
  {
   "cell_type": "code",
   "execution_count": null,
   "id": "66a3400b",
   "metadata": {},
   "outputs": [],
   "source": [
    "#print = 12\n",
    "#type(print)"
   ]
  },
  {
   "cell_type": "code",
   "execution_count": null,
   "id": "88cdf2c7",
   "metadata": {},
   "outputs": [],
   "source": [
    "#print('krishna')\n",
    "# delete the print "
   ]
  },
  {
   "cell_type": "code",
   "execution_count": null,
   "id": "ee9a02d9",
   "metadata": {},
   "outputs": [],
   "source": [
    "#del print"
   ]
  },
  {
   "cell_type": "code",
   "execution_count": null,
   "id": "72b25537",
   "metadata": {},
   "outputs": [],
   "source": [
    "#Print = 'lohith'\n",
    "#type(Print)   # here print is capital P so here the name is a diferent "
   ]
  },
  {
   "cell_type": "code",
   "execution_count": null,
   "id": "a33c4ad1",
   "metadata": {},
   "outputs": [],
   "source": [
    "#print('krishna')"
   ]
  },
  {
   "cell_type": "code",
   "execution_count": null,
   "id": "09b9e52b",
   "metadata": {},
   "outputs": [],
   "source": [
    "#del = 'lohith'\n",
    "#type(del)"
   ]
  },
  {
   "cell_type": "markdown",
   "id": "bd10d9e0",
   "metadata": {},
   "source": [
    "## Multi assignment of variables"
   ]
  },
  {
   "cell_type": "code",
   "execution_count": null,
   "id": "e73403bf",
   "metadata": {},
   "outputs": [],
   "source": [
    "a, b, c, yes,f = 2, 7.08, 'krishna', True, 8\n",
    "print(a)\n",
    "print(b)\n",
    "print(c)\n",
    "print(yes)\n",
    "print(a,b,c,yes,f)\n",
    "\n",
    "#errors\n",
    "#n,m = j,b\n",
    "#type(a,b,c)"
   ]
  },
  {
   "cell_type": "code",
   "execution_count": null,
   "id": "ee22577e",
   "metadata": {},
   "outputs": [],
   "source": [
    "v,n,m = 10,10,10\n",
    "f,F,g,G = 2,3,4,5\n",
    "print(v)\n",
    "print(n)\n",
    "print(m)\n",
    "print(f)\n",
    "print(F)\n",
    "print(g)\n",
    "print(G)\n",
    "\n",
    "u=i=p=100\n",
    "print(u,i,p)"
   ]
  },
  {
   "cell_type": "markdown",
   "id": "c84ddc10",
   "metadata": {},
   "source": [
    "## User input  \n",
    "By defualt input gives a string  "
   ]
  },
  {
   "cell_type": "code",
   "execution_count": null,
   "id": "b6b9fe93",
   "metadata": {},
   "outputs": [],
   "source": [
    "name = input(\"enter your name\")\n",
    "print(f\"welcome {name} Have a nice day\")"
   ]
  },
  {
   "cell_type": "markdown",
   "id": "4490557e",
   "metadata": {},
   "source": [
    "## Type Casting\n",
    "float() -  can accept integer  \n",
    "int()   -  can't accept float"
   ]
  },
  {
   "cell_type": "code",
   "execution_count": null,
   "id": "4eb8164a",
   "metadata": {},
   "outputs": [],
   "source": [
    "a = str(input(\"Enter your name:- \"))\n",
    "b= int(input('Enter your age :- '))\n",
    "c = float(input('Enter your height:- '))\n",
    "\n",
    "print(f'{a} aged {b} has a height of {c}')"
   ]
  },
  {
   "cell_type": "markdown",
   "id": "f57b127b",
   "metadata": {},
   "source": [
    "## Type Conversion  \n",
    "Any non empty string and any non 0 value in bool will be True.\n",
    "Empty string and 0 in bool False\n",
    "\n",
    "### Possible    \n",
    "**Int to something**  \n",
    "int to float   \n",
    "int to string  \n",
    "int to bool  \n",
    "\n",
    "**float to something**  \n",
    "float to int  \n",
    "float to str  \n",
    "float to bool  \n",
    "\n",
    "**string to something**  \n",
    "string name to Bool True  \n",
    "string int to int     \n",
    "string int to float   \n",
    "string int to bool  \n",
    "string float to float    \n",
    "string float to bool  \n",
    "\n",
    "**Bool to something**  \n",
    "Bool 1 to int - True    \n",
    "Bool 0 to int - False  \n",
    "\n",
    "### Not possible     \n",
    "string name to int    \n",
    "string name to float   \n",
    "string float to int  \n",
    "Empty to int  \n",
    "Empty to str"
   ]
  },
  {
   "cell_type": "code",
   "execution_count": 10,
   "id": "4c6ba346",
   "metadata": {},
   "outputs": [
    {
     "name": "stdout",
     "output_type": "stream",
     "text": [
      "enter a0\n",
      "False\n"
     ]
    }
   ],
   "source": [
    "a = bool(int(input('enter a')))\n",
    "print(a)"
   ]
  },
  {
   "cell_type": "code",
   "execution_count": null,
   "id": "367c0c0b",
   "metadata": {},
   "outputs": [],
   "source": [
    "# string float to float\n",
    "a = '40.24'\n",
    "print(a,type(a))\n",
    "a = float(a)\n",
    "print(a,type(a))"
   ]
  },
  {
   "cell_type": "code",
   "execution_count": null,
   "id": "cc51e548",
   "metadata": {},
   "outputs": [],
   "source": [
    "# int to float\n",
    "a = 77\n",
    "print(a,type(a))\n",
    "a = float(a)\n",
    "print(a,type(a))"
   ]
  },
  {
   "cell_type": "code",
   "execution_count": null,
   "id": "2e4aaaec",
   "metadata": {},
   "outputs": [],
   "source": [
    "# float to int\n",
    "a = 50.22\n",
    "print(a,type(a))\n",
    "a = int(a)\n",
    "print(a,type(a))"
   ]
  },
  {
   "cell_type": "code",
   "execution_count": null,
   "id": "a9edeff7",
   "metadata": {},
   "outputs": [],
   "source": [
    "# int to str\n",
    "a = 77\n",
    "print(a,type(a))\n",
    "a = str(a)\n",
    "print(a,type(a))"
   ]
  },
  {
   "cell_type": "code",
   "execution_count": null,
   "id": "ff8d91c3",
   "metadata": {},
   "outputs": [],
   "source": [
    "# int to bool\n",
    "a = 77\n",
    "print(a,type(a))\n",
    "a = bool(a)\n",
    "print(a,type(a))"
   ]
  },
  {
   "cell_type": "code",
   "execution_count": null,
   "id": "c5b1ab0b",
   "metadata": {},
   "outputs": [],
   "source": [
    "# int to bool\n",
    "a = 0\n",
    "print(a,type(a))\n",
    "a = bool(a)\n",
    "print(a,type(a))"
   ]
  },
  {
   "cell_type": "code",
   "execution_count": null,
   "id": "7ee3a372",
   "metadata": {},
   "outputs": [],
   "source": [
    "# bool to int\n",
    "a = True\n",
    "print(a,type(a))\n",
    "a = int(a)\n",
    "print(a,type(a))"
   ]
  },
  {
   "cell_type": "code",
   "execution_count": null,
   "id": "0acdee58",
   "metadata": {},
   "outputs": [],
   "source": [
    "# bool to int\n",
    "a = False\n",
    "print(a,type(a))\n",
    "a = int(a)\n",
    "print(a,type(a))"
   ]
  },
  {
   "cell_type": "code",
   "execution_count": null,
   "id": "02e0adf4",
   "metadata": {},
   "outputs": [],
   "source": [
    "# string to bool\n",
    "a = 'lohith'\n",
    "print(a,type(a))\n",
    "a = bool(a)\n",
    "print(a,type(a))"
   ]
  },
  {
   "cell_type": "code",
   "execution_count": null,
   "id": "f239ff71",
   "metadata": {},
   "outputs": [],
   "source": [
    "# string to bool\n",
    "a = '54.34'\n",
    "print(a,type(a))\n",
    "a = bool(a)\n",
    "print(a,type(a))"
   ]
  },
  {
   "cell_type": "code",
   "execution_count": null,
   "id": "9c4e84f0",
   "metadata": {},
   "outputs": [],
   "source": [
    "# string to bool\n",
    "a = 'True'\n",
    "print(a,type(a))\n",
    "a = bool(a)\n",
    "print(a,type(a))"
   ]
  },
  {
   "cell_type": "code",
   "execution_count": null,
   "id": "c82a6657",
   "metadata": {},
   "outputs": [],
   "source": [
    "# string to bool\n",
    "a = 'False'\n",
    "print(a,type(a))\n",
    "a = bool(a)\n",
    "print(a,type(a))"
   ]
  },
  {
   "cell_type": "code",
   "execution_count": null,
   "id": "5fd2cd63",
   "metadata": {},
   "outputs": [],
   "source": [
    "# empty string to bool\n",
    "a = ''\n",
    "print(a,type(a))\n",
    "a = bool(a)\n",
    "print(a,type(a))"
   ]
  },
  {
   "cell_type": "markdown",
   "id": "1c70278d",
   "metadata": {},
   "source": [
    "## Memory Blocks\n",
    "\n",
    "when you create a variable and assign it a value, Python checks if the value already exists in memory, if it does, it assigns the variable to the same memory address, if not it creates a new object and assigns the variable to that object's memory address.\n",
    "\n",
    "**Applies to both integers and strings   \n",
    "Not Applies to Float and List etc..**  \n",
    "\n",
    "Python uses a representation of floating point numbers that conforms to the IEEE 754 standard, which means that even if two floating point numbers have the same value, they may not be stored in the same memory location."
   ]
  },
  {
   "cell_type": "code",
   "execution_count": null,
   "id": "81bda5c2",
   "metadata": {},
   "outputs": [],
   "source": [
    "# a and c are different varaibles but has same memory address bcoz it has same values\n",
    "a = 3\n",
    "b = 2\n",
    "c = 3\n",
    "\n",
    "print(hex(id(a)))  # prints the memory address of the object 3.14\n",
    "print(id(b))  # prints the same memory address as the previous line\n",
    "print(hex(id(c)))  # prints a different memory address\n"
   ]
  },
  {
   "cell_type": "code",
   "execution_count": null,
   "id": "9ba74ddb",
   "metadata": {},
   "outputs": [],
   "source": [
    "first = str(input(\"Enter your first name:- \"))\n",
    "last = str(input(\"Enter your Last name:- \"))\n",
    "print(f'your Email address is {last}.{first}@gmail.com')"
   ]
  },
  {
   "cell_type": "markdown",
   "id": "44f91797",
   "metadata": {},
   "source": [
    "## Boolean Operators = Logical Operators\n",
    "\n",
    "Operator | Defination\n",
    "-|-\n",
    "AND  | Returns True If all the conditions are True  \n",
    "OR   | Returns Ture If any single condition is True  \n",
    "NOT  | opposite of the result  "
   ]
  },
  {
   "cell_type": "markdown",
   "id": "16f671c3",
   "metadata": {},
   "source": [
    "## Equality Operators\n",
    "\n",
    "**'is' operator is used to check if two variables refer to the same object in memory.**   \n",
    "**'==' operator is used to compare the values of two variables.**  \n",
    "\n",
    "operator | uses | Meaning  \n",
    "-|-| -\n",
    "is   | A is B=> | returns True if A and B points to the same object  \n",
    "is not  | A is not B | returns True if A and B do not points to the same object  \n",
    "==  | A==B | A is equals to B\n",
    "!=  | A!=B | A is not equals to B  \n",
    "\n",
    "we can use is (or) ==  \n",
    "we can use not is (or) !="
   ]
  },
  {
   "cell_type": "code",
   "execution_count": null,
   "id": "628b0b3d",
   "metadata": {},
   "outputs": [],
   "source": [
    "a = 1\n",
    "b=1\n",
    "if a is b:  # a==b, a is not b, a !=b\n",
    "    print('a and b are same')\n",
    "else:\n",
    "    print('a and b are not same')"
   ]
  },
  {
   "cell_type": "markdown",
   "id": "54592a6d",
   "metadata": {},
   "source": [
    "## Comparision Operators\n",
    "\n",
    "operator | comparison   \n",
    "-|-  \n",
    ">| A>B  \n",
    "<|A<B  \n",
    ">=|A>=B  \n",
    "<=|A<=B  "
   ]
  },
  {
   "cell_type": "markdown",
   "id": "9ea31ae3",
   "metadata": {},
   "source": [
    "## Arthimetic Operator\n",
    "\n",
    "Operation | Meaning  \n",
    "-|-  \n",
    "+|Addition  \n",
    "-|substraction  \n",
    "*|Multiplication  \n",
    "/|perfect divison(includes float)   \n",
    "//|integer division(round)(quotient)    \n",
    "%|modulo operator(remainder)  "
   ]
  },
  {
   "cell_type": "markdown",
   "id": "5ecbf073",
   "metadata": {},
   "source": [
    "## Control flow statements in Python include:"
   ]
  },
  {
   "cell_type": "markdown",
   "id": "fed4ebb1",
   "metadata": {},
   "source": [
    "if-elif-else for conditional execution  \n",
    "for and while loops for iterative execution  \n",
    "break, continue, and pass for modifying the flow of a loop  \n",
    "try-except for handling exceptions.  "
   ]
  },
  {
   "cell_type": "markdown",
   "id": "cc5a099c",
   "metadata": {},
   "source": [
    "if, elif, elif and else  \n",
    "while loop - can use if, elif and else, break, continue  \n",
    "for loop  - can use if, elif and else, break, continue  \n",
    "Break:- If the condition is true then the loop breaks and exit the loop.  \n",
    "Continue:- If the condition is true then it will goes to starting of the loop.  \n",
    "Pass - it will pass the condition without getting error even the code is wrong.  "
   ]
  },
  {
   "cell_type": "markdown",
   "id": "c245b140",
   "metadata": {},
   "source": [
    "# Python_Ass_002"
   ]
  },
  {
   "cell_type": "markdown",
   "id": "18367fc7",
   "metadata": {},
   "source": [
    "### 1.What are the two values of the Boolean data type? How do you write them?  \n",
    "Ans:-  Boolean has 2 datatypes which are True and False. True is 1 and False is 0."
   ]
  },
  {
   "cell_type": "code",
   "execution_count": null,
   "id": "05205f20",
   "metadata": {},
   "outputs": [],
   "source": [
    "a = True\n",
    "b = False\n",
    "print(a, b)"
   ]
  },
  {
   "cell_type": "markdown",
   "id": "fdd238ee",
   "metadata": {},
   "source": [
    "### 2. What are the three different types of Boolean operators?\n",
    "\n",
    "Operator | Defination\n",
    "-|-\n",
    "AND  | If all the conditions are True  \n",
    "OR   | If anyone of the condition is True  \n",
    "NOT  | opposite of any operator   "
   ]
  },
  {
   "cell_type": "markdown",
   "id": "cb8d5ac6",
   "metadata": {},
   "source": [
    "### 3. Make a list of each Boolean operator's truth tables (i.e. every possible combination of Boolean values for the operator and what it evaluate ).\n",
    "\n",
    "There are three boolean operators which are AND, OR, NOT  \n",
    "\n",
    "                                                        AND Truth Table  \n",
    "\n",
    "a|b|result \n",
    "-|-|-\n",
    "True|True|True  \n",
    "True|False|False  \n",
    "False|True|False  \n",
    "False|False|False  \n",
    "\n",
    "                                                        OR Truth Table  \n",
    "a|b|result \n",
    "-|-|-\n",
    "True|True|True  \n",
    "True|False|True  \n",
    "False|True|True  \n",
    "False|False|False\n",
    "\n",
    "                                                        NOT Truth Table \n",
    "a|result \n",
    "-|-\n",
    "True|  False\n",
    "False|True "
   ]
  },
  {
   "cell_type": "markdown",
   "id": "95afbb2b",
   "metadata": {},
   "source": [
    "### 4. What are the values of the following expressions?\n",
    "\n",
    "(5 > 4) and (3 == 5)              - False     \n",
    "not (5 > 4)                      - False    \n",
    "(5 > 4) or (3 == 5)               - True     \n",
    "not ((5 > 4) or (3 == 5))             - False    \n",
    "(True and True) and (True == False)  - False    \n",
    "(not False) or (not True)             - True    "
   ]
  },
  {
   "cell_type": "markdown",
   "id": "e276abb7",
   "metadata": {},
   "source": [
    "### 5. What are the six comparison operators?\n",
    "\n",
    ">, <, >=, <=, ==, !="
   ]
  },
  {
   "cell_type": "markdown",
   "id": "32350b8a",
   "metadata": {},
   "source": [
    "### 6. How do you tell the difference between the equal to and assignment operators?Describe a condition and when you would use one.\n",
    "\n",
    "Assignment operator symbol is a single(=) which is =  \n",
    "Equal to operator symbol is a double (=) which is ==  \n",
    "\n",
    "age = 25 is an assignment  \n",
    "now if you want to check the age is equals to 50 or not then use ==   \n",
    "age == 50  \n",
    "output is False  "
   ]
  },
  {
   "cell_type": "markdown",
   "id": "f2f5e78b",
   "metadata": {},
   "source": [
    "### 7. Identify the three blocks in this code:\n",
    "if, if and else are the three blocks of the code."
   ]
  },
  {
   "cell_type": "code",
   "execution_count": null,
   "id": "de9fa968",
   "metadata": {},
   "outputs": [],
   "source": [
    "spam = 0\n",
    "if spam == 10:\n",
    "    print('eggs')\n",
    "if spam > 5:\n",
    "    print('bacon')\n",
    "else:\n",
    "    print('ham')\n",
    "    print('spam')\n",
    "    print('spam')"
   ]
  },
  {
   "cell_type": "markdown",
   "id": "c3eaf3d6",
   "metadata": {},
   "source": [
    "### 8. Write code that prints Hello if 1 is stored in spam, prints Howdy if 2 is stored in spam, and prints Greetings! if anything else is stored in spam."
   ]
  },
  {
   "cell_type": "code",
   "execution_count": null,
   "id": "31d03fa6",
   "metadata": {},
   "outputs": [],
   "source": [
    "spam = int(input('Enter a number :- '))\n",
    "if spam1==1:\n",
    "    print('Hello')\n",
    "elif spam2==2:\n",
    "    print('Howdy')\n",
    "else:\n",
    "    print('Greetings!')"
   ]
  },
  {
   "cell_type": "markdown",
   "id": "01f24685",
   "metadata": {},
   "source": [
    "### 9.If your programme is stuck in an endless loop, what keys you’ll press?\n",
    "\n",
    "Ans:-   CNTRL + C"
   ]
  },
  {
   "cell_type": "markdown",
   "id": "3d8465f5",
   "metadata": {},
   "source": [
    "### 10. How can you tell the difference between break and continue?\n",
    "\n",
    "Break:- If the condition is true then the loop breaks and exit the loop.  \n",
    "Continue:- If the condition is true then it will goes to starting of the loop. "
   ]
  },
  {
   "cell_type": "markdown",
   "id": "c85fc1a2",
   "metadata": {},
   "source": [
    "### 11. In a for loop, what is the difference between range(10), range(0, 10), and range(0, 10, 1)?\n",
    "\n",
    "**range(start,stop,step)**  \n",
    "\n",
    "By default range will start from 0 at 9(n-1)  \n",
    "for i in range(10):     \n",
    "    print(i)  \n",
    "\n",
    "Range starts from 0 and stops at 9  \n",
    "for in range(0,10):  \n",
    "    print(i)  \n",
    "\n",
    "Range starts from 0 and stops at 9 and changes at every 1 value.  \n",
    "for in range(0,10,1):  \n",
    "    print(i)  \n",
    "    \n",
    "**In this example all the three gives same output.**"
   ]
  },
  {
   "cell_type": "markdown",
   "id": "6c887354",
   "metadata": {},
   "source": [
    "### 12. Write a short program that prints the numbers 1 to 10 using a for loop. Then write an equivalent program that prints the numbers 1 to 10 using a while loop."
   ]
  },
  {
   "cell_type": "code",
   "execution_count": 6,
   "id": "e5e87a52",
   "metadata": {},
   "outputs": [
    {
     "name": "stdout",
     "output_type": "stream",
     "text": [
      "1\n",
      "2\n",
      "3\n",
      "4\n",
      "5\n",
      "6\n",
      "7\n",
      "8\n",
      "9\n",
      "10\n"
     ]
    }
   ],
   "source": [
    "for i in range(1,11):\n",
    "    print(i)"
   ]
  },
  {
   "cell_type": "code",
   "execution_count": 8,
   "id": "b1bcffbd",
   "metadata": {},
   "outputs": [
    {
     "name": "stdout",
     "output_type": "stream",
     "text": [
      "1\n",
      "2\n",
      "3\n",
      "4\n",
      "5\n",
      "6\n",
      "7\n",
      "8\n",
      "9\n",
      "10\n"
     ]
    }
   ],
   "source": [
    "i = 1\n",
    "while i<=10:\n",
    "    print(i)\n",
    "    i += 1"
   ]
  },
  {
   "cell_type": "code",
   "execution_count": 13,
   "id": "0b710f11",
   "metadata": {},
   "outputs": [],
   "source": [
    "while i in range(1,10):\n",
    "    print(i)"
   ]
  },
  {
   "cell_type": "code",
   "execution_count": null,
   "id": "10ffe7c0",
   "metadata": {},
   "outputs": [],
   "source": []
  }
 ],
 "metadata": {
  "kernelspec": {
   "display_name": "Python 3",
   "language": "python",
   "name": "python3"
  },
  "language_info": {
   "codemirror_mode": {
    "name": "ipython",
    "version": 3
   },
   "file_extension": ".py",
   "mimetype": "text/x-python",
   "name": "python",
   "nbconvert_exporter": "python",
   "pygments_lexer": "ipython3",
   "version": "3.6.2"
  }
 },
 "nbformat": 4,
 "nbformat_minor": 5
}
