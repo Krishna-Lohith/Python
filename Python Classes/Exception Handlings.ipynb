{
 "cells": [
  {
   "cell_type": "markdown",
   "id": "fe653a2b",
   "metadata": {},
   "source": [
    "# Exception Handlings"
   ]
  },
  {
   "cell_type": "raw",
   "id": "5afde3bb",
   "metadata": {},
   "source": [
    "Topics Covered:- \n",
    "try, except\n",
    "try, except, else\n",
    "try, except, else, finally"
   ]
  },
  {
   "cell_type": "markdown",
   "id": "051a9afc",
   "metadata": {},
   "source": [
    "compile time error - syntax error  \n",
    "run time error - try, except  \n",
    "\n",
    "Try and except can't handle compile time errors  \n",
    "only for run time errors  \n",
    "\n",
    "We can write multiple Exception classes.\n",
    "\n",
    "#Exception is a super class\n",
    "ValueError, SyntaxError, FileNotFoundError etc...\n",
    "We have 100's of errors which are called as sub classes. We can't remember each class and write. So, use super class which is Exception.\n",
    "\n"
   ]
  },
  {
   "cell_type": "code",
   "execution_count": 13,
   "id": "3d55d3aa",
   "metadata": {},
   "outputs": [
    {
     "name": "stdout",
     "output_type": "stream",
     "text": [
      "2\n",
      "k\n"
     ]
    },
    {
     "ename": "ValueError",
     "evalue": "invalid literal for int() with base 10: 'k'",
     "output_type": "error",
     "traceback": [
      "\u001b[1;31m---------------------------------------------------------------------------\u001b[0m",
      "\u001b[1;31mValueError\u001b[0m                                Traceback (most recent call last)",
      "\u001b[1;32m<ipython-input-13-d033af887c63>\u001b[0m in \u001b[0;36m<module>\u001b[1;34m\u001b[0m\n\u001b[0;32m      1\u001b[0m \u001b[0ma\u001b[0m \u001b[1;33m=\u001b[0m \u001b[0mint\u001b[0m\u001b[1;33m(\u001b[0m\u001b[0minput\u001b[0m\u001b[1;33m(\u001b[0m\u001b[1;33m)\u001b[0m\u001b[1;33m)\u001b[0m\u001b[1;33m\u001b[0m\u001b[0m\n\u001b[1;32m----> 2\u001b[1;33m \u001b[0mb\u001b[0m\u001b[1;33m=\u001b[0m \u001b[0mint\u001b[0m\u001b[1;33m(\u001b[0m\u001b[0minput\u001b[0m\u001b[1;33m(\u001b[0m\u001b[1;33m)\u001b[0m\u001b[1;33m)\u001b[0m\u001b[1;33m\u001b[0m\u001b[0m\n\u001b[0m\u001b[0;32m      3\u001b[0m \u001b[0mprint\u001b[0m\u001b[1;33m(\u001b[0m\u001b[0ma\u001b[0m\u001b[1;33m*\u001b[0m\u001b[0mb\u001b[0m\u001b[1;33m)\u001b[0m\u001b[1;33m\u001b[0m\u001b[0m\n",
      "\u001b[1;31mValueError\u001b[0m: invalid literal for int() with base 10: 'k'"
     ]
    }
   ],
   "source": [
    "\n",
    "a = int(input())\n",
    "b= int(input())\n",
    "print(a*b)"
   ]
  },
  {
   "cell_type": "code",
   "execution_count": 11,
   "id": "055b5fdc",
   "metadata": {},
   "outputs": [
    {
     "name": "stdout",
     "output_type": "stream",
     "text": [
      "2\n",
      "k\n",
      "Error\n"
     ]
    }
   ],
   "source": [
    "try:   \n",
    "    a = int(input())\n",
    "    b= int(input())n \n",
    "    print(a*b)\n",
    "except:\n",
    "    print('Error')"
   ]
  },
  {
   "cell_type": "code",
   "execution_count": 18,
   "id": "b399e9b3",
   "metadata": {},
   "outputs": [
    {
     "name": "stdout",
     "output_type": "stream",
     "text": [
      "7\n",
      "24\n",
      "2\n",
      "5\n",
      "42\n",
      "3\n"
     ]
    },
    {
     "ename": "IndexError",
     "evalue": "list index out of range",
     "output_type": "error",
     "traceback": [
      "\u001b[1;31m---------------------------------------------------------------------------\u001b[0m",
      "\u001b[1;31mIndexError\u001b[0m                                Traceback (most recent call last)",
      "\u001b[1;32m<ipython-input-18-c8f466907344>\u001b[0m in \u001b[0;36m<module>\u001b[1;34m\u001b[0m\n\u001b[0;32m      1\u001b[0m \u001b[0ml\u001b[0m \u001b[1;33m=\u001b[0m \u001b[1;33m[\u001b[0m\u001b[1;36m7\u001b[0m\u001b[1;33m,\u001b[0m\u001b[1;36m24\u001b[0m\u001b[1;33m,\u001b[0m\u001b[1;36m2\u001b[0m\u001b[1;33m,\u001b[0m\u001b[1;36m5\u001b[0m\u001b[1;33m,\u001b[0m\u001b[1;36m42\u001b[0m\u001b[1;33m,\u001b[0m\u001b[1;36m3\u001b[0m\u001b[1;33m]\u001b[0m\u001b[1;33m\u001b[0m\u001b[0m\n\u001b[0;32m      2\u001b[0m \u001b[1;32mfor\u001b[0m \u001b[0mi\u001b[0m \u001b[1;32min\u001b[0m \u001b[0mrange\u001b[0m\u001b[1;33m(\u001b[0m\u001b[0mlen\u001b[0m\u001b[1;33m(\u001b[0m\u001b[0ml\u001b[0m\u001b[1;33m)\u001b[0m\u001b[1;33m+\u001b[0m\u001b[1;36m1\u001b[0m\u001b[1;33m)\u001b[0m\u001b[1;33m:\u001b[0m\u001b[1;33m\u001b[0m\u001b[0m\n\u001b[1;32m----> 3\u001b[1;33m     \u001b[0mprint\u001b[0m\u001b[1;33m(\u001b[0m\u001b[0ml\u001b[0m\u001b[1;33m[\u001b[0m\u001b[0mi\u001b[0m\u001b[1;33m]\u001b[0m\u001b[1;33m)\u001b[0m\u001b[1;33m\u001b[0m\u001b[0m\n\u001b[0m",
      "\u001b[1;31mIndexError\u001b[0m: list index out of range"
     ]
    }
   ],
   "source": [
    "l = [7,24,2,5,42,3]\n",
    "for i in range(len(l)+1):\n",
    "    print(l[i])"
   ]
  },
  {
   "cell_type": "code",
   "execution_count": 20,
   "id": "73947c7e",
   "metadata": {},
   "outputs": [
    {
     "name": "stdout",
     "output_type": "stream",
     "text": [
      "7\n",
      "24\n",
      "2\n",
      "5\n",
      "42\n",
      "3\n",
      "Gives Error\n",
      "outside of try and execute block\n"
     ]
    }
   ],
   "source": [
    "try:\n",
    "    l = [7,24,2,5,42,3]\n",
    "    for i in range(len(l)+1):\n",
    "        print(l[i])\n",
    "except:\n",
    "    print('Gives Error')\n",
    "print('outside of try and execute block')"
   ]
  },
  {
   "cell_type": "code",
   "execution_count": 24,
   "id": "13626d7b",
   "metadata": {},
   "outputs": [
    {
     "name": "stdout",
     "output_type": "stream",
     "text": [
      "Before the block\n",
      "7\n",
      "24\n",
      "2\n",
      "5\n",
      "42\n",
      "3\n",
      "Gives Error:-  list index out of range\n",
      "outside of try and execute block\n"
     ]
    }
   ],
   "source": [
    "# to know what is the error\n",
    "#use a class which is Exception\n",
    "#Exception is a super class\n",
    "\n",
    "print('Before the block')\n",
    "try:\n",
    "    l = [7,24,2,5,42,3]\n",
    "    for i in range(len(l)+1):\n",
    "        print(l[i])\n",
    "except Exception as E:\n",
    "    print('Gives Error:- ', E)\n",
    "print('outside of try and execute block')"
   ]
  },
  {
   "cell_type": "code",
   "execution_count": 26,
   "id": "337e3b59",
   "metadata": {},
   "outputs": [
    {
     "name": "stdout",
     "output_type": "stream",
     "text": [
      "v\n",
      "invalid literal for int() with base 10: 'v'\n",
      "Hope you got the answer\n"
     ]
    }
   ],
   "source": [
    "try:\n",
    "    a=int(input())\n",
    "    b=int(input())\n",
    "except Exception as e:\n",
    "    print(e)\n",
    "print('Hope you got the answer')"
   ]
  },
  {
   "cell_type": "code",
   "execution_count": 29,
   "id": "bd5fd6fa",
   "metadata": {},
   "outputs": [
    {
     "name": "stdout",
     "output_type": "stream",
     "text": [
      "4\n",
      "[Errno 2] No such file or directory: 'test7'\n"
     ]
    }
   ],
   "source": [
    "try:\n",
    "    d = {'k1':1,'k2':2}\n",
    "    d['k3']=int(input())\n",
    "    f = open('test7','r')\n",
    "except Exception as e:\n",
    "    print(e)"
   ]
  },
  {
   "cell_type": "code",
   "execution_count": 176,
   "id": "999d1ce7",
   "metadata": {},
   "outputs": [
    {
     "name": "stdout",
     "output_type": "stream",
     "text": [
      "3\n"
     ]
    },
    {
     "ename": "FileNotFoundError",
     "evalue": "[Errno 2] No such file or directory: 'test7'",
     "output_type": "error",
     "traceback": [
      "\u001b[1;31m---------------------------------------------------------------------------\u001b[0m",
      "\u001b[1;31mFileNotFoundError\u001b[0m                         Traceback (most recent call last)",
      "\u001b[1;32m<ipython-input-176-d9851d09105e>\u001b[0m in \u001b[0;36m<module>\u001b[1;34m\u001b[0m\n\u001b[0;32m      2\u001b[0m     \u001b[0md\u001b[0m \u001b[1;33m=\u001b[0m \u001b[1;33m{\u001b[0m\u001b[1;34m'k1'\u001b[0m\u001b[1;33m:\u001b[0m\u001b[1;36m1\u001b[0m\u001b[1;33m,\u001b[0m\u001b[1;34m'k2'\u001b[0m\u001b[1;33m:\u001b[0m\u001b[1;36m2\u001b[0m\u001b[1;33m}\u001b[0m\u001b[1;33m\u001b[0m\u001b[0m\n\u001b[0;32m      3\u001b[0m     \u001b[0md\u001b[0m\u001b[1;33m[\u001b[0m\u001b[1;34m'k3'\u001b[0m\u001b[1;33m]\u001b[0m\u001b[1;33m=\u001b[0m\u001b[0mint\u001b[0m\u001b[1;33m(\u001b[0m\u001b[0minput\u001b[0m\u001b[1;33m(\u001b[0m\u001b[1;33m)\u001b[0m\u001b[1;33m)\u001b[0m \u001b[1;31m# ValueError is for this\u001b[0m\u001b[1;33m\u001b[0m\u001b[0m\n\u001b[1;32m----> 4\u001b[1;33m     \u001b[0mf\u001b[0m \u001b[1;33m=\u001b[0m \u001b[0mopen\u001b[0m\u001b[1;33m(\u001b[0m\u001b[1;34m'test7'\u001b[0m\u001b[1;33m,\u001b[0m\u001b[1;34m'r'\u001b[0m\u001b[1;33m)\u001b[0m \u001b[1;31m# gets error for this.\u001b[0m\u001b[1;33m\u001b[0m\u001b[0m\n\u001b[0m\u001b[0;32m      5\u001b[0m \u001b[1;32mexcept\u001b[0m \u001b[0mValueError\u001b[0m \u001b[1;32mas\u001b[0m \u001b[0me\u001b[0m\u001b[1;33m:\u001b[0m\u001b[1;33m\u001b[0m\u001b[0m\n\u001b[0;32m      6\u001b[0m     \u001b[0mprint\u001b[0m\u001b[1;33m(\u001b[0m\u001b[0me\u001b[0m\u001b[1;33m)\u001b[0m\u001b[1;33m\u001b[0m\u001b[0m\n",
      "\u001b[1;31mFileNotFoundError\u001b[0m: [Errno 2] No such file or directory: 'test7'"
     ]
    }
   ],
   "source": [
    "try:\n",
    "    d = {'k1':1,'k2':2}\n",
    "    d['k3']=int(input()) # ValueError is for this\n",
    "    f = open('test7','r') # gets error for this.\n",
    "except ValueError as e:\n",
    "    print(e)\n",
    "    \n",
    "# so we need to add the sub error for f"
   ]
  },
  {
   "cell_type": "code",
   "execution_count": 33,
   "id": "0691c6a4",
   "metadata": {},
   "outputs": [
    {
     "name": "stdout",
     "output_type": "stream",
     "text": [
      "r\n",
      "invalid literal for int() with base 10: 'r'\n"
     ]
    }
   ],
   "source": [
    "try:\n",
    "    d = {'k1':1,'k2':2}\n",
    "    d['k3']=int(input()) # ValueError is for this\n",
    "    f = open('test7','r') # gets error for this.\n",
    "except ValueError as v:\n",
    "    print(v)\n",
    "except FileNotFoundError as e:\n",
    "    print(e)\n",
    "    \n",
    "# so we need to add the sub error for f"
   ]
  },
  {
   "cell_type": "code",
   "execution_count": 34,
   "id": "5fde60e1",
   "metadata": {},
   "outputs": [
    {
     "name": "stdout",
     "output_type": "stream",
     "text": [
      "e\n",
      "invalid literal for int() with base 10: 'e'\n"
     ]
    }
   ],
   "source": [
    "# so we need to use Exception super class which has all the sub classes\n",
    "\n",
    "try:\n",
    "    d = {'k1':1,'k2':2}\n",
    "    d['k3']=int(input()) # ValueError is for this\n",
    "    f = open('test7','r') # gets error for this.\n",
    "except Exception as ee:\n",
    "    print(ee)\n",
    "    \n",
    "# Below lines are of no use bcoz Exception takes care of errors.\n",
    "except ValueError as v:\n",
    "    print(v)\n",
    "except FileNotFoundError as e:\n",
    "    print(e)\n",
    "    "
   ]
  },
  {
   "cell_type": "code",
   "execution_count": 37,
   "id": "602cd159",
   "metadata": {},
   "outputs": [
    {
     "name": "stdout",
     "output_type": "stream",
     "text": [
      "r\n",
      "invalid literal for int() with base 10: 'r'\n"
     ]
    }
   ],
   "source": [
    "# so we need to use Exception super class which has all the sub classes\n",
    "\n",
    "try:\n",
    "    d = {'k1':1,'k2':2}\n",
    "    d['k3']=int(input()) # ValueError is for this\n",
    "    f = open('test7','r') # gets error for this.\n",
    "    \n",
    "except ValueError as v:\n",
    "    print(v)\n",
    "\n",
    "except Exception as ee:\n",
    "    print(ee)\n",
    "\n",
    "#use Exception every time."
   ]
  },
  {
   "cell_type": "code",
   "execution_count": 178,
   "id": "f8f67dba",
   "metadata": {},
   "outputs": [
    {
     "name": "stdout",
     "output_type": "stream",
     "text": [
      "outer try block\n",
      "nested try block\n",
      "outer exception block\n",
      "division by zero\n"
     ]
    }
   ],
   "source": [
    "x = 5\n",
    "y = 0\n",
    "\n",
    "try:\n",
    "    print('outer try block')\n",
    "    try:\n",
    "        print('nested try block')\n",
    "        print(x/y)    # here this will get an zerodivisionerror but inner expect can't handle it bcoz of gievn typeerror\n",
    "    except TypeError as t:     # so when this fails then goes to outer exception block.\n",
    "        print('nested except typerror block')\n",
    "        print(t)\n",
    "except ZeroDivisionError as z:\n",
    "    print('outer exception block')\n",
    "    print(z)"
   ]
  },
  {
   "cell_type": "code",
   "execution_count": 184,
   "id": "7834b64b",
   "metadata": {},
   "outputs": [
    {
     "name": "stdout",
     "output_type": "stream",
     "text": [
      "outer try block\n",
      "nested try block\n",
      "nested except exception block\n",
      "division by zero\n"
     ]
    }
   ],
   "source": [
    "\n",
    "x = 5\n",
    "y = 0\n",
    "\n",
    "try:\n",
    "    print('outer try block')\n",
    "    try:\n",
    "        print('nested try block')\n",
    "        print(x/y)    # here this will get an zerodivisionerror but inner expect can't handle it bcoz of gievn typeerror\n",
    "    except Exception as e:     # so when this fails then goes to outer exception block.\n",
    "        print('nested except exception block')\n",
    "        print(e)\n",
    "except ZeroDivisionError as z:\n",
    "    print('outer exception block')\n",
    "    print(z)"
   ]
  },
  {
   "cell_type": "markdown",
   "id": "608dc4c0",
   "metadata": {},
   "source": [
    "## Try - Else\n",
    "\n",
    "Else part displays only when try block executes successfully.  \n",
    "If Try fails then Except will execute, doesn't goes to else."
   ]
  },
  {
   "cell_type": "code",
   "execution_count": 46,
   "id": "dcaaaa7b",
   "metadata": {},
   "outputs": [
    {
     "name": "stdout",
     "output_type": "stream",
     "text": [
      "Found the file\n",
      "File has been closed\n"
     ]
    }
   ],
   "source": [
    "try:\n",
    "    f = open('google.txt','r') \n",
    "    print('Found the file')\n",
    "    \n",
    "except Exception as e:\n",
    "    print(e)\n",
    "\n",
    "else:\n",
    "    f.close()\n",
    "    print('File has been closed')\n",
    "    "
   ]
  },
  {
   "cell_type": "markdown",
   "id": "e1a3809e",
   "metadata": {},
   "source": [
    "## Try - Except - Finally\n",
    "\n",
    "Finally Executes all time Even for try and except.  \n",
    "Finally always tries to execute for sure but it fails if the code (or) logic is wrong."
   ]
  },
  {
   "cell_type": "code",
   "execution_count": null,
   "id": "f1ea4a62",
   "metadata": {},
   "outputs": [],
   "source": [
    "try:\n",
    "    f = open('google.txt','r') \n",
    "    print('Try Block:- Found the file')\n",
    "    f.close()\n",
    "\n",
    "except Exception as e:\n",
    "    print('Error',e)\n",
    "    \n",
    "finally:\n",
    "    print('Finally Block:- This has to be done for sure.')\n",
    "    "
   ]
  },
  {
   "cell_type": "markdown",
   "id": "cde4a59c",
   "metadata": {},
   "source": [
    "## Try - Except - Else - finally"
   ]
  },
  {
   "cell_type": "code",
   "execution_count": 50,
   "id": "40022d15",
   "metadata": {},
   "outputs": [
    {
     "name": "stdout",
     "output_type": "stream",
     "text": [
      "Try Block:- Found the file\n",
      "Else block\n",
      "Finally Block:- This has to be done for sure.\n"
     ]
    }
   ],
   "source": [
    "try:\n",
    "    f = open('google.txt','r') \n",
    "    print('Try Block:- Found the file')\n",
    "    f.close()\n",
    "\n",
    "except Exception as e:\n",
    "    print('Error',e)\n",
    "\n",
    "else:\n",
    "    f.close()\n",
    "    print('Else block')\n",
    "    \n",
    "finally:\n",
    "    print('Finally Block:- This has to be done for sure.')\n",
    "    "
   ]
  },
  {
   "cell_type": "code",
   "execution_count": 52,
   "id": "5ae595d0",
   "metadata": {},
   "outputs": [
    {
     "name": "stdout",
     "output_type": "stream",
     "text": [
      "Try Block:- Found the file\n",
      "Else block closed\n",
      "Finally Block:- This has to be done for sure.\n",
      "All done\n"
     ]
    }
   ],
   "source": [
    "try:\n",
    "    f = open('google.txt','r') \n",
    "    print('Try Block:- Found the file')\n",
    "    f.close()\n",
    "\n",
    "except Exception as e:\n",
    "    print('Error',e)\n",
    "\n",
    "else:\n",
    "    f.close()\n",
    "    print('Else block closed')\n",
    "    \n",
    "finally:\n",
    "    print('Finally Block:- This has to be done for sure.')\n",
    "    try:\n",
    "        f = open('google.txt','w')\n",
    "        f.write('hi')\n",
    "    except Exception as v:\n",
    "        print('Nested except error:- ',v)\n",
    "    else:\n",
    "        f.close()\n",
    "    finally:\n",
    "        print('All done')"
   ]
  },
  {
   "cell_type": "code",
   "execution_count": 65,
   "id": "4196b0ab",
   "metadata": {},
   "outputs": [],
   "source": [
    "def q():\n",
    "    \"\"\"\n",
    "    Try and except inside a function block \"\"\"\n",
    "    \n",
    "    try:\n",
    "        n = int(input('Enter an integer:- '))\n",
    "        return n*2\n",
    "    except Exception as e:\n",
    "        print('Error',e)"
   ]
  },
  {
   "cell_type": "code",
   "execution_count": 66,
   "id": "1f6e7e40",
   "metadata": {},
   "outputs": [
    {
     "name": "stdout",
     "output_type": "stream",
     "text": [
      "Enter an integer:- 3\n"
     ]
    },
    {
     "data": {
      "text/plain": [
       "6"
      ]
     },
     "execution_count": 66,
     "metadata": {},
     "output_type": "execute_result"
    }
   ],
   "source": [
    "q()"
   ]
  },
  {
   "cell_type": "code",
   "execution_count": 124,
   "id": "850e3aa5",
   "metadata": {},
   "outputs": [],
   "source": [
    "def q1():\n",
    "    while True:\n",
    "        try:\n",
    "            n = int(input('Enter your age:- ')) \n",
    "            return n\n",
    "        except Exception as e:\n",
    "            print('Error:- ', e)"
   ]
  },
  {
   "cell_type": "code",
   "execution_count": 125,
   "id": "750e46e0",
   "metadata": {},
   "outputs": [
    {
     "name": "stdout",
     "output_type": "stream",
     "text": [
      "Enter your age:- e\n",
      "Error:-  invalid literal for int() with base 10: 'e'\n",
      "Enter your age:- r\n",
      "Error:-  invalid literal for int() with base 10: 'r'\n",
      "Enter your age:- a\n",
      "Error:-  invalid literal for int() with base 10: 'a'\n",
      "Enter your age:- df\n",
      "Error:-  invalid literal for int() with base 10: 'df'\n",
      "Enter your age:- 3\n"
     ]
    },
    {
     "data": {
      "text/plain": [
       "3"
      ]
     },
     "execution_count": 125,
     "metadata": {},
     "output_type": "execute_result"
    }
   ],
   "source": [
    "q1()"
   ]
  },
  {
   "cell_type": "code",
   "execution_count": 126,
   "id": "cc2b73ce",
   "metadata": {},
   "outputs": [],
   "source": [
    "def q2():\n",
    "    try:\n",
    "        n = int(input('Enter your age:- '))\n",
    "        return n\n",
    "    except Exception as E:\n",
    "        print('Error:- ',E )\n",
    "        return q2()"
   ]
  },
  {
   "cell_type": "code",
   "execution_count": 129,
   "id": "fa6bb5ec",
   "metadata": {},
   "outputs": [
    {
     "name": "stdout",
     "output_type": "stream",
     "text": [
      "Enter your age:- 23\n"
     ]
    },
    {
     "data": {
      "text/plain": [
       "23"
      ]
     },
     "execution_count": 129,
     "metadata": {},
     "output_type": "execute_result"
    }
   ],
   "source": [
    "q2()"
   ]
  },
  {
   "cell_type": "markdown",
   "id": "d18e150c",
   "metadata": {},
   "source": [
    "# Raise \n",
    "\n",
    "We can create our own errors using raise with super class(Exception) and sub classes(ValueError, NameError etc....)"
   ]
  },
  {
   "cell_type": "code",
   "execution_count": 130,
   "id": "29318b3a",
   "metadata": {},
   "outputs": [],
   "source": [
    "def test1(a):\n",
    "    if a<10:\n",
    "        raise Exception('You have entered less than 10',a)\n",
    "    return a\n",
    "test1(4)"
   ]
  },
  {
   "cell_type": "code",
   "execution_count": 134,
   "id": "676b86e4",
   "metadata": {},
   "outputs": [
    {
     "ename": "NameError",
     "evalue": "name 'VAlueError' is not defined",
     "output_type": "error",
     "traceback": [
      "\u001b[1;31m---------------------------------------------------------------------------\u001b[0m",
      "\u001b[1;31mNameError\u001b[0m                                 Traceback (most recent call last)",
      "\u001b[1;32m<ipython-input-134-945db62c03cf>\u001b[0m in \u001b[0;36m<module>\u001b[1;34m\u001b[0m\n\u001b[0;32m      3\u001b[0m         \u001b[1;32mraise\u001b[0m \u001b[0mVAlueError\u001b[0m\u001b[1;33m(\u001b[0m\u001b[1;34m'You have entered less than 10'\u001b[0m\u001b[1;33m,\u001b[0m\u001b[0ma\u001b[0m\u001b[1;33m)\u001b[0m\u001b[1;33m\u001b[0m\u001b[0m\n\u001b[0;32m      4\u001b[0m     \u001b[1;32mreturn\u001b[0m \u001b[0ma\u001b[0m\u001b[1;33m\u001b[0m\u001b[0m\n\u001b[1;32m----> 5\u001b[1;33m \u001b[0mtest1\u001b[0m\u001b[1;33m(\u001b[0m\u001b[1;36m4\u001b[0m\u001b[1;33m)\u001b[0m\u001b[1;33m\u001b[0m\u001b[0m\n\u001b[0m",
      "\u001b[1;32m<ipython-input-134-945db62c03cf>\u001b[0m in \u001b[0;36mtest1\u001b[1;34m(a)\u001b[0m\n\u001b[0;32m      1\u001b[0m \u001b[1;32mdef\u001b[0m \u001b[0mtest1\u001b[0m\u001b[1;33m(\u001b[0m\u001b[0ma\u001b[0m\u001b[1;33m)\u001b[0m\u001b[1;33m:\u001b[0m\u001b[1;33m\u001b[0m\u001b[0m\n\u001b[0;32m      2\u001b[0m     \u001b[1;32mif\u001b[0m \u001b[0ma\u001b[0m\u001b[1;33m<\u001b[0m\u001b[1;36m10\u001b[0m\u001b[1;33m:\u001b[0m\u001b[1;33m\u001b[0m\u001b[0m\n\u001b[1;32m----> 3\u001b[1;33m         \u001b[1;32mraise\u001b[0m \u001b[0mVAlueError\u001b[0m\u001b[1;33m(\u001b[0m\u001b[1;34m'You have entered less than 10'\u001b[0m\u001b[1;33m,\u001b[0m\u001b[0ma\u001b[0m\u001b[1;33m)\u001b[0m\u001b[1;33m\u001b[0m\u001b[0m\n\u001b[0m\u001b[0;32m      4\u001b[0m     \u001b[1;32mreturn\u001b[0m \u001b[0ma\u001b[0m\u001b[1;33m\u001b[0m\u001b[0m\n\u001b[0;32m      5\u001b[0m \u001b[0mtest1\u001b[0m\u001b[1;33m(\u001b[0m\u001b[1;36m4\u001b[0m\u001b[1;33m)\u001b[0m\u001b[1;33m\u001b[0m\u001b[0m\n",
      "\u001b[1;31mNameError\u001b[0m: name 'VAlueError' is not defined"
     ]
    }
   ],
   "source": [
    "\n",
    "def test1(a):\n",
    "    if a<10:\n",
    "        raise ValueError('You have entered less than 10',a)\n",
    "    return a\n",
    "test1(4)"
   ]
  },
  {
   "cell_type": "code",
   "execution_count": 142,
   "id": "c935eff9",
   "metadata": {},
   "outputs": [
    {
     "name": "stdout",
     "output_type": "stream",
     "text": [
      "Please enter value greater than 10\n"
     ]
    }
   ],
   "source": [
    "# Here there is no error \n",
    "def test1(a):\n",
    "    if a>10:\n",
    "        print(a*2)\n",
    "    else:\n",
    "        print('Please enter value greater than 10')\n",
    "test1(4)"
   ]
  },
  {
   "cell_type": "code",
   "execution_count": 147,
   "id": "b7d558d2",
   "metadata": {},
   "outputs": [
    {
     "ename": "Exception",
     "evalue": "('Please enter value greater than 10', 4)",
     "output_type": "error",
     "traceback": [
      "\u001b[1;31m---------------------------------------------------------------------------\u001b[0m",
      "\u001b[1;31mException\u001b[0m                                 Traceback (most recent call last)",
      "\u001b[1;32m<ipython-input-147-302a16ddb260>\u001b[0m in \u001b[0;36m<module>\u001b[1;34m\u001b[0m\n\u001b[0;32m      6\u001b[0m         \u001b[1;32mraise\u001b[0m \u001b[0mException\u001b[0m\u001b[1;33m(\u001b[0m\u001b[1;34m'Please enter value greater than 10'\u001b[0m\u001b[1;33m,\u001b[0m\u001b[0ma\u001b[0m\u001b[1;33m)\u001b[0m\u001b[1;33m\u001b[0m\u001b[0m\n\u001b[0;32m      7\u001b[0m         \u001b[1;31m#print('Please enter value greater than 10')\u001b[0m\u001b[1;33m\u001b[0m\u001b[1;33m\u001b[0m\u001b[0m\n\u001b[1;32m----> 8\u001b[1;33m \u001b[0mtest1\u001b[0m\u001b[1;33m(\u001b[0m\u001b[1;36m4\u001b[0m\u001b[1;33m)\u001b[0m\u001b[1;33m\u001b[0m\u001b[0m\n\u001b[0m",
      "\u001b[1;32m<ipython-input-147-302a16ddb260>\u001b[0m in \u001b[0;36mtest1\u001b[1;34m(a)\u001b[0m\n\u001b[0;32m      4\u001b[0m         \u001b[0mprint\u001b[0m\u001b[1;33m(\u001b[0m\u001b[0ma\u001b[0m\u001b[1;33m*\u001b[0m\u001b[1;36m2\u001b[0m\u001b[1;33m)\u001b[0m\u001b[1;33m\u001b[0m\u001b[0m\n\u001b[0;32m      5\u001b[0m     \u001b[1;32melse\u001b[0m\u001b[1;33m:\u001b[0m\u001b[1;33m\u001b[0m\u001b[0m\n\u001b[1;32m----> 6\u001b[1;33m         \u001b[1;32mraise\u001b[0m \u001b[0mException\u001b[0m\u001b[1;33m(\u001b[0m\u001b[1;34m'Please enter value greater than 10'\u001b[0m\u001b[1;33m,\u001b[0m\u001b[0ma\u001b[0m\u001b[1;33m)\u001b[0m\u001b[1;33m\u001b[0m\u001b[0m\n\u001b[0m\u001b[0;32m      7\u001b[0m         \u001b[1;31m#print('Please enter value greater than 10')\u001b[0m\u001b[1;33m\u001b[0m\u001b[1;33m\u001b[0m\u001b[0m\n\u001b[0;32m      8\u001b[0m \u001b[0mtest1\u001b[0m\u001b[1;33m(\u001b[0m\u001b[1;36m4\u001b[0m\u001b[1;33m)\u001b[0m\u001b[1;33m\u001b[0m\u001b[0m\n",
      "\u001b[1;31mException\u001b[0m: ('Please enter value greater than 10', 4)"
     ]
    }
   ],
   "source": [
    "# we can create our own error\n",
    "def test1(a):\n",
    "    if a>10:\n",
    "        print(a*2)\n",
    "    else:\n",
    "        raise Exception('Please enter value greater than 10',a)\n",
    "        #print('Please enter value greater than 10')\n",
    "test1(4)"
   ]
  },
  {
   "cell_type": "code",
   "execution_count": 144,
   "id": "c3622030",
   "metadata": {},
   "outputs": [],
   "source": [
    "# we can create our own error\n",
    "def test1(a):\n",
    "    if a>10:\n",
    "        print(a*2)\n",
    "    else:\n",
    "        raise ValueError('Please enter value greater than 10',a)\n",
    "        #print('Please enter value greater than 10')\n"
   ]
  },
  {
   "cell_type": "code",
   "execution_count": 145,
   "id": "06b3e1bb",
   "metadata": {},
   "outputs": [
    {
     "ename": "ValueError",
     "evalue": "('Please enter value greater than 10', 4)",
     "output_type": "error",
     "traceback": [
      "\u001b[1;31m---------------------------------------------------------------------------\u001b[0m",
      "\u001b[1;31mValueError\u001b[0m                                Traceback (most recent call last)",
      "\u001b[1;32m<ipython-input-145-b069434346f6>\u001b[0m in \u001b[0;36m<module>\u001b[1;34m\u001b[0m\n\u001b[1;32m----> 1\u001b[1;33m \u001b[0mtest1\u001b[0m\u001b[1;33m(\u001b[0m\u001b[1;36m4\u001b[0m\u001b[1;33m)\u001b[0m\u001b[1;33m\u001b[0m\u001b[0m\n\u001b[0m",
      "\u001b[1;32m<ipython-input-144-c2a6cf0450ca>\u001b[0m in \u001b[0;36mtest1\u001b[1;34m(a)\u001b[0m\n\u001b[0;32m      4\u001b[0m         \u001b[0mprint\u001b[0m\u001b[1;33m(\u001b[0m\u001b[0ma\u001b[0m\u001b[1;33m*\u001b[0m\u001b[1;36m2\u001b[0m\u001b[1;33m)\u001b[0m\u001b[1;33m\u001b[0m\u001b[0m\n\u001b[0;32m      5\u001b[0m     \u001b[1;32melse\u001b[0m\u001b[1;33m:\u001b[0m\u001b[1;33m\u001b[0m\u001b[0m\n\u001b[1;32m----> 6\u001b[1;33m         \u001b[1;32mraise\u001b[0m \u001b[0mValueError\u001b[0m\u001b[1;33m(\u001b[0m\u001b[1;34m'Please enter value greater than 10'\u001b[0m\u001b[1;33m,\u001b[0m\u001b[0ma\u001b[0m\u001b[1;33m)\u001b[0m\u001b[1;33m\u001b[0m\u001b[0m\n\u001b[0m\u001b[0;32m      7\u001b[0m         \u001b[1;31m#print('Please enter value greater than 10')\u001b[0m\u001b[1;33m\u001b[0m\u001b[1;33m\u001b[0m\u001b[0m\n",
      "\u001b[1;31mValueError\u001b[0m: ('Please enter value greater than 10', 4)"
     ]
    }
   ],
   "source": [
    "test1(4)\n",
    "\n",
    "#Here there is no need to get an error but we created it."
   ]
  },
  {
   "cell_type": "code",
   "execution_count": 170,
   "id": "adbde25c",
   "metadata": {},
   "outputs": [],
   "source": [
    "#we overwrited the original error with a zerodivisionerror.\n",
    "def test1(a):\n",
    "    if a == 'lohith':\n",
    "        raise ZeroDivisionError('Please enter a name except lohith',a)\n",
    "    return a \n",
    "    #print('Please enter value greater than 10')\n"
   ]
  },
  {
   "cell_type": "code",
   "execution_count": 168,
   "id": "e572c145",
   "metadata": {},
   "outputs": [
    {
     "data": {
      "text/plain": [
       "'asca'"
      ]
     },
     "execution_count": 168,
     "metadata": {},
     "output_type": "execute_result"
    }
   ],
   "source": [
    "test1('asca')"
   ]
  },
  {
   "cell_type": "code",
   "execution_count": 169,
   "id": "4a0a0f85",
   "metadata": {},
   "outputs": [
    {
     "ename": "ZeroDivisionError",
     "evalue": "('Please enter a name except lohith', 'lohith')",
     "output_type": "error",
     "traceback": [
      "\u001b[1;31m---------------------------------------------------------------------------\u001b[0m",
      "\u001b[1;31mZeroDivisionError\u001b[0m                         Traceback (most recent call last)",
      "\u001b[1;32m<ipython-input-169-323fb5abe724>\u001b[0m in \u001b[0;36m<module>\u001b[1;34m\u001b[0m\n\u001b[1;32m----> 1\u001b[1;33m \u001b[0mtest1\u001b[0m\u001b[1;33m(\u001b[0m\u001b[1;34m'lohith'\u001b[0m\u001b[1;33m)\u001b[0m\u001b[1;33m\u001b[0m\u001b[0m\n\u001b[0m",
      "\u001b[1;32m<ipython-input-167-029d0282f28a>\u001b[0m in \u001b[0;36mtest1\u001b[1;34m(a)\u001b[0m\n\u001b[0;32m      2\u001b[0m \u001b[1;32mdef\u001b[0m \u001b[0mtest1\u001b[0m\u001b[1;33m(\u001b[0m\u001b[0ma\u001b[0m\u001b[1;33m)\u001b[0m\u001b[1;33m:\u001b[0m\u001b[1;33m\u001b[0m\u001b[0m\n\u001b[0;32m      3\u001b[0m     \u001b[1;32mif\u001b[0m \u001b[0ma\u001b[0m \u001b[1;33m==\u001b[0m \u001b[1;34m'lohith'\u001b[0m\u001b[1;33m:\u001b[0m\u001b[1;33m\u001b[0m\u001b[0m\n\u001b[1;32m----> 4\u001b[1;33m         \u001b[1;32mraise\u001b[0m \u001b[0mZeroDivisionError\u001b[0m\u001b[1;33m(\u001b[0m\u001b[1;34m'Please enter a name except lohith'\u001b[0m\u001b[1;33m,\u001b[0m\u001b[0ma\u001b[0m\u001b[1;33m)\u001b[0m\u001b[1;33m\u001b[0m\u001b[0m\n\u001b[0m\u001b[0;32m      5\u001b[0m     \u001b[1;32mreturn\u001b[0m \u001b[0ma\u001b[0m\u001b[1;33m\u001b[0m\u001b[0m\n\u001b[0;32m      6\u001b[0m     \u001b[1;31m#print('Please enter value greater than 10')\u001b[0m\u001b[1;33m\u001b[0m\u001b[1;33m\u001b[0m\u001b[0m\n",
      "\u001b[1;31mZeroDivisionError\u001b[0m: ('Please enter a name except lohith', 'lohith')"
     ]
    }
   ],
   "source": [
    "test1('lohith')"
   ]
  },
  {
   "cell_type": "code",
   "execution_count": 171,
   "id": "fda27818",
   "metadata": {},
   "outputs": [
    {
     "name": "stdout",
     "output_type": "stream",
     "text": [
      "lohith\n",
      "calling my raised exception ('Please enter a name except lohith', 'lohith')\n"
     ]
    }
   ],
   "source": [
    "#In above cell we created our own error and now we handeld the error.\n",
    "try:\n",
    "    a=input()\n",
    "    test1(a)\n",
    "    \n",
    "except Exception as e:\n",
    "    print('calling my raised exception', e)"
   ]
  },
  {
   "cell_type": "code",
   "execution_count": null,
   "id": "805f9d7c",
   "metadata": {},
   "outputs": [],
   "source": []
  }
 ],
 "metadata": {
  "kernelspec": {
   "display_name": "Python 3",
   "language": "python",
   "name": "python3"
  },
  "language_info": {
   "codemirror_mode": {
    "name": "ipython",
    "version": 3
   },
   "file_extension": ".py",
   "mimetype": "text/x-python",
   "name": "python",
   "nbconvert_exporter": "python",
   "pygments_lexer": "ipython3",
   "version": "3.6.2"
  }
 },
 "nbformat": 4,
 "nbformat_minor": 5
}
