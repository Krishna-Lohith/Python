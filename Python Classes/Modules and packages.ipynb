{
 "cells": [
  {
   "cell_type": "markdown",
   "id": "67415e96",
   "metadata": {},
   "source": [
    "# Modules"
   ]
  },
  {
   "cell_type": "markdown",
   "id": "f8cc9e95",
   "metadata": {},
   "source": [
    "Modules is a .py file with a collection of n number of functions and classes inside it.  \n",
    "\n",
    "We cannot use functions which are written in one jupyter notebooks in another notebooks.    \n",
    "We can create our own module with n number of functions inside it and can be used later.  \n",
    "We can add docstring and notations in the notepad file.\n",
    "\n",
    "Use Pycharm for modules and packages. it is easy."
   ]
  },
  {
   "cell_type": "code",
   "execution_count": null,
   "id": "52943cdf",
   "metadata": {},
   "outputs": [],
   "source": [
    "#we have to create a new file in notepad++ with .py extension\n",
    "#we can do the same thing with open('test1.py','w')"
   ]
  },
  {
   "cell_type": "code",
   "execution_count": 4,
   "id": "0a1b22a1",
   "metadata": {},
   "outputs": [],
   "source": [
    "#ls"
   ]
  },
  {
   "cell_type": "markdown",
   "id": "d87e10b9",
   "metadata": {},
   "source": [
    "write the function code in the file which has to be in the same directory then import it with file name."
   ]
  },
  {
   "cell_type": "code",
   "execution_count": 1,
   "id": "53d5ca09",
   "metadata": {},
   "outputs": [],
   "source": [
    "# this is a module\n",
    "import test1   #imports all the functions inside the module\n",
    "from test1 import *  # imports all"
   ]
  },
  {
   "cell_type": "code",
   "execution_count": 7,
   "id": "00c9746e",
   "metadata": {},
   "outputs": [
    {
     "data": {
      "text/plain": [
       "5"
      ]
     },
     "execution_count": 7,
     "metadata": {},
     "output_type": "execute_result"
    }
   ],
   "source": [
    "#just type test1 and click tab after . then we can see the function names which we have written\n",
    "test1.sum_(2,3)"
   ]
  },
  {
   "cell_type": "code",
   "execution_count": 2,
   "id": "781c63a4",
   "metadata": {},
   "outputs": [
    {
     "data": {
      "text/plain": [
       "10"
      ]
     },
     "execution_count": 2,
     "metadata": {},
     "output_type": "execute_result"
    }
   ],
   "source": [
    "test1.mul_(2,5)"
   ]
  },
  {
   "cell_type": "code",
   "execution_count": 3,
   "id": "c79877d1",
   "metadata": {},
   "outputs": [],
   "source": [
    "# we can call only one function from a module.\n",
    "from test1 import mul_"
   ]
  },
  {
   "cell_type": "code",
   "execution_count": 4,
   "id": "d2fdd9e7",
   "metadata": {},
   "outputs": [
    {
     "data": {
      "text/plain": [
       "25"
      ]
     },
     "execution_count": 4,
     "metadata": {},
     "output_type": "execute_result"
    }
   ],
   "source": [
    "mul_(5,5)"
   ]
  },
  {
   "cell_type": "code",
   "execution_count": 5,
   "id": "3331e648",
   "metadata": {},
   "outputs": [],
   "source": [
    "from test1 import *"
   ]
  },
  {
   "cell_type": "code",
   "execution_count": 6,
   "id": "38db1d3e",
   "metadata": {},
   "outputs": [
    {
     "data": {
      "text/plain": [
       "36"
      ]
     },
     "execution_count": 6,
     "metadata": {},
     "output_type": "execute_result"
    }
   ],
   "source": [
    "sum_(2,34)"
   ]
  },
  {
   "cell_type": "code",
   "execution_count": 7,
   "id": "e513820f",
   "metadata": {},
   "outputs": [
    {
     "data": {
      "text/plain": [
       "20"
      ]
     },
     "execution_count": 7,
     "metadata": {},
     "output_type": "execute_result"
    }
   ],
   "source": [
    "mul_(4,5)"
   ]
  },
  {
   "cell_type": "markdown",
   "id": "d6c829b1",
   "metadata": {},
   "source": [
    "# Packages\n",
    " \n",
    "Package is a folder with a collection of modules.    \n",
    "Create a directory in pycharm which is a package.    \n",
    "\n",
    "we can call a module which is present in the same package by     \n",
    "import module.  \n",
    "\n",
    "We can use a module which is available in different package.  \n",
    "from package import module   \n",
    "\n",
    "We can access a module which is outside of a package just by calling.  \n",
    "import module  "
   ]
  },
  {
   "cell_type": "code",
   "execution_count": null,
   "id": "4b51bbe3",
   "metadata": {},
   "outputs": [],
   "source": []
  }
 ],
 "metadata": {
  "kernelspec": {
   "display_name": "Python 3",
   "language": "python",
   "name": "python3"
  },
  "language_info": {
   "codemirror_mode": {
    "name": "ipython",
    "version": 3
   },
   "file_extension": ".py",
   "mimetype": "text/x-python",
   "name": "python",
   "nbconvert_exporter": "python",
   "pygments_lexer": "ipython3",
   "version": "3.6.2"
  }
 },
 "nbformat": 4,
 "nbformat_minor": 5
}
