{
 "cells": [
  {
   "cell_type": "markdown",
   "id": "74c5ec65",
   "metadata": {},
   "source": [
    "# Python_Basics"
   ]
  },
  {
   "cell_type": "markdown",
   "id": "ba69ee22",
   "metadata": {},
   "source": [
    "**Topics Covered:-**   \n",
    "print  \n",
    "input  \n",
    "variables  \n",
    "concatination  "
   ]
  },
  {
   "cell_type": "code",
   "execution_count": null,
   "id": "10db2129",
   "metadata": {},
   "outputs": [],
   "source": [
    "print('Welcome')\n",
    "\n",
    "print('welcome \n",
    "lohith')\n",
    "\n",
    "  print('''welcome\n",
    "  lohith''')\n",
    "\n",
    "#multi line comments\n",
    "\"\"\"\n",
    "krishna\n",
    "lohith\n",
    "\"\"\"\n",
    "#comments\n",
    "#multi line comments\n",
    "\"\"\"\n",
    "krishna\n",
    "lohith\n",
    "\"\"\"\n",
    "print('hi')\n",
    "\n",
    "c =input()\n",
    "print(c,'mental')\n",
    "\n",
    "print(\"i am 'lohith' \")\n",
    "print('i am \"lohith\" ')\n",
    "print(\"\"\"i am 'lohith' \"\"\")\n",
    "print(\"\"\"i am \"lohith\" \"\"\")\n",
    "\n",
    "ten = 10\n",
    "Ten = 10  # better to use lower case for starting letter\n",
    "ten10 = 10\n",
    "#10ten = 10 #error\n",
    "_num = 10 #hidden variables\n",
    "_ = 77 # dummy variable\n",
    "\n",
    "a=2\n",
    "b=3.0\n",
    "c = 2+3j\n",
    "print(type(a))\n",
    "print(type(b))\n",
    "print(type(c))\n",
    "print(c.real)\n",
    "print(c.imag)\n",
    "\n",
    "\"Year\" + 2022\n",
    "\n",
    "\"Year\" + \"2022\"\n",
    "\n",
    "\"22\" + \"2022\"\n",
    "\n",
    "# f string or format\n",
    "name = \"lohith\"\n",
    "print('my name is  ' + name +  'krishna' )\n",
    "print(f'my name is {name} krishna' )    # use this easy\n",
    "print('my name is {} krishna'.format(name) )\n",
    "\n",
    "name = \"lohith\"\n",
    "age = 24\n",
    "#print(\"my age is \" + age + \"name is \"  + name +  \"krishna\" )\n",
    "print(f'my age is {age} and name is {name} krishna' )    # use this easy\n",
    "print('my age is {} name is {} krishna'.format(age,name) )"
   ]
  },
  {
   "cell_type": "markdown",
   "id": "f6741919",
   "metadata": {},
   "source": [
    "# Python_Assignment"
   ]
  },
  {
   "cell_type": "markdown",
   "id": "92be6a4b",
   "metadata": {},
   "source": [
    "**1. In the below elements which of them are values or an expression? eg:- values can be integer or string and expressions will be mathematical operators.**  "
   ]
  },
  {
   "cell_type": "code",
   "execution_count": null,
   "id": "059ba8ee",
   "metadata": {},
   "outputs": [],
   "source": [
    "*   - Expression\n",
    "'hello' - Value\n",
    "-87.8 - Value\n",
    "-  - Expression\n",
    "/ - Expression\n",
    "+ - Expression\n",
    "6 - Value"
   ]
  },
  {
   "cell_type": "markdown",
   "id": "3df3682b",
   "metadata": {},
   "source": [
    "**2. What is the difference between string and variable?**"
   ]
  },
  {
   "cell_type": "markdown",
   "id": "1ce99dc2",
   "metadata": {},
   "source": [
    "**String** :- String is a word or collection of words or sentence which denoted by \"\" (OR) '' in python. Eg:- Krishna  \n",
    "When we define an integer or float with \"\" or '' then the value becomes a string eg:- \"777\"\n",
    "\n",
    "**Variable** :- Variable is nothing but an object which stores a value or string which we defined. So that we can call the object anytime we need. "
   ]
  },
  {
   "cell_type": "markdown",
   "id": "d9e3303a",
   "metadata": {},
   "source": [
    "**3.Describe three different data types.**"
   ]
  },
  {
   "cell_type": "markdown",
   "id": "5c3535c6",
   "metadata": {},
   "source": [
    "Integer - numbers like 1,2,3,4.....  \n",
    "Float - Decimal values like 2.3445,0.133 etc...   \n",
    "String - Characters like name, is,that....    "
   ]
  },
  {
   "cell_type": "markdown",
   "id": "ee9786ae",
   "metadata": {},
   "source": [
    "**4. What is an expression made up of? What do all expressions do?**"
   ]
  },
  {
   "cell_type": "markdown",
   "id": "3db39f51",
   "metadata": {},
   "source": [
    "An Expression is a mathemetical operator which deals with integers, floats to give an output   \n",
    "All expressions can perform according to the mathematical equation like +,-,*,% etc....."
   ]
  },
  {
   "cell_type": "markdown",
   "id": "99d3c6fb",
   "metadata": {},
   "source": [
    "**5. This assignment statements, like spam = 10. What is the difference between an\n",
    "expression and a statement?**"
   ]
  },
  {
   "cell_type": "markdown",
   "id": "01b27256",
   "metadata": {},
   "source": [
    "spam = 10    \n",
    "variable = value   \n",
    "Here we are saying that 10 has to be stored in a variable which is spam so this is a statement.  \n",
    "Expression does a mathematical operation Eg:- Spam = 10 + 5"
   ]
  },
  {
   "cell_type": "markdown",
   "id": "be7fc69f",
   "metadata": {},
   "source": [
    "**6. After running the following code, what does the variable bacon contain?**  \n",
    "bacon = 22  \n",
    "bacon + 1  \n",
    "\n",
    "Ans:- 23"
   ]
  },
  {
   "cell_type": "markdown",
   "id": "b8fbfbc5",
   "metadata": {},
   "source": [
    "**7. What should the values of the following two terms be?**  \n",
    "'spam' + 'spamspam'  \n",
    "'spam' * 3\n",
    "\n",
    "Ans:-    \n",
    "spamspamspam  \n",
    "spamspamspam"
   ]
  },
  {
   "cell_type": "markdown",
   "id": "d67e3228",
   "metadata": {},
   "source": [
    "**8. Why is eggs a valid variable name while 100 is invalid?**  \n",
    "Variable names cannot start with a number but it can have a number in between or end."
   ]
  },
  {
   "cell_type": "markdown",
   "id": "b661831b",
   "metadata": {},
   "source": [
    "**9. What three functions can be used to get the integer, floating-point number, or string version of a value?**  \n",
    "Ans:-   int(), float(), str()"
   ]
  },
  {
   "cell_type": "markdown",
   "id": "cf0a78fd",
   "metadata": {},
   "source": [
    "**10. Why does this expression cause an error? How can you fix it?**  \n",
    "'I have eaten ' + 99 + ' burritos.'  \n",
    "Ans:- Beacuse 99 was an integer we have to make the 99 as a string by giving \"\" or '' . strings doesn't add with integers or floats."
   ]
  },
  {
   "cell_type": "code",
   "execution_count": null,
   "id": "86f3a4d8",
   "metadata": {},
   "outputs": [],
   "source": []
  }
 ],
 "metadata": {
  "kernelspec": {
   "display_name": "Python 3",
   "language": "python",
   "name": "python3"
  },
  "language_info": {
   "codemirror_mode": {
    "name": "ipython",
    "version": 3
   },
   "file_extension": ".py",
   "mimetype": "text/x-python",
   "name": "python",
   "nbconvert_exporter": "python",
   "pygments_lexer": "ipython3",
   "version": "3.6.2"
  }
 },
 "nbformat": 4,
 "nbformat_minor": 5
}
