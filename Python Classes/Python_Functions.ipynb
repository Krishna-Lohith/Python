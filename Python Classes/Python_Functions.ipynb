{
 "cells": [
  {
   "cell_type": "markdown",
   "id": "d84e819a",
   "metadata": {},
   "source": [
    "# Python_Functions"
   ]
  },
  {
   "cell_type": "markdown",
   "id": "2940fd9a",
   "metadata": {},
   "source": [
    "**Topics covered:-**  \n",
    "Functions  \n",
    "Global and local variable  "
   ]
  },
  {
   "cell_type": "markdown",
   "id": "7e4f9e0a",
   "metadata": {},
   "source": [
    "Do not use print function for output for premitive datatype bcoz we will get NoneType(Not any type in python).\n",
    "so use return in functions so it will give accurate datatype. \n",
    "\n",
    "def mul_5(n):  \n",
    "||||\"\"\"\" Define what does the function does \"\"\"         #Docstring     \n",
    "||||return n * 5.5    \n",
    "\n",
    "Check docstring  \n",
    "press shift + TAb inside the function.  \n",
    "or help(function)  "
   ]
  },
  {
   "cell_type": "code",
   "execution_count": 33,
   "id": "81dee0f5",
   "metadata": {},
   "outputs": [
    {
     "name": "stdout",
     "output_type": "stream",
     "text": [
      "7\n",
      "None <class 'NoneType'>\n"
     ]
    }
   ],
   "source": [
    "def sum(a,b):\n",
    "    print(a+b)\n",
    "    \n",
    "result = sum(2,5)\n",
    "print(result, type(result))"
   ]
  },
  {
   "cell_type": "code",
   "execution_count": 31,
   "id": "676e6197",
   "metadata": {},
   "outputs": [
    {
     "data": {
      "text/plain": [
       "5"
      ]
     },
     "execution_count": 31,
     "metadata": {},
     "output_type": "execute_result"
    }
   ],
   "source": [
    "def sum(a,b):\n",
    "    return a+b\n",
    "sum(2,3)"
   ]
  },
  {
   "cell_type": "code",
   "execution_count": 34,
   "id": "18089e29",
   "metadata": {},
   "outputs": [
    {
     "name": "stdout",
     "output_type": "stream",
     "text": [
      "7 <class 'int'>\n"
     ]
    }
   ],
   "source": [
    "def sum(a,b):\n",
    "    return a+b\n",
    "\n",
    "result = sum(2,5)\n",
    "print(result, type(result))"
   ]
  },
  {
   "cell_type": "markdown",
   "id": "bd2896d6",
   "metadata": {},
   "source": [
    "The print statement is used to display information to the user, while the return statement is used to pass information back to the calling code for further processing.  \n",
    "The main difference between these two is print gives NoneType. Whereas return gives original datatype."
   ]
  },
  {
   "cell_type": "code",
   "execution_count": 4,
   "id": "a50a3703",
   "metadata": {},
   "outputs": [
    {
     "name": "stdout",
     "output_type": "stream",
     "text": [
      "hi\n",
      "hi\n"
     ]
    }
   ],
   "source": [
    "#both are same\n",
    "\n",
    "def t(a):\n",
    "    print(a)   #return a\n",
    "t('hi')\n",
    "\n",
    "\n",
    "def t():\n",
    "    print('hi')\n",
    "t()"
   ]
  },
  {
   "cell_type": "code",
   "execution_count": null,
   "id": "60d2dea3",
   "metadata": {},
   "outputs": [],
   "source": [
    "def first():\n",
    "    \"\"\"This is my first function\"\"\"     #Docstring\n",
    "    print(\"Welcome all\")\n",
    "first()"
   ]
  },
  {
   "cell_type": "code",
   "execution_count": null,
   "id": "b465a639",
   "metadata": {},
   "outputs": [],
   "source": [
    "help(first)"
   ]
  },
  {
   "cell_type": "code",
   "execution_count": null,
   "id": "83fddcad",
   "metadata": {},
   "outputs": [],
   "source": [
    "help(first())"
   ]
  },
  {
   "cell_type": "code",
   "execution_count": null,
   "id": "bfa62623",
   "metadata": {},
   "outputs": [],
   "source": [
    "#Multi line comment\n",
    "print(\"hi\")\n",
    "\"\"\"\n",
    "    hi\n",
    "    krishna\n",
    "    lohith\n",
    "    byee\"\"\"\n"
   ]
  },
  {
   "cell_type": "code",
   "execution_count": null,
   "id": "153c2dfa",
   "metadata": {},
   "outputs": [],
   "source": [
    "type(first())    # print always returns NoneType"
   ]
  },
  {
   "cell_type": "code",
   "execution_count": null,
   "id": "2deaa66d",
   "metadata": {},
   "outputs": [],
   "source": [
    "a = first()"
   ]
  },
  {
   "cell_type": "code",
   "execution_count": null,
   "id": "7f5a01db",
   "metadata": {},
   "outputs": [],
   "source": [
    "# output of print is looks like a string but it is not a string. it is nonetype.\n",
    "a + \"lohith\""
   ]
  },
  {
   "cell_type": "code",
   "execution_count": null,
   "id": "019f87ca",
   "metadata": {},
   "outputs": [],
   "source": [
    "#unable to convert the str Nonetype into string.\n",
    "b = str(a)"
   ]
  },
  {
   "cell_type": "code",
   "execution_count": null,
   "id": "4c982f02",
   "metadata": {},
   "outputs": [],
   "source": [
    "b + \"lohith\""
   ]
  },
  {
   "cell_type": "code",
   "execution_count": null,
   "id": "b5c101ee",
   "metadata": {},
   "outputs": [],
   "source": [
    "def secc():\n",
    "    return \"Welcome all\""
   ]
  },
  {
   "cell_type": "code",
   "execution_count": null,
   "id": "fa42b152",
   "metadata": {},
   "outputs": [],
   "source": [
    "print(secc())\n",
    "type(secc())"
   ]
  },
  {
   "cell_type": "code",
   "execution_count": null,
   "id": "856c7293",
   "metadata": {},
   "outputs": [],
   "source": [
    "def mul_5(n):\n",
    "    return n * 5.5"
   ]
  },
  {
   "cell_type": "code",
   "execution_count": null,
   "id": "77e7b99a",
   "metadata": {},
   "outputs": [],
   "source": [
    "type(mul_5(4))"
   ]
  },
  {
   "cell_type": "code",
   "execution_count": null,
   "id": "43315227",
   "metadata": {},
   "outputs": [],
   "source": [
    "def third():\n",
    "    return 3,4.6,'krishna',4+6j,[3,4.6,'krishna',4+6j],(3,4.6,'krishna',4+6j),{3,4.6,'krishna',4+6j},{'a':3,'b':4}\n",
    "print(third())\n",
    "type(third())"
   ]
  },
  {
   "cell_type": "code",
   "execution_count": null,
   "id": "64e2050d",
   "metadata": {},
   "outputs": [],
   "source": [
    "type(third())"
   ]
  },
  {
   "cell_type": "code",
   "execution_count": null,
   "id": "f0f13977",
   "metadata": {},
   "outputs": [],
   "source": [
    "def four():\n",
    "    return 3,4.6,'krishna',4+6j,[3,4.6,'krishna',4+6j],(3,4.6,'krishna',4+6j),{3,4.6,'krishna',4+6j},{'a':3,'b':4}\n",
    "four()"
   ]
  },
  {
   "cell_type": "code",
   "execution_count": null,
   "id": "a7d77079",
   "metadata": {},
   "outputs": [],
   "source": [
    "type(four())"
   ]
  },
  {
   "cell_type": "code",
   "execution_count": null,
   "id": "e390bf66",
   "metadata": {},
   "outputs": [],
   "source": [
    "len(four())"
   ]
  },
  {
   "cell_type": "code",
   "execution_count": null,
   "id": "f23fe699",
   "metadata": {},
   "outputs": [],
   "source": [
    "four()[3]"
   ]
  },
  {
   "cell_type": "code",
   "execution_count": null,
   "id": "df09070c",
   "metadata": {},
   "outputs": [],
   "source": [
    "z,x,c,v,b,n,m = four()"
   ]
  },
  {
   "cell_type": "code",
   "execution_count": null,
   "id": "15d9c66b",
   "metadata": {},
   "outputs": [],
   "source": [
    "z,x,c,v,b,n,m,k = four()"
   ]
  },
  {
   "cell_type": "code",
   "execution_count": null,
   "id": "a75e1da9",
   "metadata": {},
   "outputs": [],
   "source": [
    "print(z)\n",
    "print(x)\n",
    "print(c)\n",
    "print(v)\n",
    "print(b)\n",
    "print(n)\n",
    "print(m)\n",
    "print(k)\n"
   ]
  },
  {
   "cell_type": "code",
   "execution_count": null,
   "id": "5ab9b19e",
   "metadata": {},
   "outputs": [],
   "source": [
    "l = [2,3,45,6,6,'krishna',89,[2,53,34,2], 77]"
   ]
  },
  {
   "cell_type": "code",
   "execution_count": null,
   "id": "6c51fbc8",
   "metadata": {},
   "outputs": [],
   "source": [
    "\n",
    "def li(l):\n",
    "    n = []\n",
    "    if type(l) == list:\n",
    "        for i in l:\n",
    "            if type(i) == int:\n",
    "                n.append(i)\n",
    "    else:\n",
    "        print('Enter a list')\n",
    "    return n\n",
    "li(l)"
   ]
  },
  {
   "cell_type": "code",
   "execution_count": null,
   "id": "2a90afd6",
   "metadata": {},
   "outputs": [],
   "source": [
    "li(l)"
   ]
  },
  {
   "cell_type": "code",
   "execution_count": null,
   "id": "690b42e2",
   "metadata": {},
   "outputs": [],
   "source": [
    "li([2,'krisakns',423])"
   ]
  },
  {
   "cell_type": "code",
   "execution_count": null,
   "id": "2ceb13fb",
   "metadata": {},
   "outputs": [],
   "source": [
    "li((3,4))"
   ]
  },
  {
   "cell_type": "code",
   "execution_count": null,
   "id": "731c0cb2",
   "metadata": {},
   "outputs": [],
   "source": [
    "li((3,4))"
   ]
  },
  {
   "cell_type": "code",
   "execution_count": null,
   "id": "017ca08d",
   "metadata": {},
   "outputs": [],
   "source": [
    "# This dict doesn't have any iterable keys.\n",
    "d = {\"ineuron\" : {\n",
    "                    \"a\": 14,\n",
    "                    \"b\":10,\n",
    "                    \"c\": 4\n",
    "                    }, \n",
    "        \"course\" :  {\n",
    "                      \"d\":45,\n",
    "                      \"e\":34,\n",
    "                      \"f\":1\n",
    "                    },\n",
    "     \"price\" :  {\n",
    "                      \"g\":85,\n",
    "                      \"h\":114,\n",
    "                      \"i\":10\n",
    "      },  \"k\":[3,45,43,232,24,532,777],\n",
    "     \"l\":(23,324,34),\n",
    "     \"m\":\"krishna\",\n",
    "     \"n\" : 88\n",
    "    }"
   ]
  },
  {
   "cell_type": "code",
   "execution_count": null,
   "id": "714884e8",
   "metadata": {},
   "outputs": [],
   "source": [
    "# Takes input as dict and returns keys\n",
    "def test8(d):\n",
    "    l = []\n",
    "    if type(d) == dict:\n",
    "        for i in d.keys():\n",
    "            l.append(i)\n",
    "    return l\n",
    "test8(d)"
   ]
  },
  {
   "cell_type": "code",
   "execution_count": null,
   "id": "03b0f842",
   "metadata": {},
   "outputs": [],
   "source": [
    "type(test8(d))"
   ]
  },
  {
   "cell_type": "code",
   "execution_count": null,
   "id": "57f21609",
   "metadata": {},
   "outputs": [],
   "source": [
    "# Takes input as dict and returns keys\n",
    "def test8(d):\n",
    "    if type(d) == dict:\n",
    "        for i in d.keys():\n",
    "            pass\n",
    "        return i\n",
    "test8(d)"
   ]
  },
  {
   "cell_type": "code",
   "execution_count": null,
   "id": "a7b88334",
   "metadata": {},
   "outputs": [],
   "source": [
    "# Takes input as dict and returns keys\n",
    "def test8(d):\n",
    "    if type(d) == dict:\n",
    "        return d.keys()\n",
    "test8(d)"
   ]
  },
  {
   "cell_type": "code",
   "execution_count": null,
   "id": "8ae2aacf",
   "metadata": {},
   "outputs": [],
   "source": [
    "type(test8(d))"
   ]
  },
  {
   "cell_type": "code",
   "execution_count": null,
   "id": "056824e0",
   "metadata": {},
   "outputs": [],
   "source": [
    "def test9(d):\n",
    "    N = input(\"How many key's do you need:- \")\n",
    "    a = {}\n",
    "    for i in range(1,N):\n",
    "        k = input(f\"Enter key {i}\")\n",
    "        v = input(f\"Enter value {i}\")\n",
    "    a.update(k)\n",
    "    #converting strings to dict\n",
    "    "
   ]
  },
  {
   "cell_type": "code",
   "execution_count": null,
   "id": "0aa24546",
   "metadata": {},
   "outputs": [],
   "source": [
    "# This dict doesn't have any iterable keys.\n",
    "d = {\"ineuron\" : {\n",
    "                    \"a\": 14,\n",
    "                    \"b\":10,\n",
    "                    \"c\": 4\n",
    "                    }, \n",
    "        \"course\" :  {\n",
    "                      \"d\":45,\n",
    "                      \"e\":34,\n",
    "                      \"f\":1\n",
    "                    },\n",
    "     \"price\" :  {\n",
    "                      \"g\":85,\n",
    "                      \"h\":114,\n",
    "                      \"i\":10\n",
    "      },  \"k\":[3,45,43,232,24,532,777],\n",
    "     \"l\":(23,324,34),\n",
    "     \"m\":\"krishna\",\n",
    "     \"n\" : 88,\n",
    "     'p':9.99,\n",
    "     'q':7+6j,\n",
    "    }"
   ]
  },
  {
   "cell_type": "code",
   "execution_count": null,
   "id": "22b951e3",
   "metadata": {},
   "outputs": [],
   "source": [
    "if type(d) == dict:\n",
    "    for i in d.keys():\n",
    "        print(i)"
   ]
  },
  {
   "cell_type": "code",
   "execution_count": null,
   "id": "de41a967",
   "metadata": {},
   "outputs": [],
   "source": [
    "# Takes input as dict and returns keys\n",
    "def test8(d):\n",
    "    if type(d) == dict:\n",
    "        for i in d.keys():\n",
    "            return i\n",
    "test8(d)"
   ]
  },
  {
   "cell_type": "code",
   "execution_count": null,
   "id": "775dad65",
   "metadata": {},
   "outputs": [],
   "source": [
    "# Take 2 lists as input and append it\n",
    "def test10(l1,l2):\n",
    "    if type(l1) == list and type(l2) == list :\n",
    "        return l1.extend(l2)\n",
    "    else:\n",
    "        print(\"Entered is not a list\")\n",
    "        \n",
    "l1 = [1,2,3,4,5]\n",
    "l2 = [6,7,8,9]\n",
    "\n",
    "test10(l1,l2)\n",
    "\n",
    "l1"
   ]
  },
  {
   "cell_type": "code",
   "execution_count": null,
   "id": "c4f0acb3",
   "metadata": {},
   "outputs": [],
   "source": [
    "# Take 2 lists as input and append it\n",
    "def test10(l1,l2):\n",
    "    if type(l1) == list and type(l2) == list :\n",
    "        l1.extend(l2)\n",
    "        return l1\n",
    "    else:\n",
    "        print(\"Entered is not a list\")\n",
    "        \n",
    "l1 = [1,2,3,4,5]\n",
    "l2 = [6,7,8,9]"
   ]
  },
  {
   "cell_type": "code",
   "execution_count": null,
   "id": "30c1a11b",
   "metadata": {},
   "outputs": [],
   "source": [
    "n = test10(l1,l2)"
   ]
  },
  {
   "cell_type": "code",
   "execution_count": null,
   "id": "8f63991d",
   "metadata": {},
   "outputs": [],
   "source": [
    "n"
   ]
  },
  {
   "cell_type": "code",
   "execution_count": null,
   "id": "00fa9db5",
   "metadata": {},
   "outputs": [],
   "source": [
    "# Call a function for right angle triangle\n",
    "def test11(n):\n",
    "    \"\"\"Define about the function\"\"\"\n",
    "    for i in range(n):\n",
    "        for j in range(0,i+1):\n",
    "            print(\"* \", end=\"\")\n",
    "        print('\\r')"
   ]
  },
  {
   "cell_type": "code",
   "execution_count": null,
   "id": "fd73b267",
   "metadata": {},
   "outputs": [],
   "source": [
    "test11(7)"
   ]
  },
  {
   "cell_type": "markdown",
   "id": "cc3a0ec4",
   "metadata": {},
   "source": [
    "## Global and Local variables"
   ]
  },
  {
   "cell_type": "markdown",
   "id": "f3c5cab9",
   "metadata": {},
   "source": [
    "**Global scopes:-**\n",
    "Only one global scope will be there in a python programming language. We can use that global variable at any time and anywhere inside function or outside function in a project."
   ]
  },
  {
   "cell_type": "code",
   "execution_count": 6,
   "id": "e8fee7cc",
   "metadata": {},
   "outputs": [
    {
     "name": "stdout",
     "output_type": "stream",
     "text": [
      "15\n"
     ]
    }
   ],
   "source": [
    "# global scope - outside a function\n",
    "g = 10\n",
    "def global_scope1():\n",
    "    return g+5\n",
    "\n",
    "print(global_scope1())\n",
    "\n",
    "#Here we declared the g value outside the function not inside. still we got the value"
   ]
  },
  {
   "cell_type": "code",
   "execution_count": 7,
   "id": "11b322ab",
   "metadata": {},
   "outputs": [
    {
     "data": {
      "text/plain": [
       "5"
      ]
     },
     "execution_count": 7,
     "metadata": {},
     "output_type": "execute_result"
    }
   ],
   "source": [
    "# Here we didn't declared the g value anywhere but still it shows up. g is a gobal variable.\n",
    "def global_scope2():\n",
    "    return g-5\n",
    "\n",
    "global_scope2()"
   ]
  },
  {
   "cell_type": "markdown",
   "id": "0ffdbd6a",
   "metadata": {},
   "source": [
    "**Local scopes:-**\n",
    "We can create multiple Local scopes inside each functions bcoz local scopes only works inside a particular function. It will not work outside a function. So we can use local scopes inside an individual functions. The lifetime of a local scope expires when the function returns to the caller."
   ]
  },
  {
   "cell_type": "code",
   "execution_count": 8,
   "id": "c7a0cfe3",
   "metadata": {},
   "outputs": [
    {
     "data": {
      "text/plain": [
       "2"
      ]
     },
     "execution_count": 8,
     "metadata": {},
     "output_type": "execute_result"
    }
   ],
   "source": [
    "# Local scope - inside a function\n",
    "def local_scope1():\n",
    "    ls = 2\n",
    "    return ls\n",
    "\n",
    "local_scope1()\n",
    "# Here we decalred the value inside a function it works well for this function. After the function ls gets empty"
   ]
  },
  {
   "cell_type": "code",
   "execution_count": 9,
   "id": "4f6de31f",
   "metadata": {},
   "outputs": [
    {
     "ename": "NameError",
     "evalue": "name 'ls' is not defined",
     "output_type": "error",
     "traceback": [
      "\u001b[1;31m---------------------------------------------------------------------------\u001b[0m",
      "\u001b[1;31mNameError\u001b[0m                                 Traceback (most recent call last)",
      "\u001b[1;32m<ipython-input-9-d184c6130aa2>\u001b[0m in \u001b[0;36m<module>\u001b[1;34m\u001b[0m\n\u001b[0;32m      2\u001b[0m \u001b[1;32mdef\u001b[0m \u001b[0mlocal_scope2\u001b[0m\u001b[1;33m(\u001b[0m\u001b[1;33m)\u001b[0m\u001b[1;33m:\u001b[0m\u001b[1;33m\u001b[0m\u001b[0m\n\u001b[0;32m      3\u001b[0m     \u001b[1;32mreturn\u001b[0m \u001b[0mls\u001b[0m\u001b[1;33m\u001b[0m\u001b[0m\n\u001b[1;32m----> 4\u001b[1;33m \u001b[0mlocal_scope2\u001b[0m\u001b[1;33m(\u001b[0m\u001b[1;33m)\u001b[0m\u001b[1;33m\u001b[0m\u001b[0m\n\u001b[0m",
      "\u001b[1;32m<ipython-input-9-d184c6130aa2>\u001b[0m in \u001b[0;36mlocal_scope2\u001b[1;34m()\u001b[0m\n\u001b[0;32m      1\u001b[0m \u001b[1;31m# Here the function doesn't know what is ls bcoz it will be empty. so we need to decalre again or use global variable.\u001b[0m\u001b[1;33m\u001b[0m\u001b[1;33m\u001b[0m\u001b[0m\n\u001b[0;32m      2\u001b[0m \u001b[1;32mdef\u001b[0m \u001b[0mlocal_scope2\u001b[0m\u001b[1;33m(\u001b[0m\u001b[1;33m)\u001b[0m\u001b[1;33m:\u001b[0m\u001b[1;33m\u001b[0m\u001b[0m\n\u001b[1;32m----> 3\u001b[1;33m     \u001b[1;32mreturn\u001b[0m \u001b[0mls\u001b[0m\u001b[1;33m\u001b[0m\u001b[0m\n\u001b[0m\u001b[0;32m      4\u001b[0m \u001b[0mlocal_scope2\u001b[0m\u001b[1;33m(\u001b[0m\u001b[1;33m)\u001b[0m\u001b[1;33m\u001b[0m\u001b[0m\n",
      "\u001b[1;31mNameError\u001b[0m: name 'ls' is not defined"
     ]
    }
   ],
   "source": [
    "# Here the function doesn't know what is ls bcoz it will be empty. so we need to decalre again or use global variable. \n",
    "def local_scope2():\n",
    "    return ls\n",
    "local_scope2()"
   ]
  },
  {
   "cell_type": "code",
   "execution_count": null,
   "id": "0aa321bf",
   "metadata": {},
   "outputs": [],
   "source": [
    "#Here local variable is v in function t2\n",
    "def t2():\n",
    "    v = 2\n",
    "    return v\n",
    "print(t2())\n",
    "\n",
    "# After t2 the v variable gets empty so we can assign new value.\n",
    "#We used same local variable which is v in another function.\n",
    "\n",
    "def t3():\n",
    "    v = 5\n",
    "    return v\n",
    "t3()"
   ]
  },
  {
   "cell_type": "code",
   "execution_count": 13,
   "id": "3c2b3ea0",
   "metadata": {},
   "outputs": [
    {
     "data": {
      "text/plain": [
       "2"
      ]
     },
     "execution_count": 13,
     "metadata": {},
     "output_type": "execute_result"
    }
   ],
   "source": [
    "# Make a local variable in a function into global variable.\n",
    "# define the local variable as a global then it will convert into global\n",
    "def local_scope1():\n",
    "    global ls    # converted local variable as a global varaible using global keyword\n",
    "    ls = 2\n",
    "    return ls\n",
    "\n",
    "local_scope1()"
   ]
  },
  {
   "cell_type": "code",
   "execution_count": 14,
   "id": "39d63503",
   "metadata": {},
   "outputs": [
    {
     "data": {
      "text/plain": [
       "2"
      ]
     },
     "execution_count": 14,
     "metadata": {},
     "output_type": "execute_result"
    }
   ],
   "source": [
    "def local_scope2():\n",
    "    return ls\n",
    "local_scope2()"
   ]
  },
  {
   "cell_type": "code",
   "execution_count": 15,
   "id": "bb579016",
   "metadata": {},
   "outputs": [
    {
     "data": {
      "text/plain": [
       "2"
      ]
     },
     "execution_count": 15,
     "metadata": {},
     "output_type": "execute_result"
    }
   ],
   "source": [
    "ls"
   ]
  },
  {
   "cell_type": "markdown",
   "id": "cb0e8642",
   "metadata": {},
   "source": [
    "# Functions Assignment"
   ]
  },
  {
   "cell_type": "markdown",
   "id": "3c77b1fc",
   "metadata": {},
   "source": [
    "### 1.Write a len() function for string"
   ]
  },
  {
   "cell_type": "code",
   "execution_count": null,
   "id": "1754f8a4",
   "metadata": {},
   "outputs": [],
   "source": [
    "def length_(a):\n",
    "    \"\"\"\n",
    "    This function gives the output as length of the given string\n",
    "    Argument should not be empty\n",
    "    \"\"\"\n",
    "    count = 0\n",
    "    for i in a:\n",
    "        count+=1    \n",
    "    return count\n",
    "\n",
    "length_('python')"
   ]
  },
  {
   "cell_type": "markdown",
   "id": "691120d9",
   "metadata": {},
   "source": [
    "### 2. Write a func which will able to print an index of the elements in a collection(list,tuple,set,dict)"
   ]
  },
  {
   "cell_type": "code",
   "execution_count": null,
   "id": "be6491f9",
   "metadata": {},
   "outputs": [],
   "source": [
    "\n",
    "def inde_x(a):\n",
    "    \"\"\"\n",
    "    Give input as a list\n",
    "    Returns indexes of the elements in a list\n",
    "    \"\"\"\n",
    "    count = 0\n",
    "    if type(a) == list or type(a) == tuple or type(a) == set or type(a) == dict:\n",
    "        s =  set(a)\n",
    "        for i in s:\n",
    "            count +=1\n",
    "            print(f\"Element {i} has index {count-1}\")\n",
    "        return \n",
    "    \n",
    "l = [1,1,2.34,'lohith',4+6j,True]\n",
    "inde_x(l)"
   ]
  },
  {
   "cell_type": "markdown",
   "id": "a5371efd",
   "metadata": {},
   "source": [
    "### 3. write a func which will take an input as dict and give out as a list of all the values even in case of 2 level nesting it should work."
   ]
  },
  {
   "cell_type": "code",
   "execution_count": null,
   "id": "b8a5d519",
   "metadata": {},
   "outputs": [],
   "source": [
    "d = {'a':3,'b':4.44,'s':'lohith','x':6+5j,'n':{'c':5.6,'d':6},'z':[2,3.4,'krishna',4-8j],'t':(2,3.4,'krishna',4-8j)}\n",
    "def Dict_list(a):\n",
    "    \"\"\"\n",
    "    Give input as a dictionary and returns the values in the dictionary including nested collections\n",
    "    \"\"\"\n",
    "    l = []\n",
    "    if type(a) == dict:\n",
    "        for v in a.values():\n",
    "            if type(v) == int or type(v) == float or type(v) == str or type(v) == complex:\n",
    "                l.append(v)\n",
    "            elif type(v) == dict:\n",
    "                l.extend(v.values())\n",
    "            elif type(v) == list or type(v) == tuple:\n",
    "                l.extend(v)\n",
    "        return l\n",
    "    \n",
    "Dict_list(d)"
   ]
  },
  {
   "cell_type": "markdown",
   "id": "9943b246",
   "metadata": {},
   "source": [
    "### 4. Write a func which calls another function."
   ]
  },
  {
   "cell_type": "code",
   "execution_count": null,
   "id": "d6e5a617",
   "metadata": {},
   "outputs": [],
   "source": [
    "#how to do a switch case\n",
    "def q4(a):\n",
    "    a = length_(a)\n",
    "    return a\n",
    "\n",
    "q4('krishna')"
   ]
  },
  {
   "cell_type": "markdown",
   "id": "1cacace3",
   "metadata": {},
   "source": [
    "### 5. write a function which will take list as input and gives concatinaton of the elements. "
   ]
  },
  {
   "cell_type": "code",
   "execution_count": null,
   "id": "0af6abae",
   "metadata": {},
   "outputs": [],
   "source": [
    "def suml(a):\n",
    "    \"\"\"\n",
    "    Concatinates the list\n",
    "    \"\"\"\n",
    "    if type(a) == list:\n",
    "        return sum(a)\n",
    "    else:\n",
    "        print(\"please enter a list with values.\")\n",
    "\n",
    "suml([2,3,4,9+9j])"
   ]
  },
  {
   "cell_type": "code",
   "execution_count": null,
   "id": "b134b8e3",
   "metadata": {},
   "outputs": [],
   "source": [
    "def sum_ml(a):\n",
    "    \"\"\"\n",
    "    Concatinates multiple lists of elements\n",
    "    \"\"\"\n",
    "    l = []\n",
    "    if type(a) == list:\n",
    "        for i in a:\n",
    "            l.extend(i)\n",
    "            for j in l:\n",
    "                if type(j)==str:\n",
    "                    print('Do not enter a string in a list')\n",
    "        return sum(l)\n",
    "    else:\n",
    "        print(\"Entered is not a list\")\n",
    "\n",
    "sum_ml([[2,3,4],[2,3]])"
   ]
  },
  {
   "cell_type": "markdown",
   "id": "e9c1ae4d",
   "metadata": {},
   "source": [
    "### 6.Write a func which will be able to take a list as an input and return an index of each element like .index() but show index for multiple eliments also."
   ]
  },
  {
   "cell_type": "code",
   "execution_count": null,
   "id": "01307661",
   "metadata": {},
   "outputs": [],
   "source": [
    "def Duplicate_index(a):\n",
    "    \"\"\"\n",
    "    Index of duplicate elements\n",
    "    \"\"\"\n",
    "    count = 0\n",
    "    if list or tuple or dictionary or set in a:   #type(a)==list or type(a)==tupe or type(a)==set or type(a)==dict:\n",
    "        for i in a:\n",
    "            count+=1\n",
    "            print(f\"Element {i} has index {count-1}\")\n",
    "\n",
    "l = [1,1,'krishna',2,2,3]\n",
    "Duplicate_index(l)"
   ]
  },
  {
   "cell_type": "markdown",
   "id": "470771d6",
   "metadata": {},
   "source": [
    "### 7.write a func which returns a list of all the file names from a directory"
   ]
  },
  {
   "cell_type": "code",
   "execution_count": null,
   "id": "5abd5849",
   "metadata": {},
   "outputs": [],
   "source": [
    "import os\n",
    "def file_names(a):\n",
    "    \"\"\"\n",
    "    Returns file names from a given directory file_name(r\"path\")\"\"\"\n",
    "    return os.listdir(a)\n",
    "\n",
    "print(file_names(r\"C:\\Users\\User\\Desktop\\Learning\\FSDS\\Python\"))"
   ]
  },
  {
   "cell_type": "markdown",
   "id": "3c8bab83",
   "metadata": {},
   "source": [
    "### 8. Write a function which will be able to show your system configuration"
   ]
  },
  {
   "cell_type": "code",
   "execution_count": null,
   "id": "bef8ef8d",
   "metadata": {},
   "outputs": [],
   "source": [
    "#pip install psutil\n",
    "\n",
    "import platform\n",
    "\n",
    "def sys_con():\n",
    "    \"\"\"\n",
    "    System confuration\n",
    "    \"\"\"\n",
    "    print(f\"Computer network name: {platform.node()}\")\n",
    "    #Machine type\n",
    "    print(f\"Machine type: {platform.machine()}\")\n",
    "    #Processor type\n",
    "    print(f\"Processor type: {platform.processor()}\")\n",
    "    #Platform type\n",
    "    print(f\"Platform type: {platform.platform()}\")\n",
    "    #Operating system\n",
    "    print(f\"Operating system: {platform.system()}\")\n",
    "    #Operating system release\n",
    "    print(f\"Operating system release: {platform.release()}\")\n",
    "    #Operating system version\n",
    "    print(f\"Operating system version: {platform.version()}\")\n",
    "    #Physical cores\n",
    "    print(f\"Number of physical cores: {psutil.cpu_count(logical=False)}\")\n",
    "    #Logical cores\n",
    "    print(f\"Number of logical cores: {psutil.cpu_count(logical=True)}\")\n",
    "    #Current frequency\n",
    "    print(f\"Current CPU frequency: {psutil.cpu_freq().current}\")\n",
    "    #Min frequency\n",
    "    print(f\"Min CPU frequency: {psutil.cpu_freq().min}\")\n",
    "    #Max frequency\n",
    "    print(f\"Max CPU frequency: {psutil.cpu_freq().max}\")\n",
    "    #System-wide CPU utilization\n",
    "    print(f\"Current CPU utilization: {psutil.cpu_percent(interval=1)}\")\n",
    "    #System-wide per-CPU utilization\n",
    "    print(f\"Current per-CPU utilization: {psutil.cpu_percent(interval=1, percpu=True)}\")\n",
    "    #Total RAM\n",
    "    print(f\"Total RAM installed: {round(psutil.virtual_memory().total/1000000000, 2)} GB\")\n",
    "    #Available RAM\n",
    "    print(f\"Available RAM: {round(psutil.virtual_memory().available/1000000000, 2)} GB\")\n",
    "    #Used RAM\n",
    "    print(f\"Used RAM: {round(psutil.virtual_memory().used/1000000000, 2)} GB\")\n",
    "    #RAM usage\n",
    "    print(f\"RAM usage: {psutil.virtual_memory().percent}%\")\n",
    "\n",
    "    \n",
    "sys_con()"
   ]
  },
  {
   "cell_type": "markdown",
   "id": "f2124e96",
   "metadata": {},
   "source": [
    "### 9.write a function which will get date and time"
   ]
  },
  {
   "cell_type": "code",
   "execution_count": null,
   "id": "bf413518",
   "metadata": {},
   "outputs": [],
   "source": [
    "# Getting current date and time using now().\n",
    "\n",
    "# importing datetime module for now()\n",
    "import datetime\n",
    "\n",
    "# using now() to get current time\n",
    "\n",
    "def date_time():\n",
    "    \"\"\"\n",
    "    Gets date and time\"\"\"\n",
    "    current_time = datetime.datetime.now()\n",
    "    return print(\"Current date and time:- \",current_time)\n",
    "\n",
    "date_time()"
   ]
  },
  {
   "cell_type": "markdown",
   "id": "fcd9613d",
   "metadata": {},
   "source": [
    "### 10.Write a function which will be able to read a image file and show it to you."
   ]
  },
  {
   "cell_type": "code",
   "execution_count": 42,
   "id": "b6c647e5",
   "metadata": {},
   "outputs": [
    {
     "ename": "SyntaxError",
     "evalue": "(unicode error) 'unicodeescape' codec can't decode bytes in position 2-3: truncated \\UXXXXXXXX escape (<ipython-input-42-b2b73c1e6130>, line 12)",
     "output_type": "error",
     "traceback": [
      "\u001b[1;36m  File \u001b[1;32m\"<ipython-input-42-b2b73c1e6130>\"\u001b[1;36m, line \u001b[1;32m12\u001b[0m\n\u001b[1;33m    p = read_image(\"C:\\Users\\User\\Desktop\\pic for resume.jpeg\")\u001b[0m\n\u001b[1;37m                  ^\u001b[0m\n\u001b[1;31mSyntaxError\u001b[0m\u001b[1;31m:\u001b[0m (unicode error) 'unicodeescape' codec can't decode bytes in position 2-3: truncated \\UXXXXXXXX escape\n"
     ]
    }
   ],
   "source": [
    "from IPython.display import Image\n",
    "\n",
    "def Image_(a):\n",
    "    \"\"\"\n",
    "    Please give the file name in the format Read_Image(r\"filename.mp4\") \n",
    "    Returns Image\n",
    "    \"\"\"\n",
    "    return Image(a)\n",
    "\n",
    "#Image_(\"pic for resume.jpeg\")\n",
    "\n",
    "p = read_image(\"C:\\Users\\User\\Desktop\\pic for resume.jpeg\")\n",
    "Image(p)\n",
    "\n",
    "#Image(\"C:\\Users\\User\\Desktop\\pic for resume.jpeg\")    # (r\"C:\\Users\\User\\Desktop\\pic for resume.jpeg\")\n",
    "\n"
   ]
  },
  {
   "cell_type": "markdown",
   "id": "d8c7347e",
   "metadata": {},
   "source": [
    "### 11. Write function to read a video file "
   ]
  },
  {
   "cell_type": "code",
   "execution_count": null,
   "id": "727545f6",
   "metadata": {
    "scrolled": true
   },
   "outputs": [],
   "source": [
    "from IPython.display import Video\n",
    "\n",
    "def Read_Video(a):\n",
    "    \"\"\"\n",
    "    Please give the file name in the format Read_video(r\"filename.mp4\") \n",
    "    Returns Mp4\n",
    "    \"\"\"\n",
    "    return Video(a)\n",
    "\n",
    "Read_Video(\"67439583_431111364159107_3868945810002857815_n.mp4\")"
   ]
  },
  {
   "cell_type": "markdown",
   "id": "59ca0628",
   "metadata": {},
   "source": [
    "### Write a function to read Audio file."
   ]
  },
  {
   "cell_type": "code",
   "execution_count": null,
   "id": "1f17c051",
   "metadata": {},
   "outputs": [],
   "source": [
    "from IPython.display import Audio\n",
    "\n",
    "def Read_Audio(a):\n",
    "    \"\"\"\n",
    "    Return Audio file Read_Audio(\"filepath\"):\n",
    "    \"\"\"\n",
    "    return Audio(a)\n",
    "\n",
    "Read_Audio(\"D:\\PerfLogs\\Folder\\WhatsApp Business\\Media\\WhatsApp Business Audio\\AUD-20220223-WA0001.opus\")"
   ]
  },
  {
   "cell_type": "markdown",
   "id": "7dd6c83a",
   "metadata": {},
   "source": [
    "### 12. Moving a file from one directory to another directory."
   ]
  },
  {
   "cell_type": "code",
   "execution_count": null,
   "id": "98cd824b",
   "metadata": {},
   "outputs": [],
   "source": [
    "import shutil\n",
    "\n",
    "def dir_dir(a,b):\n",
    "    \"\"\"\n",
    "    move any file from one directory to other directory dir_dir(r\"filepath\",r\"destination path\")\n",
    "    \"\"\"\n",
    "    return shutil.move(a,b)\n",
    "\n",
    "dir_dir(r\"C:\\Users\\User\\Desktop\\Masters\\IELinks.txt\", r\"C:\\Users\\User\\Desktop\\Masters\\Avanse\")"
   ]
  },
  {
   "cell_type": "markdown",
   "id": "3dd630d3",
   "metadata": {},
   "source": [
    "### 13. Write a function which will shutdown the system."
   ]
  },
  {
   "cell_type": "code",
   "execution_count": null,
   "id": "c3cb160a",
   "metadata": {},
   "outputs": [],
   "source": [
    "import os    #os-operating system\n",
    "#os.system(\"shutdown /s /t 100\")  # shutdown the system after 100 secs\n",
    "#os.system(\"shutdown /r /t 100\")  # restart the system after 100 secs\n",
    "\n",
    "# /s - shutdown\n",
    "# /r - restart\n",
    "# /t - restart after n secs."
   ]
  },
  {
   "cell_type": "markdown",
   "id": "d2fe0b99",
   "metadata": {},
   "source": [
    "### 14. Write function to get all inbox mails from a gmail acoount."
   ]
  },
  {
   "cell_type": "code",
   "execution_count": null,
   "id": "e8a74761",
   "metadata": {},
   "outputs": [],
   "source": [
    "import smtplib\n",
    "import time\n",
    "import imaplib\n",
    "import email\n",
    "ORG_EMAIL = \"@gmail.com\" \n",
    "FROM_EMAIL = 'krishnalohith99@gmail.com'\n",
    "FROM_PWD = 'unigmpjuyhpieqyn'      #App password is not a personal password.\n",
    "SMTP_SERVER = \"imap.gmail.com\" \n",
    "SMTP_PORT = 993\n",
    "imaplib._MAXLINE = 400000000   \n",
    "\n",
    "def read_email_from_gmail():\n",
    "    try:\n",
    "        mail = imaplib.IMAP4_SSL(SMTP_SERVER)\n",
    "        mail.login(FROM_EMAIL,FROM_PWD)\n",
    "        mail.select('inbox')\n",
    "\n",
    "        data = mail.search(None, 'ALL')\n",
    "        mail_ids = data[1]\n",
    "        id_list = mail_ids[0].split()   \n",
    "        first_email_id = int(id_list[0])\n",
    "        latest_email_id = int(id_list[-1])\n",
    "\n",
    "        for i in range(latest_email_id,first_email_id, -1):\n",
    "            data = mail.fetch(str(i), '(RFC822)' )\n",
    "            for response_part in data:\n",
    "                arr = response_part[0]\n",
    "                if isinstance(arr, tuple):\n",
    "                    msg = email.message_from_string(str(arr[1],'utf-8'))\n",
    "                    email_subject = msg['subject']\n",
    "                    email_from = msg['from']\n",
    "                    print('From : ' + email_from + '\\n')\n",
    "                    print('Subject : ' + email_subject + '\\n')\n",
    "\n",
    "    except Exception as e:\n",
    "        traceback.print_exc() \n",
    "        print(str(e))\n",
    "\n",
    "read_email_from_gmail()\n",
    "\n",
    "\n",
    "\n"
   ]
  },
  {
   "cell_type": "markdown",
   "id": "8267826c",
   "metadata": {},
   "source": [
    "### Write a function which will send an email to other."
   ]
  },
  {
   "cell_type": "code",
   "execution_count": null,
   "id": "1d1335a9",
   "metadata": {},
   "outputs": [],
   "source": [
    "\n",
    "import smtplib , ssl    ##simple mail transfer protocol   #ssl - secure server connection.\n",
    "port = 465  # For SSL\n",
    "smtp_server = \"smtp.gmail.com\"\n",
    "sender_email = \"krishnalohith99@gmail.com\"  # Enter your address\n",
    "receiver_email = \"krishnalohith22@gmail.com\"  # Enter receiver address\n",
    "password = 'unigmpjuyhpieqyn'\n",
    "#password = 'fdafasfas'\n",
    "message = \n",
    "\"\"\"This is my message from python code by using\n",
    "import smtplib , ssl\n",
    "port = 465  # For SSL\n",
    "smtp_server = \"smtp.gmail.com\"\n",
    "sender_email = \"krishnalohith99@gmail.com\"  # Enter your address\n",
    "receiver_email = \"krishnalohith22@gmail.com\"  # Enter receiver address\n",
    "password = 'unigmpjuyhpieqyn'\n",
    "message = \"\"\n",
    "\n",
    "context = ssl.create_default_context()\n",
    "with smtplib.SMTP_SSL(smtp_server, port, context=context) as server:\n",
    "    server.login(sender_email, password)\n",
    "    server.sendmail(sender_email, receiver_email, message)  \"\"\"\n",
    "\n",
    "context = ssl.create_default_context()\n",
    "with smtplib.SMTP_SSL(smtp_server, port, context=context) as server:\n",
    "    server.login(sender_email, password)\n",
    "    server.sendmail(sender_email, receiver_email, message)"
   ]
  },
  {
   "cell_type": "markdown",
   "id": "aa20d197",
   "metadata": {},
   "source": [
    "### "
   ]
  },
  {
   "cell_type": "markdown",
   "id": "d0f0e50b",
   "metadata": {},
   "source": [
    "### 16. write a function which reads a complete pdf file."
   ]
  },
  {
   "cell_type": "code",
   "execution_count": null,
   "id": "432cc21f",
   "metadata": {
    "scrolled": false
   },
   "outputs": [],
   "source": [
    "\n",
    "import PyPDF2\n",
    "\n",
    "def Read_PDF(a):\n",
    "    \"\"\"\n",
    "    Function to read a pdf file\n",
    "    \"\"\"\n",
    "    with open(a, \"rb\") as file:\n",
    "        reader = PyPDF2.PdfReader(file)\n",
    "        number_of_pages = len(reader.pages)\n",
    "        for page_number in range(number_of_pages):\n",
    "            page = reader.pages[page_number]\n",
    "            page_content = page.extract_text()\n",
    "            print(page_content)\n",
    "\n",
    "Read_PDF(r\"C:\\Users\\User\\Desktop\\Learning\\Power BI\\FMS Active User.pdf\")"
   ]
  },
  {
   "cell_type": "markdown",
   "id": "1ce0564a",
   "metadata": {},
   "source": [
    "### 17. Write a function to read a word file."
   ]
  },
  {
   "cell_type": "code",
   "execution_count": null,
   "id": "30028ab0",
   "metadata": {},
   "outputs": [],
   "source": [
    "#pip install docx2txt"
   ]
  },
  {
   "cell_type": "code",
   "execution_count": null,
   "id": "a0491413",
   "metadata": {},
   "outputs": [],
   "source": [
    "import docx2txt\n",
    "\n",
    "n = docx2txt.process(r'C:\\Users\\User\\Desktop\\Learning\\Kaggle\\python kaggle.docx')\n",
    "print(n)"
   ]
  },
  {
   "cell_type": "markdown",
   "id": "4d72f141",
   "metadata": {},
   "source": [
    "### 18. write a function which will filter out only word files from a directorty(folder)"
   ]
  },
  {
   "cell_type": "code",
   "execution_count": null,
   "id": "e49e8bb7",
   "metadata": {},
   "outputs": [],
   "source": [
    "import os\n",
    "\n",
    "def filter_word_files(directory):\n",
    "    \"\"\"\n",
    "    Returns only doc files from a given directory\n",
    "    \"\"\"\n",
    "    word_files = []\n",
    "    for filename in os.listdir(directory):\n",
    "        if filename.endswith(\".docx\"):\n",
    "            word_files.append(os.path.join(directory, filename))\n",
    "    return word_files\n",
    "word_files = filter_word_files(r\"C:\\Users\\User\\Desktop\\Learning\\Document filtered code\")\n",
    "\n",
    "for word_file in word_files:\n",
    "    print(word_file)\n",
    "\n",
    "filter_word_files(r\"C:\\Users\\User\\Desktop\\Learning\\Docs\")"
   ]
  },
  {
   "cell_type": "markdown",
   "id": "ca42374b",
   "metadata": {},
   "source": [
    "### 19. write a function by which you can print ip address of our system"
   ]
  },
  {
   "cell_type": "code",
   "execution_count": null,
   "id": "e8f1ace3",
   "metadata": {},
   "outputs": [],
   "source": [
    "import socket\n",
    "\n",
    "def get_ip_address():\n",
    "    \"\"\"\n",
    "    Returns the system ip address\n",
    "    \"\"\"\n",
    "    hostname = socket.gethostname()\n",
    "    ip_address = socket.gethostbyname(hostname)\n",
    "    return ip_address\n",
    "\n",
    "ip = get_ip_address()\n",
    "print(\"The IP address of this system is:\", ip)\n"
   ]
  },
  {
   "cell_type": "markdown",
   "id": "5c898c35",
   "metadata": {},
   "source": [
    "### 20. Write a function in python in which we will append 2 pdf files"
   ]
  },
  {
   "cell_type": "code",
   "execution_count": null,
   "id": "967de3c8",
   "metadata": {},
   "outputs": [],
   "source": [
    "from PyPDF2 import PdfMerger\n",
    "\n",
    "def Merge_files(a,b):\n",
    "    \"\"\"\n",
    "    Merges two pdf files and creates a new pdf file\n",
    "    \"\"\"\n",
    "    pdfs = [a,b]\n",
    "    merger = PdfMerger()\n",
    "    for pdf in pdfs:\n",
    "        merger.append(pdf)\n",
    "    \n",
    "    merger.write(\"Merged_File.pdf\")    #C:\\Users\\User\\Desktop\\Learning\\FSDS\\Python\n",
    "    merger.close()\n",
    "    \n",
    "Merge_files(r\"C:\\Users\\User\\Desktop\\Learning\\Power BI\\FMS Active User.pdf\", r\"C:\\Users\\User\\Desktop\\Learning\\Power BI\\FMS Alerts Dashboard_UAT.pdf\")"
   ]
  }
 ],
 "metadata": {
  "kernelspec": {
   "display_name": "Python 3",
   "language": "python",
   "name": "python3"
  },
  "language_info": {
   "codemirror_mode": {
    "name": "ipython",
    "version": 3
   },
   "file_extension": ".py",
   "mimetype": "text/x-python",
   "name": "python",
   "nbconvert_exporter": "python",
   "pygments_lexer": "ipython3",
   "version": "3.6.2"
  }
 },
 "nbformat": 4,
 "nbformat_minor": 5
}
