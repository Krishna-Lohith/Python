{
 "cells": [
  {
   "cell_type": "markdown",
   "id": "728d68bd",
   "metadata": {},
   "source": [
    "# Logging"
   ]
  },
  {
   "cell_type": "raw",
   "id": "e82331da",
   "metadata": {},
   "source": [
    "Level priority:- \n",
    "1) CRITICAL - 50 points\n",
    "2) ERROR  (If code has error then only this will show ) -  40 points\n",
    "3) WARNING   - 30 points\n",
    "4) INFO    - 20 points\n",
    "5) DEBUG  - 10 points\n",
    "\n",
    "CRITICAL:- If level is set to CRITICAL even if we call all logs then no other logs will perform except CRITICAL bcoz CRITICAL is low priority if the code got an CRITICAL then no need of error, warning and info and debug.\n",
    "\n",
    "ERROR:- If level is set to ERROR even if we call all logs then no other logs will perform except ERROR and Critical bcoz ERROR is low priority if the code got an ERROR then no need of warning and info and debug.\n",
    "\n",
    "WARNING:- If level is set to WARNING then WARNING and then ERROR, Critical will perform in the same order which we call them.\n",
    "\n",
    "INFO:- If level is set to INFO then INFO, WARNING and ERROR, Critical will perform in the same order which we call them.\n",
    "\n",
    "DEBUG:- If level is set to DEBUG then all the logs will perform in the same order which we call them. Debug has high priority.\n",
    "\n",
    "By default the levelname will be WARNING."
   ]
  },
  {
   "cell_type": "markdown",
   "id": "3caa1382",
   "metadata": {},
   "source": [
    "file name should be end with .log\n",
    "\n",
    "Restart the kernal to check log files  \n",
    "level = logging.DEBUG, format='%(acstime)s %(message)s'    \n",
    "logging is nothing but telling us what happened in the code same like print statement.   \n",
    "so we can use logging.debug in the place of print  \n",
    "print('name is valid')\n",
    "logging.debug('name is valid')"
   ]
  },
  {
   "cell_type": "code",
   "execution_count": null,
   "id": "e2f3a57c",
   "metadata": {},
   "outputs": [],
   "source": [
    "Once the basicConfig logging is set in one file it will set to root by default and cannot overwrite with another log file."
   ]
  },
  {
   "cell_type": "code",
   "execution_count": null,
   "id": "e657f3ad",
   "metadata": {},
   "outputs": [],
   "source": [
    "print('krishna lohith')\n",
    "\n",
    "# Don't use print statement instead use logging\n",
    "# logging shows the written sttaements in a log file not in console"
   ]
  },
  {
   "cell_type": "code",
   "execution_count": null,
   "id": "f59d03c7",
   "metadata": {},
   "outputs": [],
   "source": [
    "import logging"
   ]
  },
  {
   "cell_type": "code",
   "execution_count": null,
   "id": "6e7b2ef2",
   "metadata": {},
   "outputs": [],
   "source": [
    "# setting logs\n",
    "1# to see info log use level = logging.INFO\n",
    "logging.basicConfig(filename='test.log')"
   ]
  },
  {
   "cell_type": "code",
   "execution_count": null,
   "id": "dd584c89",
   "metadata": {},
   "outputs": [],
   "source": [
    "#calling logs\n",
    "logging.warning('This is my warning log')\n",
    "logging.error('This is my error log')\n",
    "logging.info('This is my info log')\n"
   ]
  },
  {
   "cell_type": "code",
   "execution_count": null,
   "id": "1f4f0903",
   "metadata": {},
   "outputs": [],
   "source": [
    "logging.shutdown()"
   ]
  },
  {
   "cell_type": "code",
   "execution_count": null,
   "id": "2b3ce50f",
   "metadata": {},
   "outputs": [],
   "source": [
    "pwd"
   ]
  },
  {
   "cell_type": "code",
   "execution_count": null,
   "id": "a3f4511f",
   "metadata": {},
   "outputs": [],
   "source": [
    "DEBUG\n",
    "INFO\n",
    "WARNING\n",
    "ERROR\n",
    "CRITICAL"
   ]
  },
  {
   "cell_type": "code",
   "execution_count": null,
   "id": "abb937ff",
   "metadata": {},
   "outputs": [],
   "source": [
    "1# to see info log use level = logging.INFO\n",
    "logging.basicConfig(filename='test.log', level = logging.INFO)"
   ]
  },
  {
   "cell_type": "code",
   "execution_count": null,
   "id": "d37957f4",
   "metadata": {},
   "outputs": [],
   "source": [
    "logging.info('This is my info log')\n",
    "logging.error('This is my error log')\n",
    "logging.warning('This is my warning log')"
   ]
  },
  {
   "cell_type": "code",
   "execution_count": null,
   "id": "d4d67f4a",
   "metadata": {},
   "outputs": [],
   "source": [
    "import logging\n",
    "logging.basicConfig(filename='test_debug.log', level = logging.ERROR, format='%(levelname)s %(asctime)s %(message)s' )"
   ]
  },
  {
   "cell_type": "code",
   "execution_count": null,
   "id": "14d775bd",
   "metadata": {},
   "outputs": [],
   "source": [
    "logging.warning('this is my warning log')\n",
    "logging.debug('This is my debug log')\n",
    "logging.info('This is info log')\n",
    "logging.error('This is a error log')\n"
   ]
  },
  {
   "cell_type": "code",
   "execution_count": null,
   "id": "c33d9bbe",
   "metadata": {},
   "outputs": [],
   "source": [
    "import logging\n",
    "logging.basicConfig(filename='test3.log', level=logging.DEBUG, format='%(levelname)s %(asctime)s %(message)s')"
   ]
  },
  {
   "cell_type": "code",
   "execution_count": null,
   "id": "f97e1f43",
   "metadata": {},
   "outputs": [],
   "source": [
    "def d1(a,b):\n",
    "    logging.info(f'Start of the function entered {a} and {b}')\n",
    "    try:\n",
    "        div = a/b\n",
    "        logging.info('Executed successfully output is %s',div)\n",
    "    except Exception as e:\n",
    "        logging.error('Error has occured')\n",
    "        logging.exception('Exception is ' + str(e))\n",
    "    finally:\n",
    "        logging.shutdown()"
   ]
  },
  {
   "cell_type": "code",
   "execution_count": null,
   "id": "a2d111bb",
   "metadata": {},
   "outputs": [],
   "source": [
    "d1(4,5)"
   ]
  },
  {
   "cell_type": "code",
   "execution_count": null,
   "id": "b5d43c23",
   "metadata": {},
   "outputs": [],
   "source": [
    "d1(4,0)"
   ]
  },
  {
   "cell_type": "code",
   "execution_count": null,
   "id": "a399f71b",
   "metadata": {},
   "outputs": [],
   "source": [
    "import logging\n",
    "\n",
    "logging.basicConfig( level = logging.DEBUG, format= '%(levelname)s %(asctime)s %(message)s')\n",
    "\n",
    "def sum_(a,b):\n",
    "\treturn a+b\n",
    "\n",
    "def mul_(a,b):\n",
    "    return a*b\n",
    "\n",
    "def sub_(a,b):\n",
    "    return a-b\n",
    "\n",
    "def div_(a,b):\n",
    "    return a//b\n",
    "\n",
    "n1 = 2\n",
    "n2 = 5\n",
    "add= sum_(n1,n2)\n",
    "logging.info(add)\n",
    "mul = mul_(n1,n2)\n",
    "logging.warning(mul)\n",
    "sub = sub_(n1,n2)\n",
    "logging.error(sub)\n",
    "div = div_(n1,n2)\n",
    "logging.critical(div)\n",
    "logging.shutdown()\n",
    "\n",
    "\n"
   ]
  },
  {
   "cell_type": "code",
   "execution_count": null,
   "id": "f1fb7d81",
   "metadata": {},
   "outputs": [],
   "source": [
    "def namecheck(name):\n",
    "    if len(name)<2:\n",
    "        print('Checking length of the name',len(name))\n",
    "        return 'invalid name'\n",
    "    elif name.isspace():\n",
    "        print('Checking does name has space')\n",
    "        return 'Invalid name'\n",
    "    elif name.isalpha():\n",
    "        print('Checking does name has alphabets')\n",
    "        return 'name is valid'\n",
    "    elif name.replace(' ','').isalpha():\n",
    "        print('Checking for full name')\n",
    "        return 'Name is valid'\n",
    "    else:\n",
    "        print('Failed all checks')\n",
    "        return 'Invalid name'"
   ]
  },
  {
   "cell_type": "code",
   "execution_count": null,
   "id": "47398211",
   "metadata": {},
   "outputs": [],
   "source": [
    "namecheck('lohith')"
   ]
  },
  {
   "cell_type": "code",
   "execution_count": null,
   "id": "4cfc845f",
   "metadata": {},
   "outputs": [],
   "source": [
    "namecheck('23laccn')"
   ]
  },
  {
   "cell_type": "code",
   "execution_count": null,
   "id": "43eb0204",
   "metadata": {},
   "outputs": [],
   "source": [
    "namecheck('krishna lohith')"
   ]
  },
  {
   "cell_type": "code",
   "execution_count": 5,
   "id": "bd93af70",
   "metadata": {},
   "outputs": [],
   "source": [
    "import logging\n",
    "\n",
    "logging.basicConfig(level=logging.DEBUG, format = '%(levelname)s %(asctime)s %(message)s')\n",
    "\n",
    "def namecheck(name):\n",
    "    if len(name)<2:\n",
    "        logging.debug('Checking length of the name %s',len(name))\n",
    "        return 'invalid name'\n",
    "    elif name.isspace():\n",
    "        logging.debug('Checking does name has space')\n",
    "        return 'Invalid name'\n",
    "    elif name.isalpha():\n",
    "        logging.debug('Checking does name has alphabets')\n",
    "        return 'name is valid'\n",
    "    elif name.replace(' ','').isalpha():\n",
    "        logging.debug('Checking for full name')\n",
    "        return 'Name is valid'\n",
    "    else:\n",
    "        logging.debug('Failed all checks')\n",
    "        return 'Invalid name'"
   ]
  },
  {
   "cell_type": "code",
   "execution_count": 6,
   "id": "b0371cf3",
   "metadata": {},
   "outputs": [
    {
     "name": "stderr",
     "output_type": "stream",
     "text": [
      "DEBUG 2023-03-20 16:53:57,894 Checking length of the name 1\n"
     ]
    },
    {
     "data": {
      "text/plain": [
       "'invalid name'"
      ]
     },
     "execution_count": 6,
     "metadata": {},
     "output_type": "execute_result"
    }
   ],
   "source": [
    "namecheck('lohith')"
   ]
  },
  {
   "cell_type": "code",
   "execution_count": null,
   "id": "0d67adf2",
   "metadata": {},
   "outputs": [],
   "source": [
    "import logging\n",
    "\n",
    "logging.basicConfig(filename = 'test.log', level=logging.DEBUG, format = '%(levelname)s %(asctime)s %(message)s')\n",
    "\n",
    "def namecheck(name):\n",
    "    try:\n",
    "        if len(name)<2:\n",
    "            logging.debug('Checking length of the name',len(name))\n",
    "            return 'invalid name'\n",
    "        elif name.isspace():\n",
    "            logging.debug('Checking does name has space')\n",
    "            return 'Invalid name'\n",
    "        elif name.isalpha():\n",
    "            logging.debug('Checking does name has alphabets')\n",
    "            return 'name is valid'\n",
    "        elif name.replace(' ','').isalpha():\n",
    "            logging.debug('Checking for full name')\n",
    "            return 'Name is valid'\n",
    "        else:\n",
    "            logging.debug('Failed all checks')\n",
    "            return 'Invalid name'\n",
    "    except Exception as e:\n",
    "        logging.warning(e)\n",
    "namecheck(2)"
   ]
  },
  {
   "cell_type": "code",
   "execution_count": 26,
   "id": "ed800d2d",
   "metadata": {},
   "outputs": [],
   "source": [
    "import logging as lg\n",
    "\n",
    "lg.basicConfig(filename = 'test.log', level = lg.INFO, format = '%(levelname)s %(asctime)s %(message)s')\n",
    "\n",
    "def addi(*args):\n",
    "    try:\n",
    "        lg.info('This is my sum function')\n",
    "        s=0\n",
    "        for i in args:\n",
    "            lg.info('input is :- ')    # str(i)\n",
    "            s=s+i\n",
    "        return s\n",
    "    except Exception as e:\n",
    "        lg.error('error',e)\n",
    "        #lg.exception(e)\n",
    "        \n",
    "#f=open('test.log','r')\n",
    "#print(f.read())"
   ]
  },
  {
   "cell_type": "code",
   "execution_count": 27,
   "id": "f9cf7f23",
   "metadata": {},
   "outputs": [
    {
     "name": "stderr",
     "output_type": "stream",
     "text": [
      "--- Logging error ---\n",
      "Traceback (most recent call last):\n",
      "  File \"<ipython-input-26-1f42a5d46089>\", line 11, in addi\n",
      "    s=s+i\n",
      "TypeError: unsupported operand type(s) for +: 'int' and 'str'\n",
      "\n",
      "During handling of the above exception, another exception occurred:\n",
      "\n",
      "Traceback (most recent call last):\n",
      "  File \"c:\\users\\user\\appdata\\local\\programs\\python\\python36\\lib\\logging\\__init__.py\", line 992, in emit\n",
      "    msg = self.format(record)\n",
      "  File \"c:\\users\\user\\appdata\\local\\programs\\python\\python36\\lib\\logging\\__init__.py\", line 838, in format\n",
      "    return fmt.format(record)\n",
      "  File \"c:\\users\\user\\appdata\\local\\programs\\python\\python36\\lib\\logging\\__init__.py\", line 575, in format\n",
      "    record.message = record.getMessage()\n",
      "  File \"c:\\users\\user\\appdata\\local\\programs\\python\\python36\\lib\\logging\\__init__.py\", line 338, in getMessage\n",
      "    msg = msg % self.args\n",
      "TypeError: not all arguments converted during string formatting\n",
      "Call stack:\n",
      "  File \"c:\\users\\user\\appdata\\local\\programs\\python\\python36\\lib\\runpy.py\", line 193, in _run_module_as_main\n",
      "    \"__main__\", mod_spec)\n",
      "  File \"c:\\users\\user\\appdata\\local\\programs\\python\\python36\\lib\\runpy.py\", line 85, in _run_code\n",
      "    exec(code, run_globals)\n",
      "  File \"c:\\users\\user\\appdata\\local\\programs\\python\\python36\\lib\\site-packages\\ipykernel_launcher.py\", line 16, in <module>\n",
      "    app.launch_new_instance()\n",
      "  File \"c:\\users\\user\\appdata\\local\\programs\\python\\python36\\lib\\site-packages\\traitlets\\config\\application.py\", line 664, in launch_instance\n",
      "    app.start()\n",
      "  File \"c:\\users\\user\\appdata\\local\\programs\\python\\python36\\lib\\site-packages\\ipykernel\\kernelapp.py\", line 619, in start\n",
      "    self.io_loop.start()\n",
      "  File \"c:\\users\\user\\appdata\\local\\programs\\python\\python36\\lib\\site-packages\\tornado\\platform\\asyncio.py\", line 199, in start\n",
      "    self.asyncio_loop.run_forever()\n",
      "  File \"c:\\users\\user\\appdata\\local\\programs\\python\\python36\\lib\\asyncio\\base_events.py\", line 421, in run_forever\n",
      "    self._run_once()\n",
      "  File \"c:\\users\\user\\appdata\\local\\programs\\python\\python36\\lib\\asyncio\\base_events.py\", line 1426, in _run_once\n",
      "    handle._run()\n",
      "  File \"c:\\users\\user\\appdata\\local\\programs\\python\\python36\\lib\\asyncio\\events.py\", line 127, in _run\n",
      "    self._callback(*self._args)\n",
      "  File \"c:\\users\\user\\appdata\\local\\programs\\python\\python36\\lib\\site-packages\\tornado\\ioloop.py\", line 688, in <lambda>\n",
      "    lambda f: self._run_callback(functools.partial(callback, future))\n",
      "  File \"c:\\users\\user\\appdata\\local\\programs\\python\\python36\\lib\\site-packages\\tornado\\ioloop.py\", line 741, in _run_callback\n",
      "    ret = callback()\n",
      "  File \"c:\\users\\user\\appdata\\local\\programs\\python\\python36\\lib\\site-packages\\tornado\\gen.py\", line 814, in inner\n",
      "    self.ctx_run(self.run)\n",
      "  File \"c:\\users\\user\\appdata\\local\\programs\\python\\python36\\lib\\site-packages\\tornado\\gen.py\", line 162, in _fake_ctx_run\n",
      "    return f(*args, **kw)\n",
      "  File \"c:\\users\\user\\appdata\\local\\programs\\python\\python36\\lib\\site-packages\\tornado\\gen.py\", line 775, in run\n",
      "    yielded = self.gen.send(value)\n",
      "  File \"c:\\users\\user\\appdata\\local\\programs\\python\\python36\\lib\\site-packages\\ipykernel\\kernelbase.py\", line 361, in process_one\n",
      "    yield gen.maybe_future(dispatch(*args))\n",
      "  File \"c:\\users\\user\\appdata\\local\\programs\\python\\python36\\lib\\site-packages\\tornado\\gen.py\", line 234, in wrapper\n",
      "    yielded = ctx_run(next, result)\n",
      "  File \"c:\\users\\user\\appdata\\local\\programs\\python\\python36\\lib\\site-packages\\tornado\\gen.py\", line 162, in _fake_ctx_run\n",
      "    return f(*args, **kw)\n",
      "  File \"c:\\users\\user\\appdata\\local\\programs\\python\\python36\\lib\\site-packages\\ipykernel\\kernelbase.py\", line 261, in dispatch_shell\n",
      "    yield gen.maybe_future(handler(stream, idents, msg))\n",
      "  File \"c:\\users\\user\\appdata\\local\\programs\\python\\python36\\lib\\site-packages\\tornado\\gen.py\", line 234, in wrapper\n",
      "    yielded = ctx_run(next, result)\n",
      "  File \"c:\\users\\user\\appdata\\local\\programs\\python\\python36\\lib\\site-packages\\tornado\\gen.py\", line 162, in _fake_ctx_run\n",
      "    return f(*args, **kw)\n",
      "  File \"c:\\users\\user\\appdata\\local\\programs\\python\\python36\\lib\\site-packages\\ipykernel\\kernelbase.py\", line 541, in execute_request\n",
      "    user_expressions, allow_stdin,\n",
      "  File \"c:\\users\\user\\appdata\\local\\programs\\python\\python36\\lib\\site-packages\\tornado\\gen.py\", line 234, in wrapper\n",
      "    yielded = ctx_run(next, result)\n",
      "  File \"c:\\users\\user\\appdata\\local\\programs\\python\\python36\\lib\\site-packages\\tornado\\gen.py\", line 162, in _fake_ctx_run\n",
      "    return f(*args, **kw)\n",
      "  File \"c:\\users\\user\\appdata\\local\\programs\\python\\python36\\lib\\site-packages\\ipykernel\\ipkernel.py\", line 302, in do_execute\n",
      "    res = shell.run_cell(code, store_history=store_history, silent=silent)\n",
      "  File \"c:\\users\\user\\appdata\\local\\programs\\python\\python36\\lib\\site-packages\\ipykernel\\zmqshell.py\", line 539, in run_cell\n",
      "    return super(ZMQInteractiveShell, self).run_cell(*args, **kwargs)\n",
      "  File \"c:\\users\\user\\appdata\\local\\programs\\python\\python36\\lib\\site-packages\\IPython\\core\\interactiveshell.py\", line 2867, in run_cell\n",
      "    raw_cell, store_history, silent, shell_futures)\n",
      "  File \"c:\\users\\user\\appdata\\local\\programs\\python\\python36\\lib\\site-packages\\IPython\\core\\interactiveshell.py\", line 2895, in _run_cell\n",
      "    return runner(coro)\n",
      "  File \"c:\\users\\user\\appdata\\local\\programs\\python\\python36\\lib\\site-packages\\IPython\\core\\async_helpers.py\", line 68, in _pseudo_sync_runner\n",
      "    coro.send(None)\n",
      "  File \"c:\\users\\user\\appdata\\local\\programs\\python\\python36\\lib\\site-packages\\IPython\\core\\interactiveshell.py\", line 3072, in run_cell_async\n",
      "    interactivity=interactivity, compiler=compiler, result=result)\n",
      "  File \"c:\\users\\user\\appdata\\local\\programs\\python\\python36\\lib\\site-packages\\IPython\\core\\interactiveshell.py\", line 3263, in run_ast_nodes\n",
      "    if (await self.run_code(code, result,  async_=asy)):\n",
      "  File \"c:\\users\\user\\appdata\\local\\programs\\python\\python36\\lib\\site-packages\\IPython\\core\\interactiveshell.py\", line 3343, in run_code\n",
      "    exec(code_obj, self.user_global_ns, self.user_ns)\n",
      "  File \"<ipython-input-27-e168e73ee036>\", line 1, in <module>\n",
      "    addi(1,2,'3')\n",
      "  File \"<ipython-input-26-1f42a5d46089>\", line 14, in addi\n",
      "    lg.error('error',e)\n",
      "Message: 'error'\n",
      "Arguments: (TypeError(\"unsupported operand type(s) for +: 'int' and 'str'\",),)\n"
     ]
    }
   ],
   "source": [
    "addi(1,2,'3')   #error"
   ]
  },
  {
   "cell_type": "code",
   "execution_count": 24,
   "id": "7cde7763",
   "metadata": {},
   "outputs": [
    {
     "name": "stdout",
     "output_type": "stream",
     "text": [
      "unsupported operand type(s) for +: 'int' and 'str'\n"
     ]
    },
    {
     "name": "stderr",
     "output_type": "stream",
     "text": [
      "--- Logging error ---\n",
      "Traceback (most recent call last):\n",
      "  File \"<ipython-input-24-2dffdcf01d03>\", line 11, in addi\n",
      "    s=s+i\n",
      "TypeError: unsupported operand type(s) for +: 'int' and 'str'\n",
      "\n",
      "During handling of the above exception, another exception occurred:\n",
      "\n",
      "Traceback (most recent call last):\n",
      "  File \"c:\\users\\user\\appdata\\local\\programs\\python\\python36\\lib\\logging\\__init__.py\", line 992, in emit\n",
      "    msg = self.format(record)\n",
      "  File \"c:\\users\\user\\appdata\\local\\programs\\python\\python36\\lib\\logging\\__init__.py\", line 838, in format\n",
      "    return fmt.format(record)\n",
      "  File \"c:\\users\\user\\appdata\\local\\programs\\python\\python36\\lib\\logging\\__init__.py\", line 575, in format\n",
      "    record.message = record.getMessage()\n",
      "  File \"c:\\users\\user\\appdata\\local\\programs\\python\\python36\\lib\\logging\\__init__.py\", line 338, in getMessage\n",
      "    msg = msg % self.args\n",
      "TypeError: not all arguments converted during string formatting\n",
      "Call stack:\n",
      "  File \"c:\\users\\user\\appdata\\local\\programs\\python\\python36\\lib\\runpy.py\", line 193, in _run_module_as_main\n",
      "    \"__main__\", mod_spec)\n",
      "  File \"c:\\users\\user\\appdata\\local\\programs\\python\\python36\\lib\\runpy.py\", line 85, in _run_code\n",
      "    exec(code, run_globals)\n",
      "  File \"c:\\users\\user\\appdata\\local\\programs\\python\\python36\\lib\\site-packages\\ipykernel_launcher.py\", line 16, in <module>\n",
      "    app.launch_new_instance()\n",
      "  File \"c:\\users\\user\\appdata\\local\\programs\\python\\python36\\lib\\site-packages\\traitlets\\config\\application.py\", line 664, in launch_instance\n",
      "    app.start()\n",
      "  File \"c:\\users\\user\\appdata\\local\\programs\\python\\python36\\lib\\site-packages\\ipykernel\\kernelapp.py\", line 619, in start\n",
      "    self.io_loop.start()\n",
      "  File \"c:\\users\\user\\appdata\\local\\programs\\python\\python36\\lib\\site-packages\\tornado\\platform\\asyncio.py\", line 199, in start\n",
      "    self.asyncio_loop.run_forever()\n",
      "  File \"c:\\users\\user\\appdata\\local\\programs\\python\\python36\\lib\\asyncio\\base_events.py\", line 421, in run_forever\n",
      "    self._run_once()\n",
      "  File \"c:\\users\\user\\appdata\\local\\programs\\python\\python36\\lib\\asyncio\\base_events.py\", line 1426, in _run_once\n",
      "    handle._run()\n",
      "  File \"c:\\users\\user\\appdata\\local\\programs\\python\\python36\\lib\\asyncio\\events.py\", line 127, in _run\n",
      "    self._callback(*self._args)\n",
      "  File \"c:\\users\\user\\appdata\\local\\programs\\python\\python36\\lib\\site-packages\\tornado\\ioloop.py\", line 688, in <lambda>\n",
      "    lambda f: self._run_callback(functools.partial(callback, future))\n",
      "  File \"c:\\users\\user\\appdata\\local\\programs\\python\\python36\\lib\\site-packages\\tornado\\ioloop.py\", line 741, in _run_callback\n",
      "    ret = callback()\n",
      "  File \"c:\\users\\user\\appdata\\local\\programs\\python\\python36\\lib\\site-packages\\tornado\\gen.py\", line 814, in inner\n",
      "    self.ctx_run(self.run)\n",
      "  File \"c:\\users\\user\\appdata\\local\\programs\\python\\python36\\lib\\site-packages\\tornado\\gen.py\", line 162, in _fake_ctx_run\n",
      "    return f(*args, **kw)\n",
      "  File \"c:\\users\\user\\appdata\\local\\programs\\python\\python36\\lib\\site-packages\\tornado\\gen.py\", line 775, in run\n",
      "    yielded = self.gen.send(value)\n",
      "  File \"c:\\users\\user\\appdata\\local\\programs\\python\\python36\\lib\\site-packages\\ipykernel\\kernelbase.py\", line 361, in process_one\n",
      "    yield gen.maybe_future(dispatch(*args))\n",
      "  File \"c:\\users\\user\\appdata\\local\\programs\\python\\python36\\lib\\site-packages\\tornado\\gen.py\", line 234, in wrapper\n",
      "    yielded = ctx_run(next, result)\n",
      "  File \"c:\\users\\user\\appdata\\local\\programs\\python\\python36\\lib\\site-packages\\tornado\\gen.py\", line 162, in _fake_ctx_run\n",
      "    return f(*args, **kw)\n",
      "  File \"c:\\users\\user\\appdata\\local\\programs\\python\\python36\\lib\\site-packages\\ipykernel\\kernelbase.py\", line 261, in dispatch_shell\n",
      "    yield gen.maybe_future(handler(stream, idents, msg))\n",
      "  File \"c:\\users\\user\\appdata\\local\\programs\\python\\python36\\lib\\site-packages\\tornado\\gen.py\", line 234, in wrapper\n",
      "    yielded = ctx_run(next, result)\n",
      "  File \"c:\\users\\user\\appdata\\local\\programs\\python\\python36\\lib\\site-packages\\tornado\\gen.py\", line 162, in _fake_ctx_run\n",
      "    return f(*args, **kw)\n",
      "  File \"c:\\users\\user\\appdata\\local\\programs\\python\\python36\\lib\\site-packages\\ipykernel\\kernelbase.py\", line 541, in execute_request\n",
      "    user_expressions, allow_stdin,\n",
      "  File \"c:\\users\\user\\appdata\\local\\programs\\python\\python36\\lib\\site-packages\\tornado\\gen.py\", line 234, in wrapper\n",
      "    yielded = ctx_run(next, result)\n",
      "  File \"c:\\users\\user\\appdata\\local\\programs\\python\\python36\\lib\\site-packages\\tornado\\gen.py\", line 162, in _fake_ctx_run\n",
      "    return f(*args, **kw)\n",
      "  File \"c:\\users\\user\\appdata\\local\\programs\\python\\python36\\lib\\site-packages\\ipykernel\\ipkernel.py\", line 302, in do_execute\n",
      "    res = shell.run_cell(code, store_history=store_history, silent=silent)\n",
      "  File \"c:\\users\\user\\appdata\\local\\programs\\python\\python36\\lib\\site-packages\\ipykernel\\zmqshell.py\", line 539, in run_cell\n",
      "    return super(ZMQInteractiveShell, self).run_cell(*args, **kwargs)\n",
      "  File \"c:\\users\\user\\appdata\\local\\programs\\python\\python36\\lib\\site-packages\\IPython\\core\\interactiveshell.py\", line 2867, in run_cell\n",
      "    raw_cell, store_history, silent, shell_futures)\n",
      "  File \"c:\\users\\user\\appdata\\local\\programs\\python\\python36\\lib\\site-packages\\IPython\\core\\interactiveshell.py\", line 2895, in _run_cell\n",
      "    return runner(coro)\n",
      "  File \"c:\\users\\user\\appdata\\local\\programs\\python\\python36\\lib\\site-packages\\IPython\\core\\async_helpers.py\", line 68, in _pseudo_sync_runner\n",
      "    coro.send(None)\n",
      "  File \"c:\\users\\user\\appdata\\local\\programs\\python\\python36\\lib\\site-packages\\IPython\\core\\interactiveshell.py\", line 3072, in run_cell_async\n",
      "    interactivity=interactivity, compiler=compiler, result=result)\n",
      "  File \"c:\\users\\user\\appdata\\local\\programs\\python\\python36\\lib\\site-packages\\IPython\\core\\interactiveshell.py\", line 3263, in run_ast_nodes\n",
      "    if (await self.run_code(code, result,  async_=asy)):\n",
      "  File \"c:\\users\\user\\appdata\\local\\programs\\python\\python36\\lib\\site-packages\\IPython\\core\\interactiveshell.py\", line 3343, in run_code\n",
      "    exec(code_obj, self.user_global_ns, self.user_ns)\n",
      "  File \"<ipython-input-24-2dffdcf01d03>\", line 21, in <module>\n",
      "    addi([1,2,'3'])\n",
      "  File \"<ipython-input-24-2dffdcf01d03>\", line 15, in addi\n",
      "    lg.error('error',e)\n",
      "Message: 'error'\n",
      "Arguments: (TypeError(\"unsupported operand type(s) for +: 'int' and 'str'\",),)\n"
     ]
    }
   ],
   "source": [
    "import logging as lg\n",
    "\n",
    "lg.basicConfig(filename = 'test.log', level = lg.INFO, format = '%(levelname)s %(asctime)s %(message)s')\n",
    "\n",
    "def addi(l):\n",
    "    try:\n",
    "        lg.info('This is my sum function')\n",
    "        s=0\n",
    "        for i in l:\n",
    "            #lg.info('input is :- ')\n",
    "            s=s+i\n",
    "        return s\n",
    "    except Exception as e:\n",
    "        print(e)\n",
    "        lg.error('error',e)\n",
    "        #lg.exception('Got an error')\n",
    "        \n",
    "#f=open('test.log','r')\n",
    "#print(f.read())\n",
    "\n",
    "addi([1,2,'3'])"
   ]
  },
  {
   "cell_type": "code",
   "execution_count": 17,
   "id": "15bddc7c",
   "metadata": {},
   "outputs": [],
   "source": [
    "#Once the basicConfig logging is set in one .py file it will set to root by default and cannot overwrite with another log file although we create in another .py file"
   ]
  },
  {
   "cell_type": "code",
   "execution_count": null,
   "id": "61bef612",
   "metadata": {},
   "outputs": [],
   "source": [
    "#so we need to assign individual log files for individual .py files."
   ]
  },
  {
   "cell_type": "code",
   "execution_count": null,
   "id": "60c22649",
   "metadata": {},
   "outputs": [],
   "source": [
    "import os\n",
    "import logging\n",
    "#---------------------------------------------------------------------------\n",
    "# Here we created our own basicConfig \n",
    "logger=logging.getLogger(__name__)  # name of the .py file(SaveToFile) this file\n",
    "logger.setLevel(logging.DEBUG)\n",
    "f=logging.Formatter('%(asctime)s:%(name)s:%(levelname)s:%(message)s')\n",
    "fh=logging.FileHandler('saveTofile.log')\n",
    "fh.setFormatter(f)\n",
    "logger.addHandler(fh)\n",
    "#---------------------------------------------------------------------------\n",
    "#logging.basicConfig(filename='saveTofile.log',level=logging.DEBUG,format='%(asctime)s:%(levelname)s:%(message)s')\n",
    "def namecheck(name):\n",
    "    logger.debug(f'checking name \"{name}\"....')\n",
    "    if os.path.exists('data.txt'):\n",
    "        with open('data.txt','r') as readFile:\n",
    "            for line in readFile:\n",
    "                if line.lower().startswith(f'name: {name.lower()}'):\n",
    "                    logger.error(f'Name: \"{name}\" already exists')\n",
    "                    return False\n",
    "            if len(name) == 0:\n",
    "                logger.critical('Name cannot be blank')\n",
    "                return False\n",
    "            elif not name.isalpha():\n",
    "                logger.critical('name must be an alphabet')\n",
    "                return False\n",
    "            else:\n",
    "                logger.error(f'check successfull')\n",
    "                return True\n",
    "    else:\n",
    "        logger.debug('No data found')\n",
    "        return True\n",
    "def saveData(name,age,email):\n",
    "    logger.debug(f'Saving details of {name}...')\n",
    "    with open('data.txt','a') as appendFile:\n",
    "        appendFile.write(f'Name: {name} - Age: {age} - Email: {email}\\n')\n",
    "        print(f'Details saved successfully')\n",
    "\n",
    "logger.info('End of saveToFile Program')\n",
    "logger.debug('########################')"
   ]
  },
  {
   "cell_type": "code",
   "execution_count": null,
   "id": "bc548f3d",
   "metadata": {},
   "outputs": [],
   "source": [
    "import logging\n",
    "import saveToFile as STF\n",
    "#---------------------------------------------------------------------------\n",
    "# Here we created our own basicConfig \n",
    "logger = logging.getLogger(__name__) #name of the .py file (here this is the main file so name will be __main__)\n",
    "logger.setLevel(logging.DEBUG)\n",
    "f=logging.Formatter('%(levelname)s - %(message)s')\n",
    "fh = logging.FileHandler('employee.log')  # saves all the logs in the file\n",
    "fh.setFormatter(f)\n",
    "logger.addHandler(fh)\n",
    "stream_handler = logging.StreamHandler()  # shows the logs in the console\n",
    "logger.addHandler(stream_handler)\n",
    "stream_handler.setFormatter(f)\n",
    "#---------------------------------------------------------------------------\n",
    "#logging.basicConfig(filename='employee.log',level=logging.DEBUG,format='%(asctime)s:%(levelname)s:%(message)s')\n",
    "logger.debug('Start of employee program')\n",
    "name = 'lohith'\n",
    "age = 22\n",
    "email = 'lohith@gmail.com'\n",
    "if STF.namecheck(name) is True:\n",
    "    STF.saveData(name,age,email)\n",
    "else:\n",
    "    logger.critical('Employee check failed')\n",
    "logger.debug('End of employee program')\n",
    "logger.debug('######################')"
   ]
  },
  {
   "cell_type": "code",
   "execution_count": 1,
   "id": "dff6cac4",
   "metadata": {},
   "outputs": [
    {
     "name": "stderr",
     "output_type": "stream",
     "text": [
      "__main__ - WARNING - This is a warning\n",
      "__main__ - ERROR - This is a error\n",
      "__main__ - CRITICAL - This is critical\n"
     ]
    }
   ],
   "source": [
    "#Handlers - handling the logs\n",
    "#File handlers - saves the logs in a file\n",
    "#Stream handlers - streams or displays the logs in console.\n",
    "import logging\n",
    "\n",
    "#create a custom logger\n",
    "logger = logging.getLogger(__name__)\n",
    "\n",
    "#Creating handlers\n",
    "s_handler = logging.StreamHandler()  # will work in pycharm or VS code\n",
    "f_handler = logging.FileHandler('filename.log')  # creates a new log file in the dir\n",
    "#setting levels to the handlers\n",
    "s_handler.setLevel(logging.WARNING) # gives warning,error,critical\n",
    "f_handler.setLevel(logging.ERROR)   #error, critical\n",
    "\n",
    "#Creating formatters\n",
    "s_format = logging.Formatter('%(name)s - %(levelname)s - %(message)s')\n",
    "f_format = logging.Formatter('%(asctime)s:%(name)s:%(levelname)s:%(message)s')\n",
    "\n",
    "# adding formatters to the handlers\n",
    "s_handler.setFormatter(s_format)\n",
    "f_handler.setFormatter(f_format)\n",
    "\n",
    "#Add handlers to one logger so that the logs will display both in console and file\n",
    "logger.addHandler(s_handler)\n",
    "logger.addHandler(f_handler)\n",
    "\n",
    "\n",
    "#shows Warning, Error, Critical on console via s_handler(stream), bcoz we set s_handler to warning\n",
    "#shows error, critical on log file bcoz we set the level to error.\n",
    "logger.debug('this is debug')\n",
    "logger.info('This is info')\n",
    "logger.warning('This is a warning')\n",
    "logger.error('This is a error')\n",
    "logger.critical('This is critical')"
   ]
  },
  {
   "cell_type": "code",
   "execution_count": null,
   "id": "adaec1ed",
   "metadata": {},
   "outputs": [],
   "source": []
  }
 ],
 "metadata": {
  "kernelspec": {
   "display_name": "Python 3",
   "language": "python",
   "name": "python3"
  },
  "language_info": {
   "codemirror_mode": {
    "name": "ipython",
    "version": 3
   },
   "file_extension": ".py",
   "mimetype": "text/x-python",
   "name": "python",
   "nbconvert_exporter": "python",
   "pygments_lexer": "ipython3",
   "version": "3.6.2"
  }
 },
 "nbformat": 4,
 "nbformat_minor": 5
}
