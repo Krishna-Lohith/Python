{
 "cells": [
  {
   "cell_type": "raw",
   "id": "8b9be85f",
   "metadata": {},
   "source": [
    "Inheritance\n",
    "MRO - Multiple Resolution Order\n",
    "super class\n",
    "static\n",
    "\n",
    "Encapsulation"
   ]
  },
  {
   "cell_type": "raw",
   "id": "1f96fcf8",
   "metadata": {},
   "source": [
    "Inheritance :- Inheritance refers to the assets that an individual bequeaths to their loved ones after they pass away.Inheritance is a property that we get from our parents and grandparents.\n",
    "\n",
    "Inheritance in python means you can use a parent class in another child class and use their properties and can also overwrite it.\n",
    "\n",
    "We can use one class in another class just by calling .\n",
    "class c_child(c_parent):\n",
    "we can call functions in parent class from a child class.\n",
    "\n",
    "\n",
    "We can change the properties of a function which is used in parent class, we can change in child class.\n",
    "\n",
    "Multi class inheritence:- \n",
    "class c_child(c_parent1, c_parent2):"
   ]
  },
  {
   "cell_type": "raw",
   "id": "98f6b42f",
   "metadata": {},
   "source": [
    "What is super class in Python?\n",
    "The super() function is used to give access to methods and properties of a parent or sibling class. The super() function returns an object that represents the parent class."
   ]
  },
  {
   "cell_type": "markdown",
   "id": "f8b9a4c2",
   "metadata": {},
   "source": [
    "## Inheritance  \n",
    "\n",
    "we can able to access all the functions inside all the classes using inheritance."
   ]
  },
  {
   "cell_type": "code",
   "execution_count": 64,
   "id": "4e5df625",
   "metadata": {},
   "outputs": [],
   "source": [
    "class p1:\n",
    "    def p1_f1(self):\n",
    "        return \"this is function 1 from class 1 \"\n",
    "    def p1_f2(self):\n",
    "        return \"this is function 2 from class 1 \"\n",
    "    \n",
    "class p2:\n",
    "    def p2_f1(self):\n",
    "        return \"this is function 1 from class 2 \"\n",
    "    def p2_f2(self):\n",
    "        return \"this is function 2 from class 2 \"\n",
    "    \n",
    "class p3:\n",
    "    def p3_f1(self):\n",
    "        return \"this is function 1 from class 3 \"\n",
    "    def p3_f2(self):\n",
    "        return \"this is function 2 from class 3 \""
   ]
  },
  {
   "cell_type": "code",
   "execution_count": 69,
   "id": "c641f7d0",
   "metadata": {},
   "outputs": [
    {
     "data": {
      "text/plain": [
       "'this is function 2 from class 1 '"
      ]
     },
     "execution_count": 69,
     "metadata": {},
     "output_type": "execute_result"
    }
   ],
   "source": [
    "#Here we have to create a seperate varaibles for each class. But i need to fit all the classes in one variable.\n",
    "#so that i can access each class like we access each method with a class. Here comes inheritance topic.\n",
    "x = p1()\n",
    "x.p1_f2()"
   ]
  },
  {
   "cell_type": "code",
   "execution_count": 70,
   "id": "68c8ae16",
   "metadata": {},
   "outputs": [
    {
     "data": {
      "text/plain": [
       "'this is function 1 from class 2 '"
      ]
     },
     "execution_count": 70,
     "metadata": {},
     "output_type": "execute_result"
    }
   ],
   "source": [
    "y = p2()\n",
    "y.p2_f1()"
   ]
  },
  {
   "cell_type": "code",
   "execution_count": 78,
   "id": "1b8e64a2",
   "metadata": {},
   "outputs": [],
   "source": [
    "class p1:\n",
    "    def p1_f1(self):\n",
    "        return \"this is function 1 from class 1 \"\n",
    "    \n",
    "    def p1_f2(self):\n",
    "        return \"this is function 2 from class 1 \"\n",
    "    \n",
    "class p2:\n",
    "    def p2_f1(self):\n",
    "        return \"this is function 1 from class 2 \"\n",
    "    \n",
    "    def p2_f2(self):\n",
    "        return \"this is function 2 from class 2 \"\n",
    "    \n",
    "class p3:\n",
    "    def p3_f1(self):\n",
    "        return \"this is function 1 from class 3 \"\n",
    "    \n",
    "    def p3_f2(self):\n",
    "        return \"this is function 2 from class 3 \"\n",
    "    \n",
    "# Multiple Inheritance  \n",
    "class inheri(p1,p2,p3):   #we can call any number of parents\n",
    "    def inh_f1(self):\n",
    "        return \" This is an inheritance\""
   ]
  },
  {
   "cell_type": "code",
   "execution_count": 76,
   "id": "eaf6c710",
   "metadata": {},
   "outputs": [],
   "source": [
    "a = inheri()"
   ]
  },
  {
   "cell_type": "code",
   "execution_count": 74,
   "id": "bdbdc755",
   "metadata": {},
   "outputs": [
    {
     "data": {
      "text/plain": [
       "'this is function 1 from class 1 '"
      ]
     },
     "execution_count": 74,
     "metadata": {},
     "output_type": "execute_result"
    }
   ],
   "source": [
    "# we can able to access all the functions inside all the classes using inheritance.\n",
    "\n",
    "#class 1 functions\n",
    "a.p1_f1()\n",
    "a.p1_f2()\n",
    "\n",
    "#class 2 functions\n",
    "a.p2_f1()\n",
    "a.p2_f2()\n",
    "\n",
    "#class 3 functions\n",
    "a.p3_f1()\n",
    "a.p3_f2()\n",
    "\n",
    "a.inh_f1()  #inheritance function"
   ]
  },
  {
   "cell_type": "code",
   "execution_count": 80,
   "id": "f5340c6b",
   "metadata": {},
   "outputs": [],
   "source": [
    "#Simple Inheritanc one parent class and one child class.\n",
    "\n",
    "#parent class 1\n",
    "class parent1:\n",
    "    def fun1(self):\n",
    "        print('Hi this is function 1 from parent class 1')\n",
    "        \n",
    "#child class\n",
    "class child(parent1):  # Assume this is a child class which is inherting the properties of another class.\n",
    "    def fun2(self):\n",
    "        print('Hi this is function 1 from parent class 2')"
   ]
  },
  {
   "cell_type": "code",
   "execution_count": 81,
   "id": "9569df09",
   "metadata": {},
   "outputs": [
    {
     "name": "stdout",
     "output_type": "stream",
     "text": [
      "Hi this is function 1 from parent class 1\n",
      "Hi this is function 1 from parent class 2\n"
     ]
    }
   ],
   "source": [
    "#See here we are getting two functions from both classes although we have called the parentclass 2.\n",
    "#It is inheriting the properties of parent class 1. This method is called inheritance.\n",
    "c = child()\n",
    "c.fun1() #we can access the methods in parent class from a child class.\n",
    "c.fun2()"
   ]
  },
  {
   "cell_type": "code",
   "execution_count": 22,
   "id": "8e6a5795",
   "metadata": {},
   "outputs": [],
   "source": [
    "class parent1:\n",
    "    def __init__(self, a,b,c):\n",
    "        self.a = a\n",
    "        self.b = b\n",
    "        self.c =c\n",
    "    def p1_f1(self):\n",
    "        print('This is a parent class',self.a,self.b,self.c)\n",
    "        \n",
    "class child1(parent1):\n",
    "    def c1(self, z):\n",
    "        print('This is a child class',z, self.a)"
   ]
  },
  {
   "cell_type": "code",
   "execution_count": 23,
   "id": "f7ba9a56",
   "metadata": {},
   "outputs": [
    {
     "name": "stdout",
     "output_type": "stream",
     "text": [
      "This is a parent class 5 6 7\n"
     ]
    }
   ],
   "source": [
    "a = child1(5,6,7)  # Here it is taking 3 arguments bcoz it is inherited with parent1 class which takes 3 arguments.\n",
    "a.p1_f1()"
   ]
  },
  {
   "cell_type": "code",
   "execution_count": 24,
   "id": "10464a7b",
   "metadata": {},
   "outputs": [
    {
     "name": "stdout",
     "output_type": "stream",
     "text": [
      "This is a child class 100 5\n"
     ]
    }
   ],
   "source": [
    "#Here i am assigning a new argument to the function it gives the new value as well as __init__.\n",
    "a.c1(100) "
   ]
  },
  {
   "cell_type": "code",
   "execution_count": 12,
   "id": "54794b86",
   "metadata": {},
   "outputs": [],
   "source": [
    "#Here we can pass the parameters directly to the method without initializing in __init__\n",
    "class parent1:\n",
    "    def p1(self):\n",
    "        print('this is parent class')\n",
    "\n",
    "class child1(parent1):\n",
    "    def c1(self,a):\n",
    "        print(a)"
   ]
  },
  {
   "cell_type": "code",
   "execution_count": 17,
   "id": "87e3ee79",
   "metadata": {},
   "outputs": [],
   "source": [
    "#Here we did not assigned the parameters for child1. No parameter bcoz of we didn't initialize\n",
    "g = child1()"
   ]
  },
  {
   "cell_type": "code",
   "execution_count": 14,
   "id": "3171ea67",
   "metadata": {},
   "outputs": [
    {
     "name": "stdout",
     "output_type": "stream",
     "text": [
      "6\n"
     ]
    }
   ],
   "source": [
    "#Here we can pass the parameters directly to the method without initializing in __init__\n",
    "g.c1(6)"
   ]
  },
  {
   "cell_type": "code",
   "execution_count": 86,
   "id": "4ae61d1c",
   "metadata": {},
   "outputs": [
    {
     "name": "stdout",
     "output_type": "stream",
     "text": [
      "this is parent class\n"
     ]
    }
   ],
   "source": [
    "f = parent1()\n",
    "f.p1()"
   ]
  },
  {
   "cell_type": "code",
   "execution_count": 37,
   "id": "ea791a5d",
   "metadata": {},
   "outputs": [],
   "source": [
    "#parent class\n",
    "class c_parent:\n",
    "    def __init__(self, d):\n",
    "        self.d = d\n",
    "        \n",
    "    def test(self):\n",
    "        print('This is from parent class. I am very strict ')\n",
    "    \n",
    "    def keys_(self):\n",
    "        if self.not_dict:     #  here we calling a function inside a class so use self.\n",
    "            return list(self.d.keys())\n",
    "        \n",
    "    def not_dict(self):\n",
    "        if type(self.d) != dict:\n",
    "            raise Exception('Not a dictionary')\n",
    "        else:\n",
    "            print('This is a Dictionary')"
   ]
  },
  {
   "cell_type": "code",
   "execution_count": 38,
   "id": "415398f3",
   "metadata": {},
   "outputs": [],
   "source": [
    "x = c_parent({'a':1,'b':2})"
   ]
  },
  {
   "cell_type": "code",
   "execution_count": 39,
   "id": "d89fa2dc",
   "metadata": {},
   "outputs": [
    {
     "data": {
      "text/plain": [
       "['a', 'b']"
      ]
     },
     "execution_count": 39,
     "metadata": {},
     "output_type": "execute_result"
    }
   ],
   "source": [
    "x.keys_()"
   ]
  },
  {
   "cell_type": "code",
   "execution_count": 40,
   "id": "50209e2e",
   "metadata": {},
   "outputs": [
    {
     "name": "stdout",
     "output_type": "stream",
     "text": [
      "This is from parent class. I am very strict \n"
     ]
    }
   ],
   "source": [
    "x.test()"
   ]
  },
  {
   "cell_type": "code",
   "execution_count": null,
   "id": "95b45423",
   "metadata": {},
   "outputs": [],
   "source": [
    "# we can change the values."
   ]
  },
  {
   "cell_type": "code",
   "execution_count": 42,
   "id": "72ac9129",
   "metadata": {},
   "outputs": [],
   "source": [
    "x.d['a'] = 3"
   ]
  },
  {
   "cell_type": "code",
   "execution_count": 43,
   "id": "f3de25dd",
   "metadata": {},
   "outputs": [
    {
     "data": {
      "text/plain": [
       "{'a': 3, 'b': 2}"
      ]
     },
     "execution_count": 43,
     "metadata": {},
     "output_type": "execute_result"
    }
   ],
   "source": [
    "x.d"
   ]
  },
  {
   "cell_type": "code",
   "execution_count": 2,
   "id": "ef3f0145",
   "metadata": {},
   "outputs": [],
   "source": [
    "#Inheritance\n",
    "\n",
    "#parent class\n",
    "class c_parent:\n",
    "    def __init__(self, d):\n",
    "        self.d = d\n",
    "        \n",
    "    def test(self):\n",
    "        print('This is from parent class. I am very strict ')\n",
    "    \n",
    "    def keys_(self):\n",
    "        if self.not_dict:     #  here we calling a function inside a class so use self.\n",
    "            return list(self.d.keys())\n",
    "        \n",
    "    def not_dict(self):\n",
    "        if type(self.d) != dict:\n",
    "            raise Exception('Not a dictionary')\n",
    "        else:\n",
    "            print('This is a Dictionary')\n",
    "            \n",
    "#child class\n",
    "class c_child(c_parent):\n",
    "    def test(self):\n",
    "        print('I am a child. I need a doreamon')\n",
    "        \n",
    "    def values_(self):\n",
    "        if self.not_dict:\n",
    "            return list(self.d.values())\n",
    "        \n",
    "    def not_dict(self):\n",
    "        if type(self.d) != dict:\n",
    "            raise Exception('Not a dictionary')\n",
    "        else:\n",
    "            print('This is a Dictionary')"
   ]
  },
  {
   "cell_type": "code",
   "execution_count": 57,
   "id": "c4a41dd4",
   "metadata": {},
   "outputs": [
    {
     "ename": "TypeError",
     "evalue": "__init__() missing 1 required positional argument: 'd'",
     "output_type": "error",
     "traceback": [
      "\u001b[1;31m---------------------------------------------------------------------------\u001b[0m",
      "\u001b[1;31mTypeError\u001b[0m                                 Traceback (most recent call last)",
      "\u001b[1;32m<ipython-input-57-d905e0c2fdba>\u001b[0m in \u001b[0;36m<module>\u001b[1;34m\u001b[0m\n\u001b[1;32m----> 1\u001b[1;33m \u001b[0my\u001b[0m \u001b[1;33m=\u001b[0m \u001b[0mc_child\u001b[0m\u001b[1;33m(\u001b[0m\u001b[1;33m)\u001b[0m   \u001b[1;31m#we need to pass an argument\u001b[0m\u001b[1;33m\u001b[0m\u001b[0m\n\u001b[0m",
      "\u001b[1;31mTypeError\u001b[0m: __init__() missing 1 required positional argument: 'd'"
     ]
    }
   ],
   "source": [
    "y = c_child()   #we need to pass an argument"
   ]
  },
  {
   "cell_type": "code",
   "execution_count": 58,
   "id": "fffb1568",
   "metadata": {},
   "outputs": [],
   "source": [
    "y = c_child({'e':7,'f':9})"
   ]
  },
  {
   "cell_type": "code",
   "execution_count": 51,
   "id": "e8a33a21",
   "metadata": {},
   "outputs": [
    {
     "data": {
      "text/plain": [
       "[7, 9]"
      ]
     },
     "execution_count": 51,
     "metadata": {},
     "output_type": "execute_result"
    }
   ],
   "source": [
    "y.values_()"
   ]
  },
  {
   "cell_type": "code",
   "execution_count": 52,
   "id": "6ca1ad00",
   "metadata": {},
   "outputs": [
    {
     "data": {
      "text/plain": [
       "['e', 'f']"
      ]
     },
     "execution_count": 52,
     "metadata": {},
     "output_type": "execute_result"
    }
   ],
   "source": [
    "y.keys_()"
   ]
  },
  {
   "cell_type": "code",
   "execution_count": 59,
   "id": "d6a47734",
   "metadata": {},
   "outputs": [
    {
     "name": "stdout",
     "output_type": "stream",
     "text": [
      "I am a child. I need a doreamon\n"
     ]
    }
   ],
   "source": [
    "#Here we used same function name and it overwrited the original matter.\n",
    "y.test()"
   ]
  },
  {
   "cell_type": "markdown",
   "id": "cfdc67bf",
   "metadata": {},
   "source": [
    "### Multiple Inheritance  -MRO(Method Resolution Order (MRO))\n",
    "\n",
    "Properties of Multiple parents into a child is called as Multiple Inheritance. Multiple parents properties into a single child class.\n",
    "\n",
    "In multiple Inheritance we can't access the properties of parent1 methods(fun1) using parent2 class. what if we want to use the parent1 class then we should use use Multi Level. This is the main difference between these two.\n",
    "\n",
    "Here in child class we are getting the classes which we call."
   ]
  },
  {
   "cell_type": "code",
   "execution_count": 31,
   "id": "3ade931c",
   "metadata": {},
   "outputs": [],
   "source": [
    "class parent1:\n",
    "    def fun1(self):\n",
    "        print('This is a function 1 in parent class 1')\n",
    "        \n",
    "class parent2:\n",
    "    def fun2(self):\n",
    "        print('This is a function 2 in parent class 2')\n",
    "        \n",
    "class child_class(parent1,parent2):  #(parent2, parent1)\n",
    "    def fun3(self):\n",
    "        print('Thsi is a function 3 in child class')"
   ]
  },
  {
   "cell_type": "code",
   "execution_count": 36,
   "id": "9c922bfe",
   "metadata": {},
   "outputs": [
    {
     "data": {
      "text/plain": [
       "[__main__.child_class, __main__.parent1, __main__.parent2, object]"
      ]
     },
     "execution_count": 36,
     "metadata": {},
     "output_type": "execute_result"
    }
   ],
   "source": [
    "#HEre in child class we are getting the classes which we call.\n",
    "x = child_class()\n",
    "child_class.mro()"
   ]
  },
  {
   "cell_type": "code",
   "execution_count": 11,
   "id": "1fcb3dc6",
   "metadata": {},
   "outputs": [
    {
     "name": "stdout",
     "output_type": "stream",
     "text": [
      "This is a function 1 in parent class 1\n",
      "This is a function 2 in parent class 2\n",
      "Thsi is a function 3 in child class\n"
     ]
    }
   ],
   "source": [
    "#Here we getiing all the functions from both parent classes. This is called as multiple inheritance.\n",
    "x.fun1()\n",
    "x.fun2()\n",
    "x.fun3()"
   ]
  },
  {
   "cell_type": "code",
   "execution_count": 47,
   "id": "c8dd5c9d",
   "metadata": {},
   "outputs": [
    {
     "name": "stdout",
     "output_type": "stream",
     "text": [
      "This is a function 2 in parent class 2\n"
     ]
    }
   ],
   "source": [
    "#here in parent2 we can't access the properties of parent1 class. what if we want to use the parent1 class then use Multi Level.\n",
    "v = parent2()\n",
    "v.fun2()"
   ]
  },
  {
   "cell_type": "code",
   "execution_count": 30,
   "id": "46b74e6f",
   "metadata": {},
   "outputs": [],
   "source": [
    "class person:\n",
    "    def __init__(self, name, age,sex):\n",
    "        self.name = name\n",
    "        self.age = age\n",
    "        self.sex = sex\n",
    "    \n",
    "class company:\n",
    "    company = 'Concentrix'\n",
    "    def c(self):\n",
    "        print('Conmapny',self.company)\n",
    "    \n",
    "#child class\n",
    "class Employee(person,company):\n",
    "    def emp(self):\n",
    "        print(f'{self.name} aged {self.age} with gender {self.sex} working in {self.company} company ')"
   ]
  },
  {
   "cell_type": "code",
   "execution_count": 31,
   "id": "cda2076a",
   "metadata": {},
   "outputs": [],
   "source": [
    "z = Employee('krishna',24,'Male')"
   ]
  },
  {
   "cell_type": "code",
   "execution_count": 33,
   "id": "d2dc9ed7",
   "metadata": {},
   "outputs": [
    {
     "name": "stdout",
     "output_type": "stream",
     "text": [
      "krishna aged 24 with gender Male working in Concentrix company \n"
     ]
    }
   ],
   "source": [
    "z.emp()"
   ]
  },
  {
   "cell_type": "code",
   "execution_count": 16,
   "id": "10338ea4",
   "metadata": {},
   "outputs": [],
   "source": [
    "#Multiple Inheritance\n",
    "\n",
    "class c_parent1:\n",
    "    def __init__(self, a,b,c):\n",
    "        self.a = a\n",
    "        self.b = b\n",
    "        self.c = c\n",
    "    def test_parent1(self):\n",
    "        print('Hi, I am from first class which is parent 1 ')\n",
    "\n",
    "class c_parent2:\n",
    "    def __init__(self, e,f,g):\n",
    "        self.e = e\n",
    "        self.f = f\n",
    "        self.g = g\n",
    "    def test_parent2(self):\n",
    "        print('Hi, I am from second class which is parent 2 ')\n",
    "\n",
    "class c_child(c_parent1, c_parent2):\n",
    "    def c_child(self):\n",
    "        print('Hi this is child class')"
   ]
  },
  {
   "cell_type": "code",
   "execution_count": 17,
   "id": "5be391ed",
   "metadata": {},
   "outputs": [
    {
     "ename": "TypeError",
     "evalue": "__init__() missing 3 required positional arguments: 'a', 'b', and 'c'",
     "output_type": "error",
     "traceback": [
      "\u001b[1;31m---------------------------------------------------------------------------\u001b[0m",
      "\u001b[1;31mTypeError\u001b[0m                                 Traceback (most recent call last)",
      "\u001b[1;32m<ipython-input-17-c4e2ff73c019>\u001b[0m in \u001b[0;36m<module>\u001b[1;34m\u001b[0m\n\u001b[1;32m----> 1\u001b[1;33m \u001b[0mx\u001b[0m \u001b[1;33m=\u001b[0m \u001b[0mc_child\u001b[0m\u001b[1;33m(\u001b[0m\u001b[1;33m)\u001b[0m  \u001b[1;31m#We need to give 3 inputs bcoz parent1 class need 3 inputs.\u001b[0m\u001b[1;33m\u001b[0m\u001b[0m\n\u001b[0m",
      "\u001b[1;31mTypeError\u001b[0m: __init__() missing 3 required positional arguments: 'a', 'b', and 'c'"
     ]
    }
   ],
   "source": [
    "x = c_child()  #We need to give 3 inputs bcoz parent1 class need 3 inputs."
   ]
  },
  {
   "cell_type": "code",
   "execution_count": 18,
   "id": "6074bbe1",
   "metadata": {},
   "outputs": [],
   "source": [
    "x = c_child(3,4,5) "
   ]
  },
  {
   "cell_type": "code",
   "execution_count": 22,
   "id": "2ff98281",
   "metadata": {},
   "outputs": [
    {
     "name": "stdout",
     "output_type": "stream",
     "text": [
      "Hi, I am from first class which is parent 1 \n",
      "Hi, I am from second class which is parent 2 \n"
     ]
    },
    {
     "data": {
      "text/plain": [
       "5"
      ]
     },
     "execution_count": 22,
     "metadata": {},
     "output_type": "execute_result"
    }
   ],
   "source": [
    "#Here we get all the methods or functions from all the class but\n",
    "# but we get variables only from first mentioned class.  c_child(c_parent1, c_parent2):\n",
    "\n",
    "x.test_parent1()\n",
    "x.test_parent2()\n",
    "x.a\n",
    "x.b\n",
    "x.c\n",
    "\n",
    "#Here we getting instance variables from only parent class 1."
   ]
  },
  {
   "cell_type": "code",
   "execution_count": 23,
   "id": "28efb9e5",
   "metadata": {},
   "outputs": [],
   "source": [
    "#we need variables from all the classes by using __init__ constructor we can overwrite the values.\n",
    "class c_parent1:\n",
    "    def __init__(self, a,b,c):\n",
    "        self.a = a\n",
    "        self.b = b\n",
    "        self.c = c\n",
    "    def test_parent1(self):\n",
    "        print('Hi, I am from first class which is parent 1 ')\n",
    "\n",
    "class c_parent2:\n",
    "    def __init__(self, e,f,g):\n",
    "        self.e = e\n",
    "        self.f = f\n",
    "        self.g = g\n",
    "    def test_parent2(self):\n",
    "        print('Hi, I am from second class which is parent 2 ')\n",
    "\n",
    "class c_child(c_parent1, c_parent2):\n",
    "    def c_child(self):\n",
    "        print('Hi this is child class')\n",
    "        \n",
    "    # call the variables in child class using superclass(parent class) __init__\n",
    "    def __init__(self,*args):\n",
    "        c_parent1.__init__(self, *args) #assigning the values to the varaibles which are present in __init__ method in a class\n",
    "        c_parent2.__init__(self, *args) #assigning the values to the varaibles which are present in __init__ method in a class"
   ]
  },
  {
   "cell_type": "code",
   "execution_count": 24,
   "id": "dd2e2cd0",
   "metadata": {},
   "outputs": [],
   "source": [
    "#now we can call the given variables from all the classes.\n",
    "p = c_child(7,8,9)"
   ]
  },
  {
   "cell_type": "code",
   "execution_count": 84,
   "id": "08f24e05",
   "metadata": {},
   "outputs": [
    {
     "data": {
      "text/plain": [
       "7"
      ]
     },
     "execution_count": 84,
     "metadata": {},
     "output_type": "execute_result"
    }
   ],
   "source": [
    "#Here we getting all the instance variables in both the classes.\n",
    "p.b\n",
    "p.f"
   ]
  },
  {
   "cell_type": "raw",
   "id": "d3441784",
   "metadata": {},
   "source": [
    "# we can access the variables for any class. but what if want different variables for different classes.\n",
    "\n",
    "p = c_child(7,8,9)\n",
    "\n",
    "def __init__(self,*args):\n",
    "    c_parent1.__init__(self, *args)    \n",
    "    c_parent2.__init__(self, *args)  \n",
    "    \n",
    "Here when we assign variables to c_child then it assigns the same variables to both the classes.\n",
    "c_parent1.__init__(self, *args)  ----->   def __init__(self, a,b,c):"
   ]
  },
  {
   "cell_type": "code",
   "execution_count": 89,
   "id": "168e6619",
   "metadata": {},
   "outputs": [],
   "source": [
    "# Here we can assign different values for different classes then we should use different parameters for different classes. \n",
    "\n",
    "class c_parent1:\n",
    "    def __init__(self, a,b,c):\n",
    "        self.a = a\n",
    "        self.b = b\n",
    "        self.c = c\n",
    "    def test_parent1(self):\n",
    "        print('Hi, I am from first class which is parent 1 ')\n",
    "\n",
    "class c_parent2:\n",
    "    def __init__(self, e,f,g):\n",
    "        self.e = e\n",
    "        self.f = f\n",
    "        self.g = g\n",
    "    def test_parent2(self):\n",
    "        print('Hi, I am from second class which is parent 2 ')\n",
    "\n",
    "class c_child(c_parent1, c_parent2):\n",
    "    def c_child(self):\n",
    "        print('Hi this is child class')\n",
    "        \n",
    "    \n",
    "    def __init__(self,*args, **kwargs):\n",
    "        c_parent1.__init__(self, *args)  #assigning the values to the varaibles which are present in __init__ method in a class\n",
    "        c_parent2.__init__(self, **kwargs)#assigning the values to the varaibles which are present in __init__ method in a class"
   ]
  },
  {
   "cell_type": "code",
   "execution_count": 93,
   "id": "ee8087a6",
   "metadata": {},
   "outputs": [],
   "source": [
    "z = c_child(3,4,5,  e=6,f=7,g=8 )"
   ]
  },
  {
   "cell_type": "code",
   "execution_count": 100,
   "id": "8fe58c30",
   "metadata": {},
   "outputs": [
    {
     "data": {
      "text/plain": [
       "6"
      ]
     },
     "execution_count": 100,
     "metadata": {},
     "output_type": "execute_result"
    }
   ],
   "source": [
    "z.e"
   ]
  },
  {
   "cell_type": "markdown",
   "id": "f0e0667d",
   "metadata": {},
   "source": [
    "### Multi Level Inheritance\n",
    "\n",
    "Properties of classA to classB and B to C and C to D and so on. So the last class will have all the above classes properties.\n",
    "\n",
    "In Multi Level Inheritance we get the data of all the methods with only one final class."
   ]
  },
  {
   "cell_type": "code",
   "execution_count": 25,
   "id": "a3e5caaf",
   "metadata": {},
   "outputs": [],
   "source": [
    "class c_parent1:\n",
    "    def __init__(self, a,b,c):\n",
    "        self.a = a\n",
    "        self.b = b\n",
    "        self.c = c\n",
    "    def test1(self):\n",
    "        print('Hi, I am from first class which is parent 1 ')\n",
    "        \n",
    "#The properties of class 1 will be get to class 2\n",
    "class c_parent2(c_parent1):\n",
    "        def test2(self):\n",
    "            print('This is class 2 which is c_parent2')\n",
    "\n",
    "#The properties of class 2 will be get to class 3 including the properties of class 1.\n",
    "class c_parent3(c_parent2):\n",
    "        def test3(self):\n",
    "            print('This is class 3 which is c_parent3')\n",
    "            \n",
    "#The properties of class 3 will be get to class 4 including the properties of class 2 and class 1.\n",
    "class c_parent4(c_parent3):\n",
    "        def test4(self):\n",
    "            print('This is class 4 which is c_parent4')"
   ]
  },
  {
   "cell_type": "code",
   "execution_count": 38,
   "id": "aaa8156c",
   "metadata": {},
   "outputs": [
    {
     "ename": "TypeError",
     "evalue": "__init__() missing 3 required positional arguments: 'a', 'b', and 'c'",
     "output_type": "error",
     "traceback": [
      "\u001b[1;31m---------------------------------------------------------------------------\u001b[0m",
      "\u001b[1;31mTypeError\u001b[0m                                 Traceback (most recent call last)",
      "\u001b[1;32m<ipython-input-38-aa1cd9d3c4d4>\u001b[0m in \u001b[0;36m<module>\u001b[1;34m\u001b[0m\n\u001b[1;32m----> 1\u001b[1;33m \u001b[0mv\u001b[0m \u001b[1;33m=\u001b[0m \u001b[0mc_parent3\u001b[0m\u001b[1;33m(\u001b[0m\u001b[1;33m)\u001b[0m\u001b[1;33m\u001b[0m\u001b[0m\n\u001b[0m",
      "\u001b[1;31mTypeError\u001b[0m: __init__() missing 3 required positional arguments: 'a', 'b', and 'c'"
     ]
    }
   ],
   "source": [
    "v = c_parent3()"
   ]
  },
  {
   "cell_type": "code",
   "execution_count": 39,
   "id": "24adafef",
   "metadata": {},
   "outputs": [],
   "source": [
    "# here we can't access class 4 properties\n",
    "v = c_parent3(2,3,4)"
   ]
  },
  {
   "cell_type": "code",
   "execution_count": 40,
   "id": "2eb204c4",
   "metadata": {},
   "outputs": [
    {
     "name": "stdout",
     "output_type": "stream",
     "text": [
      "This is class 2 which is c_parent2\n"
     ]
    }
   ],
   "source": [
    "v.test2()"
   ]
  },
  {
   "cell_type": "code",
   "execution_count": 44,
   "id": "27c40319",
   "metadata": {},
   "outputs": [],
   "source": [
    "# This is teh last class so we can access all the above classes.\n",
    "b = c_parent4(7,8,9)"
   ]
  },
  {
   "cell_type": "code",
   "execution_count": 45,
   "id": "41ce0443",
   "metadata": {},
   "outputs": [
    {
     "name": "stdout",
     "output_type": "stream",
     "text": [
      "This is class 4 which is c_parent4\n"
     ]
    }
   ],
   "source": [
    "b.test4()"
   ]
  },
  {
   "cell_type": "code",
   "execution_count": 50,
   "id": "d9e8737c",
   "metadata": {},
   "outputs": [
    {
     "name": "stdout",
     "output_type": "stream",
     "text": [
      "Hi, I am from first class which is parent 1 \n"
     ]
    }
   ],
   "source": [
    "#See here we used multi level inheritance and used parent1 function.\n",
    "v = c_parent2(7,8,9)\n",
    "v.test1()"
   ]
  },
  {
   "cell_type": "code",
   "execution_count": 159,
   "id": "e0d7d6f9",
   "metadata": {},
   "outputs": [],
   "source": [
    "#Q1 - create a  class for a file where we can read the file and write it with Inheritance.\n",
    "\n",
    "import logging\n",
    "\n",
    "logging.basicConfig(filename='log5.log',level=logging.DEBUG,format='%(asctime)s %(levelname)s %(message)s')\n",
    "\n",
    "class file_:\n",
    "    def __init__(self,n):\n",
    "        logging.info('Creating file instance variable')\n",
    "        self.n = n\n",
    "    \n",
    "    def read_(self):\n",
    "        logging.info('Reading the file')\n",
    "        try:\n",
    "            with open(f'{self.n}.txt','r') as w:\n",
    "                w.seek(0)\n",
    "                return w.read()\n",
    "        except Exception as e:\n",
    "            logging.error('Error:- ',e)\n",
    "            \n",
    "    def write_(self):\n",
    "        logging.info('writing the file')\n",
    "        try:\n",
    "            with open(f'{self.n}.txt','r+') as w:\n",
    "                i = input('Enter a text to save:- ')\n",
    "                w.write(i)\n",
    "                w.seek(0)\n",
    "                print(w.read())\n",
    "        except Exception as e:\n",
    "            logging.error('Error:- ',e)\n",
    "            \n",
    "            \n",
    "class file_ops(file_):\n",
    "    def truncate_(self):\n",
    "        logging.info('truncating the data in the file')\n",
    "        try:\n",
    "            w = open(f'{self.n}.txt','r+')\n",
    "            w.truncate(0)\n",
    "            print('Success')\n",
    "        except Exception as e:\n",
    "            logging.error('Error:- ',e)"
   ]
  },
  {
   "cell_type": "code",
   "execution_count": 160,
   "id": "453f0f94",
   "metadata": {},
   "outputs": [],
   "source": [
    "x = file_ops('test')"
   ]
  },
  {
   "cell_type": "code",
   "execution_count": 161,
   "id": "acf83405",
   "metadata": {},
   "outputs": [
    {
     "data": {
      "text/plain": [
       "''"
      ]
     },
     "execution_count": 161,
     "metadata": {},
     "output_type": "execute_result"
    }
   ],
   "source": [
    "x.read_()"
   ]
  },
  {
   "cell_type": "code",
   "execution_count": 162,
   "id": "b47bcb40",
   "metadata": {},
   "outputs": [
    {
     "name": "stdout",
     "output_type": "stream",
     "text": [
      "Enter a text to save:- hello krishna\n",
      "hello krishna\n"
     ]
    }
   ],
   "source": [
    "x.write_()"
   ]
  },
  {
   "cell_type": "code",
   "execution_count": 163,
   "id": "a06857ee",
   "metadata": {},
   "outputs": [
    {
     "name": "stdout",
     "output_type": "stream",
     "text": [
      "Success\n"
     ]
    }
   ],
   "source": [
    "x.truncate_()"
   ]
  },
  {
   "cell_type": "markdown",
   "id": "27717419",
   "metadata": {},
   "source": [
    "## Multiple Inheritance with Multi level inheritance"
   ]
  },
  {
   "cell_type": "code",
   "execution_count": 37,
   "id": "1609710d",
   "metadata": {},
   "outputs": [
    {
     "name": "stdout",
     "output_type": "stream",
     "text": [
      "A class init called.\n",
      "B class init called.\n",
      "C class init called.\n",
      "A class init called.\n",
      "D class init called.\n",
      "E class init called.\n",
      "1 2 3 4 5\n"
     ]
    }
   ],
   "source": [
    "class A:\n",
    "    def __init__(self, a):\n",
    "        self.a = a\n",
    "        print(\"A class init called.\")\n",
    "\n",
    "class B(A):\n",
    "    def __init__(self, a, b):\n",
    "        A.__init__(self, a)\n",
    "        self.b = b\n",
    "        print(\"B class init called.\")\n",
    "        \n",
    "class C(B):\n",
    "    def __init__(self, a, b, c):\n",
    "        B.__init__(self, a, b)\n",
    "        self.c = c\n",
    "        print(\"C class init called.\")\n",
    "\n",
    "class D(A):\n",
    "    def __init__(self, a, d):\n",
    "        A.__init__(self, a)\n",
    "        self.d = d\n",
    "        print(\"D class init called.\")\n",
    "\n",
    "class E(C, D):\n",
    "    def __init__(self, a, b, c, d, e):\n",
    "        C.__init__(self, a, b, c)\n",
    "        D.__init__(self, a, d)\n",
    "        self.e = e\n",
    "        print(\"E class init called.\")\n",
    "        \n",
    "e = E(1, 2, 3, 4, 5)\n",
    "print(e.a, e.b, e.c, e.d, e.e)\n"
   ]
  },
  {
   "cell_type": "code",
   "execution_count": null,
   "id": "e521a3fe",
   "metadata": {},
   "outputs": [],
   "source": []
  },
  {
   "cell_type": "markdown",
   "id": "baf9bdbb",
   "metadata": {},
   "source": [
    "# Hierarchical Inheritance\n",
    "\n",
    "Same parent class inherited to multiple child classes."
   ]
  },
  {
   "cell_type": "code",
   "execution_count": 59,
   "id": "b47ce997",
   "metadata": {},
   "outputs": [],
   "source": [
    "#parent class 1\n",
    "class Bird:\n",
    "    def Fly(self):\n",
    "        print('Hi this is a bird in parent class 1 which flies')\n",
    "    def Wings(self):\n",
    "        print('I am a bird from parent class 1 and i have wings')\n",
    "        \n",
    "#parent class 2\n",
    "class Fish:\n",
    "    def Swim(self):\n",
    "        print('Hi this is a Fish in parent class 2 which swims')\n",
    "    def Grills(self):\n",
    "        print('I am a Fish from parent class 2 and i have Grills')\n",
    "\n",
    "\n",
    "#child class 1 inheriting parent class 1\n",
    "class Parrot(Bird):\n",
    "    def c1(self):\n",
    "        print('This is a parraot in child class 1')\n",
    "        \n",
    "#child class 2 inheriting parent class 1\n",
    "class eagle(Bird):\n",
    "    def c2(self):\n",
    "        print('This is a eagle in child class 2')\n",
    "\n",
    "#child class 3 inheriting parent class 2\n",
    "class whale(Fish):\n",
    "    def c3(self):\n",
    "        print('This is a Wahle in child class 3')\n",
    "        "
   ]
  },
  {
   "cell_type": "code",
   "execution_count": 63,
   "id": "d4a946c3",
   "metadata": {},
   "outputs": [
    {
     "name": "stdout",
     "output_type": "stream",
     "text": [
      "Hi this is a bird in parent class 1 which flies\n",
      "I am a bird from parent class 1 and i have wings\n"
     ]
    }
   ],
   "source": [
    "#Here a single parent class is used by many child classes this is called Hierarchical\n",
    "z = Parrot()\n",
    "z.Fly()\n",
    "z.Wings()"
   ]
  },
  {
   "cell_type": "code",
   "execution_count": 66,
   "id": "0183898f",
   "metadata": {},
   "outputs": [
    {
     "name": "stdout",
     "output_type": "stream",
     "text": [
      "Hi this is a Fish in parent class 2 which swims\n",
      "I am a Fish from parent class 2 and i have Grills\n"
     ]
    }
   ],
   "source": [
    "b = Fish()\n",
    "b.Swim()\n",
    "b.Grills()"
   ]
  },
  {
   "cell_type": "markdown",
   "id": "d538a350",
   "metadata": {},
   "source": [
    "# Hybrid Inheritance"
   ]
  },
  {
   "cell_type": "raw",
   "id": "5761bda3",
   "metadata": {},
   "source": [
    "child 1 and child2 inherited from parent1. Now, child3 can be inherited from child1,child2 and aslo from parent1"
   ]
  },
  {
   "cell_type": "code",
   "execution_count": 17,
   "id": "d8598869",
   "metadata": {},
   "outputs": [
    {
     "ename": "TypeError",
     "evalue": "Cannot create a consistent method resolution\norder (MRO) for bases parent1, child1, child2",
     "output_type": "error",
     "traceback": [
      "\u001b[1;31m---------------------------------------------------------------------------\u001b[0m",
      "\u001b[1;31mTypeError\u001b[0m                                 Traceback (most recent call last)",
      "\u001b[1;32m<ipython-input-17-51254cde4508>\u001b[0m in \u001b[0;36m<module>\u001b[1;34m\u001b[0m\n\u001b[0;32m     14\u001b[0m         \u001b[0mprint\u001b[0m\u001b[1;33m(\u001b[0m\u001b[1;34m'This is method  from child class 2'\u001b[0m\u001b[1;33m)\u001b[0m\u001b[1;33m\u001b[0m\u001b[0m\n\u001b[0;32m     15\u001b[0m \u001b[1;33m\u001b[0m\u001b[0m\n\u001b[1;32m---> 16\u001b[1;33m \u001b[1;32mclass\u001b[0m \u001b[0mchild3\u001b[0m\u001b[1;33m(\u001b[0m\u001b[0mparent1\u001b[0m\u001b[1;33m,\u001b[0m\u001b[0mchild1\u001b[0m\u001b[1;33m,\u001b[0m\u001b[0mchild2\u001b[0m\u001b[1;33m)\u001b[0m\u001b[1;33m:\u001b[0m\u001b[1;33m\u001b[0m\u001b[0m\n\u001b[0m\u001b[0;32m     17\u001b[0m     \u001b[1;32mdef\u001b[0m \u001b[0mc3\u001b[0m\u001b[1;33m(\u001b[0m\u001b[0mself\u001b[0m\u001b[1;33m)\u001b[0m\u001b[1;33m:\u001b[0m\u001b[1;33m\u001b[0m\u001b[0m\n\u001b[0;32m     18\u001b[0m         \u001b[0mprint\u001b[0m\u001b[1;33m(\u001b[0m\u001b[1;34m'This is a method from child class 3'\u001b[0m\u001b[1;33m)\u001b[0m\u001b[1;33m\u001b[0m\u001b[0m\n",
      "\u001b[1;31mTypeError\u001b[0m: Cannot create a consistent method resolution\norder (MRO) for bases parent1, child1, child2"
     ]
    }
   ],
   "source": [
    "#If we put parent class first it was getting error.\n",
    "class parent1:\n",
    "    def p1(self):\n",
    "        print('This is method from parent class 1')\n",
    "        \n",
    "#single inheritance\n",
    "class child1(parent1):\n",
    "    def c1(self):\n",
    "        print('This is method  from child class 1')\n",
    "        \n",
    "#Multi level inheritance\n",
    "class child2(parent1):\n",
    "    def c2(self):\n",
    "        print('This is method  from child class 2')\n",
    "        \n",
    "class child3(parent1,child1,child2):\n",
    "    def c3(self):\n",
    "        print('This is a method from child class 3')"
   ]
  },
  {
   "cell_type": "code",
   "execution_count": 20,
   "id": "b52fcd76",
   "metadata": {},
   "outputs": [],
   "source": [
    "class parent1:\n",
    "    def p1(self):\n",
    "        print('This is method from parent class 1')\n",
    "        \n",
    "#single inheritance\n",
    "class child1(parent1):\n",
    "    def c1(self):\n",
    "        print('This is method  from child class 1')\n",
    "        \n",
    "#Multi level inheritance\n",
    "class child2(parent1):\n",
    "    def c2(self):\n",
    "        print('This is method  from child class 2')\n",
    "        \n",
    "class child3(child2,parent1):   \n",
    "    def c3(self):\n",
    "        print('This is a method from child class 3')"
   ]
  },
  {
   "cell_type": "code",
   "execution_count": 21,
   "id": "3c91bede",
   "metadata": {},
   "outputs": [],
   "source": [
    "x = child3()"
   ]
  },
  {
   "cell_type": "code",
   "execution_count": 26,
   "id": "4e725e24",
   "metadata": {},
   "outputs": [
    {
     "name": "stdout",
     "output_type": "stream",
     "text": [
      "This is method  from child class 2\n",
      "This is a method from child class 3\n",
      "This is method from parent class 1\n"
     ]
    }
   ],
   "source": [
    "#c1 is not geting bcoz we didn't mentioned child1\n",
    "x.c2()\n",
    "x.c3()\n",
    "x.p1()"
   ]
  },
  {
   "cell_type": "markdown",
   "id": "f367a5f6",
   "metadata": {},
   "source": [
    "# Super class"
   ]
  },
  {
   "cell_type": "raw",
   "id": "e4251059",
   "metadata": {},
   "source": [
    "  What is super class in Python?\n",
    "The super() function is used to give access to methods and properties of a parent or sibling class. The super() function returns an object that represents the parent class.\n",
    "\n",
    "super() is used when we need to build a classesIchild class) that extend the functionalities of previously build class(parent class).\n",
    "\n",
    "super class syntax\n",
    "\n",
    "class parentclass_name:\n",
    "    def method(self,a,b):\n",
    "        pass\n",
    "\n",
    "class class_name(parentclass_name):\n",
    "    def method(self,args):\n",
    "        super([class_name],[self]).method(args)"
   ]
  },
  {
   "cell_type": "code",
   "execution_count": 84,
   "id": "235b7212",
   "metadata": {},
   "outputs": [],
   "source": [
    "class parent1:\n",
    "    def p1(self):\n",
    "        self.c = 'krishna '\n",
    "        return self.c\n",
    "    \n",
    "class parent2:\n",
    "    def p2(self):\n",
    "        self.f = 777\n",
    "        return self.f\n",
    "    \n",
    "class child1(parent1,parent2):\n",
    "    def c1(self):\n",
    "        super().p1()  # here c is not getting in child class unless and untill we used super() class.\n",
    "        super().p2()\n",
    "        return self.c*2, self.f\n"
   ]
  },
  {
   "cell_type": "code",
   "execution_count": 85,
   "id": "ef642da6",
   "metadata": {},
   "outputs": [
    {
     "data": {
      "text/plain": [
       "('krishna krishna ', 777)"
      ]
     },
     "execution_count": 85,
     "metadata": {},
     "output_type": "execute_result"
    }
   ],
   "source": [
    "x= child1()\n",
    "x.p1()\n",
    "x.c1()"
   ]
  },
  {
   "cell_type": "code",
   "execution_count": 28,
   "id": "5ef15961",
   "metadata": {},
   "outputs": [],
   "source": [
    "class company:\n",
    "    def company_name(self):\n",
    "        return 'Concentrix'\n",
    "    \n",
    "class employee(company):\n",
    "    def emp_info(self):\n",
    "        c_name = super().company_name()\n",
    "        return ('Krishna lohith',c_name)"
   ]
  },
  {
   "cell_type": "code",
   "execution_count": 29,
   "id": "6709a78c",
   "metadata": {},
   "outputs": [],
   "source": [
    "x = employee()"
   ]
  },
  {
   "cell_type": "code",
   "execution_count": 30,
   "id": "61814afe",
   "metadata": {},
   "outputs": [
    {
     "data": {
      "text/plain": [
       "('Krishna lohith', 'Concentrix')"
      ]
     },
     "execution_count": 30,
     "metadata": {},
     "output_type": "execute_result"
    }
   ],
   "source": [
    "x.emp_info()"
   ]
  },
  {
   "cell_type": "code",
   "execution_count": 41,
   "id": "0752da7f",
   "metadata": {},
   "outputs": [],
   "source": [
    "class p1:\n",
    "    def __init__(self,a,b):\n",
    "        self.a = a\n",
    "        self.b = b\n",
    "    \n",
    "    \n",
    "#Extending the functionalities in paent 1  in child 1 class\n",
    "class child1(p1):\n",
    "    def __init__(self,a,b,c):   \n",
    "        super().__init__(a,b)  #initializing(or) using the parent class variables into child class using super()\n",
    "        self.c = c\n",
    "        "
   ]
  },
  {
   "cell_type": "code",
   "execution_count": 42,
   "id": "bf6e0d59",
   "metadata": {},
   "outputs": [],
   "source": [
    "c = child1(1,2,3)"
   ]
  },
  {
   "cell_type": "code",
   "execution_count": 43,
   "id": "03490ae3",
   "metadata": {},
   "outputs": [
    {
     "data": {
      "text/plain": [
       "3"
      ]
     },
     "execution_count": 43,
     "metadata": {},
     "output_type": "execute_result"
    }
   ],
   "source": [
    "c.c"
   ]
  },
  {
   "cell_type": "code",
   "execution_count": 64,
   "id": "4a853e42",
   "metadata": {},
   "outputs": [],
   "source": [
    "class p1:\n",
    "    def __init__(self):\n",
    "        print('This is parent 1 class 1 ')\n",
    "class p2:\n",
    "    def __init__(self):\n",
    "        print('This is parent 2 class 2 ')\n",
    "class p3:\n",
    "    def __init__(self):\n",
    "        print('This is parent 3 class 3 ')\n",
    "\n",
    "class child1(p2,p3,p1):\n",
    "    def __init__(self):\n",
    "        super().__init__()   #Here the init method calls the first class. which is p2\n",
    "        #super(child1,self).__init__()\n",
    "        print('This is a child class')"
   ]
  },
  {
   "cell_type": "code",
   "execution_count": 65,
   "id": "4c7d4272",
   "metadata": {},
   "outputs": [
    {
     "name": "stdout",
     "output_type": "stream",
     "text": [
      "This is parent 2 class 2 \n",
      "This is a child class\n"
     ]
    }
   ],
   "source": [
    "#Here the iniit method calls the first class. which is p2\n",
    "x = child1()"
   ]
  },
  {
   "cell_type": "markdown",
   "id": "fb929b0b",
   "metadata": {},
   "source": [
    "# Encapsulation\n",
    "Public  \n",
    "Private  \n",
    "Protected  "
   ]
  },
  {
   "cell_type": "markdown",
   "id": "5029c31e",
   "metadata": {},
   "source": [
    "###  Public"
   ]
  },
  {
   "cell_type": "code",
   "execution_count": 164,
   "id": "e18f6d2c",
   "metadata": {},
   "outputs": [],
   "source": [
    "# we can access and modify the values from parent class or child class bcoz the variables was in public "
   ]
  },
  {
   "cell_type": "code",
   "execution_count": 116,
   "id": "1d9f5fc0",
   "metadata": {},
   "outputs": [
    {
     "name": "stdout",
     "output_type": "stream",
     "text": [
      "4\n"
     ]
    },
    {
     "data": {
      "text/plain": [
       "4"
      ]
     },
     "execution_count": 116,
     "metadata": {},
     "output_type": "execute_result"
    }
   ],
   "source": [
    "class test:\n",
    "    def __init__(self, a):\n",
    "        self.a = a\n",
    "    \n",
    "class test1(test):\n",
    "    pass\n",
    "\n",
    "x = test(4)\n",
    "print(x.a)\n",
    "y = test1(4)\n",
    "y.a"
   ]
  },
  {
   "cell_type": "code",
   "execution_count": 117,
   "id": "cba4021e",
   "metadata": {},
   "outputs": [],
   "source": [
    "x.z = 100"
   ]
  },
  {
   "cell_type": "code",
   "execution_count": 118,
   "id": "7f837443",
   "metadata": {},
   "outputs": [
    {
     "data": {
      "text/plain": [
       "100"
      ]
     },
     "execution_count": 118,
     "metadata": {},
     "output_type": "execute_result"
    }
   ],
   "source": [
    "x.z"
   ]
  },
  {
   "cell_type": "code",
   "execution_count": 177,
   "id": "e4069ad9",
   "metadata": {},
   "outputs": [
    {
     "name": "stdout",
     "output_type": "stream",
     "text": [
      "4\n"
     ]
    },
    {
     "data": {
      "text/plain": [
       "7"
      ]
     },
     "execution_count": 177,
     "metadata": {},
     "output_type": "execute_result"
    }
   ],
   "source": [
    "# we have reassigned the same variable in another class.\n",
    "class test:\n",
    "    def __init__(self):\n",
    "        self.a = 4\n",
    "    \n",
    "class test1(test):\n",
    "    def __init__(self):\n",
    "        self.a = 7\n",
    "\n",
    "x = test()\n",
    "print(x.a)\n",
    "y = test1()\n",
    "y.a"
   ]
  },
  {
   "cell_type": "code",
   "execution_count": 178,
   "id": "3584ae5f",
   "metadata": {},
   "outputs": [
    {
     "name": "stdout",
     "output_type": "stream",
     "text": [
      "4\n"
     ]
    },
    {
     "data": {
      "text/plain": [
       "7"
      ]
     },
     "execution_count": 178,
     "metadata": {},
     "output_type": "execute_result"
    }
   ],
   "source": [
    "class test:\n",
    "    def __init__(self):\n",
    "        self.a = 4\n",
    "    \n",
    "class test1(test):\n",
    "    def __init__(self):\n",
    "        test.__init__(self)\n",
    "        self.a = 7\n",
    "\n",
    "x = test()\n",
    "print(x.a)\n",
    "y = test1()\n",
    "y.a"
   ]
  },
  {
   "cell_type": "code",
   "execution_count": null,
   "id": "4c795a96",
   "metadata": {},
   "outputs": [],
   "source": []
  },
  {
   "cell_type": "markdown",
   "id": "fbfb422e",
   "metadata": {},
   "source": [
    "### Protected and Private"
   ]
  },
  {
   "cell_type": "raw",
   "id": "ccdfbc7a",
   "metadata": {},
   "source": [
    "Public:-    classvariable.variable\n",
    "Protected:- classvariable._variable\n",
    "Private:-   classvariable._classname__variable  - we are hiding the variable in privatly so nobody knows the original class of it. so to access and modify it we need to call the original class name in which it was created.\n",
    "\n",
    "print(y._parentc__c)   # access the private variable by calling that particular class name."
   ]
  },
  {
   "cell_type": "code",
   "execution_count": 26,
   "id": "8897c972",
   "metadata": {},
   "outputs": [],
   "source": [
    "class parentc:\n",
    "    def __init__(self, a,b,c):\n",
    "        self.a = a    #public\n",
    "        self._b = b   #protected\n",
    "        self.__c = c  #private\n",
    "        \n",
    "class childc(parentc):\n",
    "    pass"
   ]
  },
  {
   "cell_type": "code",
   "execution_count": 27,
   "id": "e944e251",
   "metadata": {},
   "outputs": [
    {
     "name": "stdout",
     "output_type": "stream",
     "text": [
      "1\n",
      "2\n",
      "3\n"
     ]
    }
   ],
   "source": [
    "#we can able to access all the 3 from a parent class.\n",
    "x = parentc(1,2,3)\n",
    "print(x.a)\n",
    "print(x._b)\n",
    "print(x._parentc__c)"
   ]
  },
  {
   "cell_type": "code",
   "execution_count": 5,
   "id": "3bc47f2b",
   "metadata": {},
   "outputs": [
    {
     "name": "stdout",
     "output_type": "stream",
     "text": [
      "4\n",
      "5\n",
      "6\n"
     ]
    }
   ],
   "source": [
    "#accessing variables from a child class.\n",
    "\n",
    "y = childc(4,5,6)   # assigning a child class\n",
    "\n",
    "print(y.a)   # accessing a public variable from a child class.\n",
    "\n",
    "print(y._b)  # accessing a protected variable from a child class.\n",
    "\n",
    "#print(y._childc__c)  # we can't able to access a private varaible by calling a child class name\n",
    "\n",
    "print(y._parentc__c)   # access the private variable by calling that particular class name."
   ]
  },
  {
   "cell_type": "code",
   "execution_count": 67,
   "id": "356d3bfc",
   "metadata": {},
   "outputs": [],
   "source": [
    "#we can able to access the varibales from their own classes. even in child class.\n",
    "class parentc:\n",
    "    def __init__(self, a,b,c):\n",
    "        self.a = a    #public\n",
    "        self._b = b   #protected\n",
    "        self.__c = c  #private\n",
    "    def test1(self):\n",
    "        print('Hi this is parent class')\n",
    "        \n",
    "class childc(parentc):\n",
    "    def __init__(self, e,f,g):\n",
    "        self.e = e\n",
    "        self._f = f\n",
    "        self.__g = g\n",
    "    def test2(self):\n",
    "        print('Hi this is child 1 class')\n",
    "        \n",
    "class childc2(childc):\n",
    "    def test3(self):\n",
    "        print('Hi this is child 2 class')"
   ]
  },
  {
   "cell_type": "code",
   "execution_count": 17,
   "id": "9f2ca4c6",
   "metadata": {},
   "outputs": [
    {
     "name": "stdout",
     "output_type": "stream",
     "text": [
      "23\n",
      "45\n",
      "78\n"
     ]
    }
   ],
   "source": [
    "q = parentc(23,45,78)\n",
    "print(q.a)\n",
    "print(q._b)\n",
    "print(q._parentc__c)"
   ]
  },
  {
   "cell_type": "code",
   "execution_count": 18,
   "id": "968fb1f6",
   "metadata": {},
   "outputs": [
    {
     "name": "stdout",
     "output_type": "stream",
     "text": [
      "5\n",
      "6\n",
      "7\n"
     ]
    }
   ],
   "source": [
    "w = childc(5,6,7)\n",
    "print(w.e)\n",
    "print(w._f)\n",
    "print(w._childc__g)"
   ]
  },
  {
   "cell_type": "code",
   "execution_count": 23,
   "id": "47c1722c",
   "metadata": {},
   "outputs": [
    {
     "name": "stdout",
     "output_type": "stream",
     "text": [
      "8\n",
      "9\n",
      "0\n"
     ]
    }
   ],
   "source": [
    "u = childc2(8,9,0)\n",
    "print(u.e)\n",
    "print(u._f)\n",
    "print(u._childc__g)"
   ]
  },
  {
   "cell_type": "code",
   "execution_count": 68,
   "id": "e0e53e9d",
   "metadata": {},
   "outputs": [
    {
     "name": "stdout",
     "output_type": "stream",
     "text": [
      "Hi this is parent class\n"
     ]
    }
   ],
   "source": [
    "l = childc2(2,3,4)\n",
    "l.test1()\n",
    "#print(c.a)\n",
    "#print(u._b)\n",
    "#print(u._childc__c)"
   ]
  },
  {
   "cell_type": "raw",
   "id": "8cffa7c4",
   "metadata": {},
   "source": [
    "# We can modify a public and protected variables by just calling them (a,_b)\n",
    "# we can also able to modify a private variable using it's notation which is classvariablename._classname__variable"
   ]
  },
  {
   "cell_type": "code",
   "execution_count": 115,
   "id": "b1bf50ae",
   "metadata": {},
   "outputs": [],
   "source": [
    "#we can able to access the varibales from their own classes. even in child class.\n",
    "class parentc:\n",
    "    def __init__(self, a,b,c):\n",
    "        self.a = a    #public\n",
    "        self._b = b   #protected\n",
    "        self.__c = c  #private\n",
    "         \n",
    "class childc:\n",
    "    def __init__(self, e,f,g):\n",
    "        self.e = e\n",
    "        self._f = f\n",
    "        self.__g = g\n",
    "        \n",
    "class childc2(parentc,childc):\n",
    "    pass"
   ]
  },
  {
   "cell_type": "code",
   "execution_count": 82,
   "id": "13f111a5",
   "metadata": {},
   "outputs": [
    {
     "name": "stdout",
     "output_type": "stream",
     "text": [
      "8\n",
      "9\n",
      "0\n"
     ]
    }
   ],
   "source": [
    "x = childc2(8,9,0)\n",
    "print(x.a)\n",
    "print(x._b)\n",
    "print(x._parentc__c)"
   ]
  },
  {
   "cell_type": "code",
   "execution_count": 109,
   "id": "6a6bf4c3",
   "metadata": {},
   "outputs": [],
   "source": [
    "class parentc:\n",
    "    def __init__(self, empid, emprating):\n",
    "        self.empid = empid    \n",
    "        self.emprating = emprating\n",
    "        self._bonus = '20K'   #protected\n",
    "        self.__A = '90%'     #private\n",
    "        self.__B = '70%'\n",
    "        self.__C = '50%'\n",
    "    \n",
    "    def bcal(self):\n",
    "        if self.emprating == 'A':\n",
    "            bonus = self.__A\n",
    "            return bonus\n",
    "        elif self.emprating == 'B':\n",
    "            bonus = self.__B\n",
    "            return bonus\n",
    "        else:\n",
    "            bonus = self.__C\n",
    "            return bonus"
   ]
  },
  {
   "cell_type": "code",
   "execution_count": 110,
   "id": "4eb6a978",
   "metadata": {},
   "outputs": [],
   "source": [
    "emp1 = parentc(45,'A')\n",
    "emp2 = parentc(46,'B')\n",
    "emp3 = parentc(47,'C')"
   ]
  },
  {
   "cell_type": "code",
   "execution_count": 93,
   "id": "f4c52d68",
   "metadata": {},
   "outputs": [
    {
     "data": {
      "text/plain": [
       "45"
      ]
     },
     "execution_count": 93,
     "metadata": {},
     "output_type": "execute_result"
    }
   ],
   "source": [
    "emp1.empid     "
   ]
  },
  {
   "cell_type": "code",
   "execution_count": 94,
   "id": "b0525caf",
   "metadata": {},
   "outputs": [
    {
     "data": {
      "text/plain": [
       "'A'"
      ]
     },
     "execution_count": 94,
     "metadata": {},
     "output_type": "execute_result"
    }
   ],
   "source": [
    "emp1.emprating"
   ]
  },
  {
   "cell_type": "code",
   "execution_count": 95,
   "id": "32e89f1f",
   "metadata": {},
   "outputs": [
    {
     "data": {
      "text/plain": [
       "'90%'"
      ]
     },
     "execution_count": 95,
     "metadata": {},
     "output_type": "execute_result"
    }
   ],
   "source": [
    "emp1.bcal()"
   ]
  },
  {
   "cell_type": "code",
   "execution_count": 96,
   "id": "9876f995",
   "metadata": {},
   "outputs": [],
   "source": [
    "# modifying the employee id we can modify it bcoz it is a public varibale\n",
    "emp1.empid = 77 "
   ]
  },
  {
   "cell_type": "code",
   "execution_count": 97,
   "id": "2f2655f1",
   "metadata": {},
   "outputs": [
    {
     "data": {
      "text/plain": [
       "77"
      ]
     },
     "execution_count": 97,
     "metadata": {},
     "output_type": "execute_result"
    }
   ],
   "source": [
    "emp1.empid"
   ]
  },
  {
   "cell_type": "code",
   "execution_count": 99,
   "id": "34d34c50",
   "metadata": {},
   "outputs": [],
   "source": [
    "# modifying the employee rating we can modify it bcoz it is a public varibale\n",
    "emp1.emprating = 'C'"
   ]
  },
  {
   "cell_type": "code",
   "execution_count": 100,
   "id": "759d6c6c",
   "metadata": {},
   "outputs": [
    {
     "data": {
      "text/plain": [
       "'C'"
      ]
     },
     "execution_count": 100,
     "metadata": {},
     "output_type": "execute_result"
    }
   ],
   "source": [
    "emp1.emprating"
   ]
  },
  {
   "cell_type": "code",
   "execution_count": 101,
   "id": "f456dd03",
   "metadata": {},
   "outputs": [],
   "source": [
    "#we can't able to modify a private variable without giving it's class name.\n",
    "emp1.__A = '200%'"
   ]
  },
  {
   "cell_type": "code",
   "execution_count": 102,
   "id": "6fcfafef",
   "metadata": {},
   "outputs": [],
   "source": [
    "emp1 = parentc(45,'A')"
   ]
  },
  {
   "cell_type": "code",
   "execution_count": 103,
   "id": "3ba76773",
   "metadata": {},
   "outputs": [
    {
     "data": {
      "text/plain": [
       "'90%'"
      ]
     },
     "execution_count": 103,
     "metadata": {},
     "output_type": "execute_result"
    }
   ],
   "source": [
    "emp1.bcal()"
   ]
  },
  {
   "cell_type": "code",
   "execution_count": 104,
   "id": "3af710e6",
   "metadata": {},
   "outputs": [],
   "source": [
    "#we can able to modify a private variable with giving it's class name.\n",
    "emp1._parentc__A = '200%'"
   ]
  },
  {
   "cell_type": "code",
   "execution_count": 105,
   "id": "e6bbc5b7",
   "metadata": {},
   "outputs": [
    {
     "data": {
      "text/plain": [
       "'200%'"
      ]
     },
     "execution_count": 105,
     "metadata": {},
     "output_type": "execute_result"
    }
   ],
   "source": [
    "emp1.bcal()"
   ]
  },
  {
   "cell_type": "code",
   "execution_count": 112,
   "id": "8aa3a19b",
   "metadata": {},
   "outputs": [
    {
     "data": {
      "text/plain": [
       "'20K'"
      ]
     },
     "execution_count": 112,
     "metadata": {},
     "output_type": "execute_result"
    }
   ],
   "source": [
    "emp1._bonus"
   ]
  },
  {
   "cell_type": "code",
   "execution_count": 113,
   "id": "d0dc1f16",
   "metadata": {},
   "outputs": [],
   "source": [
    "# we can modify a protected variable\n",
    "emp1._bonus = '10K'"
   ]
  },
  {
   "cell_type": "code",
   "execution_count": 114,
   "id": "745d2254",
   "metadata": {},
   "outputs": [
    {
     "data": {
      "text/plain": [
       "'10K'"
      ]
     },
     "execution_count": 114,
     "metadata": {},
     "output_type": "execute_result"
    }
   ],
   "source": [
    "emp1._bonus"
   ]
  },
  {
   "cell_type": "code",
   "execution_count": null,
   "id": "87c58032",
   "metadata": {},
   "outputs": [],
   "source": []
  }
 ],
 "metadata": {
  "kernelspec": {
   "display_name": "Python 3",
   "language": "python",
   "name": "python3"
  },
  "language_info": {
   "codemirror_mode": {
    "name": "ipython",
    "version": 3
   },
   "file_extension": ".py",
   "mimetype": "text/x-python",
   "name": "python",
   "nbconvert_exporter": "python",
   "pygments_lexer": "ipython3",
   "version": "3.6.2"
  }
 },
 "nbformat": 4,
 "nbformat_minor": 5
}
