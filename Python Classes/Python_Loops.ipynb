{
 "cells": [
  {
   "cell_type": "markdown",
   "id": "16c2fb79",
   "metadata": {},
   "source": [
    "# Python_Loops"
   ]
  },
  {
   "cell_type": "markdown",
   "id": "57584b63",
   "metadata": {},
   "source": [
    "**Topics Covered:-**  \n",
    "If Else  \n",
    "For  \n",
    "While  "
   ]
  },
  {
   "cell_type": "markdown",
   "id": "71fc7fba",
   "metadata": {},
   "source": [
    "The if/else statement executes a block of code if a specified condition is true. If the condition is false, another block of code can be executed.  \n",
    "A for loop is used for iterating over a sequence (that is either a list, a tuple, a dictionary, a set, or a string). (if, else, nested if - inside for loop is possible)  \n",
    "\n",
    "Python while loop is used to run a block code until a certain condition is met.\n",
    "\n",
    "if,elif,else\n",
    "nested if,elif, else\n",
    "\n",
    "for loop, Nested for loop A nested loop is a loop inside a loop. The \"inner loop\" will be executed one time for each iteration of the \"outer loop\":  \n",
    "for - else:- The else keyword in a for loop specifies a block of code to be executed when the loop is finished  \n",
    "for loop - if, else\n",
    "for loop - nested if,elif, else\n",
    "\n",
    "Break - breaks the loop if a certain condition is met. With the break statement we can stop the loop before it has looped through all the items    \n",
    "Continue - Continues the loop if a certain condition is met. With the continue statement we can stop the current iteration of the loop, and continue with the next    \n",
    "Pass - Dead code pass will do nothing.  for loops cannot be empty, but if you for some reason have a for loop with no content, put in the pass statement to avoid getting an error.    \n",
    "\n",
    "While loops:- With the while loop we can execute a set of statements as long as a condition is true.  \n",
    "we can use break, continue and else, if-else,elif in a while loop"
   ]
  },
  {
   "cell_type": "markdown",
   "id": "bbb7e087",
   "metadata": {},
   "source": [
    "### if and else"
   ]
  },
  {
   "cell_type": "code",
   "execution_count": null,
   "id": "1f872561",
   "metadata": {},
   "outputs": [],
   "source": [
    "a = 200\n",
    "b = 33\n",
    "if b > a:\n",
    "  print(\"b is greater than a\")\n",
    "elif a == b:\n",
    "  print(\"a and b are equal\")\n",
    "else:\n",
    "  print(\"a is greater than b\")"
   ]
  },
  {
   "cell_type": "code",
   "execution_count": null,
   "id": "528a0912",
   "metadata": {},
   "outputs": [],
   "source": [
    "a = 2\n",
    "b = 330\n",
    "print(\"A\") if a > b else print(\"B\")"
   ]
  },
  {
   "cell_type": "code",
   "execution_count": null,
   "id": "c67a23ce",
   "metadata": {},
   "outputs": [],
   "source": [
    "a = 330\n",
    "b = 330\n",
    "print(\"A\") if a > b else print(\"=\") if a == b else print(\"B\")"
   ]
  },
  {
   "cell_type": "code",
   "execution_count": null,
   "id": "d93cc83d",
   "metadata": {},
   "outputs": [],
   "source": [
    "#pass\n",
    "# and\n",
    "#or\n",
    "#not"
   ]
  },
  {
   "cell_type": "code",
   "execution_count": null,
   "id": "63f18b79",
   "metadata": {},
   "outputs": [],
   "source": [
    "#Nested if\n",
    "x = 41\n",
    "\n",
    "if x > 10:\n",
    "  print(\"Above ten,\")\n",
    "  if x > 20:\n",
    "    print(\"and also above 20!\")\n",
    "  else:\n",
    "    print(\"but not above 20.\")"
   ]
  },
  {
   "cell_type": "code",
   "execution_count": null,
   "id": "80e63826",
   "metadata": {},
   "outputs": [],
   "source": [
    "l = [2,'doremon',45,78,12,\"krishna\",6+7j,[56,67,78,\"lohith\"]]"
   ]
  },
  {
   "cell_type": "code",
   "execution_count": null,
   "id": "82c15d8b",
   "metadata": {},
   "outputs": [],
   "source": [
    "# finding index using index method\n",
    "for i in l:\n",
    "    print(l.index(i))   # donot use index bcoz index picks only one from duplicates."
   ]
  },
  {
   "cell_type": "code",
   "execution_count": null,
   "id": "58206afc",
   "metadata": {},
   "outputs": [],
   "source": [
    "# finding index using range(len()) method\n",
    "for i in range(len(l)):\n",
    "    print(i, l[i])"
   ]
  },
  {
   "cell_type": "code",
   "execution_count": null,
   "id": "5fc21b9d",
   "metadata": {},
   "outputs": [],
   "source": [
    "# finding index using enumarate method getting tuple.\n",
    "for i in enumerate(l):\n",
    "    print(i)"
   ]
  },
  {
   "cell_type": "code",
   "execution_count": null,
   "id": "06d8e079",
   "metadata": {},
   "outputs": [],
   "source": [
    "# finding index using enumarate method without a tuple.\n",
    "for i,j in enumerate(l):\n",
    "    print(i, j)"
   ]
  },
  {
   "cell_type": "code",
   "execution_count": null,
   "id": "eac8e6da",
   "metadata": {},
   "outputs": [],
   "source": [
    "l"
   ]
  },
  {
   "cell_type": "code",
   "execution_count": null,
   "id": "05a7f0ac",
   "metadata": {},
   "outputs": [],
   "source": [
    "x =[]\n",
    "for i in l:\n",
    "    if type(i) == str:\n",
    "        x.append(i)\n",
    "    elif type(i)  == list:\n",
    "        for j in i:\n",
    "            if type(j) == str:\n",
    "                x.append(j)\n",
    "        print(x)"
   ]
  },
  {
   "cell_type": "code",
   "execution_count": null,
   "id": "a123850b",
   "metadata": {},
   "outputs": [],
   "source": [
    "# find all the list of char which has string\n",
    "for i in l:\n",
    "    if type(i) == str:\n",
    "        x = []\n",
    "        for k in i:\n",
    "            x.append(k)\n",
    "        print(x)\n",
    "    elif type(i) == list:          \n",
    "        for j in i:\n",
    "            if type(j) == str:\n",
    "                c = []\n",
    "                for p in j:\n",
    "                    c.append(p)\n",
    "                print(c)\n",
    "                "
   ]
  },
  {
   "cell_type": "code",
   "execution_count": null,
   "id": "d3def962",
   "metadata": {},
   "outputs": [],
   "source": [
    "\n",
    "x = []\n",
    "for i in l:\n",
    "    if type(i) == int:\n",
    "        x.append(i**2)\n",
    "print(x)"
   ]
  },
  {
   "cell_type": "code",
   "execution_count": null,
   "id": "2640f039",
   "metadata": {},
   "outputs": [],
   "source": [
    "x = [i**2 for i in l if type(i) == int ]"
   ]
  },
  {
   "cell_type": "code",
   "execution_count": null,
   "id": "0dc3b23a",
   "metadata": {},
   "outputs": [],
   "source": [
    "x"
   ]
  },
  {
   "cell_type": "markdown",
   "id": "54dd86ef",
   "metadata": {},
   "source": [
    "### For Else"
   ]
  },
  {
   "cell_type": "code",
   "execution_count": null,
   "id": "52e0bf47",
   "metadata": {},
   "outputs": [],
   "source": [
    "#Iterates whole for loop\n",
    "for i in l:\n",
    "    print(i)"
   ]
  },
  {
   "cell_type": "code",
   "execution_count": null,
   "id": "99fd7ae4",
   "metadata": {},
   "outputs": [],
   "source": [
    "for i in l:\n",
    "    print(i)\n",
    "else:\n",
    "    print(\"First iterates for loop and then after completion of the list then goes to else statement.\")"
   ]
  },
  {
   "cell_type": "code",
   "execution_count": null,
   "id": "258c73c9",
   "metadata": {},
   "outputs": [],
   "source": [
    "#If doremon is found then the loop breaks \n",
    "for i in l:\n",
    "    if i == \"doremon\":\n",
    "        break\n",
    "    print(i)\n",
    "else:\n",
    "    print(\"found\")"
   ]
  },
  {
   "cell_type": "markdown",
   "id": "81073b72",
   "metadata": {},
   "source": [
    "### While Loop\n",
    "\n",
    "Python while loop is used to run a block code until a certain condition is met.  "
   ]
  },
  {
   "cell_type": "code",
   "execution_count": 2,
   "id": "9efc8e7d",
   "metadata": {},
   "outputs": [
    {
     "name": "stdout",
     "output_type": "stream",
     "text": [
      "0\n",
      "1\n",
      "2\n",
      "3\n",
      "4\n",
      "5\n",
      "6\n",
      "7\n",
      "8\n",
      "9\n"
     ]
    }
   ],
   "source": [
    "a=0\n",
    "while a<10:\n",
    "    print(a)\n",
    "    a=a+1"
   ]
  },
  {
   "cell_type": "code",
   "execution_count": 3,
   "id": "7678b944",
   "metadata": {},
   "outputs": [
    {
     "name": "stdout",
     "output_type": "stream",
     "text": [
      "0\n",
      "1\n",
      "2\n",
      "3\n"
     ]
    }
   ],
   "source": [
    "#break\n",
    "a=0\n",
    "while a<4:\n",
    "    print(a)\n",
    "    if a == 3:\n",
    "        break\n",
    "    a=a+1"
   ]
  },
  {
   "cell_type": "code",
   "execution_count": null,
   "id": "8e7412d6",
   "metadata": {},
   "outputs": [],
   "source": [
    "# Gets 0 as infinite loop\n",
    "a=0\n",
    "while a<4:\n",
    "    print(a)\n",
    "    if a == 3:\n",
    "        break"
   ]
  },
  {
   "cell_type": "code",
   "execution_count": null,
   "id": "44f608d0",
   "metadata": {},
   "outputs": [],
   "source": [
    "#continue\n",
    "a=0\n",
    "while a<4:\n",
    "    print(a)\n",
    "    a=a+1\n",
    "    if a == 3:\n",
    "        continue"
   ]
  },
  {
   "cell_type": "code",
   "execution_count": null,
   "id": "f2f32d2e",
   "metadata": {},
   "outputs": [],
   "source": [
    "#Here continues gives a endless loop bcoz it continues to loop after a certain condition is true.\n",
    "a=0\n",
    "while a<4:\n",
    "    print(a)\n",
    "    if a == 3:\n",
    " #       continue\n",
    " #   a=a+1"
   ]
  },
  {
   "cell_type": "code",
   "execution_count": null,
   "id": "715858e7",
   "metadata": {},
   "outputs": [],
   "source": [
    "n = 0\n",
    "while n<4 :\n",
    "    print(n)\n",
    "    pass\n",
    "    print('after pass',n)"
   ]
  },
  {
   "cell_type": "code",
   "execution_count": null,
   "id": "59e7aa42",
   "metadata": {},
   "outputs": [],
   "source": [
    "for i in l:\n",
    "    pass\n",
    "    print(i)"
   ]
  },
  {
   "cell_type": "code",
   "execution_count": null,
   "id": "8bbe0a41",
   "metadata": {},
   "outputs": [],
   "source": [
    "n=0\n",
    "while n < 4:\n",
    "    print(n)\n",
    "    break"
   ]
  },
  {
   "cell_type": "code",
   "execution_count": null,
   "id": "4fa38243",
   "metadata": {},
   "outputs": [],
   "source": [
    "n=0\n",
    "while n<4:\n",
    "    print(n)\n",
    "    continue\n",
    "    print('after continue', n)"
   ]
  },
  {
   "cell_type": "code",
   "execution_count": null,
   "id": "46e3583b",
   "metadata": {},
   "outputs": [],
   "source": [
    "list(range(3,10))"
   ]
  },
  {
   "cell_type": "code",
   "execution_count": null,
   "id": "2fe2e8e7",
   "metadata": {},
   "outputs": [],
   "source": [
    "list(range(3,10,-1))"
   ]
  },
  {
   "cell_type": "code",
   "execution_count": null,
   "id": "056130f6",
   "metadata": {},
   "outputs": [],
   "source": [
    "list(range(10,2,-1))"
   ]
  },
  {
   "cell_type": "code",
   "execution_count": null,
   "id": "e79b93cb",
   "metadata": {},
   "outputs": [],
   "source": [
    "for i in range(5,0,-1):\n",
    "    print(i)"
   ]
  },
  {
   "cell_type": "code",
   "execution_count": 1,
   "id": "819c56de",
   "metadata": {},
   "outputs": [
    {
     "name": "stdout",
     "output_type": "stream",
     "text": [
      " * \r\n",
      " *  * \r\n",
      " *  *  * \r\n",
      " *  *  *  * \r\n",
      " *  *  *  *  * \r\n"
     ]
    }
   ],
   "source": [
    "n = 5\n",
    "for i in range(0,n):\n",
    "    for j in range(0,i+1):\n",
    "        print(' * ', end =\"\")\n",
    "    print('\\r')          # gets next line without getting a space"
   ]
  },
  {
   "cell_type": "code",
   "execution_count": null,
   "id": "191c5b72",
   "metadata": {},
   "outputs": [],
   "source": [
    "n = 5\n",
    "for i in range(0,n):\n",
    "    for j in range(0,i+1):\n",
    "        print('  ', end =\"\")\n",
    "    print('*')"
   ]
  },
  {
   "cell_type": "code",
   "execution_count": null,
   "id": "766a9272",
   "metadata": {},
   "outputs": [],
   "source": [
    "n = 5\n",
    "for i in range(n,0,-1):\n",
    "    for j in range(i):\n",
    "        print('  ', end =\"\")\n",
    "    print(' * ')\n",
    "    n = n-1"
   ]
  },
  {
   "cell_type": "code",
   "execution_count": null,
   "id": "e3427e46",
   "metadata": {},
   "outputs": [],
   "source": [
    "n=5\n",
    "for i in range(n,0,-1):\n",
    "    for j in range(n,0,-1):\n",
    "        print(\" * \", end = \"\")\n",
    "    print('\\r')"
   ]
  },
  {
   "cell_type": "code",
   "execution_count": null,
   "id": "3b53395a",
   "metadata": {},
   "outputs": [],
   "source": [
    "n = 5\n",
    "for i in range(n,0,-1):\n",
    "    for j in range(i):  #range(n)\n",
    "        print(' * ', end =\"\")\n",
    "    print('\\r')\n",
    "    n-=1"
   ]
  },
  {
   "cell_type": "code",
   "execution_count": null,
   "id": "329b20a2",
   "metadata": {},
   "outputs": [],
   "source": [
    "n=5\n",
    "for i in range(n,0,-1):\n",
    "    for j in range(i,0,-1):\n",
    "        print(\" * \", end = \"\")\n",
    "    print('\\r')\n",
    "        "
   ]
  },
  {
   "cell_type": "code",
   "execution_count": null,
   "id": "542022a8",
   "metadata": {},
   "outputs": [],
   "source": [
    "N = int(input())\n",
    "l = []\n",
    "for i in range(N-1):\n",
    "    l.append(N)\n"
   ]
  },
  {
   "cell_type": "markdown",
   "id": "a2832bdb",
   "metadata": {},
   "source": [
    "### Assignments"
   ]
  },
  {
   "cell_type": "code",
   "execution_count": null,
   "id": "4612107d",
   "metadata": {},
   "outputs": [],
   "source": [
    "s = 'krishna lohith' \n",
    "len(s)"
   ]
  },
  {
   "cell_type": "code",
   "execution_count": null,
   "id": "09d209ad",
   "metadata": {},
   "outputs": [],
   "source": [
    "count = 0\n",
    "for i in s:\n",
    "    count = count+1\n",
    "print(count)"
   ]
  },
  {
   "cell_type": "code",
   "execution_count": null,
   "id": "62ae2f69",
   "metadata": {},
   "outputs": [],
   "source": [
    "# Reverse of a string\n",
    "s[::-1]"
   ]
  },
  {
   "cell_type": "code",
   "execution_count": null,
   "id": "079d2598",
   "metadata": {},
   "outputs": [],
   "source": [
    "for i in range(len(s)-1, -1,-1):\n",
    "    print(s[i])"
   ]
  },
  {
   "cell_type": "code",
   "execution_count": null,
   "id": "5f1b016f",
   "metadata": {},
   "outputs": [],
   "source": [
    "s = 'krishna lohith'\n",
    "count = len(s)-1\n",
    "while count >= 0:\n",
    "    print(s[count], end = \"\")\n",
    "    count = count-1"
   ]
  },
  {
   "cell_type": "code",
   "execution_count": null,
   "id": "c650adf9",
   "metadata": {},
   "outputs": [],
   "source": [
    "# Checking vowels\n",
    "s = 'krishna lohith'\n",
    "v = 'AeEeIiOoUu'\n",
    "\n",
    "for i in s:\n",
    "    if i in v:\n",
    "        print(f\"{i} is a vowel \")\n",
    "    else:\n",
    "        print(f\"{i} is Not a vowel\")"
   ]
  },
  {
   "cell_type": "code",
   "execution_count": null,
   "id": "a6f4f68e",
   "metadata": {},
   "outputs": [],
   "source": [
    "\"k\" in \"krishna Lohith\""
   ]
  },
  {
   "cell_type": "code",
   "execution_count": null,
   "id": "4eaff659",
   "metadata": {},
   "outputs": [],
   "source": [
    "p = 'tenet'\n",
    "v = p\n",
    "n = len(p) - 1\n",
    "while n>=0:\n",
    "    n = n-1\n",
    "if v == n:\n",
    "    print(f'{p} is a palindorm')\n",
    "else:\n",
    "    print(f'{p} is Not a palindrom')\n"
   ]
  },
  {
   "cell_type": "code",
   "execution_count": null,
   "id": "c4b9518a",
   "metadata": {},
   "outputs": [],
   "source": [
    "p = 'tenet'\n",
    "v = p[::-1]\n",
    "if v==p:\n",
    "    print('palindrome')\n",
    "else:\n",
    "    print(\"not a palindrom\")"
   ]
  },
  {
   "cell_type": "code",
   "execution_count": null,
   "id": "25fb0a39",
   "metadata": {},
   "outputs": [],
   "source": [
    "#Palindrom\n",
    "p = input('Check palindrom or not:- ').upper()\n",
    "for i in range(len(p)):\n",
    "    if p[i] != p[len(p)-i-1]:\n",
    "        print(f'{p} is Not a Palindrom')\n",
    "        break\n",
    "else:\n",
    "    print(f'{p} is a palindrom')\n",
    "    "
   ]
  },
  {
   "cell_type": "code",
   "execution_count": null,
   "id": "6bc11240",
   "metadata": {},
   "outputs": [],
   "source": [
    "d = {\"India\" : \"IN\",\n",
    "     \"Canada\" : \"CA\",\n",
    "     \"china\": \"CH\",\n",
    "     \"united states\":\"US\"\n",
    "    }"
   ]
  },
  {
   "cell_type": "code",
   "execution_count": null,
   "id": "d8ddca42",
   "metadata": {},
   "outputs": [],
   "source": [
    "\"India\" in d  # by default searches in keys"
   ]
  },
  {
   "cell_type": "code",
   "execution_count": null,
   "id": "37f8013e",
   "metadata": {},
   "outputs": [],
   "source": [
    "s = 'car',\"krishna\",\"lohith\",\"mothukuri\",'god'\n",
    "for i in s:\n",
    "    if len(i)<=5:\n",
    "        print('less than 5')\n",
    "    else:\n",
    "        print('greater than 5')"
   ]
  },
  {
   "cell_type": "code",
   "execution_count": null,
   "id": "4c16f083",
   "metadata": {},
   "outputs": [],
   "source": [
    "# append keys in list 1 if length of keys is less than 5 or place in list 2\n",
    "list1 = []\n",
    "list2 = []\n",
    "for i in d:\n",
    "    if len(i) <= 5:\n",
    "        list1.append(i)\n",
    "    else:\n",
    "        list2.append(i)\n",
    "print('List which is less than 5:-    ',list1)\n",
    "print('List which is greater than 5:- ',list2)"
   ]
  },
  {
   "cell_type": "code",
   "execution_count": null,
   "id": "ba55ee21",
   "metadata": {},
   "outputs": [],
   "source": [
    "d = {\"ineuron\" : {\n",
    "                    \"a\": 14,\n",
    "                    \"b\":10,\n",
    "                    \"c\": 4\n",
    "                    }, \n",
    "        \"course\" :  {\n",
    "                      \"d\":45,\n",
    "                      \"e\":34,\n",
    "                      \"f\":1\n",
    "                    },\n",
    "     \"price\" :  {\n",
    "                      \"g\":85,\n",
    "                      \"h\":114,\n",
    "                      \"i\":10\n",
    "      }\n",
    "    }"
   ]
  },
  {
   "cell_type": "code",
   "execution_count": null,
   "id": "e4e338a1",
   "metadata": {},
   "outputs": [],
   "source": [
    "d"
   ]
  },
  {
   "cell_type": "code",
   "execution_count": null,
   "id": "ecf61329",
   "metadata": {},
   "outputs": [],
   "source": [
    "#max(d['ineuron'].values())\n",
    "#max(d['course'].values())"
   ]
  },
  {
   "cell_type": "code",
   "execution_count": null,
   "id": "414ba79f",
   "metadata": {},
   "outputs": [],
   "source": [
    "for i in d.values():\n",
    "    print(max(i.values())) "
   ]
  },
  {
   "cell_type": "code",
   "execution_count": null,
   "id": "84dd23af",
   "metadata": {},
   "outputs": [],
   "source": [
    "for i in d.keys():\n",
    "    print(max(d[i].values()))"
   ]
  },
  {
   "cell_type": "code",
   "execution_count": null,
   "id": "18c69e57",
   "metadata": {},
   "outputs": [],
   "source": [
    "lst = []\n",
    "for i in d.values():\n",
    "    for j in i.values():\n",
    "        lst.append(j)\n",
    "    print(max(lst))"
   ]
  },
  {
   "cell_type": "code",
   "execution_count": null,
   "id": "40d3683a",
   "metadata": {},
   "outputs": [],
   "source": [
    "for i in d:\n",
    "    print(d[i])"
   ]
  },
  {
   "cell_type": "code",
   "execution_count": null,
   "id": "7a0ac8c7",
   "metadata": {},
   "outputs": [],
   "source": [
    "l = [23,43,535,35,33,334,2323]\n",
    "max(l)"
   ]
  },
  {
   "cell_type": "code",
   "execution_count": null,
   "id": "6ad4a281",
   "metadata": {},
   "outputs": [],
   "source": [
    "#maximum of a list\n",
    "for i in l:\n",
    "    m = 0\n",
    "    if m < i:\n",
    "        m = i\n",
    "print(m)"
   ]
  },
  {
   "cell_type": "code",
   "execution_count": null,
   "id": "963efbb2",
   "metadata": {},
   "outputs": [],
   "source": [
    "# This dict doesn't have any iterable keys.\n",
    "d = {\"ineuron\" : {\n",
    "                    \"a\": 14,\n",
    "                    \"b\":10,\n",
    "                    \"c\": 4\n",
    "                    }, \n",
    "        \"course\" :  {\n",
    "                      \"d\":45,\n",
    "                      \"e\":34,\n",
    "                      \"f\":1\n",
    "                    },\n",
    "     \"price\" :  {\n",
    "                      \"g\":85,\n",
    "                      \"h\":114,\n",
    "                      \"i\":10\n",
    "      },  \"k\":[3,45,43,232,24,532,777],\"l\":(23,324,34),\"m\":\"krishna\"\n",
    "     \n",
    "    }"
   ]
  },
  {
   "cell_type": "code",
   "execution_count": null,
   "id": "1b0a9064",
   "metadata": {},
   "outputs": [],
   "source": [
    "for i in d.values():\n",
    "    if type(i) == dict:\n",
    "        print(max(i.values()))\n",
    "    else:\n",
    "        print(max(i))"
   ]
  },
  {
   "cell_type": "code",
   "execution_count": null,
   "id": "760b262c",
   "metadata": {},
   "outputs": [],
   "source": [
    "# This dict has iterable keys.\n",
    "d = {\"ineuron\" : {\n",
    "                    \"a\": 14,\n",
    "                    \"b\":10,\n",
    "                    \"c\": 4\n",
    "                    }, \n",
    "        \"course\" :  {\n",
    "                      \"d\":45,\n",
    "                      \"e\":34,\n",
    "                      \"f\":1\n",
    "                    },\n",
    "     \"price\" :  {\n",
    "                      \"g\":85,\n",
    "                      \"h\":114,\n",
    "                      \"i\":10\n",
    "      },  \"k\":[3,45,43,232,24,532,777],\"l\":(23,324,34),\"m\":\"krishna\",\n",
    "     'n':4+7j , \n",
    "     'p': 87.98,\n",
    "     \"j\": 888\n",
    "     \n",
    "    }"
   ]
  },
  {
   "cell_type": "code",
   "execution_count": null,
   "id": "00ccfc1f",
   "metadata": {},
   "outputs": [],
   "source": [
    "#d_1 = {\"k\":[3,45,43,232,24,532,777],\"l\":(23,324,34),\"m\":\"krishna\"}"
   ]
  },
  {
   "cell_type": "code",
   "execution_count": null,
   "id": "edd234e7",
   "metadata": {},
   "outputs": [],
   "source": [
    "for i in d.values():\n",
    "    print(i)"
   ]
  },
  {
   "cell_type": "code",
   "execution_count": null,
   "id": "6a6ee2ad",
   "metadata": {},
   "outputs": [],
   "source": [
    "lis = []\n",
    "for i in d.values(): \n",
    "    if type(i) == dict:\n",
    "        lis.append(max(i.values()))\n",
    "    else:\n",
    "        lis.append(max(i))\n",
    "print(lis)\n",
    "              "
   ]
  },
  {
   "cell_type": "code",
   "execution_count": null,
   "id": "546c41b9",
   "metadata": {},
   "outputs": [],
   "source": [
    "# Getting Maximum value in each value in dict\n",
    "lis = []\n",
    "for i in d.values(): \n",
    "    if type(i) == dict:\n",
    "        lis.append(max(i.values()))\n",
    "    elif type(i) == list:\n",
    "        lis.append(max(i))\n",
    "    elif type(i) == tuple:\n",
    "        lis.append(max(i))\n",
    "    \n",
    "    elif type(i) == float:\n",
    "        lis.append(i)\n",
    "    elif type(i) == complex:\n",
    "        lis.append(i)\n",
    "    elif type(i) == str:\n",
    "        lis.append(i)\n",
    "    elif type(i) == int:\n",
    "        lis.append(i)\n",
    "    else:\n",
    "        pass\n",
    "print(lis)\n",
    "              "
   ]
  },
  {
   "cell_type": "code",
   "execution_count": null,
   "id": "6facc40a",
   "metadata": {},
   "outputs": [],
   "source": [
    "# Getting Maximum value in whole dict\n",
    "lis = []\n",
    "for i in d.values(): \n",
    "    if type(i) == dict:                     # List, Dict, Tuple are lists so iterables\n",
    "        lis.append(max(i.values()))\n",
    "    elif type(i) == list:\n",
    "        lis.append(max(i))\n",
    "    elif type(i) == tuple:\n",
    "        lis.append(max(i))\n",
    "        \n",
    "    elif type(i) == str:           # Str, complex, int are non iterables \n",
    "        pass\n",
    "    elif type(i) == complex:\n",
    "        pass\n",
    "    else:\n",
    "        lis.append(i)\n",
    "print( max(lis), type(max(lis)))\n",
    "              "
   ]
  },
  {
   "cell_type": "code",
   "execution_count": null,
   "id": "d95fd41f",
   "metadata": {},
   "outputs": [],
   "source": [
    "# Getting Maximum value in whole dict\n",
    "lis = []\n",
    "for i in d.values(): \n",
    "    if type(i) == dict:                     # List, Dict, Tuple are lists so iterables\n",
    "        lis.append(max(i.values()))\n",
    "    elif type(i) == list or type(i) == tuple:\n",
    "        lis.append(max(i))\n",
    "    elif type(i) == int:\n",
    "        lis.append(i)\n",
    "    elif type(i) == str or type(i) == complex:          # Str, complex, int are non iterables \n",
    "        pass\n",
    "    else:\n",
    "        lis.append(i)\n",
    "print( max(lis), type(max(lis)))\n",
    "              "
   ]
  },
  {
   "cell_type": "code",
   "execution_count": null,
   "id": "9a94b6bb",
   "metadata": {},
   "outputs": [],
   "source": []
  }
 ],
 "metadata": {
  "kernelspec": {
   "display_name": "Python 3",
   "language": "python",
   "name": "python3"
  },
  "language_info": {
   "codemirror_mode": {
    "name": "ipython",
    "version": 3
   },
   "file_extension": ".py",
   "mimetype": "text/x-python",
   "name": "python",
   "nbconvert_exporter": "python",
   "pygments_lexer": "ipython3",
   "version": "3.6.2"
  }
 },
 "nbformat": 4,
 "nbformat_minor": 5
}
