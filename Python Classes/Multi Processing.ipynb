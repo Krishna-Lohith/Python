{
 "cells": [
  {
   "cell_type": "markdown",
   "id": "5179855a",
   "metadata": {},
   "source": [
    "# Multi Processing"
   ]
  },
  {
   "cell_type": "code",
   "execution_count": null,
   "id": "af271d13",
   "metadata": {},
   "outputs": [],
   "source": []
  },
  {
   "cell_type": "markdown",
   "id": "0b436912",
   "metadata": {},
   "source": [
    "In computing, a process is an instance of a program that is executing on a computer system. A multiprocessing system is one in which two or more processors are used to execute multiple tasks at the same time.\n",
    "\n",
    "Multiprocessing refers to the use of multiple processes or threads to accomplish a task. It can be used to achieve concurrency, where multiple tasks are performed simultaneously, improving the overall performance of the system.\n",
    "\n",
    "Multiprocessing is commonly used in applications that require intensive computation, such as scientific simulations, data analysis, and image processing. It is also used in web applications, server-side software, and other systems that require high throughput and low response times.\n",
    "\n",
    "In Python, the multiprocessing module provides a way to create and manage multiple processes. The module allows developers to write code that runs concurrently in separate processes, which can help to improve the performance of the application.\n",
    "\n",
    "Multiprocessing is useful for a variety of reasons, including:\n",
    "\n",
    "Improved performance: Multiprocessing can help to improve the overall performance of a system by allowing multiple tasks to be executed simultaneously.\n",
    "\n",
    "Parallelism: Multiprocessing enables parallelism, which can help to reduce the time required to complete a task.\n",
    "\n",
    "Resource utilization: Multiprocessing can help to utilize system resources more efficiently, by allowing multiple processes to share the same resources, such as memory and disk space.\n",
    "\n",
    "Isolation: Multiprocessing provides isolation between processes, which can help to prevent issues such as race conditions and deadlocks.\n",
    "\n",
    "Overall, multiprocessing is a powerful technique for improving the performance and scalability of software applications. It can help to reduce the time required to complete complex tasks and improve the overall efficiency of the system."
   ]
  },
  {
   "cell_type": "code",
   "execution_count": null,
   "id": "7aabc14a",
   "metadata": {},
   "outputs": [],
   "source": []
  },
  {
   "cell_type": "markdown",
   "id": "0d529587",
   "metadata": {},
   "source": [
    "In Python's multiprocessing module, the target parameter refers to the callable object or function that the child process will run when it is started.\n",
    "\n",
    "When a new process is created using the Process class in multiprocessing, the target parameter is used to specify the function that the process should run. This function must be defined in the main module of the program, and it should take no arguments. If arguments need to be passed to the function, they can be passed using the args parameter."
   ]
  },
  {
   "cell_type": "code",
   "execution_count": null,
   "id": "7ec4a9f2",
   "metadata": {},
   "outputs": [],
   "source": [
    "import multiprocessing\n",
    "\n",
    "def my_function():\n",
    "    # code to be executed by child process\n",
    "    pass\n",
    "\n",
    "if __name__ == '__main__':\n",
    "    # create a new process that will run my_function\n",
    "    p = multiprocessing.Process(target=my_function)\n",
    "    p.start()"
   ]
  }
 ],
 "metadata": {
  "kernelspec": {
   "display_name": "Python 3",
   "language": "python",
   "name": "python3"
  },
  "language_info": {
   "codemirror_mode": {
    "name": "ipython",
    "version": 3
   },
   "file_extension": ".py",
   "mimetype": "text/x-python",
   "name": "python",
   "nbconvert_exporter": "python",
   "pygments_lexer": "ipython3",
   "version": "3.6.2"
  }
 },
 "nbformat": 4,
 "nbformat_minor": 5
}
