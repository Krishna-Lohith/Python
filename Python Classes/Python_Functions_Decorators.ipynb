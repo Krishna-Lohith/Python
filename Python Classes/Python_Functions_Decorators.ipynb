{
 "cells": [
  {
   "cell_type": "markdown",
   "id": "c35ef91c",
   "metadata": {},
   "source": [
    "# Python_Functions_Decorators"
   ]
  },
  {
   "cell_type": "markdown",
   "id": "cd73a1b3",
   "metadata": {},
   "source": [
    "**Topics Covered:-**  \n",
    "1) mutiple arguments( * , ** )  \n",
    "2) Nested Functions  \n",
    "3) Functions as an arguments  \n",
    "4) Decorators  \n",
    "\n",
    "5) lambda_comprehensions  \n",
    "6) Iterators_Iterabels  "
   ]
  },
  {
   "cell_type": "markdown",
   "id": "ff3c44ff",
   "metadata": {},
   "source": [
    "## * args and **kwargs"
   ]
  },
  {
   "cell_type": "markdown",
   "id": "41943470",
   "metadata": {},
   "source": [
    "can use single static after double static  ( * as, ** kvas)  \n",
    "cannot use double static after single static  ( ** kvas, * as)  \n",
    "positional argument follows keyword argument   \n",
    "\n",
    "\n",
    " * 0 to n number of arugemnets (values).   \n",
    " *anyname - we can pass this when we need to assign multiple arguments, n number of arguments.  \n",
    " *args - args is a standard keyword but we can use anyname.  \n",
    "n number of any type of arguments(include - str, int, float, complex, list, set, tuple, dict)  \n",
    "positional arguments. (a,b,c,*args,d,e)    \n",
    "No need to assign positions before *args, but we need to assign positions after *args  \n",
    "** - n number of arguments (key, values)      \n",
    "test8(a=1, c=2, d =(1,2,3,4), b=[3,4,5,6])   #Assign values to the keys- a,b,c,d are keys  \n",
    "Don't give same variable which is same as in a function.  \n",
    "\n",
    "Simple function the use lambda   \n",
    "n = lambda a,b: a*b  \n",
    "n(2,7)  \n",
    "*args  "
   ]
  },
  {
   "cell_type": "code",
   "execution_count": null,
   "id": "fa23aeab",
   "metadata": {},
   "outputs": [],
   "source": [
    "def test(a,b,c,d,e,f):\n",
    "    return a,b,c,d,e,f\n",
    "\n",
    "test(2,3,4,5,6,7)"
   ]
  },
  {
   "cell_type": "code",
   "execution_count": null,
   "id": "d9ab8d33",
   "metadata": {},
   "outputs": [],
   "source": [
    "def test1(*args):\n",
    "    return args"
   ]
  },
  {
   "cell_type": "code",
   "execution_count": null,
   "id": "ad880be5",
   "metadata": {},
   "outputs": [],
   "source": [
    "test1(2,3,4,5)"
   ]
  },
  {
   "cell_type": "code",
   "execution_count": null,
   "id": "9c14b8f0",
   "metadata": {},
   "outputs": [],
   "source": [
    "test1([1,2,3],(3,5,6),{2,3,3,4})"
   ]
  },
  {
   "cell_type": "code",
   "execution_count": null,
   "id": "e757976f",
   "metadata": {},
   "outputs": [],
   "source": [
    "def tes(a, *krish):     # a - specific variable, *krish - n number of arguments.  \n",
    "    return  krish, a"
   ]
  },
  {
   "cell_type": "code",
   "execution_count": null,
   "id": "f9579132",
   "metadata": {},
   "outputs": [],
   "source": [
    "tes(22, 44,  33)# here we didn't assigned which value for a and which values are for *krish\n",
    "                #by default a will take the first value(bcoz a placed before *krish)"
   ]
  },
  {
   "cell_type": "code",
   "execution_count": null,
   "id": "f65d3ede",
   "metadata": {},
   "outputs": [],
   "source": [
    "def test3(*krish, a): # a - specific variable, *krish - n number of arguments.  \n",
    "    return krish, a"
   ]
  },
  {
   "cell_type": "code",
   "execution_count": null,
   "id": "bce34436",
   "metadata": {},
   "outputs": [],
   "source": [
    "test3(34,33,7)  #function can't understand which one is the value for a, bcoz a placed after *krish"
   ]
  },
  {
   "cell_type": "code",
   "execution_count": null,
   "id": "b890b813",
   "metadata": {},
   "outputs": [],
   "source": [
    "test3(34,33, a=7)   # so assign the arguments which are present after *args"
   ]
  },
  {
   "cell_type": "code",
   "execution_count": null,
   "id": "b841f98c",
   "metadata": {},
   "outputs": [],
   "source": [
    "test3(a=7, 34,33)    #positions are not matching"
   ]
  },
  {
   "cell_type": "code",
   "execution_count": null,
   "id": "3f00bb15",
   "metadata": {},
   "outputs": [],
   "source": [
    "def test4(a,*args):\n",
    "    return a, args"
   ]
  },
  {
   "cell_type": "code",
   "execution_count": null,
   "id": "eecacbed",
   "metadata": {},
   "outputs": [],
   "source": [
    "test4('krish',33,44, 32)"
   ]
  },
  {
   "cell_type": "code",
   "execution_count": null,
   "id": "21dde5cb",
   "metadata": {},
   "outputs": [],
   "source": [
    "def test4(a,b, *args, c,d):\n",
    "    return args, a,b,c,d"
   ]
  },
  {
   "cell_type": "code",
   "execution_count": null,
   "id": "11b038ee",
   "metadata": {},
   "outputs": [],
   "source": [
    "# No need to assign positions before *args, but we need to assign positions after *args\n",
    "test4('krish',77,   34, 321, 2,   c=3, d=4)    # here 34,321,2 are args bcoz we have denoted them in between."
   ]
  },
  {
   "cell_type": "code",
   "execution_count": null,
   "id": "a014ac94",
   "metadata": {},
   "outputs": [],
   "source": [
    "def test5(*args):\n",
    "    return args"
   ]
  },
  {
   "cell_type": "code",
   "execution_count": null,
   "id": "7bd80373",
   "metadata": {},
   "outputs": [],
   "source": [
    "test5([2,'k',3.8,9-6j],(2,'k',3.8,9-6j),{2,'k',3.8,9-6j},{'a':2,'b':4})"
   ]
  },
  {
   "cell_type": "code",
   "execution_count": null,
   "id": "52b8d2f9",
   "metadata": {},
   "outputs": [],
   "source": [
    "def test6(*args):\n",
    "    for i in args:\n",
    "        if type(i) == list:\n",
    "            return i"
   ]
  },
  {
   "cell_type": "code",
   "execution_count": null,
   "id": "5c3f26a6",
   "metadata": {},
   "outputs": [],
   "source": [
    "test6(2,'k',3.8,9-6j,[2,'k',3.8,9-6j],2,'k',3.8,9-6j)"
   ]
  },
  {
   "cell_type": "code",
   "execution_count": null,
   "id": "56d48bf8",
   "metadata": {},
   "outputs": [],
   "source": [
    "test6([2,'k',3.8,9-6j],(2,'k',3.8,9-6j),{2,'k',3.8,9-6j},{'a':2,'b':4})"
   ]
  },
  {
   "cell_type": "code",
   "execution_count": null,
   "id": "0a77c3a2",
   "metadata": {},
   "outputs": [],
   "source": [
    "test6(2,'k',3.8,9-6j,[2,'k',3.8,9-6j],2,'k',3.8,9-6j,[3,'u',6.9,3-7j])\n",
    "# from test6() function we gets only starting list."
   ]
  },
  {
   "cell_type": "code",
   "execution_count": null,
   "id": "0ec502f0",
   "metadata": {},
   "outputs": [],
   "source": [
    "def test7(*args):\n",
    "    l = []\n",
    "    for i in args:\n",
    "        if type(i) == list:\n",
    "            l.append(i)\n",
    "    return l"
   ]
  },
  {
   "cell_type": "code",
   "execution_count": null,
   "id": "14e32319",
   "metadata": {},
   "outputs": [],
   "source": [
    "test7(2,'k',3.8,9-6j,[2,'k',3.8,9-6j],2,'k',3.8,9-6j,[3,'u',6.9,3-7j])"
   ]
  },
  {
   "cell_type": "code",
   "execution_count": null,
   "id": "147997a7",
   "metadata": {},
   "outputs": [],
   "source": [
    "# This dict doesn't have any iterable keys.\n",
    "d = {\"ineuron\" : {\n",
    "                    \"a\": 14,\n",
    "                    \"b\":10,\n",
    "                    \"c\": 4\n",
    "                    }, \n",
    "        \"course\" :  {\n",
    "                      \"d\":45,\n",
    "                      \"e\":34,\n",
    "                      \"f\":1\n",
    "                    },\n",
    "     \"price\" :  {\n",
    "                      \"g\":85,\n",
    "                      \"h\":114,\n",
    "                      \"i\":10\n",
    "      },  \"k\":[3,45,43,232,24,532,777],\n",
    "     \"l\":(23,324,34),\n",
    "     \"m\":\"krishna\",\n",
    "     \"n\" : 88\n",
    "    }"
   ]
  },
  {
   "cell_type": "code",
   "execution_count": null,
   "id": "fc17c174",
   "metadata": {},
   "outputs": [],
   "source": [
    "d[\"price\"]"
   ]
  },
  {
   "cell_type": "markdown",
   "id": "7e46e305",
   "metadata": {},
   "source": [
    "## Double stars\n",
    "\n",
    "dict_func( ** kwargs):   \n",
    "    return kwargs\n",
    "\n",
    "dict_func(a=1,b=2,c=3)  \n",
    "USed for dictionary functions  \n",
    "Assign values to the keys- a,b,c,d are keys   \n",
    "Not able to pass a number as a key    \n",
    "def test9(**  kwargs, a):   #we can't able to assign unique argumrnts after ** kwargs.  \n",
    "doublr ** kwargs should be at last position in a function.  "
   ]
  },
  {
   "cell_type": "code",
   "execution_count": null,
   "id": "585f51f4",
   "metadata": {},
   "outputs": [],
   "source": [
    "def test8(**kwargs):\n",
    "    return kwargs"
   ]
  },
  {
   "cell_type": "code",
   "execution_count": null,
   "id": "19a88927",
   "metadata": {},
   "outputs": [],
   "source": [
    "test8(a=1, b=[2,3,4,5,6])   # assign keys and values"
   ]
  },
  {
   "cell_type": "code",
   "execution_count": null,
   "id": "e2d8a250",
   "metadata": {},
   "outputs": [],
   "source": [
    "test8(a=1 ,2, b=[3,4,5,6])   #always apply any collection type when assigning multiple values."
   ]
  },
  {
   "cell_type": "code",
   "execution_count": null,
   "id": "39bd3da5",
   "metadata": {},
   "outputs": [],
   "source": [
    "test8( f='krishna',v = '344', a=1, c=2, d =(1,2,3,4), b=[3,4,5,6])   #Assign values to the keys- a,b,c,d are keys"
   ]
  },
  {
   "cell_type": "code",
   "execution_count": null,
   "id": "73bafad3",
   "metadata": {},
   "outputs": [],
   "source": [
    "type(test8())"
   ]
  },
  {
   "cell_type": "code",
   "execution_count": null,
   "id": "93da4ede",
   "metadata": {},
   "outputs": [],
   "source": [
    "def test9(a, **kwargs):\n",
    "    return a, kwargs"
   ]
  },
  {
   "cell_type": "code",
   "execution_count": null,
   "id": "0a5a7601",
   "metadata": {},
   "outputs": [],
   "source": [
    "test9(77, b = [3,4,5,6,7,88,99])"
   ]
  },
  {
   "cell_type": "code",
   "execution_count": null,
   "id": "a8520238",
   "metadata": {},
   "outputs": [],
   "source": [
    "def test9(**kwargs, a):   #we can't able to assign unique argumrnts after **kwargs.\n",
    "    return kwargs, a"
   ]
  },
  {
   "cell_type": "code",
   "execution_count": null,
   "id": "11a393c9",
   "metadata": {},
   "outputs": [],
   "source": [
    "def test10(a, **kwargs, *args):  # cannot use double static after single static \n",
    "    return a, kwargs, args"
   ]
  },
  {
   "cell_type": "code",
   "execution_count": null,
   "id": "f4f001e4",
   "metadata": {},
   "outputs": [],
   "source": [
    "def test11(a, *args, **kwargs):  # can use single static after double static\n",
    "    return a, args, kwargs"
   ]
  },
  {
   "cell_type": "code",
   "execution_count": null,
   "id": "c6cec867",
   "metadata": {},
   "outputs": [],
   "source": [
    "test11(1,2, 22,33,44, c = 77, b = 88) "
   ]
  },
  {
   "cell_type": "markdown",
   "id": "15e2b2b9",
   "metadata": {},
   "source": [
    "### Function as an argument"
   ]
  },
  {
   "cell_type": "code",
   "execution_count": null,
   "id": "a76da74c",
   "metadata": {},
   "outputs": [],
   "source": [
    "def t1(a):\n",
    "    return a\n",
    "\n",
    "t1('krishna')\n",
    "\n",
    "def t2(b):\n",
    "    return b*2\n",
    "\n",
    "def t3(c):\n",
    "    return c('lohith')     # t2(something)\n",
    "\n",
    "#t3('krishna')  - string is not callable"
   ]
  },
  {
   "cell_type": "code",
   "execution_count": null,
   "id": "03d5349a",
   "metadata": {},
   "outputs": [],
   "source": [
    "# t3(t1) which means t1 is an argument for t3.  so c = t1 in t3.\n",
    "# inside t3 function states that c('lohith') which means t1('lohith')\n",
    "# Now function return t1(a) so here t1('lohith'). inside t1 returns a which means 'lohith'\n",
    "\n",
    "t3(t1)"
   ]
  },
  {
   "cell_type": "code",
   "execution_count": null,
   "id": "593d5fe5",
   "metadata": {},
   "outputs": [],
   "source": [
    "t3(t2)"
   ]
  },
  {
   "cell_type": "code",
   "execution_count": null,
   "id": "06b907eb",
   "metadata": {},
   "outputs": [],
   "source": [
    "def t1(a):\n",
    "    return a\n",
    "\n",
    "#def t2(): \n",
    "def t2():   # *args takes 0 to n arguments\n",
    "    return 'krish', 77\n",
    "\n",
    "def t3(c):\n",
    "    return c('lohith')\n",
    "\n",
    "#t3('krishna')  - string is not callable"
   ]
  },
  {
   "cell_type": "code",
   "execution_count": null,
   "id": "abb9a9f6",
   "metadata": {},
   "outputs": [],
   "source": [
    "t3(t1)"
   ]
  },
  {
   "cell_type": "code",
   "execution_count": null,
   "id": "3ca27ce6",
   "metadata": {},
   "outputs": [],
   "source": [
    "t3(t2)"
   ]
  },
  {
   "cell_type": "code",
   "execution_count": null,
   "id": "14354903",
   "metadata": {},
   "outputs": [],
   "source": [
    "def t2(*args):   # *args takes 0 to n arguments\n",
    "    return 'krish', 77, args"
   ]
  },
  {
   "cell_type": "code",
   "execution_count": null,
   "id": "70619533",
   "metadata": {},
   "outputs": [],
   "source": [
    "t3(t2)"
   ]
  },
  {
   "cell_type": "markdown",
   "id": "ed351ce9",
   "metadata": {},
   "source": [
    "### Function inside a function"
   ]
  },
  {
   "cell_type": "markdown",
   "id": "4977dfb0",
   "metadata": {},
   "source": [
    "#### Decorator\n",
    "When festivals we decorate the house with external things but we will not change the home. So the base is same but we will change or modify other things with the help of that function.\n",
    "\n",
    "Using a function in other function"
   ]
  },
  {
   "cell_type": "code",
   "execution_count": null,
   "id": "72920c96",
   "metadata": {},
   "outputs": [],
   "source": [
    "def t4():\n",
    "    print('this is t4')\n",
    "    \n",
    "    def t5():\n",
    "        print('this is t5')\n",
    "    \n",
    "    def t6():\n",
    "        print('this is t6')"
   ]
  },
  {
   "cell_type": "code",
   "execution_count": null,
   "id": "c0653b07",
   "metadata": {},
   "outputs": [],
   "source": [
    "t4()"
   ]
  },
  {
   "cell_type": "code",
   "execution_count": null,
   "id": "cc25cbab",
   "metadata": {},
   "outputs": [],
   "source": [
    "#How to call t5 or t6\n",
    "# local functions so we used if and else\n",
    "def t4(a):\n",
    "    print('this is t4')\n",
    "    \n",
    "    def t5():\n",
    "        print('this is t5')\n",
    "    \n",
    "    def t6():\n",
    "        print('this is t6')\n",
    "    \n",
    "    if a == 't5':\n",
    "        return t5()\n",
    "    elif a == 't6':\n",
    "        return t6()"
   ]
  },
  {
   "cell_type": "code",
   "execution_count": null,
   "id": "f245ba35",
   "metadata": {},
   "outputs": [],
   "source": [
    "t4('hi')"
   ]
  },
  {
   "cell_type": "code",
   "execution_count": null,
   "id": "7cc0be2f",
   "metadata": {},
   "outputs": [],
   "source": [
    "t4('t5')"
   ]
  },
  {
   "cell_type": "code",
   "execution_count": null,
   "id": "543b2d4e",
   "metadata": {},
   "outputs": [],
   "source": [
    "t4('t6')"
   ]
  },
  {
   "cell_type": "code",
   "execution_count": null,
   "id": "59a59267",
   "metadata": {},
   "outputs": [],
   "source": [
    "# We cannot call a function like . operand or something"
   ]
  },
  {
   "cell_type": "markdown",
   "id": "54af7f78",
   "metadata": {},
   "source": [
    "### Function inside a function with func as an argument"
   ]
  },
  {
   "cell_type": "code",
   "execution_count": null,
   "id": "d714857a",
   "metadata": {},
   "outputs": [],
   "source": [
    "# Decorator concept\n",
    "# func is function(argument) we have to pass so call a function not str\n",
    "# we can call t6 by using if and else method\n",
    "# but here we need to call an inside function with the help of another function.\n",
    "def t5(func):   # func is nothing but a argument.\n",
    "    print('hi this is t5')\n",
    "    def t6():\n",
    "        print('i am inside t6')\n",
    "        func()\n",
    "    return t6()"
   ]
  },
  {
   "cell_type": "code",
   "execution_count": null,
   "id": "080c1819",
   "metadata": {},
   "outputs": [],
   "source": [
    "# t5 expecting a function\n",
    "#t5()\n",
    "#t5('hi')"
   ]
  },
  {
   "cell_type": "code",
   "execution_count": null,
   "id": "e1d92b9c",
   "metadata": {},
   "outputs": [],
   "source": [
    "# we have to call t6\n",
    "# so bring external function here we called t2\n",
    "#t6()  # error"
   ]
  },
  {
   "cell_type": "code",
   "execution_count": null,
   "id": "0936f2c1",
   "metadata": {},
   "outputs": [],
   "source": [
    "#base function\n",
    "def t2(*args):   \n",
    "    print('i am t2')"
   ]
  },
  {
   "cell_type": "code",
   "execution_count": null,
   "id": "3ce5adbb",
   "metadata": {},
   "outputs": [],
   "source": [
    " \n",
    "def t5(func):  \n",
    "    #print('hi this is t5')\n",
    "    def t6():    #just a basic function\n",
    "        print('i am inside t6')\n",
    "    return t6()"
   ]
  },
  {
   "cell_type": "code",
   "execution_count": null,
   "id": "ddb7f48f",
   "metadata": {},
   "outputs": [],
   "source": [
    "# to run the t5 function we need to call a function as an argument\n",
    "# we have to call a function so here we called t2\n",
    "# see here with the help of outside function we can call t6\n",
    "t5(t2)"
   ]
  },
  {
   "cell_type": "code",
   "execution_count": null,
   "id": "9b25f238",
   "metadata": {},
   "outputs": [],
   "source": [
    "# here we removed func as an arugemnt then this function \n",
    "#becomes a basic function \n",
    "\n",
    "def t5():\n",
    "    #print('hi this is t5')\n",
    "    def t6():\n",
    "        print('i am inside t6')\n",
    "    return t6()"
   ]
  },
  {
   "cell_type": "code",
   "execution_count": null,
   "id": "0fe34b47",
   "metadata": {},
   "outputs": [],
   "source": [
    "t5()"
   ]
  },
  {
   "cell_type": "code",
   "execution_count": null,
   "id": "b3f83f12",
   "metadata": {},
   "outputs": [],
   "source": [
    "def t5(func):\n",
    "    def t6():\n",
    "        print('i am inside t6')\n",
    "        func()   # calls t2 which is func = t2()\n",
    "    return t6()"
   ]
  },
  {
   "cell_type": "code",
   "execution_count": null,
   "id": "3b137406",
   "metadata": {},
   "outputs": [],
   "source": [
    "# here we are getting 2 returns which is t2 and t6 with the help of t5\n",
    "t5(t2)"
   ]
  },
  {
   "cell_type": "code",
   "execution_count": null,
   "id": "b9539892",
   "metadata": {},
   "outputs": [],
   "source": [
    "def t5(func):\n",
    "    def t6():\n",
    "        print('i am inside t6 i have to print everytime ')\n",
    "        func()   # calls t2 which is func = t2()\n",
    "    return t6()"
   ]
  },
  {
   "cell_type": "code",
   "execution_count": null,
   "id": "607de3c3",
   "metadata": {},
   "outputs": [],
   "source": [
    "def t7():\n",
    "    print('Hi this is t7')\n",
    "t7()  # this will execute\n",
    "# i need t6 also as a outcome when i call t7"
   ]
  },
  {
   "cell_type": "code",
   "execution_count": null,
   "id": "1382d730",
   "metadata": {},
   "outputs": [],
   "source": [
    "t5(t7)  # call func inside a func this is one way"
   ]
  },
  {
   "cell_type": "code",
   "execution_count": null,
   "id": "3f4bcc89",
   "metadata": {},
   "outputs": [],
   "source": [
    "# to print t6 in all function we need to use decorator concept."
   ]
  },
  {
   "cell_type": "markdown",
   "id": "54a1ca58",
   "metadata": {},
   "source": [
    "### Decorator concept\n",
    "\n",
    "Using a function in other function - reutilize a function  \n",
    "use @function_name\n",
    "we can do multiple decorate based on the sequence it will print"
   ]
  },
  {
   "cell_type": "code",
   "execution_count": null,
   "id": "e582c780",
   "metadata": {},
   "outputs": [],
   "source": [
    "def t5(func):   # func is nothing but a argument.\n",
    "    print('hi this is t5')\n",
    "    def t6():\n",
    "        func()\n",
    "        #print(func())\n",
    "        print('i am inside t6')\n",
    "    return t6"
   ]
  },
  {
   "cell_type": "code",
   "execution_count": null,
   "id": "703c98ed",
   "metadata": {},
   "outputs": [],
   "source": [
    "#outsider function \n",
    "# here t2 will be the argument for t5()\n",
    "@t5    # t5 output will get \n",
    "def t2():   \n",
    "    print('i am t2')"
   ]
  },
  {
   "cell_type": "code",
   "execution_count": null,
   "id": "637f9ce2",
   "metadata": {},
   "outputs": [],
   "source": [
    "t2() # here func() will print bcoz of string"
   ]
  },
  {
   "cell_type": "code",
   "execution_count": null,
   "id": "3a1aedc0",
   "metadata": {},
   "outputs": [],
   "source": [
    "def t5(func):   # func is nothing but a argument.\n",
    "    print('hi this is t5')\n",
    "    def t6():\n",
    "        func()\n",
    "        print(func())\n",
    "        print('i am inside t6')\n",
    "    return t6"
   ]
  },
  {
   "cell_type": "code",
   "execution_count": null,
   "id": "02572eb6",
   "metadata": {},
   "outputs": [],
   "source": [
    "#outsider function \n",
    "# here t2 will be the argument for t5()\n",
    "@t5    # t5 output will get \n",
    "def t2():   \n",
    "    return 5+6"
   ]
  },
  {
   "cell_type": "code",
   "execution_count": null,
   "id": "f3598d30",
   "metadata": {},
   "outputs": [],
   "source": [
    "t2() # here func() will not work so we need to use print\n",
    "# answer for this will be below."
   ]
  },
  {
   "cell_type": "code",
   "execution_count": null,
   "id": "1a0c20f2",
   "metadata": {},
   "outputs": [],
   "source": [
    "#Execution time.\n",
    "# This is a function which gives tells us how much time it took to run any function.\n",
    "\n",
    "import time\n",
    "def exec_time(func):\n",
    "    def time_time():\n",
    "        start = time.time()\n",
    "        func()\n",
    "        end = time.time()\n",
    "        print(end-start)\n",
    "    return  time_time"
   ]
  },
  {
   "cell_type": "code",
   "execution_count": null,
   "id": "efdf4d3f",
   "metadata": {},
   "outputs": [],
   "source": [
    "# this is another way\n",
    "# whenever we call t then we get exec_time function.\n",
    "# it means whenever we call t then exec_time will decorated\n",
    "# it means exec_time(t())\n",
    "\n",
    "@exec_time   # Calls Execution time function\n",
    "\n",
    "def t():\n",
    "    l1=[]\n",
    "    for i in range(1000000):\n",
    "        l1.append(i)\n",
    "    #print(l1)\n",
    "    return l1  # will not display l1"
   ]
  },
  {
   "cell_type": "code",
   "execution_count": null,
   "id": "43d75fc5",
   "metadata": {},
   "outputs": [],
   "source": [
    "t()  #we do not need to call decorator function here."
   ]
  },
  {
   "cell_type": "code",
   "execution_count": null,
   "id": "4472c99c",
   "metadata": {},
   "outputs": [],
   "source": [
    "import os\n",
    "def t5(func):\n",
    "    def t6():\n",
    "        print('i am inside t6 i have to print everytime ')\n",
    "        print(os.getcwd())\n",
    "        func()   # calls t2 which is func = t2()\n",
    "    return t6"
   ]
  },
  {
   "cell_type": "code",
   "execution_count": null,
   "id": "7d6226a7",
   "metadata": {},
   "outputs": [],
   "source": [
    "# this is another way\n",
    "#whenever we call t7 then we get t5.\n",
    "#it means whenever we call t7 then t5 will decorated\n",
    "\n",
    "@t5  # just add this decorate then we get t5 functions as well\n",
    "def t7():\n",
    "    print('Hi this is t7')"
   ]
  },
  {
   "cell_type": "code",
   "execution_count": null,
   "id": "d28dccc4",
   "metadata": {},
   "outputs": [],
   "source": [
    "t7()"
   ]
  },
  {
   "cell_type": "code",
   "execution_count": null,
   "id": "b33721aa",
   "metadata": {},
   "outputs": [],
   "source": [
    "import os\n",
    "def t5(func):\n",
    "    def t6():\n",
    "        print('i am inside t6 i have to print everytime ')\n",
    "        print(os.getcwd())   #current working directory\n",
    "        func()   \n",
    "    return t6()   # here i kept () after t6"
   ]
  },
  {
   "cell_type": "code",
   "execution_count": null,
   "id": "c3223dc1",
   "metadata": {},
   "outputs": [],
   "source": [
    "@t5  # just add this decorate then we get other functions as weel\n",
    "def t7():\n",
    "    print('Hi this is t7')\n",
    "    \n",
    "#t7() - here t7 won't work we get direct output bcoz of t6()"
   ]
  },
  {
   "cell_type": "code",
   "execution_count": null,
   "id": "cc0bbd3e",
   "metadata": {},
   "outputs": [],
   "source": [
    "def t8(func):  # input function to run\n",
    "    def t9():\n",
    "        func()   # prints t10\n",
    "        print(os.getcwd())\n",
    "    return t9"
   ]
  },
  {
   "cell_type": "code",
   "execution_count": null,
   "id": "30a62e3a",
   "metadata": {},
   "outputs": [],
   "source": [
    "# multiple decorators \n",
    "@t5\n",
    "@t8\n",
    "def t10():\n",
    "    print('hi this is t10')"
   ]
  },
  {
   "cell_type": "code",
   "execution_count": null,
   "id": "22cc9775",
   "metadata": {},
   "outputs": [],
   "source": [
    "t10()"
   ]
  },
  {
   "cell_type": "code",
   "execution_count": null,
   "id": "211f9a02",
   "metadata": {},
   "outputs": [],
   "source": [
    "# Execution time\n",
    "\n",
    "import time\n",
    "\n",
    "def measure_time(func):\n",
    "    def wrapper(*args, **kwargs):\n",
    "        start = time.time()\n",
    "        result = func(*args, **kwargs)\n",
    "        end = time.time()\n",
    "        print(f\"Execution time of {func.__name__}: {end - start:.6f} seconds\")\n",
    "        return result\n",
    "    return wrapper\n"
   ]
  },
  {
   "cell_type": "code",
   "execution_count": null,
   "id": "b6f96665",
   "metadata": {},
   "outputs": [],
   "source": [
    "# multiple decorators\n",
    "@measure_time\n",
    "@t5\n",
    "@t8\n",
    "def t10():\n",
    "    print('hi this is t10')"
   ]
  },
  {
   "cell_type": "code",
   "execution_count": null,
   "id": "2805b244",
   "metadata": {},
   "outputs": [],
   "source": [
    "t10()"
   ]
  },
  {
   "cell_type": "code",
   "execution_count": null,
   "id": "e6abb765",
   "metadata": {},
   "outputs": [],
   "source": [
    "# Lower case\n",
    "def lower_case(funclower):\n",
    "    def wrapper(*args):\n",
    "        z = funclower(*args)\n",
    "        f = z.lower()\n",
    "        print('Lower is completed')\n",
    "        return f\n",
    "    return wrapper\n",
    "\n",
    "# upper case\n",
    "def upper_case(funclower):\n",
    "    def wrapper(*args):\n",
    "        z = funclower(*args)\n",
    "        f = z.upper()\n",
    "        print('upper is completed')\n",
    "        return f\n",
    "    return wrapper\n",
    "\n",
    "# split\n",
    "def split_fun(funcsplit):\n",
    "    def wrapper(*args):\n",
    "        d = funcsplit(*args)\n",
    "        e = d.split()\n",
    "        print('split is completed')\n",
    "        return e\n",
    "    return wrapper\n",
    "\n",
    "# Here first lower then split\n",
    "\n",
    "# Execute in reverse order \n",
    "# first lower_case, upper_case, dplit_fun\n",
    "@split_fun\n",
    "@upper_case\n",
    "@lower_case\n",
    "def q36(a):\n",
    "    return a\n",
    "\n",
    "q36('KRISHNA LOHITH')"
   ]
  },
  {
   "cell_type": "markdown",
   "id": "eae762c1",
   "metadata": {},
   "source": [
    "### Datatypes of function return problem"
   ]
  },
  {
   "cell_type": "code",
   "execution_count": null,
   "id": "3cf35f0f",
   "metadata": {},
   "outputs": [],
   "source": [
    "def t11(func):   \n",
    "    #print('hi this is t5')\n",
    "    def t12():\n",
    "        print('i am inside t6')\n",
    "        func()\n",
    "        print(func())  # we can see the output but gives nonetype.\n",
    "    return t12"
   ]
  },
  {
   "cell_type": "code",
   "execution_count": null,
   "id": "89ca4641",
   "metadata": {},
   "outputs": [],
   "source": [
    "@t11\n",
    "def t13():\n",
    "    c =5+6\n",
    "    b = 5*4\n",
    "    return c,b\n",
    "    #print(c)\n",
    "    #print('hi this is t13')"
   ]
  },
  {
   "cell_type": "code",
   "execution_count": null,
   "id": "50d2b471",
   "metadata": {},
   "outputs": [],
   "source": [
    "# Both return c and print(c) giving nonetype for t13() when decorator is present.\n",
    "# Reason is that print(func()) in t11 will gives nonetype\n",
    "t13()  # we have to use print(func()) to see the output."
   ]
  },
  {
   "cell_type": "code",
   "execution_count": null,
   "id": "8a392864",
   "metadata": {},
   "outputs": [],
   "source": [
    "type(t13())"
   ]
  },
  {
   "cell_type": "code",
   "execution_count": null,
   "id": "2470851c",
   "metadata": {},
   "outputs": [],
   "source": [
    "#t13() + 34"
   ]
  },
  {
   "cell_type": "code",
   "execution_count": null,
   "id": "2d1ce272",
   "metadata": {},
   "outputs": [],
   "source": [
    "def t11(func):   \n",
    "    #print('hi this is t5')\n",
    "    def t12():\n",
    "        print('i am inside t6')\n",
    "        func()\n",
    "        #print(func())  # we can see the output but gives nonetype.\n",
    "        return func()  # use return with function_name()\n",
    "    return t12  "
   ]
  },
  {
   "cell_type": "code",
   "execution_count": null,
   "id": "cb68f783",
   "metadata": {},
   "outputs": [],
   "source": [
    "# if we donot use () after return func then the datatype will just function.\n",
    "# so use () after return func in inner function so it will return the orginal dtype."
   ]
  },
  {
   "cell_type": "code",
   "execution_count": null,
   "id": "affb1865",
   "metadata": {},
   "outputs": [],
   "source": [
    "@t11\n",
    "def t13():\n",
    "    c =5+6\n",
    "    #b = 5*4\n",
    "    return c\n",
    "    #print(c)\n",
    "    #print('hi this is t13')"
   ]
  },
  {
   "cell_type": "code",
   "execution_count": null,
   "id": "a656cb88",
   "metadata": {},
   "outputs": [],
   "source": [
    "t13()"
   ]
  },
  {
   "cell_type": "code",
   "execution_count": null,
   "id": "3fa1e545",
   "metadata": {},
   "outputs": [],
   "source": [
    "type(t13())"
   ]
  },
  {
   "cell_type": "code",
   "execution_count": null,
   "id": "f99da9f1",
   "metadata": {},
   "outputs": [],
   "source": [
    "t13() + 5"
   ]
  },
  {
   "cell_type": "markdown",
   "id": "0275f086",
   "metadata": {},
   "source": [
    "### Number of arguments in a base function"
   ]
  },
  {
   "cell_type": "code",
   "execution_count": null,
   "id": "35504003",
   "metadata": {},
   "outputs": [],
   "source": [
    "def t11(func):   \n",
    "    #print('hi this is t5')\n",
    "    def t12(c,d):\n",
    "        print('i am inside t6')\n",
    "        func(c,d)  \n",
    "        return func(c,d)  \n",
    "    return t12  "
   ]
  },
  {
   "cell_type": "code",
   "execution_count": null,
   "id": "c3dccf23",
   "metadata": {},
   "outputs": [],
   "source": [
    "@t11\n",
    "def t13(a,b):\n",
    "    return a+b"
   ]
  },
  {
   "cell_type": "code",
   "execution_count": null,
   "id": "40533434",
   "metadata": {},
   "outputs": [],
   "source": [
    "t13(3,5)"
   ]
  },
  {
   "cell_type": "code",
   "execution_count": null,
   "id": "bcad2b30",
   "metadata": {},
   "outputs": [],
   "source": []
  },
  {
   "cell_type": "code",
   "execution_count": null,
   "id": "7a31cbf4",
   "metadata": {},
   "outputs": [],
   "source": [
    "def t11(func):   \n",
    "    #print('hi this is t5')\n",
    "    def t12(c,d):\n",
    "        print('i am inside t6')\n",
    "        func(c,d)  \n",
    "        return func(c,d)  \n",
    "    return t12  "
   ]
  },
  {
   "cell_type": "code",
   "execution_count": null,
   "id": "df73877a",
   "metadata": {},
   "outputs": [],
   "source": [
    "@t11\n",
    "def t13(a,b,c):\n",
    "    return a+b+c\n",
    "\n",
    "# we cannot change always a decorator func"
   ]
  },
  {
   "cell_type": "code",
   "execution_count": 10,
   "id": "5d2738f5",
   "metadata": {},
   "outputs": [],
   "source": [
    "#so use *args which is multiple args.\n",
    "def t11(func):   \n",
    "    #print('hi this is t5')\n",
    "    def t12(*args):\n",
    "        print('i am inside t6')\n",
    "        #func(*args)  \n",
    "        return func(*args)\n",
    "    return t12  "
   ]
  },
  {
   "cell_type": "code",
   "execution_count": 11,
   "id": "9f52d22e",
   "metadata": {},
   "outputs": [],
   "source": [
    "@t11\n",
    "# This is a base function so we need to change this code manually\n",
    "# but we need not to make any changes in decorator function\n",
    "def t13(a,b,c):\n",
    "    return a+b+c"
   ]
  },
  {
   "cell_type": "code",
   "execution_count": 12,
   "id": "41e8de06",
   "metadata": {},
   "outputs": [
    {
     "name": "stdout",
     "output_type": "stream",
     "text": [
      "i am inside t6\n"
     ]
    },
    {
     "data": {
      "text/plain": [
       "6"
      ]
     },
     "execution_count": 12,
     "metadata": {},
     "output_type": "execute_result"
    }
   ],
   "source": [
    "t13(1,2,3)"
   ]
  },
  {
   "cell_type": "code",
   "execution_count": null,
   "id": "7d75f40a",
   "metadata": {},
   "outputs": [],
   "source": [
    "@t11\n",
    "def t14(*args):\n",
    "    return args"
   ]
  },
  {
   "cell_type": "code",
   "execution_count": null,
   "id": "af673ab9",
   "metadata": {},
   "outputs": [],
   "source": [
    "t14(1,2,3,4,)"
   ]
  },
  {
   "cell_type": "code",
   "execution_count": null,
   "id": "198888b8",
   "metadata": {},
   "outputs": [],
   "source": [
    "@t11\n",
    "def t14(**kwargs):\n",
    "    return kwargs"
   ]
  },
  {
   "cell_type": "code",
   "execution_count": null,
   "id": "0020cc92",
   "metadata": {},
   "outputs": [],
   "source": [
    "t14(a=1, b=2)"
   ]
  },
  {
   "cell_type": "code",
   "execution_count": null,
   "id": "3ae50d99",
   "metadata": {},
   "outputs": [],
   "source": [
    "def t11(func):   \n",
    "    #print('hi this is t5')\n",
    "    def t12(*args, **kwargs):\n",
    "        print('i am inside t6')\n",
    "        func(*args, **kwargs)  \n",
    "        return func(*args, **kwargs)  \n",
    "    return t12  "
   ]
  },
  {
   "cell_type": "code",
   "execution_count": null,
   "id": "6be1f3e5",
   "metadata": {},
   "outputs": [],
   "source": [
    "@t11\n",
    "def t15(*args, **kwargs):\n",
    "    return args, kwargs"
   ]
  },
  {
   "cell_type": "code",
   "execution_count": null,
   "id": "83fd2932",
   "metadata": {},
   "outputs": [],
   "source": [
    "t15(1,2, a=3,b=4)"
   ]
  },
  {
   "cell_type": "markdown",
   "id": "8a9ec515",
   "metadata": {},
   "source": [
    "## Lamda function - Anonymus function\n",
    "\n",
    "Without a function name  \n",
    "Lambda function can't able to give a single value outcome   "
   ]
  },
  {
   "cell_type": "code",
   "execution_count": null,
   "id": "48ee3638",
   "metadata": {},
   "outputs": [],
   "source": [
    "def mu(a,b):\n",
    "    return a*b\n",
    "mu(2,7)"
   ]
  },
  {
   "cell_type": "code",
   "execution_count": null,
   "id": "50a66c91",
   "metadata": {},
   "outputs": [],
   "source": [
    "n = lambda a,b: (a*b , a+b, a-b)"
   ]
  },
  {
   "cell_type": "code",
   "execution_count": null,
   "id": "840329e4",
   "metadata": {},
   "outputs": [],
   "source": [
    "n(2,7)"
   ]
  },
  {
   "cell_type": "code",
   "execution_count": null,
   "id": "9d223eae",
   "metadata": {},
   "outputs": [],
   "source": [
    "n = lambda *a: (a+a)"
   ]
  },
  {
   "cell_type": "code",
   "execution_count": null,
   "id": "704f2ffd",
   "metadata": {},
   "outputs": [],
   "source": [
    "n(2,3,4,5,6)"
   ]
  },
  {
   "cell_type": "code",
   "execution_count": null,
   "id": "9c982614",
   "metadata": {},
   "outputs": [],
   "source": [
    "n = lambda *a: a**2\n",
    "n(2)      #n has a tuple so tuple * tuple won't work."
   ]
  },
  {
   "cell_type": "code",
   "execution_count": null,
   "id": "f5a9ce45",
   "metadata": {},
   "outputs": [],
   "source": [
    "n = lambda x: [i for i in x]\n"
   ]
  },
  {
   "cell_type": "code",
   "execution_count": null,
   "id": "4963dc68",
   "metadata": {},
   "outputs": [],
   "source": [
    "n([2,3,4,5])  "
   ]
  },
  {
   "cell_type": "code",
   "execution_count": null,
   "id": "333f6057",
   "metadata": {},
   "outputs": [],
   "source": [
    "l = [6,7,8,9,0,1,2,3,4]"
   ]
  },
  {
   "cell_type": "code",
   "execution_count": null,
   "id": "63134cb5",
   "metadata": {},
   "outputs": [],
   "source": [
    "n(l)"
   ]
  },
  {
   "cell_type": "code",
   "execution_count": null,
   "id": "e7fbb9c8",
   "metadata": {},
   "outputs": [],
   "source": [
    "a = lambda *args: args"
   ]
  },
  {
   "cell_type": "code",
   "execution_count": null,
   "id": "a0f8848d",
   "metadata": {},
   "outputs": [],
   "source": [
    "a(1,2,3,4)"
   ]
  },
  {
   "cell_type": "code",
   "execution_count": null,
   "id": "c2969ba6",
   "metadata": {},
   "outputs": [],
   "source": [
    "n = lambda **kwargs: kwargs"
   ]
  },
  {
   "cell_type": "code",
   "execution_count": null,
   "id": "b8b15507",
   "metadata": {},
   "outputs": [],
   "source": [
    "n(a=77, b= 88)"
   ]
  },
  {
   "cell_type": "code",
   "execution_count": null,
   "id": "eba4b2f0",
   "metadata": {},
   "outputs": [],
   "source": [
    "a = 10  #Global variable - outside the function\n",
    "def test12(c,d):\n",
    "    return c*d"
   ]
  },
  {
   "cell_type": "code",
   "execution_count": null,
   "id": "b01332ea",
   "metadata": {},
   "outputs": [],
   "source": [
    "test12(a,5)  # here we already assigned a as 10 so c = a which is c=10"
   ]
  },
  {
   "cell_type": "code",
   "execution_count": null,
   "id": "51e170be",
   "metadata": {},
   "outputs": [],
   "source": [
    "test12(a,5)"
   ]
  },
  {
   "cell_type": "code",
   "execution_count": null,
   "id": "5618d342",
   "metadata": {},
   "outputs": [],
   "source": [
    "a = 10\n",
    "def test13(c,d):\n",
    "    a=2           # Local variable within the function\n",
    "    return c*d    # here we are not changing the c we only changed a."
   ]
  },
  {
   "cell_type": "code",
   "execution_count": null,
   "id": "bbac62b4",
   "metadata": {},
   "outputs": [],
   "source": [
    "test13(a,5)   #here a will take the global variable even we assigned local a. bcoz we called a so a = 10.\n",
    "                #"
   ]
  },
  {
   "cell_type": "code",
   "execution_count": null,
   "id": "6d5cf353",
   "metadata": {},
   "outputs": [],
   "source": [
    "a = 10   # global variable \n",
    "def test13(c,d):\n",
    "    c=2        #here we assigned the value locally so c will update\n",
    "    return c*d"
   ]
  },
  {
   "cell_type": "code",
   "execution_count": null,
   "id": "bb6433b4",
   "metadata": {},
   "outputs": [],
   "source": [
    "test13(a,5)  #(2,5)  # here first a = 10. later c is updated to 2. so a= 2. WKT c=a bcoz we called (a,15) which is (c,d)"
   ]
  },
  {
   "cell_type": "code",
   "execution_count": null,
   "id": "aae8299e",
   "metadata": {},
   "outputs": [],
   "source": [
    "c = 10\n",
    "def test13(c,d):\n",
    "    c=2\n",
    "    return c*d"
   ]
  },
  {
   "cell_type": "code",
   "execution_count": null,
   "id": "3e39a17e",
   "metadata": {},
   "outputs": [],
   "source": [
    "test13(c,5) #(2,5)  # here first c=10 but later we updated c to 2 and we called c so updated c will be printed"
   ]
  },
  {
   "cell_type": "code",
   "execution_count": null,
   "id": "0590e2e4",
   "metadata": {},
   "outputs": [],
   "source": [
    "c"
   ]
  },
  {
   "cell_type": "code",
   "execution_count": null,
   "id": "c997ff12",
   "metadata": {},
   "outputs": [],
   "source": [
    "a = 10  #Global variable - outside the function\n",
    "def test12(c,d):\n",
    "    return c*d*a"
   ]
  },
  {
   "cell_type": "code",
   "execution_count": null,
   "id": "67d251b3",
   "metadata": {},
   "outputs": [],
   "source": [
    "test12(4,3)   # here a is updated to 4. in only globally but we can see a is 10 in C*d*a. which is 4*3*10"
   ]
  },
  {
   "cell_type": "code",
   "execution_count": null,
   "id": "6556cc8b",
   "metadata": {},
   "outputs": [],
   "source": [
    "l = lambda l: [(i+2,i**2)  for i in l]\n",
    "l([1,2,3,4,5,6,7,8,9])"
   ]
  },
  {
   "cell_type": "code",
   "execution_count": null,
   "id": "3ba9492e",
   "metadata": {},
   "outputs": [],
   "source": [
    "def ql(a):\n",
    "    l = 1\n",
    "    for i in a:\n",
    "        l = l*i\n",
    "    return l"
   ]
  },
  {
   "cell_type": "code",
   "execution_count": null,
   "id": "ef3b5870",
   "metadata": {},
   "outputs": [],
   "source": [
    "ql([1,2,3])"
   ]
  },
  {
   "cell_type": "code",
   "execution_count": null,
   "id": "cc1c3931",
   "metadata": {},
   "outputs": [],
   "source": [
    "x = lambda a,l=1: [i*l for i in a]"
   ]
  },
  {
   "cell_type": "code",
   "execution_count": null,
   "id": "eae46205",
   "metadata": {},
   "outputs": [],
   "source": [
    "x([1,2,3])"
   ]
  },
  {
   "cell_type": "code",
   "execution_count": null,
   "id": "6bfd0648",
   "metadata": {},
   "outputs": [],
   "source": [
    "import functools\n",
    "functools.reduce(lambda a,b:a*b,[1,2,3])"
   ]
  },
  {
   "cell_type": "markdown",
   "id": "3e846339",
   "metadata": {},
   "source": [
    "## List comprehensions"
   ]
  },
  {
   "cell_type": "code",
   "execution_count": null,
   "id": "59d68911",
   "metadata": {},
   "outputs": [],
   "source": [
    "l = [1,2,3,4,5,6,7,8,9]\n",
    "l = [(i+2,i**2) for i in l if i>2 and i<8]\n",
    "l"
   ]
  },
  {
   "cell_type": "code",
   "execution_count": null,
   "id": "f7506e0d",
   "metadata": {},
   "outputs": [],
   "source": [
    "d = {1:2}"
   ]
  },
  {
   "cell_type": "code",
   "execution_count": null,
   "id": "21f8c6a7",
   "metadata": {},
   "outputs": [],
   "source": [
    "{i:i**2 for i in range(10)}"
   ]
  },
  {
   "cell_type": "code",
   "execution_count": null,
   "id": "e2780cbc",
   "metadata": {},
   "outputs": [],
   "source": [
    "t = (i for i in range(10))"
   ]
  },
  {
   "cell_type": "code",
   "execution_count": null,
   "id": "ea5cfd08",
   "metadata": {},
   "outputs": [],
   "source": [
    "t"
   ]
  },
  {
   "cell_type": "markdown",
   "id": "fc28d469",
   "metadata": {},
   "source": [
    "**generator object**  \n",
    "\n",
    "**Not Iterable:-** Cannot iterate even if we convert. (int, float, bool)\n",
    "\n",
    "**Itrerable:-** By default the elements are Iterable but they won't iterate which is called as (Not Iterator) then we use for loop, iter() and convert it into iterator or iterable and which we can be access in a sequential manner.\n",
    "\n",
    "**Not Iterator** :- It means it is an iterable so we can convert using for loop or iter() then it will be Iterator(str,list....)\n",
    "\n",
    "**Iterator:-** We use for loop, iter() to iterate so these method is called Iterator.  \n",
    "\n",
    "So we have to convert the element into a iterator using iter(n)  \n",
    "for loop :- for loop converts a string(which is iterable but not iterable) into iterator.  \n",
    "without using for loop we can use iter()- which converts into iterator. then use next(variable)    \n",
    "\n",
    "int is not a iterable so iter(). for loop can't able to convert int to iterable or iterator.  \n",
    "str, list, tuple, range are iterable objects (not a iterator)  \n",
    "\n",
    "Iteration(pointer operation):- One by one, will not assign indexes.  \n",
    "Indexing:- specific index  \n",
    "\n",
    "next(s)  - Iterates the object   \n",
    "\n",
    "s = 'krish'\n",
    "s=iter(s)\n",
    "next(s)"
   ]
  },
  {
   "cell_type": "code",
   "execution_count": null,
   "id": "0a1e6a79",
   "metadata": {},
   "outputs": [],
   "source": [
    "a=556\n",
    "for i in a:\n",
    "    print(i)   # here int is not iterable so got error"
   ]
  },
  {
   "cell_type": "code",
   "execution_count": null,
   "id": "7f536a0c",
   "metadata": {},
   "outputs": [],
   "source": [
    "s='krishna'   #here string is a iterable object(Not iterator)\n",
    "for i in s:   # here for loop converts not iterator string into iterator. \n",
    "    print(i)"
   ]
  },
  {
   "cell_type": "code",
   "execution_count": null,
   "id": "8a4aa0e7",
   "metadata": {},
   "outputs": [],
   "source": [
    "type(s)"
   ]
  },
  {
   "cell_type": "code",
   "execution_count": null,
   "id": "0dabbd30",
   "metadata": {},
   "outputs": [],
   "source": [
    "next(s)  #Iterates the object "
   ]
  },
  {
   "cell_type": "code",
   "execution_count": null,
   "id": "a325d415",
   "metadata": {},
   "outputs": [],
   "source": [
    "iter(s)   # converts iterable into iterator"
   ]
  },
  {
   "cell_type": "code",
   "execution_count": null,
   "id": "2ce547a7",
   "metadata": {},
   "outputs": [],
   "source": [
    "i = iter(s)"
   ]
  },
  {
   "cell_type": "code",
   "execution_count": null,
   "id": "e7878678",
   "metadata": {},
   "outputs": [],
   "source": [
    "next(i)"
   ]
  },
  {
   "cell_type": "code",
   "execution_count": null,
   "id": "09c9184f",
   "metadata": {},
   "outputs": [],
   "source": [
    "next(i)"
   ]
  },
  {
   "cell_type": "markdown",
   "id": "ff33ea48",
   "metadata": {},
   "source": [
    "iterable - an element which we can access in a sequential manner but that doesn't mean we can access it. \n",
    "                So we have to convert the element into a iterator using iter(n)"
   ]
  },
  {
   "cell_type": "code",
   "execution_count": null,
   "id": "a20b715f",
   "metadata": {},
   "outputs": [],
   "source": [
    "l = [2,3,4,56]"
   ]
  },
  {
   "cell_type": "code",
   "execution_count": null,
   "id": "b377ea17",
   "metadata": {},
   "outputs": [],
   "source": [
    "next(l)"
   ]
  },
  {
   "cell_type": "code",
   "execution_count": null,
   "id": "9ba5fa4d",
   "metadata": {},
   "outputs": [],
   "source": [
    "c = iter(l)"
   ]
  },
  {
   "cell_type": "code",
   "execution_count": null,
   "id": "c09f7d5f",
   "metadata": {},
   "outputs": [],
   "source": [
    "next(c)"
   ]
  },
  {
   "cell_type": "markdown",
   "id": "b475b840",
   "metadata": {},
   "source": [
    "### Generator object"
   ]
  },
  {
   "cell_type": "code",
   "execution_count": null,
   "id": "d8b204a4",
   "metadata": {},
   "outputs": [],
   "source": [
    "list(range(0,10,1))"
   ]
  },
  {
   "cell_type": "code",
   "execution_count": null,
   "id": "02d69716",
   "metadata": {},
   "outputs": [],
   "source": [
    "# here we used print so the function will be NoneType\n",
    "def gencube(n):\n",
    "    for i in range(n):\n",
    "        print(i,type(i))\n",
    "gencube(6)"
   ]
  },
  {
   "cell_type": "code",
   "execution_count": null,
   "id": "3b6d04c9",
   "metadata": {},
   "outputs": [],
   "source": [
    "# here we used return so the function will get original datatype\n",
    "def gencube(n):\n",
    "    for i in range(n):\n",
    "            pass\n",
    "    return i      #returns only last element.\n",
    "\n",
    "print(gencube(6))\n",
    "type(gencube(6))"
   ]
  },
  {
   "cell_type": "code",
   "execution_count": null,
   "id": "61c16415",
   "metadata": {},
   "outputs": [],
   "source": [
    "def lidata(n):\n",
    "    l=[]\n",
    "    for i in range(n):\n",
    "        l.append(i)\n",
    "    print(l)\n",
    "type(lidata(20))"
   ]
  },
  {
   "cell_type": "code",
   "execution_count": null,
   "id": "7d426688",
   "metadata": {},
   "outputs": [],
   "source": [
    "def lidata(n):\n",
    "    l=[]\n",
    "    for i in range(n):\n",
    "        l.append(i)\n",
    "    return l\n",
    "print(lidata(20))\n",
    "type(lidata(20))"
   ]
  },
  {
   "cell_type": "code",
   "execution_count": null,
   "id": "9766dbeb",
   "metadata": {},
   "outputs": [],
   "source": []
  },
  {
   "cell_type": "code",
   "execution_count": null,
   "id": "16dcf3df",
   "metadata": {},
   "outputs": [],
   "source": [
    "yeild() - remembers what is the last thing generated, and what is the logic to perform, end value.\n",
    "So it will not remember all the values like print() \n",
    "we get the same result with print but print will give Nonetype so we will use yeild\n",
    "we can use return and append to get the datatype in the form of list but without a list we can get with yeild."
   ]
  },
  {
   "cell_type": "code",
   "execution_count": null,
   "id": "165e6837",
   "metadata": {},
   "outputs": [],
   "source": [
    "def gensqr(n):\n",
    "    for i in range(n):\n",
    "        yield i**2"
   ]
  },
  {
   "cell_type": "code",
   "execution_count": null,
   "id": "e7de24c1",
   "metadata": {},
   "outputs": [],
   "source": [
    "gensqr(10)"
   ]
  },
  {
   "cell_type": "code",
   "execution_count": null,
   "id": "7f4c3ceb",
   "metadata": {},
   "outputs": [],
   "source": [
    "for i in gensqr(10):\n",
    "    print(i)"
   ]
  },
  {
   "cell_type": "code",
   "execution_count": null,
   "id": "e06c1dad",
   "metadata": {},
   "outputs": [],
   "source": [
    "type(gensqr(10))"
   ]
  },
  {
   "cell_type": "code",
   "execution_count": null,
   "id": "d6973364",
   "metadata": {},
   "outputs": [],
   "source": [
    "ls"
   ]
  },
  {
   "cell_type": "markdown",
   "id": "89ebf170",
   "metadata": {},
   "source": [
    "### map function\n",
    "map(function, *iterables) \n",
    "Mapping each and every element in a collection(iterable object) to the given function."
   ]
  },
  {
   "cell_type": "code",
   "execution_count": null,
   "id": "7c280b20",
   "metadata": {},
   "outputs": [],
   "source": [
    "#for loop, list comprehension\n",
    "# We can use def\n",
    "# we can use lambda\n",
    "# we can use inbuilt functions"
   ]
  },
  {
   "cell_type": "code",
   "execution_count": null,
   "id": "9d4779ab",
   "metadata": {},
   "outputs": [],
   "source": [
    "# Add 10 to each element in the list.\n",
    "l = [1,2,3,4,5,6,7,8]\n",
    "l1=[]\n",
    "for i in l:\n",
    "    l1.append(i+10)\n",
    "print(l1)"
   ]
  },
  {
   "cell_type": "code",
   "execution_count": null,
   "id": "66049606",
   "metadata": {},
   "outputs": [],
   "source": [
    "def suml(a):\n",
    "    return a+10"
   ]
  },
  {
   "cell_type": "code",
   "execution_count": null,
   "id": "19b0503c",
   "metadata": {},
   "outputs": [],
   "source": [
    "# we can do the same thing in map\n",
    "l = [1,2,3,4,5,6,7,8]\n",
    "#map( suml,l)\n",
    "list(map( suml,l))\n",
    "# Iterates through l and does the operation which is in the function."
   ]
  },
  {
   "cell_type": "code",
   "execution_count": null,
   "id": "8181ff94",
   "metadata": {},
   "outputs": [],
   "source": [
    "l = [1,2,3,4,5,6,7,8]"
   ]
  },
  {
   "cell_type": "code",
   "execution_count": null,
   "id": "f91eafec",
   "metadata": {},
   "outputs": [],
   "source": [
    "# we can use this same with lambda function\n",
    "list(map(lambda a:a+10,l))"
   ]
  },
  {
   "cell_type": "code",
   "execution_count": 13,
   "id": "4143640c",
   "metadata": {},
   "outputs": [],
   "source": [
    "l = ['krishna','lohith','Mothukuri']"
   ]
  },
  {
   "cell_type": "code",
   "execution_count": 14,
   "id": "1e3fe03d",
   "metadata": {},
   "outputs": [
    {
     "data": {
      "text/plain": [
       "['KRISHNA', 'LOHITH', 'MOTHUKURI']"
      ]
     },
     "execution_count": 14,
     "metadata": {},
     "output_type": "execute_result"
    }
   ],
   "source": [
    "list(map(lambda a: a.upper(),l))"
   ]
  },
  {
   "cell_type": "code",
   "execution_count": null,
   "id": "8da1652f",
   "metadata": {},
   "outputs": [],
   "source": [
    "l = [1,2,3,4,5,6,7,8]"
   ]
  },
  {
   "cell_type": "code",
   "execution_count": null,
   "id": "702a99d7",
   "metadata": {},
   "outputs": [],
   "source": [
    "list(map(lambda a: a.upper(),l))"
   ]
  },
  {
   "cell_type": "code",
   "execution_count": null,
   "id": "17e5252b",
   "metadata": {},
   "outputs": [],
   "source": [
    "list(map(str.upper,l))  #string is a function which converts into upper case"
   ]
  },
  {
   "cell_type": "code",
   "execution_count": null,
   "id": "1e980def",
   "metadata": {},
   "outputs": [],
   "source": [
    "l = ['krishna','lohith','Mothukuri']"
   ]
  },
  {
   "cell_type": "code",
   "execution_count": null,
   "id": "e41c4c53",
   "metadata": {},
   "outputs": [],
   "source": [
    "list(map(lambda a: len(a),l))"
   ]
  },
  {
   "cell_type": "code",
   "execution_count": null,
   "id": "ead8eb04",
   "metadata": {},
   "outputs": [],
   "source": [
    "list(map(len,l)) #len is a function."
   ]
  },
  {
   "cell_type": "markdown",
   "id": "ed55ca0b",
   "metadata": {},
   "source": [
    "## Filter\n",
    "Filter returns only True or False.  \n",
    "Iterates each value in the given collection.  \n",
    "Takes iterator as a argument for function.  \n",
    "If the function is true then prints the value.  \n",
    "If the function is false then it won't return."
   ]
  },
  {
   "cell_type": "code",
   "execution_count": null,
   "id": "e810814a",
   "metadata": {},
   "outputs": [],
   "source": [
    "l = [1,2,3,4,5,6,7,8,9,10]"
   ]
  },
  {
   "cell_type": "code",
   "execution_count": null,
   "id": "764a668e",
   "metadata": {},
   "outputs": [],
   "source": [
    "def even(a):\n",
    "    a%2==0\n",
    "    return a "
   ]
  },
  {
   "cell_type": "code",
   "execution_count": null,
   "id": "e7dce696",
   "metadata": {},
   "outputs": [],
   "source": [
    "a = lambda a:a if a%2==0 else None"
   ]
  },
  {
   "cell_type": "code",
   "execution_count": null,
   "id": "f3bbf067",
   "metadata": {},
   "outputs": [],
   "source": [
    "list(map(a, l  )) # map mapps with every element so"
   ]
  },
  {
   "cell_type": "code",
   "execution_count": null,
   "id": "a94cb69b",
   "metadata": {},
   "outputs": [],
   "source": [
    "list(map(lambda a:a%2==0, l  )) # map mapps with every element so we ggot FAlse"
   ]
  },
  {
   "cell_type": "code",
   "execution_count": null,
   "id": "5ce39648",
   "metadata": {},
   "outputs": [],
   "source": [
    "list(filter(a,l))"
   ]
  },
  {
   "cell_type": "code",
   "execution_count": null,
   "id": "0c5f13f1",
   "metadata": {},
   "outputs": [],
   "source": [
    "list(filter(lambda a:a%2==0, l  ))"
   ]
  },
  {
   "cell_type": "code",
   "execution_count": null,
   "id": "7414b958",
   "metadata": {},
   "outputs": [],
   "source": [
    "def fil(a):\n",
    "    if a%2==0:\n",
    "        return True\n",
    "    else:\n",
    "        return False\n",
    "    "
   ]
  },
  {
   "cell_type": "code",
   "execution_count": null,
   "id": "27fe1bd8",
   "metadata": {},
   "outputs": [],
   "source": [
    "list(filter(fil,l))"
   ]
  },
  {
   "cell_type": "code",
   "execution_count": null,
   "id": "4d6dd21f",
   "metadata": {},
   "outputs": [],
   "source": [
    "def fil(a):\n",
    "    if a%2==0:\n",
    "        return False\n",
    "    else:\n",
    "        return True\n",
    "    "
   ]
  },
  {
   "cell_type": "code",
   "execution_count": null,
   "id": "4bb3f73b",
   "metadata": {},
   "outputs": [],
   "source": [
    "list(filter(fil,l))"
   ]
  },
  {
   "cell_type": "code",
   "execution_count": 1,
   "id": "303298f7",
   "metadata": {},
   "outputs": [
    {
     "data": {
      "text/plain": [
       "55"
      ]
     },
     "execution_count": 1,
     "metadata": {},
     "output_type": "execute_result"
    }
   ],
   "source": [
    "# sum of list\n",
    "l = [1,2,3,4,5,6,7,8,9,10]\n",
    "sum(l)"
   ]
  },
  {
   "cell_type": "markdown",
   "id": "aa3e344d",
   "metadata": {},
   "source": [
    "### Reduce\n",
    "USed for cumulative calculation on an iterable.  \n",
    "Reduces each iteration. the result will be taken as the first argument.  \n",
    "Takes only 2 arguments.  "
   ]
  },
  {
   "cell_type": "code",
   "execution_count": 26,
   "id": "ce0811a1",
   "metadata": {},
   "outputs": [],
   "source": [
    "from functools import reduce"
   ]
  },
  {
   "cell_type": "code",
   "execution_count": 27,
   "id": "a65a6ce4",
   "metadata": {},
   "outputs": [
    {
     "data": {
      "text/plain": [
       "3628800"
      ]
     },
     "execution_count": 27,
     "metadata": {},
     "output_type": "execute_result"
    }
   ],
   "source": [
    "l = [1,2,3,4,5,6,7,8,9,10]\n",
    "reduce(lambda a,b: a*b, l)  \n",
    "# first takes a=1, b=2 result 2 will be in a then b=3"
   ]
  },
  {
   "cell_type": "code",
   "execution_count": 28,
   "id": "6443f16f",
   "metadata": {},
   "outputs": [
    {
     "ename": "TypeError",
     "evalue": "<lambda>() missing 1 required positional argument: 'c'",
     "output_type": "error",
     "traceback": [
      "\u001b[1;31m---------------------------------------------------------------------------\u001b[0m",
      "\u001b[1;31mTypeError\u001b[0m                                 Traceback (most recent call last)",
      "\u001b[1;32m<ipython-input-28-6c3013f441f1>\u001b[0m in \u001b[0;36m<module>\u001b[1;34m\u001b[0m\n\u001b[0;32m      1\u001b[0m \u001b[0ml\u001b[0m \u001b[1;33m=\u001b[0m \u001b[1;33m[\u001b[0m\u001b[1;36m1\u001b[0m\u001b[1;33m,\u001b[0m\u001b[1;36m2\u001b[0m\u001b[1;33m,\u001b[0m\u001b[1;36m3\u001b[0m\u001b[1;33m,\u001b[0m\u001b[1;36m4\u001b[0m\u001b[1;33m,\u001b[0m\u001b[1;36m5\u001b[0m\u001b[1;33m,\u001b[0m\u001b[1;36m6\u001b[0m\u001b[1;33m,\u001b[0m\u001b[1;36m7\u001b[0m\u001b[1;33m,\u001b[0m\u001b[1;36m8\u001b[0m\u001b[1;33m,\u001b[0m\u001b[1;36m9\u001b[0m\u001b[1;33m]\u001b[0m\u001b[1;33m\u001b[0m\u001b[0m\n\u001b[1;32m----> 2\u001b[1;33m \u001b[0mreduce\u001b[0m\u001b[1;33m(\u001b[0m\u001b[1;32mlambda\u001b[0m \u001b[0ma\u001b[0m\u001b[1;33m,\u001b[0m\u001b[0mb\u001b[0m\u001b[1;33m,\u001b[0m\u001b[0mc\u001b[0m\u001b[1;33m:\u001b[0m \u001b[0ma\u001b[0m\u001b[1;33m*\u001b[0m\u001b[0mb\u001b[0m\u001b[1;33m*\u001b[0m\u001b[0mc\u001b[0m\u001b[1;33m,\u001b[0m \u001b[0ml\u001b[0m\u001b[1;33m)\u001b[0m\u001b[1;33m\u001b[0m\u001b[0m\n\u001b[0m",
      "\u001b[1;31mTypeError\u001b[0m: <lambda>() missing 1 required positional argument: 'c'"
     ]
    }
   ],
   "source": [
    "l = [1,2,3,4,5,6,7,8,9]\n",
    "reduce(lambda a,b,c: a*b*c, l)"
   ]
  },
  {
   "cell_type": "code",
   "execution_count": 8,
   "id": "2ecf0677",
   "metadata": {},
   "outputs": [
    {
     "ename": "TypeError",
     "evalue": "<lambda>() missing 1 required positional argument: 'c'",
     "output_type": "error",
     "traceback": [
      "\u001b[1;31m---------------------------------------------------------------------------\u001b[0m",
      "\u001b[1;31mTypeError\u001b[0m                                 Traceback (most recent call last)",
      "\u001b[1;32m<ipython-input-8-6c3013f441f1>\u001b[0m in \u001b[0;36m<module>\u001b[1;34m\u001b[0m\n\u001b[0;32m      1\u001b[0m \u001b[0ml\u001b[0m \u001b[1;33m=\u001b[0m \u001b[1;33m[\u001b[0m\u001b[1;36m1\u001b[0m\u001b[1;33m,\u001b[0m\u001b[1;36m2\u001b[0m\u001b[1;33m,\u001b[0m\u001b[1;36m3\u001b[0m\u001b[1;33m,\u001b[0m\u001b[1;36m4\u001b[0m\u001b[1;33m,\u001b[0m\u001b[1;36m5\u001b[0m\u001b[1;33m,\u001b[0m\u001b[1;36m6\u001b[0m\u001b[1;33m,\u001b[0m\u001b[1;36m7\u001b[0m\u001b[1;33m,\u001b[0m\u001b[1;36m8\u001b[0m\u001b[1;33m,\u001b[0m\u001b[1;36m9\u001b[0m\u001b[1;33m]\u001b[0m\u001b[1;33m\u001b[0m\u001b[0m\n\u001b[1;32m----> 2\u001b[1;33m \u001b[0mreduce\u001b[0m\u001b[1;33m(\u001b[0m\u001b[1;32mlambda\u001b[0m \u001b[0ma\u001b[0m\u001b[1;33m,\u001b[0m\u001b[0mb\u001b[0m\u001b[1;33m,\u001b[0m\u001b[0mc\u001b[0m\u001b[1;33m:\u001b[0m \u001b[0ma\u001b[0m\u001b[1;33m*\u001b[0m\u001b[0mb\u001b[0m\u001b[1;33m*\u001b[0m\u001b[0mc\u001b[0m\u001b[1;33m,\u001b[0m \u001b[0ml\u001b[0m\u001b[1;33m)\u001b[0m\u001b[1;33m\u001b[0m\u001b[0m\n\u001b[0m",
      "\u001b[1;31mTypeError\u001b[0m: <lambda>() missing 1 required positional argument: 'c'"
     ]
    }
   ],
   "source": [
    "l = [1,2,3,4,5,6,7,8,9]\n",
    "reduce(lambda a,b,c: a*b*c, l) #we cannot give 3 argurmnts in reduce\n",
    "#Give only 2 arguments in reduce."
   ]
  },
  {
   "cell_type": "code",
   "execution_count": 12,
   "id": "06d30554",
   "metadata": {},
   "outputs": [
    {
     "data": {
      "text/plain": [
       "7"
      ]
     },
     "execution_count": 12,
     "metadata": {},
     "output_type": "execute_result"
    }
   ],
   "source": [
    "l1 = [7]\n",
    "reduce(lambda a,b: a*b, l1) "
   ]
  },
  {
   "cell_type": "markdown",
   "id": "3e34aa55",
   "metadata": {},
   "source": [
    "## Docstring Notation\n",
    "\n",
    "Notations are used to itimate the users to understand what type of values we have to give and what will be the output.\n",
    "->(return value)"
   ]
  },
  {
   "cell_type": "code",
   "execution_count": 14,
   "id": "4fe27de1",
   "metadata": {},
   "outputs": [],
   "source": [
    "def sum_l(a:int,b:int, c=2) ->int:\n",
    "    return a+b+c\n"
   ]
  },
  {
   "cell_type": "code",
   "execution_count": 16,
   "id": "93f3c876",
   "metadata": {},
   "outputs": [
    {
     "data": {
      "text/plain": [
       "7.2"
      ]
     },
     "execution_count": 16,
     "metadata": {},
     "output_type": "execute_result"
    }
   ],
   "source": [
    "sum_l(2.2,3)\n",
    "\n",
    "# Here we can pass any other datatype. \n",
    "#but we are telling or giving a hint to the to give the best."
   ]
  },
  {
   "cell_type": "code",
   "execution_count": 25,
   "id": "e904a3ca",
   "metadata": {},
   "outputs": [],
   "source": [
    "def f_name(a: 'function', b: bool, c:int, d:float )->[int,float]:\n",
    "    return a,b,c,d"
   ]
  },
  {
   "cell_type": "code",
   "execution_count": 24,
   "id": "9d5d0116",
   "metadata": {},
   "outputs": [
    {
     "ename": "TypeError",
     "evalue": "f_name() missing 4 required positional arguments: 'a', 'b', 'c', and 'd'",
     "output_type": "error",
     "traceback": [
      "\u001b[1;31m---------------------------------------------------------------------------\u001b[0m",
      "\u001b[1;31mTypeError\u001b[0m                                 Traceback (most recent call last)",
      "\u001b[1;32m<ipython-input-24-c9f11e0b9293>\u001b[0m in \u001b[0;36m<module>\u001b[1;34m\u001b[0m\n\u001b[1;32m----> 1\u001b[1;33m \u001b[0mf_name\u001b[0m\u001b[1;33m(\u001b[0m\u001b[1;33m)\u001b[0m\u001b[1;33m\u001b[0m\u001b[0m\n\u001b[0m",
      "\u001b[1;31mTypeError\u001b[0m: f_name() missing 4 required positional arguments: 'a', 'b', 'c', and 'd'"
     ]
    }
   ],
   "source": [
    "f_name()"
   ]
  },
  {
   "cell_type": "code",
   "execution_count": null,
   "id": "3cb950d1",
   "metadata": {},
   "outputs": [],
   "source": []
  }
 ],
 "metadata": {
  "kernelspec": {
   "display_name": "Python 3",
   "language": "python",
   "name": "python3"
  },
  "language_info": {
   "codemirror_mode": {
    "name": "ipython",
    "version": 3
   },
   "file_extension": ".py",
   "mimetype": "text/x-python",
   "name": "python",
   "nbconvert_exporter": "python",
   "pygments_lexer": "ipython3",
   "version": "3.6.2"
  }
 },
 "nbformat": 4,
 "nbformat_minor": 5
}
