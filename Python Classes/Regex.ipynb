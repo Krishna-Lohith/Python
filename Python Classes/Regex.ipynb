{
 "cells": [
  {
   "cell_type": "markdown",
   "id": "13215a3f",
   "metadata": {},
   "source": [
    "# Escape characters"
   ]
  },
  {
   "cell_type": "raw",
   "id": "3e82ffe3",
   "metadata": {},
   "source": [
    "\\d: Represents any digit character (0-9). It is equivalent to the character class [0-9]. For example, the pattern \\d{3} will match any three consecutive digits.\n",
    "\n",
    "\\w: Represents any word character, which includes alphanumeric characters (letters and digits) as well as underscore (_). It is equivalent to the character class [a-zA-Z0-9_]. For example, the pattern \\w+ will match one or more consecutive word characters.\n",
    "\n",
    "\\s: Represents any whitespace character, including spaces, tabs, and newlines. It is equivalent to the character class [\\t\\n\\f\\r\\p{Z}]. For example, the pattern \\s+ will match one or more consecutive whitespace characters."
   ]
  },
  {
   "cell_type": "code",
   "execution_count": 57,
   "id": "42d3e309",
   "metadata": {},
   "outputs": [
    {
     "name": "stdout",
     "output_type": "stream",
     "text": [
      "Matches with \\d: ['123']\n",
      "Matches with \\w: ['Hello', '123', 'World']\n",
      "Matches with \\s: [' ', ' ']\n"
     ]
    }
   ],
   "source": [
    "import re\n",
    "\n",
    "text = \"Hello 123 World!\"\n",
    "\n",
    "# Pattern with \\d\n",
    "pattern_digits = r\"\\d+\"\n",
    "\n",
    "# Pattern with \\w\n",
    "pattern_word = r\"\\w+\"\n",
    "\n",
    "# Pattern with \\s\n",
    "pattern_space = r\"\\s+\"\n",
    "\n",
    "# Using re.findall with \\d\n",
    "matches_digits = re.findall(pattern_digits, text)\n",
    "print(\"Matches with \\\\d:\", matches_digits)\n",
    "\n",
    "# Using re.findall with \\w\n",
    "matches_word = re.findall(pattern_word, text)\n",
    "print(\"Matches with \\\\w:\", matches_word)\n",
    "\n",
    "# Using re.findall with \\s\n",
    "matches_space = re.findall(pattern_space, text)\n",
    "print(\"Matches with \\\\s:\", matches_space)\n"
   ]
  },
  {
   "cell_type": "markdown",
   "id": "88fa5867",
   "metadata": {},
   "source": [
    "# Regex"
   ]
  },
  {
   "cell_type": "raw",
   "id": "dd004aad",
   "metadata": {},
   "source": [
    "Regular expressions, commonly known as regex, are powerful tools for pattern matching and text manipulation in Python (and many other programming languages). They allow you to specify complex patterns and search for matches within strings. Here's a basic to advanced overview of regex concepts in Python, along with examples of regex code.\n",
    "\n",
    "\n",
    "r\"\\d+\"   # one or more integers\n",
    "r\"\\w+\"  # one or more words\n",
    "r'\\s' = White space\n",
    "r'\\s+' = one or more white spaces\n",
    "[a-z]+ = one or more alphabates from a to z\n",
    "[A-Z]+ = one or more alphabates from A to Z\n",
    "' r'\\d+\\s+[a-z]+' '\n",
    "\n",
    "\n",
    "r\"\\b\\w{4}\\b\"   #w=words, 4 = 4 words\n",
    "r'a{4}'   #exactly 4 words\n",
    "r'a{4,5}'  #starting from 4 to end at 5."
   ]
  },
  {
   "cell_type": "code",
   "execution_count": 2,
   "id": "345d32a8",
   "metadata": {},
   "outputs": [],
   "source": [
    "import re"
   ]
  },
  {
   "cell_type": "code",
   "execution_count": 3,
   "id": "3383bf28",
   "metadata": {},
   "outputs": [
    {
     "name": "stdout",
     "output_type": "stream",
     "text": [
      "['Hello']\n"
     ]
    }
   ],
   "source": [
    "text = \"Hello, world!\"\n",
    "pattern = \"hello\"\n",
    "matches = re.findall(pattern, text, re.IGNORECASE)\n",
    "print(matches)"
   ]
  },
  {
   "cell_type": "code",
   "execution_count": 4,
   "id": "c6f82067",
   "metadata": {},
   "outputs": [
    {
     "name": "stdout",
     "output_type": "stream",
     "text": [
      "['e', 'u', 'i', 'o', 'o', 'u', 'o', 'e', 'e', 'a', 'o']\n"
     ]
    }
   ],
   "source": [
    "text = \"The quick brown fox jumps over the lazy dog\"\n",
    "pattern = \"[aeiou]\"\n",
    "matches = re.findall(pattern, text, re.IGNORECASE)\n",
    "print(matches)"
   ]
  },
  {
   "cell_type": "code",
   "execution_count": 5,
   "id": "31416e63",
   "metadata": {},
   "outputs": [
    {
     "name": "stdout",
     "output_type": "stream",
     "text": [
      "['42', '99']\n"
     ]
    }
   ],
   "source": [
    "text = \"The price is $42.99\"\n",
    "pattern = \"\\d+\"\n",
    "matches = re.findall(pattern, text)\n",
    "print(matches)"
   ]
  },
  {
   "cell_type": "code",
   "execution_count": 8,
   "id": "c9049247",
   "metadata": {},
   "outputs": [
    {
     "name": "stdout",
     "output_type": "stream",
     "text": [
      "['Hello']\n"
     ]
    }
   ],
   "source": [
    "text = \"Hello world\"\n",
    "pattern = \"^hello\"\n",
    "matches = re.findall(pattern, text, re.IGNORECASE)\n",
    "print(matches)"
   ]
  },
  {
   "cell_type": "code",
   "execution_count": 9,
   "id": "2f0c20a0",
   "metadata": {},
   "outputs": [
    {
     "name": "stdout",
     "output_type": "stream",
     "text": [
      "['info@example.com', 'support@example.com']\n"
     ]
    }
   ],
   "source": [
    "text = \"Contact us at info@example.com or support@example.com\"\n",
    "pattern = r\"\\b[A-Za-z0-9._%+-]+@[A-Za-z0-9.-]+\\.[A-Z|a-z]{2,}\\b\"\n",
    "matches = re.findall(pattern, text)\n",
    "print(matches)"
   ]
  },
  {
   "cell_type": "code",
   "execution_count": 12,
   "id": "2b104faa",
   "metadata": {},
   "outputs": [
    {
     "name": "stdout",
     "output_type": "stream",
     "text": [
      "['info@example.com', 'support@example.com']\n"
     ]
    }
   ],
   "source": [
    "text = \"Contact us at info@example.com or support@example.com\"\n",
    "pattern = r\"\\b[A-Za-z0-9._%+-]+@[A-Za-z0-9.-]+\\.[A-Z|a-z]{2,}\\b\"\n",
    "matches = re.findall(pattern, text)\n",
    "print(matches)"
   ]
  },
  {
   "cell_type": "raw",
   "id": "f290c5a8",
   "metadata": {},
   "source": [
    "In this example, the pattern \\b[A-Za-z0-9._%+-]+@[A-Za-z0-9.-]+\\.[A-Z|a-z]{2,}\\b uses capturing groups to extract email addresses from the text string. The \\b is a word boundary anchor, [A-Za-z0-9._%+-]+ matches one or more alphanumeric characters, dots, underscores, percent signs, plus signs, or hyphens, @ matches the at symbol, [A-Za-z0-9.-]+ matches one or more alphanumeric characters, dots, or hyphens for the domain name, \\. matches a dot, [A-Z|a-z]{2,} matches two or more uppercase or lowercase letters for the top-level domain, and \\b is another word boundary anchor."
   ]
  },
  {
   "cell_type": "code",
   "execution_count": 13,
   "id": "279b17e1",
   "metadata": {},
   "outputs": [
    {
     "name": "stdout",
     "output_type": "stream",
     "text": [
      "I like to eat orange. The orange is juicy.\n"
     ]
    }
   ],
   "source": [
    "import re\n",
    "\n",
    "text = \"I like to eat apple. The apple is juicy.\"\n",
    "pattern = r\"apple\"\n",
    "replacement = \"orange\"\n",
    "modified_text = re.sub(pattern, replacement, text)\n",
    "print(modified_text)\n"
   ]
  },
  {
   "cell_type": "code",
   "execution_count": null,
   "id": "4cc945ef",
   "metadata": {},
   "outputs": [],
   "source": []
  },
  {
   "cell_type": "code",
   "execution_count": 25,
   "id": "60be2397",
   "metadata": {},
   "outputs": [
    {
     "name": "stdout",
     "output_type": "stream",
     "text": [
      "Match found: fox\n"
     ]
    }
   ],
   "source": [
    "# re.search\n",
    "text = \"The quick brown fox jumps over the lazy dog.\"\n",
    "pattern = r\"fox\"\n",
    "match = re.search(pattern, text)\n",
    "if match:\n",
    "    print(\"Match found:\", match.group())\n",
    "else:\n",
    "    print(\"Match not found.\")"
   ]
  },
  {
   "cell_type": "code",
   "execution_count": 19,
   "id": "81fe7078",
   "metadata": {},
   "outputs": [
    {
     "name": "stdout",
     "output_type": "stream",
     "text": [
      "Matches found: ['fox', 'fox']\n"
     ]
    }
   ],
   "source": [
    "# re.findall\n",
    "\n",
    "text = \"The quick brown fox jumps over the lazy dog. The quick fox is fast.\"\n",
    "pattern = r\"fox\"\n",
    "matches = re.findall(pattern, text)\n",
    "if matches:\n",
    "    print(\"Matches found:\", matches)\n",
    "else:\n",
    "    print(\"Matches not found.\")\n"
   ]
  },
  {
   "cell_type": "code",
   "execution_count": 20,
   "id": "3ee1b1ec",
   "metadata": {},
   "outputs": [
    {
     "name": "stdout",
     "output_type": "stream",
     "text": [
      "Original text: Hello, #World! How are you today? #GoodMorning!\n",
      "Modified text: Hello, TwitterHandle! How are you today? TwitterHandle!\n"
     ]
    }
   ],
   "source": [
    "# re.sub\n",
    "\n",
    "import re\n",
    "\n",
    "text = \"Hello, #World! How are you today? #GoodMorning!\"\n",
    "pattern = r\"#\\w+\"\n",
    "replacement = \"TwitterHandle\"\n",
    "new_text = re.sub(pattern, replacement, text)\n",
    "print(\"Original text:\", text)\n",
    "print(\"Modified text:\", new_text)"
   ]
  },
  {
   "cell_type": "code",
   "execution_count": 21,
   "id": "90bfeea9",
   "metadata": {},
   "outputs": [
    {
     "name": "stdout",
     "output_type": "stream",
     "text": [
      "Original text: The quick, brown, fox jumps over the lazy dog.\n",
      "Splitted words: ['The quick', 'brown', 'fox jumps over the lazy dog.']\n"
     ]
    }
   ],
   "source": [
    "# re.split()\n",
    "\n",
    "import re\n",
    "\n",
    "text = \"The quick, brown, fox jumps over the lazy dog.\"\n",
    "pattern = r\",\\s*\"  # split by comma followed by optional whitespace\n",
    "words = re.split(pattern, text)\n",
    "print(\"Original text:\", text)\n",
    "print(\"Splitted words:\", words)\n"
   ]
  },
  {
   "cell_type": "code",
   "execution_count": 23,
   "id": "a89053df",
   "metadata": {},
   "outputs": [
    {
     "name": "stdout",
     "output_type": "stream",
     "text": [
      "Match found: fox\n"
     ]
    }
   ],
   "source": [
    "import re\n",
    "\n",
    "text = \"The quick brown fox jumps over the lazy dog.\"\n",
    "pattern = r\"fox\"\n",
    "regex = re.compile(pattern)\n",
    "match = regex.search(text)\n",
    "if match:\n",
    "    print(\"Match found:\", match.group())\n",
    "else:\n",
    "    print(\"Match not found.\")\n"
   ]
  },
  {
   "cell_type": "raw",
   "id": "23dadc16",
   "metadata": {},
   "source": [
    "The re.compile() function is used to compile the pattern into a regex object called regex.\n",
    "The regex object is then used with the search() method to search for the pattern in the text string.\n",
    "If a match is found, the match object is returned, and the matched substring can be accessed using the group() method.\n",
    "\n",
    "The main advantage of using re.compile() is that it allows you to pre-compile the pattern into a regex object, which can be reused for multiple pattern matching operations. This can potentially improve the performance, especially when performing multiple regex operations with the same pattern, as it avoids unnecessary recompilation of the pattern for each operation."
   ]
  },
  {
   "cell_type": "code",
   "execution_count": 34,
   "id": "1199f9d4",
   "metadata": {},
   "outputs": [
    {
     "name": "stdout",
     "output_type": "stream",
     "text": [
      "Match found: 100 , 300\n"
     ]
    }
   ],
   "source": [
    "pattern = r\"\\d+\"  # pattern to match one or more digits\n",
    "regex_obj = re.compile(pattern)  # compiling the pattern into a regex object\n",
    "text = \"The price of the product is $100\"\n",
    "text1 = \"The price of the product is $300\"\n",
    "match = regex_obj.search(text)  # using the regex object to search for the pattern in the text\n",
    "match1 = regex_obj.search(text1) \n",
    "if match:\n",
    "    print(\"Match found:\", match.group(),',',  match1.group())\n",
    "else:\n",
    "    print(\"Match not found.\")\n"
   ]
  },
  {
   "cell_type": "code",
   "execution_count": 37,
   "id": "a5fd5a3a",
   "metadata": {},
   "outputs": [
    {
     "name": "stdout",
     "output_type": "stream",
     "text": [
      "Match found: fox at position 16\n",
      "Match found: fox at position 55\n"
     ]
    }
   ],
   "source": [
    "# re.finditer  # Returns an iterator yielding match objects for all non-overlapping occurrences of a pattern in a string.\n",
    "\n",
    "text = \"The quick brown fox jumps over the lazy dog. The quick fox is fast.\"\n",
    "pattern = r\"fox\"\n",
    "matches = re.finditer(pattern, text)\n",
    "for match in matches:\n",
    "    print(\"Match found:\", match.group(), \"at position\", match.start())\n"
   ]
  },
  {
   "cell_type": "code",
   "execution_count": 43,
   "id": "6735fc5b",
   "metadata": {},
   "outputs": [
    {
     "name": "stdout",
     "output_type": "stream",
     "text": [
      "Name found: John\n"
     ]
    }
   ],
   "source": [
    "# re.group(): Returns the string matched by a specific group within a match object.\n",
    "\n",
    "text = \"Name: John Doe, Age: 30, Gender: Male\"\n",
    "pattern = r\"Name: (\\w+)\"\n",
    "match = re.search(pattern, text)\n",
    "if match:\n",
    "    print(\"Name found:\", match.group(1))  # extracting the name from capturing group 1\n",
    "else:\n",
    "    print(\"Name not found.\")\n"
   ]
  },
  {
   "cell_type": "raw",
   "id": "f3ec2fce",
   "metadata": {},
   "source": [
    "In the regular expression r'(\\d\\d\\d)-(\\d\\d\\d-\\d\\d\\d\\d)', the groups are defined by the parentheses ( ) in the pattern.\n",
    "Group 0 (or group(0)) covers the entire match of the regular expression, including all captured groups. In this case, it would cover the entire string that matches the pattern, which would be in the format xxx-xxx-xxxx where each \"x\" represents a digit.\n",
    "\n",
    "Group 1 (or group(1)) covers the first captured group, which is represented by (\\d\\d\\d) in the pattern. It captures three consecutive digits.\n",
    "\n",
    "Group 2 (or group(2)) covers the second captured group, which is represented by (\\d\\d\\d-\\d\\d\\d\\d) in the pattern. It captures a group of three digits followed by a hyphen, and then followed by four digits separated by a hyphen.\n",
    "    "
   ]
  },
  {
   "cell_type": "code",
   "execution_count": 49,
   "id": "73a26445",
   "metadata": {},
   "outputs": [
    {
     "name": "stdout",
     "output_type": "stream",
     "text": [
      "Match found: [world]\n"
     ]
    }
   ],
   "source": [
    "# re.escape(): Escapes special characters in a string.\n",
    "\n",
    "text = \"Hello, [world]! How are you today?\"\n",
    "pattern = re.escape(\"[world]\")  # escape the square brackets in the pattern\n",
    "match = re.search(pattern, text)\n",
    "if match:\n",
    "    print(\"Match found:\", match.group())\n",
    "else:\n",
    "    print(\"Match not found.\")\n"
   ]
  },
  {
   "cell_type": "code",
   "execution_count": 50,
   "id": "54fa2fd4",
   "metadata": {},
   "outputs": [
    {
     "name": "stdout",
     "output_type": "stream",
     "text": [
      "Match not found.\n"
     ]
    }
   ],
   "source": [
    "# Flags: Flags can be used with regex functions to modify the behavior of pattern matching.\n",
    "import re\n",
    "\n",
    "text = \"Hello\\nWorld\"\n",
    "pattern = r\"hello.world\"\n",
    "match = re.search(pattern, text, re.DOTALL)  # using re.DOTALL flag to make dot match newline\n",
    "if match:\n",
    "    print(\"Match found:\", match.group())\n",
    "else:\n",
    "    print(\"Match not found.\")"
   ]
  },
  {
   "cell_type": "code",
   "execution_count": 53,
   "id": "baa1341e",
   "metadata": {},
   "outputs": [
    {
     "name": "stdout",
     "output_type": "stream",
     "text": [
      "Matches found: ['fox', 'fox']\n"
     ]
    }
   ],
   "source": [
    "# re.findall(): Returns all non-overlapping occurrences of a pattern in a string as a list, with optional flags.\n",
    "\n",
    "text = \"The quick BROWN fox jumps over the LAZY dog. fox has looong legs\"\n",
    "pattern = r\"fox\"\n",
    "matches = re.findall(pattern, text, re.IGNORECASE)  # using re.IGNORECASE flag to perform case-insensitive matching\n",
    "if matches:\n",
    "    print(\"Matches found:\", matches)\n",
    "else:\n",
    "    print(\"Matches not found.\")\n"
   ]
  },
  {
   "cell_type": "code",
   "execution_count": 54,
   "id": "bbe6cd90",
   "metadata": {},
   "outputs": [
    {
     "name": "stdout",
     "output_type": "stream",
     "text": [
      "Name found: John\n"
     ]
    }
   ],
   "source": [
    "# re.groupdict(): Returns a dictionary containing all named subgroups of a match object.\n",
    "\n",
    "text = \"Name: John Doe, Age: 30, Gender: Male\"\n",
    "pattern = r\"Name: (?P<name>\\w+)\"  # using named capturing group\n",
    "match = re.search(pattern, text)\n",
    "if match:\n",
    "    print(\"Name found:\", match.groupdict()[\"name\"])  # extracting the name from named capturing group\n",
    "else:\n",
    "    print(\"Name not found.\")\n"
   ]
  },
  {
   "cell_type": "raw",
   "id": "b9524bd2",
   "metadata": {},
   "source": [
    "In standard regular expressions, the | (pipe) character is used to denote an alternation, which allows for matching one of multiple expressions. It acts as a logical OR, allowing the regex pattern to match either the expression on the left or the expression on the right of the | character."
   ]
  },
  {
   "cell_type": "code",
   "execution_count": 55,
   "id": "483ad478",
   "metadata": {},
   "outputs": [
    {
     "name": "stdout",
     "output_type": "stream",
     "text": [
      "Matches using alternation:\n",
      "['cat']\n"
     ]
    }
   ],
   "source": [
    "import re\n",
    "\n",
    "text = \"I have a cat \"\n",
    "\n",
    "# Using alternation in regex pattern\n",
    "pattern = r\"cat|dog\"\n",
    "matches = re.findall(pattern, text)\n",
    "\n",
    "print(\"Matches using alternation:\")\n",
    "print(matches)\n"
   ]
  },
  {
   "cell_type": "raw",
   "id": "94d44013",
   "metadata": {},
   "source": [
    "In regular expressions, the + and * characters are quantifiers that specify the number of occurrences of the preceding character or group.\n",
    "\n",
    "The main difference between + and * is as follows:\n",
    "\n",
    "+ (plus): Matches one or more occurrences of the preceding character or group. It requires at least one occurrence of the preceding character or group for a match to occur. If there are multiple occurrences, all of them will be included in the match.\n",
    "* (asterisk): Matches zero or more occurrences of the preceding character or group. It allows for zero occurrences of the preceding character or group, and if there are multiple occurrences, all of them will be included in the match."
   ]
  },
  {
   "cell_type": "raw",
   "id": "5f771e41",
   "metadata": {},
   "source": []
  },
  {
   "cell_type": "code",
   "execution_count": 56,
   "id": "bc9af244",
   "metadata": {},
   "outputs": [
    {
     "name": "stdout",
     "output_type": "stream",
     "text": [
      "Matches with {4}: ['aaaa', 'aaaa']\n",
      "Matches with {4,5}: ['aaaa', 'aaaaa']\n"
     ]
    }
   ],
   "source": [
    "import re\n",
    "\n",
    "text = \"aaa aa aaa aaaa aaaaa\"\n",
    "\n",
    "# Pattern with {4}\n",
    "pattern_exact = r\"a{4}\"\n",
    "\n",
    "# Pattern with {4,5}\n",
    "pattern_range = r\"a{4,5}\"\n",
    "\n",
    "# Using re.findall with {4}\n",
    "matches_exact = re.findall(pattern_exact, text)\n",
    "print(\"Matches with {4}:\", matches_exact)\n",
    "\n",
    "# Using re.findall with {4,5}\n",
    "matches_range = re.findall(pattern_range, text)\n",
    "print(\"Matches with {4,5}:\", matches_range)\n"
   ]
  },
  {
   "cell_type": "code",
   "execution_count": null,
   "id": "9a86e330",
   "metadata": {},
   "outputs": [],
   "source": []
  }
 ],
 "metadata": {
  "kernelspec": {
   "display_name": "Python 3",
   "language": "python",
   "name": "python3"
  },
  "language_info": {
   "codemirror_mode": {
    "name": "ipython",
    "version": 3
   },
   "file_extension": ".py",
   "mimetype": "text/x-python",
   "name": "python",
   "nbconvert_exporter": "python",
   "pygments_lexer": "ipython3",
   "version": "3.6.2"
  }
 },
 "nbformat": 4,
 "nbformat_minor": 5
}
