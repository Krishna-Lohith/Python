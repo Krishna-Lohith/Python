{
 "cells": [
  {
   "cell_type": "raw",
   "id": "53a5f045",
   "metadata": {},
   "source": [
    "Polymorphism\n",
    "Execption handling(creating own error class)\n",
    "Abstraction\n",
    "Overloading and overriding\n",
    "Time and space complexity"
   ]
  },
  {
   "cell_type": "markdown",
   "id": "cb0caccd",
   "metadata": {},
   "source": [
    "# Polymorphism\n",
    "\n",
    "Poly - Multiple  \n",
    "Morphism - Forms,names.\n",
    "\n",
    "Multi Forms\n",
    "\n",
    "A method has multi forms at multiple situations or at mutliple POV.  \n",
    "Eg:- I will be related different for different people.For my father -  son, my sister - Brother, My grandparents - grandchildren etc..\n",
    "\n",
    "Like that functions will be different when we use it."
   ]
  },
  {
   "cell_type": "raw",
   "id": "9270e610",
   "metadata": {},
   "source": [
    "Polymorphism is a concept in object-oriented programming that refers to the ability of objects of different classes to be treated as if they are of the same class, and to respond to the same methods in different ways."
   ]
  },
  {
   "cell_type": "code",
   "execution_count": 43,
   "id": "841932aa",
   "metadata": {},
   "outputs": [],
   "source": [
    "def add_(a,b):\n",
    "    return a+b"
   ]
  },
  {
   "cell_type": "code",
   "execution_count": 44,
   "id": "d86fdbdc",
   "metadata": {},
   "outputs": [
    {
     "data": {
      "text/plain": [
       "8"
      ]
     },
     "execution_count": 44,
     "metadata": {},
     "output_type": "execute_result"
    }
   ],
   "source": [
    "add_(3,5)  # this function performs as a summation operation."
   ]
  },
  {
   "cell_type": "code",
   "execution_count": 45,
   "id": "4e7a12c8",
   "metadata": {},
   "outputs": [
    {
     "data": {
      "text/plain": [
       "'krishna lohith'"
      ]
     },
     "execution_count": 45,
     "metadata": {},
     "output_type": "execute_result"
    }
   ],
   "source": [
    "# here the same function performs concatination operation. This is called as polymorphism.\n",
    "add_('krishna ', 'lohith')  "
   ]
  },
  {
   "cell_type": "code",
   "execution_count": 46,
   "id": "4ed6d4ac",
   "metadata": {},
   "outputs": [],
   "source": [
    "class p1:\n",
    "    def test(self):\n",
    "        return 'This is class 1'\n",
    "class p2:\n",
    "    def test(self):\n",
    "        return 'This is class 2'\n",
    "class p3:\n",
    "    def test(self):\n",
    "        return 'This is class 3'"
   ]
  },
  {
   "cell_type": "code",
   "execution_count": 48,
   "id": "a0448ba9",
   "metadata": {},
   "outputs": [],
   "source": [
    "b = [p1(),p2(),p3()]"
   ]
  },
  {
   "cell_type": "code",
   "execution_count": 50,
   "id": "b129ef44",
   "metadata": {},
   "outputs": [
    {
     "name": "stdout",
     "output_type": "stream",
     "text": [
      "This is class 1\n",
      "This is class 2\n",
      "This is class 3\n"
     ]
    }
   ],
   "source": [
    "# Here the property of b(object) is same but we got different outcomes.\n",
    "for i in b:\n",
    "    print(i.test())"
   ]
  },
  {
   "cell_type": "code",
   "execution_count": 10,
   "id": "b0833b66",
   "metadata": {},
   "outputs": [],
   "source": [
    "class fb_stories:\n",
    "    def stories():\n",
    "        print('This is story for faceboook')\n",
    "        \n",
    "class insta_stories:\n",
    "    def stories():\n",
    "        print('This is story for insta')"
   ]
  },
  {
   "cell_type": "code",
   "execution_count": 11,
   "id": "ee7c5b7d",
   "metadata": {},
   "outputs": [],
   "source": [
    "def media(app):\n",
    "    app.stories()"
   ]
  },
  {
   "cell_type": "code",
   "execution_count": 12,
   "id": "b2a40e83",
   "metadata": {},
   "outputs": [],
   "source": [
    "i = insta_stories\n",
    "f = fb_stories"
   ]
  },
  {
   "cell_type": "code",
   "execution_count": 13,
   "id": "045d5981",
   "metadata": {},
   "outputs": [
    {
     "name": "stdout",
     "output_type": "stream",
     "text": [
      "This is story for insta\n"
     ]
    }
   ],
   "source": [
    "media(i)"
   ]
  },
  {
   "cell_type": "markdown",
   "id": "da30092f",
   "metadata": {},
   "source": [
    "### Exception Handling"
   ]
  },
  {
   "cell_type": "code",
   "execution_count": 14,
   "id": "ecb401e1",
   "metadata": {},
   "outputs": [],
   "source": [
    "class test(Exception):\n",
    "    def __init__(self,msg,val):\n",
    "        self.msg = msg\n",
    "        self.val=val\n",
    "    "
   ]
  },
  {
   "cell_type": "code",
   "execution_count": 15,
   "id": "99e8e2bb",
   "metadata": {},
   "outputs": [
    {
     "name": "stdout",
     "output_type": "stream",
     "text": [
      "('This is my own Exception class', 'Error')\n"
     ]
    }
   ],
   "source": [
    "try:\n",
    "    raise(test('This is my own Exception class','Error'))\n",
    "except test as t:\n",
    "    print(t)"
   ]
  },
  {
   "cell_type": "code",
   "execution_count": 17,
   "id": "718d7f12",
   "metadata": {},
   "outputs": [
    {
     "name": "stdout",
     "output_type": "stream",
     "text": [
      "('This is my own Exception class', 'Error')\n"
     ]
    }
   ],
   "source": [
    "try:\n",
    "    raise(test('This is my own Exception class','Error'))\n",
    "    5/0\n",
    "except test as t:\n",
    "    print(t)"
   ]
  },
  {
   "cell_type": "code",
   "execution_count": 16,
   "id": "92582bea",
   "metadata": {},
   "outputs": [
    {
     "name": "stdout",
     "output_type": "stream",
     "text": [
      "('This is my own Exception class', 5)\n"
     ]
    }
   ],
   "source": [
    "try:\n",
    "    raise(test('This is my own Exception class',5))\n",
    "except test as t:\n",
    "    print(t)"
   ]
  },
  {
   "cell_type": "code",
   "execution_count": 55,
   "id": "64ced4f1",
   "metadata": {},
   "outputs": [],
   "source": [
    "#3. create own class for custome exception\n",
    "\n",
    "class NotAnInteger(Exception):\n",
    "    def __init__(self,msg):\n",
    "        self.msg = msg\n",
    "    \n",
    "try:\n",
    "    def add(a):\n",
    "        if type(a) == int:\n",
    "            k = a*2\n",
    "        else:\n",
    "            raise NotAnInteger('Type Error')\n",
    "        return k\n",
    "except ValueError as e:\n",
    "    print(e)\n",
    "except NotAnInteger as p:\n",
    "    print(p)"
   ]
  },
  {
   "cell_type": "code",
   "execution_count": 56,
   "id": "00e1c584",
   "metadata": {},
   "outputs": [
    {
     "ename": "NotAnInteger",
     "evalue": "Type Error",
     "output_type": "error",
     "traceback": [
      "\u001b[1;31m---------------------------------------------------------------------------\u001b[0m",
      "\u001b[1;31mNotAnInteger\u001b[0m                              Traceback (most recent call last)",
      "\u001b[1;32m<ipython-input-56-1208b4f42b63>\u001b[0m in \u001b[0;36m<module>\u001b[1;34m\u001b[0m\n\u001b[1;32m----> 1\u001b[1;33m \u001b[0madd\u001b[0m\u001b[1;33m(\u001b[0m\u001b[1;34m'l'\u001b[0m\u001b[1;33m)\u001b[0m\u001b[1;33m\u001b[0m\u001b[0m\n\u001b[0m",
      "\u001b[1;32m<ipython-input-55-90c96babc5ad>\u001b[0m in \u001b[0;36madd\u001b[1;34m(a)\u001b[0m\n\u001b[0;32m     10\u001b[0m             \u001b[0mk\u001b[0m \u001b[1;33m=\u001b[0m \u001b[0ma\u001b[0m\u001b[1;33m*\u001b[0m\u001b[1;36m2\u001b[0m\u001b[1;33m\u001b[0m\u001b[0m\n\u001b[0;32m     11\u001b[0m         \u001b[1;32melse\u001b[0m\u001b[1;33m:\u001b[0m\u001b[1;33m\u001b[0m\u001b[0m\n\u001b[1;32m---> 12\u001b[1;33m             \u001b[1;32mraise\u001b[0m \u001b[0mNotAnInteger\u001b[0m\u001b[1;33m(\u001b[0m\u001b[1;34m'Type Error'\u001b[0m\u001b[1;33m)\u001b[0m\u001b[1;33m\u001b[0m\u001b[0m\n\u001b[0m\u001b[0;32m     13\u001b[0m         \u001b[1;32mreturn\u001b[0m \u001b[0mk\u001b[0m\u001b[1;33m\u001b[0m\u001b[0m\n\u001b[0;32m     14\u001b[0m \u001b[1;32mexcept\u001b[0m \u001b[0mValueError\u001b[0m \u001b[1;32mas\u001b[0m \u001b[0me\u001b[0m\u001b[1;33m:\u001b[0m\u001b[1;33m\u001b[0m\u001b[0m\n",
      "\u001b[1;31mNotAnInteger\u001b[0m: Type Error"
     ]
    }
   ],
   "source": [
    "add('l')"
   ]
  },
  {
   "cell_type": "markdown",
   "id": "46dd3025",
   "metadata": {},
   "source": [
    "# Assignment"
   ]
  },
  {
   "cell_type": "raw",
   "id": "dc373820",
   "metadata": {},
   "source": [
    "q1. Create your own class to achive multiple, multilavel inheritance\n",
    "2. create your own class to represent polymorphism\n",
    "3. create own class for custome exception\n",
    "4. create own class for encapsulation\n",
    "5. create own class for method overloading and overriding"
   ]
  },
  {
   "cell_type": "code",
   "execution_count": 27,
   "id": "9dcfa19f",
   "metadata": {},
   "outputs": [],
   "source": [
    "\n",
    "class c_parent1:\n",
    "    def __init__(self, a,b,c):\n",
    "        self.a = a\n",
    "        self.b = b\n",
    "        self.c = c\n",
    "    def test_parent1(self):\n",
    "        print('Hi, I am from first class which is parent 1 ',self.c)\n",
    "\n",
    "class c_parent2:\n",
    "    def __init__(self, e,f,g):\n",
    "        self.e = e\n",
    "        self.f = f\n",
    "        self.g = g\n",
    "    def test_parent2(self):\n",
    "        print('Hi, I am from second class which is parent 2 ',self.f)\n",
    "\n",
    "class c_child(c_parent1, c_parent2):\n",
    "    def c_child(self):\n",
    "        print('Hi this is child class',self.b,self.g)\n",
    "        \n",
    "    def __init__(self,*args):\n",
    "        c_parent1.__init__(self, *args) #assigning the values to the varaibles which are present in __init__ method in a class\n",
    "        c_parent2.__init__(self, *args)"
   ]
  },
  {
   "cell_type": "code",
   "execution_count": 28,
   "id": "74c9ec49",
   "metadata": {},
   "outputs": [],
   "source": [
    "c = c_child([1,2,3],[4,5,6],[7,8,9])"
   ]
  },
  {
   "cell_type": "code",
   "execution_count": 29,
   "id": "4316e926",
   "metadata": {},
   "outputs": [
    {
     "name": "stdout",
     "output_type": "stream",
     "text": [
      "Hi this is child class [4, 5, 6] [7, 8, 9]\n"
     ]
    }
   ],
   "source": [
    "c.c_child()"
   ]
  },
  {
   "cell_type": "code",
   "execution_count": 37,
   "id": "8b203dc5",
   "metadata": {},
   "outputs": [
    {
     "name": "stdout",
     "output_type": "stream",
     "text": [
      "Hi this is child class 10 [1, 2, 3, 4, 1, 2, 3, 4]\n"
     ]
    }
   ],
   "source": [
    "#Multiple Inheritance\n",
    "\n",
    "class parent1:\n",
    "    def __init__(self, a):\n",
    "        self.a = a\n",
    "        \n",
    "    def add(self):\n",
    "        return sum(self.a)\n",
    "\n",
    "class parent2:\n",
    "    def __init__(self,b):\n",
    "        self.b = b\n",
    "        \n",
    "    def mul(self):\n",
    "        return self.b*2\n",
    "\n",
    "class child1(parent1,parent2):\n",
    "    def msg(self):\n",
    "        self.p = sum(self.a)\n",
    "        self.q = self.b*2\n",
    "        print('Hi this is child class',self.p,self.q)\n",
    "        \n",
    "        \n",
    "    def __init__(self,*args):\n",
    "        parent1.__init__(self,*args)\n",
    "        parent2.__init__(self,*args)\n",
    "        \n",
    "        \n",
    "z = child1([1,2,3,4])\n",
    "z.msg()"
   ]
  },
  {
   "cell_type": "code",
   "execution_count": 40,
   "id": "b6349191",
   "metadata": {},
   "outputs": [
    {
     "data": {
      "text/plain": [
       "(15, 30)"
      ]
     },
     "execution_count": 40,
     "metadata": {},
     "output_type": "execute_result"
    }
   ],
   "source": [
    "#Multi level Inheritance\n",
    "        \n",
    "class p1:\n",
    "    def __init__(self, a, b):\n",
    "        self.a = a\n",
    "        self.b = b\n",
    "        \n",
    "    def display(self):\n",
    "        return self.a, self.b\n",
    "    \n",
    "class p2(p1):\n",
    "    def add(self):\n",
    "        self.c = self.a+self.b\n",
    "        return (f'{self.a,self.b,} addition:- {self.c}')\n",
    "    \n",
    "    \n",
    "class p3(p2):\n",
    "    def mul(self):\n",
    "        return (self.c,self.c*2)\n",
    "    \n",
    "    def __init__(self, a, b):\n",
    "        super().__init__(a, b)  # call the constructor of the p2 class\n",
    "        self.add()               # call the add() method to calculate 'c'\n",
    "    \n",
    "    \n",
    "    \n",
    "z = p3(7,8)\n",
    "z.mul()"
   ]
  },
  {
   "cell_type": "code",
   "execution_count": 183,
   "id": "758c0c2b",
   "metadata": {},
   "outputs": [],
   "source": [
    "x = p1(2,3)"
   ]
  },
  {
   "cell_type": "code",
   "execution_count": 184,
   "id": "969c9839",
   "metadata": {},
   "outputs": [
    {
     "data": {
      "text/plain": [
       "(2, 3)"
      ]
     },
     "execution_count": 184,
     "metadata": {},
     "output_type": "execute_result"
    }
   ],
   "source": [
    "x.display()"
   ]
  },
  {
   "cell_type": "code",
   "execution_count": 175,
   "id": "bb7cb359",
   "metadata": {},
   "outputs": [],
   "source": [
    "y = p2(4,5)"
   ]
  },
  {
   "cell_type": "code",
   "execution_count": 176,
   "id": "3daebfc1",
   "metadata": {},
   "outputs": [
    {
     "data": {
      "text/plain": [
       "'(4, 5) addition:- 9'"
      ]
     },
     "execution_count": 176,
     "metadata": {},
     "output_type": "execute_result"
    }
   ],
   "source": [
    "y.add()"
   ]
  },
  {
   "cell_type": "code",
   "execution_count": 180,
   "id": "19506da4",
   "metadata": {},
   "outputs": [],
   "source": [
    "z = p3(7,8)\n"
   ]
  },
  {
   "cell_type": "code",
   "execution_count": 196,
   "id": "c204b333",
   "metadata": {},
   "outputs": [
    {
     "data": {
      "text/plain": [
       "30"
      ]
     },
     "execution_count": 196,
     "metadata": {},
     "output_type": "execute_result"
    }
   ],
   "source": [
    "z.mul()"
   ]
  },
  {
   "cell_type": "code",
   "execution_count": 161,
   "id": "a56e890a",
   "metadata": {},
   "outputs": [],
   "source": [
    "x = Dog()"
   ]
  },
  {
   "cell_type": "code",
   "execution_count": 162,
   "id": "19624cbe",
   "metadata": {},
   "outputs": [
    {
     "name": "stdout",
     "output_type": "stream",
     "text": [
      "Running...\n"
     ]
    }
   ],
   "source": [
    "x.run()"
   ]
  },
  {
   "cell_type": "code",
   "execution_count": 195,
   "id": "384a7ff0",
   "metadata": {},
   "outputs": [
    {
     "name": "stdout",
     "output_type": "stream",
     "text": [
      "Fido says woof!\n",
      "Whiskers says meow!\n",
      "Nemo doesn't make a sound\n"
     ]
    }
   ],
   "source": [
    "#Polymorphism\n",
    "class Animal:\n",
    "    def __init__(self, name):\n",
    "        self.name = name\n",
    "        \n",
    "    def speak(self):\n",
    "        raise NotImplementedError(\"Subclass must implement abstract method\")\n",
    "        \n",
    "class Dog(Animal):\n",
    "    def speak(self):\n",
    "        return self.name + \" says woof!\"\n",
    "        \n",
    "class Cat(Animal):\n",
    "    def speak(self):\n",
    "        return self.name + \" says meow!\"\n",
    "        \n",
    "class Fish(Animal):\n",
    "    def speak(self):\n",
    "        return self.name + \" doesn't make a sound\"\n",
    "    \n",
    "animals = [Dog(\"Fido\"), Cat(\"Whiskers\"), Fish(\"Nemo\")]\n",
    "\n",
    "for animal in animals:\n",
    "    print(animal.speak())\n"
   ]
  },
  {
   "cell_type": "code",
   "execution_count": 53,
   "id": "29f49a71",
   "metadata": {},
   "outputs": [],
   "source": [
    "#3. create own class for custome exception\n",
    "\n",
    "class NotAnInteger(Exception):\n",
    "    def __init__(self,msg):\n",
    "        self.msg = msg\n",
    "    \n",
    "try:\n",
    "    def add(a):\n",
    "        if type(a) == int:\n",
    "            k = a*2\n",
    "        else:\n",
    "            raise NotAnInteger('Type Error')\n",
    "        return k\n",
    "except ValueError as e:\n",
    "    print(e)\n",
    "except NotAnInteger as p:\n",
    "    print(p)"
   ]
  },
  {
   "cell_type": "code",
   "execution_count": 54,
   "id": "b6dfccf0",
   "metadata": {},
   "outputs": [
    {
     "ename": "NotAnInteger",
     "evalue": "Type Error",
     "output_type": "error",
     "traceback": [
      "\u001b[1;31m---------------------------------------------------------------------------\u001b[0m",
      "\u001b[1;31mNotAnInteger\u001b[0m                              Traceback (most recent call last)",
      "\u001b[1;32m<ipython-input-54-40be0fabbe30>\u001b[0m in \u001b[0;36m<module>\u001b[1;34m\u001b[0m\n\u001b[1;32m----> 1\u001b[1;33m \u001b[0madd\u001b[0m\u001b[1;33m(\u001b[0m\u001b[1;34m'k'\u001b[0m\u001b[1;33m)\u001b[0m\u001b[1;33m\u001b[0m\u001b[0m\n\u001b[0m",
      "\u001b[1;32m<ipython-input-53-90c96babc5ad>\u001b[0m in \u001b[0;36madd\u001b[1;34m(a)\u001b[0m\n\u001b[0;32m     10\u001b[0m             \u001b[0mk\u001b[0m \u001b[1;33m=\u001b[0m \u001b[0ma\u001b[0m\u001b[1;33m*\u001b[0m\u001b[1;36m2\u001b[0m\u001b[1;33m\u001b[0m\u001b[0m\n\u001b[0;32m     11\u001b[0m         \u001b[1;32melse\u001b[0m\u001b[1;33m:\u001b[0m\u001b[1;33m\u001b[0m\u001b[0m\n\u001b[1;32m---> 12\u001b[1;33m             \u001b[1;32mraise\u001b[0m \u001b[0mNotAnInteger\u001b[0m\u001b[1;33m(\u001b[0m\u001b[1;34m'Type Error'\u001b[0m\u001b[1;33m)\u001b[0m\u001b[1;33m\u001b[0m\u001b[0m\n\u001b[0m\u001b[0;32m     13\u001b[0m         \u001b[1;32mreturn\u001b[0m \u001b[0mk\u001b[0m\u001b[1;33m\u001b[0m\u001b[0m\n\u001b[0;32m     14\u001b[0m \u001b[1;32mexcept\u001b[0m \u001b[0mValueError\u001b[0m \u001b[1;32mas\u001b[0m \u001b[0me\u001b[0m\u001b[1;33m:\u001b[0m\u001b[1;33m\u001b[0m\u001b[0m\n",
      "\u001b[1;31mNotAnInteger\u001b[0m: Type Error"
     ]
    }
   ],
   "source": [
    "add('k')"
   ]
  },
  {
   "cell_type": "code",
   "execution_count": 218,
   "id": "965629da",
   "metadata": {},
   "outputs": [
    {
     "data": {
      "text/plain": [
       "5"
      ]
     },
     "execution_count": 218,
     "metadata": {},
     "output_type": "execute_result"
    }
   ],
   "source": [
    "x.add()"
   ]
  },
  {
   "cell_type": "code",
   "execution_count": 219,
   "id": "48ed83d1",
   "metadata": {},
   "outputs": [
    {
     "ename": "TypeError",
     "evalue": "catching classes that do not inherit from BaseException is not allowed",
     "output_type": "error",
     "traceback": [
      "\u001b[1;31m---------------------------------------------------------------------------\u001b[0m",
      "\u001b[1;31mTypeError\u001b[0m                                 Traceback (most recent call last)",
      "\u001b[1;32m<ipython-input-219-2adae896ef07>\u001b[0m in \u001b[0;36m<module>\u001b[1;34m\u001b[0m\n\u001b[0;32m      1\u001b[0m \u001b[1;32mtry\u001b[0m\u001b[1;33m:\u001b[0m\u001b[1;33m\u001b[0m\u001b[0m\n\u001b[1;32m----> 2\u001b[1;33m     \u001b[1;32mraise\u001b[0m\u001b[1;33m(\u001b[0m\u001b[0mp1\u001b[0m\u001b[1;33m(\u001b[0m\u001b[1;36m2\u001b[0m\u001b[1;33m,\u001b[0m\u001b[1;36m5\u001b[0m\u001b[1;33m)\u001b[0m\u001b[1;33m)\u001b[0m\u001b[1;33m\u001b[0m\u001b[0m\n\u001b[0m\u001b[0;32m      3\u001b[0m \u001b[1;32mexcept\u001b[0m \u001b[0mp1\u001b[0m \u001b[1;32mas\u001b[0m \u001b[0mt\u001b[0m\u001b[1;33m:\u001b[0m\u001b[1;33m\u001b[0m\u001b[0m\n",
      "\u001b[1;31mTypeError\u001b[0m: exceptions must derive from BaseException",
      "\nDuring handling of the above exception, another exception occurred:\n",
      "\u001b[1;31mTypeError\u001b[0m                                 Traceback (most recent call last)",
      "\u001b[1;32m<ipython-input-219-2adae896ef07>\u001b[0m in \u001b[0;36m<module>\u001b[1;34m\u001b[0m\n\u001b[0;32m      1\u001b[0m \u001b[1;32mtry\u001b[0m\u001b[1;33m:\u001b[0m\u001b[1;33m\u001b[0m\u001b[0m\n\u001b[0;32m      2\u001b[0m     \u001b[1;32mraise\u001b[0m\u001b[1;33m(\u001b[0m\u001b[0mp1\u001b[0m\u001b[1;33m(\u001b[0m\u001b[1;36m2\u001b[0m\u001b[1;33m,\u001b[0m\u001b[1;36m5\u001b[0m\u001b[1;33m)\u001b[0m\u001b[1;33m)\u001b[0m\u001b[1;33m\u001b[0m\u001b[0m\n\u001b[1;32m----> 3\u001b[1;33m \u001b[1;32mexcept\u001b[0m \u001b[0mp1\u001b[0m \u001b[1;32mas\u001b[0m \u001b[0mt\u001b[0m\u001b[1;33m:\u001b[0m\u001b[1;33m\u001b[0m\u001b[0m\n\u001b[0m\u001b[0;32m      4\u001b[0m     \u001b[0mprint\u001b[0m\u001b[1;33m(\u001b[0m\u001b[0mt\u001b[0m\u001b[1;33m)\u001b[0m\u001b[1;33m\u001b[0m\u001b[0m\n",
      "\u001b[1;31mTypeError\u001b[0m: catching classes that do not inherit from BaseException is not allowed"
     ]
    }
   ],
   "source": [
    "try:\n",
    "    raise(p1(2,5))\n",
    "except p1 as t:\n",
    "    print(t)"
   ]
  },
  {
   "cell_type": "code",
   "execution_count": 225,
   "id": "e8559314",
   "metadata": {},
   "outputs": [],
   "source": [
    "#4. create own class for encapsulation\n",
    "\n",
    "class p1:\n",
    "    def __init__(self, a,b,c):\n",
    "        self.a = a\n",
    "        self._b = b\n",
    "        self.__c = c\n",
    "    \n",
    "    def add(self):\n",
    "        return self.a + self._b + self.__c"
   ]
  },
  {
   "cell_type": "code",
   "execution_count": 226,
   "id": "c071468d",
   "metadata": {},
   "outputs": [],
   "source": [
    "x = p1(1,2,3)"
   ]
  },
  {
   "cell_type": "code",
   "execution_count": 227,
   "id": "0b11c8eb",
   "metadata": {},
   "outputs": [
    {
     "data": {
      "text/plain": [
       "6"
      ]
     },
     "execution_count": 227,
     "metadata": {},
     "output_type": "execute_result"
    }
   ],
   "source": [
    "x.add()"
   ]
  },
  {
   "cell_type": "code",
   "execution_count": 228,
   "id": "e6594662",
   "metadata": {},
   "outputs": [
    {
     "data": {
      "text/plain": [
       "1"
      ]
     },
     "execution_count": 228,
     "metadata": {},
     "output_type": "execute_result"
    }
   ],
   "source": [
    "x.a"
   ]
  },
  {
   "cell_type": "code",
   "execution_count": 229,
   "id": "17ff6b4b",
   "metadata": {},
   "outputs": [
    {
     "data": {
      "text/plain": [
       "2"
      ]
     },
     "execution_count": 229,
     "metadata": {},
     "output_type": "execute_result"
    }
   ],
   "source": [
    "x._b"
   ]
  },
  {
   "cell_type": "code",
   "execution_count": 233,
   "id": "43806c03",
   "metadata": {},
   "outputs": [
    {
     "data": {
      "text/plain": [
       "3"
      ]
     },
     "execution_count": 233,
     "metadata": {},
     "output_type": "execute_result"
    }
   ],
   "source": [
    "x._p1__c"
   ]
  },
  {
   "cell_type": "markdown",
   "id": "57d2960e",
   "metadata": {},
   "source": [
    "# Abstraction\n",
    "\n",
    "An abstract class is a class that cannot be instantiated on its own, but instead serves as a blueprint for other classes. It is a way of defining a common interface that its subclasses must follow.\n",
    "1) use @abcabstractmethod decorator to abstract a function.\n",
    "2) when a function is abstracted we can't write code inside it just write pass.\n",
    "3) we can create functions with the same name in another class and write code inside that new function.\n",
    "\n",
    "A BLue print or skeleton or structure of a package or modules\n",
    "In a corporate office a team leader or manager to know the classes and functions"
   ]
  },
  {
   "cell_type": "code",
   "execution_count": null,
   "id": "47df441b",
   "metadata": {},
   "outputs": [],
   "source": [
    "class p1:\n",
    "    def c1(self):\n",
    "        pass\n",
    "    def c2(self):\n",
    "        pass\n",
    "    def c3(self):\n",
    "        pass\n",
    "    def c4(self):\n",
    "        pass\n",
    "    def c5(self):\n",
    "        pass\n",
    "    def c6(self):\n",
    "        pass\n",
    "    def c7(self):\n",
    "        pass\n",
    "    def c88(self):\n",
    "        pass\n",
    "    def c9(self):\n",
    "        pass\n",
    "    def c10(self):\n",
    "        pass\n",
    "    \n",
    "class p2:\n",
    "    def c1(self):\n",
    "        pass\n",
    "    def c2(self):\n",
    "        pass\n",
    "    def c3(self):\n",
    "        pass\n",
    "    def c4(self):\n",
    "        pass\n",
    "    def c5(self):\n",
    "        pass\n",
    "    def c6(self):\n",
    "    \n",
    "    "
   ]
  },
  {
   "cell_type": "code",
   "execution_count": 58,
   "id": "05653c23",
   "metadata": {},
   "outputs": [],
   "source": [
    "from abc import abstractmethod\n",
    "\n",
    "class p1:\n",
    "    @abstractmethod\n",
    "    def c1(self):\n",
    "        pass\n",
    "    def c2(self):\n",
    "        pass\n",
    "    def c3(self):\n",
    "        pass\n",
    "    def c4(self):\n",
    "        pass\n",
    "    def c5(self):\n",
    "        pass\n",
    "    def c6(self):\n",
    "        pass\n",
    "    def c7(self):\n",
    "        pass\n",
    "    def c88(self):\n",
    "        pass\n",
    "    def c9(self):\n",
    "        pass\n",
    "    def c10(self):\n",
    "        pass\n",
    "    \n",
    "class p2:\n",
    "    def c1(self):\n",
    "        pass\n",
    "    def c2(self):\n",
    "        pass\n",
    "    def c3(self):\n",
    "        pass\n",
    "    def c4(self):\n",
    "        pass\n",
    "    def c5(self):\n",
    "        pass\n",
    "    def c6(self):\n",
    "        pass\n",
    "    "
   ]
  },
  {
   "cell_type": "markdown",
   "id": "6b7faa95",
   "metadata": {},
   "source": [
    "In Python's object-oriented programming (OOP) concept, \"abstract\" and \"abstract superclass\" can be used interchangeably to refer to the same thing, which is a class that cannot be instantiated on its own but serves as a template or blueprint for other classes to inherit from.\n",
    "\n",
    "To define an abstract superclass in Python, you can use the built-in abc module and the ABC (Abstract Base Class) metaclass. Here's an example:"
   ]
  },
  {
   "cell_type": "code",
   "execution_count": 2,
   "id": "7f706282",
   "metadata": {},
   "outputs": [],
   "source": [
    "import abc\n",
    "\n",
    "class Animal(metaclass=abc.ABCMeta):\n",
    "    @abc.abstractmethod\n",
    "    def speak(self):\n",
    "        pass\n",
    "\n",
    "class Dog(Animal):\n",
    "    def speak(self):\n",
    "        return \"Woof!\"\n",
    "\n",
    "class Cat(Animal):\n",
    "    def speak(self):\n",
    "        return \"Meow!\"\n"
   ]
  },
  {
   "cell_type": "markdown",
   "id": "cec859f7",
   "metadata": {},
   "source": [
    "In this example, the Animal class is defined as an abstract superclass with the ABC metaclass. It has an abstract method speak() that is defined but not implemented (pass). The Dog and Cat classes inherit from Animal and provide their own implementation of speak().\n",
    "\n",
    "Note that attempting to instantiate Animal directly will result in a TypeError, as it is an abstract class:"
   ]
  },
  {
   "cell_type": "code",
   "execution_count": 5,
   "id": "a7b14523",
   "metadata": {},
   "outputs": [],
   "source": [
    "a = Animal()\n",
    "#TypeError: Can't instantiate abstract class Animal with abstract methods speak"
   ]
  },
  {
   "cell_type": "markdown",
   "id": "76392f8a",
   "metadata": {},
   "source": [
    "So, to summarize, an abstract superclass in Python OOP is a class that cannot be instantiated on its own and serves as a template for other classes to inherit from. The abc module and the ABC metaclass are used to define abstract classes in Python."
   ]
  },
  {
   "cell_type": "markdown",
   "id": "41dfd076",
   "metadata": {},
   "source": [
    "### so this means  there is no constructor method in a abstract class."
   ]
  },
  {
   "cell_type": "markdown",
   "id": "c6e720a8",
   "metadata": {},
   "source": [
    "No, an abstract class in Python can have a constructor method just like any other class. The only difference is that an abstract class cannot be instantiated on its own, so its constructor method will only be called when an instance of its subclass is created.\n",
    "\n",
    "Here's an example of an abstract class with a constructor method:"
   ]
  },
  {
   "cell_type": "code",
   "execution_count": 6,
   "id": "f6f09012",
   "metadata": {},
   "outputs": [],
   "source": [
    "import abc\n",
    "\n",
    "class Vehicle(metaclass=abc.ABCMeta):\n",
    "    def __init__(self, make, model, year):\n",
    "        self.make = make\n",
    "        self.model = model\n",
    "        self.year = year\n",
    "    \n",
    "    @abc.abstractmethod\n",
    "    def start(self):\n",
    "        pass\n",
    "\n",
    "class Car(Vehicle):\n",
    "    def start(self):\n",
    "        return \"Starting the car\"\n"
   ]
  },
  {
   "cell_type": "markdown",
   "id": "fd5e3fb9",
   "metadata": {},
   "source": [
    "In this example, the Vehicle class is an abstract superclass with a constructor method that takes make, model, and year as arguments. It also has an abstract method start() that is defined but not implemented. The Car class inherits from Vehicle and provides its own implementation of start().\n",
    "\n",
    "When an instance of Car is created, its constructor method will call the constructor method of Vehicle to initialize its attributes:"
   ]
  },
  {
   "cell_type": "code",
   "execution_count": 7,
   "id": "b2ec4bae",
   "metadata": {},
   "outputs": [
    {
     "name": "stdout",
     "output_type": "stream",
     "text": [
      "Honda Civic 2022\n"
     ]
    }
   ],
   "source": [
    "my_car = Car(\"Honda\", \"Civic\", 2022)\n",
    "print(my_car.make, my_car.model, my_car.year)\n",
    "#Honda Civic 2022"
   ]
  },
  {
   "cell_type": "markdown",
   "id": "7d75f1c8",
   "metadata": {},
   "source": [
    "So, to answer your question, an abstract class can have a constructor method just like any other class. The fact that it is abstract does not prevent it from having a constructor method."
   ]
  },
  {
   "cell_type": "markdown",
   "id": "914ef142",
   "metadata": {},
   "source": [
    "### what is the use of abstract method and why we need it?"
   ]
  },
  {
   "cell_type": "markdown",
   "id": "8512f1d5",
   "metadata": {},
   "source": [
    "Abstract methods in Python are methods that are declared but not implemented in the abstract class. The implementation of the abstract method is deferred to its subclasses. The main use of abstract methods is to define a common interface or contract that all subclasses must follow.\n",
    "\n",
    "Here are some reasons why we may need abstract methods in Python:\n",
    "\n",
    "To enforce a common interface: Abstract methods allow you to define a common interface or contract that all subclasses must follow. This helps ensure consistency and maintainability of your codebase.\n",
    "\n",
    "To provide a template or blueprint: Abstract methods can be used to define a template or blueprint for other classes to follow. This can help reduce code duplication and promote good design practices.\n",
    "\n",
    "To promote loose coupling: Abstract methods promote loose coupling by allowing subclasses to implement their own behavior while still adhering to the common interface defined by the abstract superclass. This makes it easier to modify or extend the behavior of individual subclasses without affecting the rest of the codebase.\n",
    "\n",
    "To enable polymorphism: Abstract methods enable polymorphism by allowing objects of different classes to be treated uniformly as long as they implement the same abstract methods. This can make your code more flexible and easier to extend.\n",
    "\n",
    "Here's an example that illustrates the use of abstract methods in Python:"
   ]
  },
  {
   "cell_type": "code",
   "execution_count": 8,
   "id": "36117a7a",
   "metadata": {},
   "outputs": [],
   "source": [
    "import abc\n",
    "\n",
    "class Shape(metaclass=abc.ABCMeta):\n",
    "    @abc.abstractmethod\n",
    "    def area(self):\n",
    "        pass\n",
    "\n",
    "class Square(Shape):\n",
    "    def __init__(self, side):\n",
    "        self.side = side\n",
    "    \n",
    "    def area(self):\n",
    "        return self.side ** 2\n",
    "\n",
    "class Circle(Shape):\n",
    "    def __init__(self, radius):\n",
    "        self.radius = radius\n",
    "    \n",
    "    def area(self):\n",
    "        return 3.14 * self.radius ** 2\n"
   ]
  },
  {
   "cell_type": "markdown",
   "id": "1797b84f",
   "metadata": {},
   "source": [
    "In this example, the Shape class is an abstract superclass that defines an abstract method area(). The Square and Circle classes inherit from Shape and provide their own implementation of area(). By defining the Shape class and its abstract method area(), we can treat instances of Square and Circle uniformly as long as they implement the area() method. This promotes polymorphism and makes our code more flexible and extensible."
   ]
  },
  {
   "cell_type": "markdown",
   "id": "8229f359",
   "metadata": {},
   "source": [
    "### so this means we cannot write an instance method with a operation inside a abstract class."
   ]
  },
  {
   "cell_type": "markdown",
   "id": "f553cbac",
   "metadata": {},
   "source": [
    "It is perfectly valid to write an instance method with an operation inside an abstract class in Python. However, the purpose of an abstract class is to provide a common interface and template for its subclasses, so the implementation of the instance method should be left to its subclasses.\n",
    "\n",
    "Here's an example to illustrate this:"
   ]
  },
  {
   "cell_type": "code",
   "execution_count": 9,
   "id": "be2108ba",
   "metadata": {},
   "outputs": [],
   "source": [
    "import abc\n",
    "\n",
    "class Animal(metaclass=abc.ABCMeta):\n",
    "    def __init__(self, name, age):\n",
    "        self.name = name\n",
    "        self.age = age\n",
    "    \n",
    "    @abc.abstractmethod\n",
    "    def speak(self):\n",
    "        pass\n",
    "    \n",
    "    def get_description(self):\n",
    "        return f\"{self.name} is {self.age} years old\"\n"
   ]
  },
  {
   "cell_type": "markdown",
   "id": "6e8ab221",
   "metadata": {},
   "source": [
    "In this example, the Animal class is an abstract superclass that defines an instance method get_description() in addition to an abstract method speak(). The get_description() method returns a string that describes the animal's name and age. The implementation of speak() is deferred to its subclasses.\n",
    "\n",
    "When a subclass of Animal is created, it must implement the speak() method but can also use the get_description() method inherited from Animal:"
   ]
  },
  {
   "cell_type": "code",
   "execution_count": 10,
   "id": "77a870f9",
   "metadata": {},
   "outputs": [
    {
     "name": "stdout",
     "output_type": "stream",
     "text": [
      "Fido is 5 years old\n",
      "Woof!\n"
     ]
    }
   ],
   "source": [
    "class Dog(Animal):\n",
    "    def speak(self):\n",
    "        return \"Woof!\"\n",
    "\n",
    "my_dog = Dog(\"Fido\", 5)\n",
    "print(my_dog.get_description())  # Output: Fido is 5 years old\n",
    "print(my_dog.speak())  # Output: Woof!\n"
   ]
  },
  {
   "cell_type": "markdown",
   "id": "a001f989",
   "metadata": {},
   "source": [
    "As you can see, the Dog class inherits the get_description() method from its abstract superclass Animal and provides its own implementation of the speak() method. This demonstrates how an abstract class can define an instance method with an operation and still provide a template for its subclasses to follow."
   ]
  },
  {
   "cell_type": "code",
   "execution_count": null,
   "id": "8fee6454",
   "metadata": {},
   "outputs": [],
   "source": [
    "# can we write this?\n",
    "@abc.abstractmethod\n",
    "    def speak(self):\n",
    "        return f\"{self.name} is {self.age} years old\"   "
   ]
  },
  {
   "cell_type": "markdown",
   "id": "1845a69d",
   "metadata": {},
   "source": [
    "No, you cannot write a method with a return statement inside an @abstractmethod decorator.\n",
    "\n",
    "An abstract method is a method that is declared in an abstract class but has no implementation. It is meant to be implemented by its concrete subclasses. When you mark a method with the @abstractmethod decorator, you are telling Python that the method is abstract and must be overridden by its concrete subclasses.\n",
    "\n",
    "In other words, the @abstractmethod decorator is meant to be used only on method signatures, not on actual implementations. So, you cannot have a return statement or any other code inside the method definition when using @abstractmethod.\n",
    "\n",
    "If you need to provide a default implementation for an abstract method, you can define a regular method (i.e., without @abstractmethod) in the abstract class, and then call that method from the abstract method. Here's an example:"
   ]
  },
  {
   "cell_type": "code",
   "execution_count": 12,
   "id": "a530ade0",
   "metadata": {},
   "outputs": [
    {
     "name": "stdout",
     "output_type": "stream",
     "text": [
      "Fido is 5 years old\n",
      "Woof!\n"
     ]
    }
   ],
   "source": [
    "import abc\n",
    "\n",
    "class Animal(metaclass=abc.ABCMeta):\n",
    "    def __init__(self, name, age):\n",
    "        self.name = name\n",
    "        self.age = age\n",
    "    \n",
    "    def get_description(self):\n",
    "        return f\"{self.name} is {self.age} years old\"\n",
    "    \n",
    "    @abc.abstractmethod\n",
    "    def speak(self):\n",
    "        pass\n",
    "    \n",
    "class Dog(Animal):\n",
    "    def speak(self):\n",
    "        return \"Woof!\"\n",
    "\n",
    "my_dog = Dog(\"Fido\", 5)\n",
    "print(my_dog.get_description())  # Output: Fido is 5 years old\n",
    "print(my_dog.speak())  # Output: Woof!\n"
   ]
  },
  {
   "cell_type": "markdown",
   "id": "c74b8a37",
   "metadata": {},
   "source": [
    "In this example, the Animal class defines a regular instance method get_description() that returns a string describing the animal's name and age. The speak() method is marked as an abstract method with @abstractmethod decorator, so it has no implementation in the Animal class. The Dog subclass overrides the speak() method to provide its own implementation. When we create an instance of Dog, we can call both get_description() and speak() methods."
   ]
  },
  {
   "cell_type": "code",
   "execution_count": null,
   "id": "9e79b373",
   "metadata": {},
   "outputs": [],
   "source": []
  },
  {
   "cell_type": "markdown",
   "id": "5174e1eb",
   "metadata": {},
   "source": [
    "# Overloading"
   ]
  },
  {
   "cell_type": "raw",
   "id": "e8e9e920",
   "metadata": {},
   "source": [
    "In over loading method name is same. Number of arguments and type of argument will change.\n",
    "\n",
    "Method Overloading: Having multiple methods with the same name but different parameters in a class\n",
    "\n",
    "Overloading refers to the ability to define multiple methods with the same name but different parameters. Python does not support method overloading in the traditional sense, where different methods with the same name are differentiated by their parameter lists. However, you can achieve similar functionality in Python by using default argument values or variable-length argument lists.\n",
    "\n",
    "Here it getting a hexa decimal address of the object variable when we print so we need to overload the hexa decimal address with another data so it is called as method overloading.\n",
    "\n",
    "Here the function is created by someone or us so we are redefining the same function.\n",
    "\n",
    "If a method starts and ends with __ then it is an inbuilt function in python.\n",
    "__init__ and __str__ we overload the data."
   ]
  },
  {
   "cell_type": "code",
   "execution_count": 34,
   "id": "74355382",
   "metadata": {},
   "outputs": [],
   "source": [
    "class p1:\n",
    "    def t1(self, a = 3, b=4,c=5):\n",
    "        return a,b,c"
   ]
  },
  {
   "cell_type": "code",
   "execution_count": 36,
   "id": "24bd7eca",
   "metadata": {},
   "outputs": [
    {
     "data": {
      "text/plain": [
       "(3, 4, 5)"
      ]
     },
     "execution_count": 36,
     "metadata": {},
     "output_type": "execute_result"
    }
   ],
   "source": [
    "x = p1()\n",
    "x.t1()"
   ]
  },
  {
   "cell_type": "code",
   "execution_count": 38,
   "id": "1f83846b",
   "metadata": {},
   "outputs": [
    {
     "data": {
      "text/plain": [
       "('krishna', 4, 5)"
      ]
     },
     "execution_count": 38,
     "metadata": {},
     "output_type": "execute_result"
    }
   ],
   "source": [
    "# 1 argument changed into string.\n",
    "x.t1('krishna')"
   ]
  },
  {
   "cell_type": "code",
   "execution_count": 37,
   "id": "f0ff10f8",
   "metadata": {},
   "outputs": [
    {
     "data": {
      "text/plain": [
       "('krishna', 'lohith', '24')"
      ]
     },
     "execution_count": 37,
     "metadata": {},
     "output_type": "execute_result"
    }
   ],
   "source": [
    "#Here we over loaded the function it means we have loaded another data to the same function.\n",
    "x.t1('krishna','lohith','24')"
   ]
  },
  {
   "cell_type": "code",
   "execution_count": 62,
   "id": "97a07503",
   "metadata": {},
   "outputs": [],
   "source": [
    "class parent:\n",
    "    def t1(self):\n",
    "        pass"
   ]
  },
  {
   "cell_type": "code",
   "execution_count": 63,
   "id": "df209ce5",
   "metadata": {},
   "outputs": [],
   "source": [
    "x = parent()"
   ]
  },
  {
   "cell_type": "code",
   "execution_count": 64,
   "id": "c238b19e",
   "metadata": {},
   "outputs": [
    {
     "name": "stdout",
     "output_type": "stream",
     "text": [
      "<__main__.parent object at 0x0000026D816782E8>\n"
     ]
    }
   ],
   "source": [
    "print(x)\n",
    "#here it getting a hexa decimal address of the object variable when we print so we need to overload the hexa decimal address with another data so it is called as method overloading."
   ]
  },
  {
   "cell_type": "code",
   "execution_count": 90,
   "id": "2f32d436",
   "metadata": {},
   "outputs": [],
   "source": [
    "#overloading the class for object variable.\n",
    "class parent:\n",
    "    def t1(self):\n",
    "        pass\n",
    "    def __str__(self):\n",
    "        n = int(input())\n",
    "        return ('Hi this is class we overloaded with __str__ ')"
   ]
  },
  {
   "cell_type": "code",
   "execution_count": 91,
   "id": "117b5192",
   "metadata": {},
   "outputs": [],
   "source": [
    "x = parent()"
   ]
  },
  {
   "cell_type": "code",
   "execution_count": 92,
   "id": "d8c22780",
   "metadata": {},
   "outputs": [
    {
     "name": "stdout",
     "output_type": "stream",
     "text": [
      "7\n",
      "Hi this is class we overloaded with __str__ \n"
     ]
    }
   ],
   "source": [
    "#successfully overloaded the class.\n",
    "print(x)"
   ]
  },
  {
   "cell_type": "code",
   "execution_count": 40,
   "id": "d3e72b90",
   "metadata": {},
   "outputs": [],
   "source": [
    "#here we created a small method or function\n",
    "def fun(*args):\n",
    "    return args"
   ]
  },
  {
   "cell_type": "code",
   "execution_count": 41,
   "id": "bace8c4b",
   "metadata": {},
   "outputs": [
    {
     "data": {
      "text/plain": [
       "(1, 2, 3, 4, 5)"
      ]
     },
     "execution_count": 41,
     "metadata": {},
     "output_type": "execute_result"
    }
   ],
   "source": [
    "#same method we have given some input.\n",
    "#here the function is same but we overloaded the data.\n",
    "fun(1,2,3,4,5)"
   ]
  },
  {
   "cell_type": "code",
   "execution_count": 42,
   "id": "77e9e1a4",
   "metadata": {},
   "outputs": [
    {
     "data": {
      "text/plain": [
       "('as', 'jo', 'lohith')"
      ]
     },
     "execution_count": 42,
     "metadata": {},
     "output_type": "execute_result"
    }
   ],
   "source": [
    "#without changing the method we have given some other input.\n",
    "#this is called as overloading. without changing the method functionality we are getting different outcomes.\n",
    "\n",
    "#here the function is created by someone or us so we are redefining the same function \n",
    "fun('as','jo','lohith')"
   ]
  },
  {
   "cell_type": "markdown",
   "id": "0bf6fa7b",
   "metadata": {},
   "source": [
    "# overriding"
   ]
  },
  {
   "cell_type": "raw",
   "id": "27322161",
   "metadata": {},
   "source": [
    "Method Overriding: Redefining a method in a subclass with the same name and signature as the method in the superclass\n",
    "\n",
    "Name and parameters are same(fixed). we will change the defination of the function.\n",
    "\n",
    "Here we do inheritance(use the same properties of one class in another class) then redefining the function.\n",
    "\n",
    "Overriding refers to the ability to define a method in a subclass that has the same name as a method in the superclass, effectively replacing the method in the superclass. To override a method in Python, you simply define a method in the subclass with the same name as the method in the superclass. When an object of the subclass calls the method, the overridden version in the subclass will be called instead of the original version in the superclass."
   ]
  },
  {
   "cell_type": "code",
   "execution_count": 25,
   "id": "fe4b335a",
   "metadata": {},
   "outputs": [],
   "source": [
    "class class_1:\n",
    "    def test(self):\n",
    "        return \"This is test from class_1\"\n",
    "    \n",
    "class class_2:\n",
    "    def test(self):\n",
    "        return \"This is test from class_2\"\n",
    "    \n",
    "class class_3(class_1):\n",
    "    def test(self):\n",
    "        return \"This is test from class_3\""
   ]
  },
  {
   "cell_type": "code",
   "execution_count": 31,
   "id": "5c18bdfd",
   "metadata": {},
   "outputs": [],
   "source": [
    "s = class_2()"
   ]
  },
  {
   "cell_type": "code",
   "execution_count": 32,
   "id": "8b165043",
   "metadata": {},
   "outputs": [
    {
     "data": {
      "text/plain": [
       "'This is test from class_2'"
      ]
     },
     "execution_count": 32,
     "metadata": {},
     "output_type": "execute_result"
    }
   ],
   "source": [
    "#This is method overriding. so basically what it does is it will return the output by which class we calls.\n",
    "s.test()"
   ]
  },
  {
   "cell_type": "code",
   "execution_count": 28,
   "id": "9bf063bf",
   "metadata": {},
   "outputs": [
    {
     "data": {
      "text/plain": [
       "'This is test from class_3'"
      ]
     },
     "execution_count": 28,
     "metadata": {},
     "output_type": "execute_result"
    }
   ],
   "source": [
    "#here class 3 has to go to class 1 and print class 1 method but it overrides with class 3 method.\n",
    "c = class_3()\n",
    "c.test()"
   ]
  },
  {
   "cell_type": "code",
   "execution_count": 8,
   "id": "d9d2fe0e",
   "metadata": {},
   "outputs": [],
   "source": [
    "class test:\n",
    "    def __init__(self,a,b,c):\n",
    "        self.a = a\n",
    "        self.b = b\n",
    "        self.c = c\n",
    "        \n",
    "    def __str__(self):\n",
    "        return 'Hi I have overloaded the method'\n",
    "    \n",
    "    def class_fun(self):\n",
    "        print('This is a method in parent class 1')\n",
    "        \n",
    "        \n",
    "#here we are taking all functionalities from parent 1 \n",
    "class test1(test):\n",
    "    def class_fun(self):\n",
    "        print('This is child class from parent class 2')"
   ]
  },
  {
   "cell_type": "code",
   "execution_count": 9,
   "id": "205eb389",
   "metadata": {},
   "outputs": [],
   "source": [
    "x = test(1,2,3)\n",
    "y = test1(4,5,6)"
   ]
  },
  {
   "cell_type": "code",
   "execution_count": 10,
   "id": "5244f1d1",
   "metadata": {},
   "outputs": [
    {
     "name": "stdout",
     "output_type": "stream",
     "text": [
      "This is a method in parent class 1\n"
     ]
    }
   ],
   "source": [
    "x.class_fun()"
   ]
  },
  {
   "cell_type": "code",
   "execution_count": 103,
   "id": "66259da5",
   "metadata": {},
   "outputs": [
    {
     "name": "stdout",
     "output_type": "stream",
     "text": [
      "This is child class from parent class 2\n"
     ]
    }
   ],
   "source": [
    "#Here the class_fun in parent class 2 overrides the data in which is present in parent class 1\n",
    "y.class_fun()"
   ]
  },
  {
   "cell_type": "code",
   "execution_count": 1,
   "id": "40f2396d",
   "metadata": {},
   "outputs": [],
   "source": [
    "#Here the function name is same but we overrided the properties of it in another class.\n",
    "#Here we do inheritance(use the same properties of one class in another class) then redefining the function."
   ]
  },
  {
   "cell_type": "code",
   "execution_count": null,
   "id": "d85415fe",
   "metadata": {},
   "outputs": [],
   "source": []
  },
  {
   "cell_type": "code",
   "execution_count": null,
   "id": "b2a18372",
   "metadata": {},
   "outputs": [],
   "source": []
  },
  {
   "cell_type": "markdown",
   "id": "5f308577",
   "metadata": {},
   "source": [
    "# Time and Space complexity"
   ]
  },
  {
   "cell_type": "code",
   "execution_count": 5,
   "id": "911fe3f1",
   "metadata": {},
   "outputs": [],
   "source": [
    "import time\n",
    "import tracemalloc\n",
    "\n",
    "class complexity:\n",
    "    @staticmethod\n",
    "    def time_complexity(fun, *args):\n",
    "        start = time.time()\n",
    "        fun(*args)\n",
    "        end = time.time()\n",
    "        return end-start\n",
    "    \n",
    "    @staticmethod\n",
    "    def space_complexity(fun, *args):\n",
    "        tracemalloc.start()\n",
    "        fun(*args)\n",
    "        current, peak = tracemalloc.get_traced_memory()\n",
    "        tracemalloc.stop()\n",
    "        print('current:- ',current,'peak:- ',peak)\n",
    "        return "
   ]
  },
  {
   "cell_type": "code",
   "execution_count": 6,
   "id": "2a5f361e",
   "metadata": {},
   "outputs": [],
   "source": [
    "def add_f(n):\n",
    "    l=[]\n",
    "    for i in range(n):\n",
    "        l.append(i)\n",
    "    return l"
   ]
  },
  {
   "cell_type": "code",
   "execution_count": 7,
   "id": "c963583d",
   "metadata": {},
   "outputs": [],
   "source": [
    "x = complexity()"
   ]
  },
  {
   "cell_type": "code",
   "execution_count": 8,
   "id": "2641a8bb",
   "metadata": {},
   "outputs": [
    {
     "data": {
      "text/plain": [
       "2.5421242713928223"
      ]
     },
     "execution_count": 8,
     "metadata": {},
     "output_type": "execute_result"
    }
   ],
   "source": [
    "x.time_complexity(add_f, 10000000)"
   ]
  },
  {
   "cell_type": "code",
   "execution_count": 9,
   "id": "3c2dcf29",
   "metadata": {},
   "outputs": [
    {
     "name": "stdout",
     "output_type": "stream",
     "text": [
      "current:-  263 peak:-  360659\n"
     ]
    }
   ],
   "source": [
    "x.space_complexity(add_f, 10000)"
   ]
  },
  {
   "cell_type": "code",
   "execution_count": 12,
   "id": "0f7f50eb",
   "metadata": {},
   "outputs": [],
   "source": [
    "#Using Decorators\n",
    "def time_complexity(fun):\n",
    "    def wrapper(*args):\n",
    "        start = time.time()\n",
    "        fun(*args)\n",
    "        end = time.time()\n",
    "        return end-start\n",
    "    return wrapper"
   ]
  },
  {
   "cell_type": "code",
   "execution_count": 13,
   "id": "a91cf2a6",
   "metadata": {},
   "outputs": [],
   "source": [
    "@time_complexity\n",
    "def add_f(n):\n",
    "    l=[]\n",
    "    for i in range(n):\n",
    "        l.append(i)\n",
    "    return l"
   ]
  },
  {
   "cell_type": "code",
   "execution_count": 15,
   "id": "635736b2",
   "metadata": {},
   "outputs": [
    {
     "data": {
      "text/plain": [
       "0.20843982696533203"
      ]
     },
     "execution_count": 15,
     "metadata": {},
     "output_type": "execute_result"
    }
   ],
   "source": [
    "add_f(1000000)"
   ]
  },
  {
   "cell_type": "code",
   "execution_count": null,
   "id": "cec677f0",
   "metadata": {},
   "outputs": [],
   "source": [
    "next()"
   ]
  }
 ],
 "metadata": {
  "kernelspec": {
   "display_name": "Python 3",
   "language": "python",
   "name": "python3"
  },
  "language_info": {
   "codemirror_mode": {
    "name": "ipython",
    "version": 3
   },
   "file_extension": ".py",
   "mimetype": "text/x-python",
   "name": "python",
   "nbconvert_exporter": "python",
   "pygments_lexer": "ipython3",
   "version": "3.6.2"
  }
 },
 "nbformat": 4,
 "nbformat_minor": 5
}
