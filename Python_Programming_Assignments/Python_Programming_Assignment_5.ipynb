{
 "cells": [
  {
   "cell_type": "code",
   "execution_count": 29,
   "id": "8f1cdc1b",
   "metadata": {},
   "outputs": [],
   "source": [
    "#1. Write a Python Program to Find LCM?\n",
    "\n",
    "def hcf(a:int , b:int)->int :\n",
    "    \"\"\"\n",
    "    program to find HCF for 2 numbers\"\"\"\n",
    "    try:\n",
    "        m = min(a,b)\n",
    "        c=0\n",
    "        for i in range(1,m+1):\n",
    "            if a%i==0 and b%i==0:\n",
    "                c = i\n",
    "        return c\n",
    "    except Exception as e:\n",
    "        print('Error occured:- ',e)\n",
    "        "
   ]
  },
  {
   "cell_type": "code",
   "execution_count": 30,
   "id": "33c554bd",
   "metadata": {},
   "outputs": [],
   "source": [
    "def lcm(a,b):\n",
    "    n = (a*b)/hcf(a,b)\n",
    "    return n"
   ]
  },
  {
   "cell_type": "code",
   "execution_count": 31,
   "id": "13c1fd09",
   "metadata": {},
   "outputs": [
    {
     "data": {
      "text/plain": [
       "72.0"
      ]
     },
     "execution_count": 31,
     "metadata": {},
     "output_type": "execute_result"
    }
   ],
   "source": [
    "lcm(24,36)"
   ]
  },
  {
   "cell_type": "code",
   "execution_count": 35,
   "id": "aeb71327",
   "metadata": {},
   "outputs": [],
   "source": [
    "#2. Write a Python Program to Find HCF?\n",
    "\n",
    "\n",
    "def hcf(a:int , b:int)->int :\n",
    "    \"\"\"\n",
    "    program to find HCF for 2 numbers\"\"\"\n",
    "    try:\n",
    "        m = min(a,b)\n",
    "        c=0\n",
    "        for i in range(1,m+1):\n",
    "            if a%i==0 and b%i==0:\n",
    "                c = i\n",
    "        return c\n",
    "    except Exception as e:\n",
    "        print('Error occured:- ',e)"
   ]
  },
  {
   "cell_type": "code",
   "execution_count": 37,
   "id": "e30faac9",
   "metadata": {},
   "outputs": [
    {
     "data": {
      "text/plain": [
       "12"
      ]
     },
     "execution_count": 37,
     "metadata": {},
     "output_type": "execute_result"
    }
   ],
   "source": [
    "hcf(24,36)"
   ]
  },
  {
   "cell_type": "code",
   "execution_count": 243,
   "id": "daa7a42f",
   "metadata": {},
   "outputs": [
    {
     "name": "stdout",
     "output_type": "stream",
     "text": [
      "Enter a number:- 1234\n",
      "Decimal to Binary:-  10011010010\n",
      "Decimal to octal:-  2322\n",
      "Decimal to hexa:-  4D2\n"
     ]
    }
   ],
   "source": [
    "#3. Write a Python Program to Convert Decimal to Binary, Octal and Hexadecimal?\n",
    "\n",
    "x = int(input('Enter a number:- '))\n",
    "def q3_binary(n):\n",
    "    binary=''\n",
    "    while n>0:\n",
    "        binary = str(n%2) + binary\n",
    "        n = n//2\n",
    "    return binary\n",
    "print('Decimal to Binary:- ',q3_binary(x))\n",
    "\n",
    "def q3_octal(n):\n",
    "    octal=''\n",
    "    while n>0:\n",
    "        octal = str(n%8) + octal\n",
    "        n=n//8\n",
    "    return octal\n",
    "print('Decimal to octal:- ',q3_octal(x))\n",
    "\n",
    "def q3_hexa(n):\n",
    "    h='0123456789ABCDEF'\n",
    "    c = ''\n",
    "    while n>0:\n",
    "        r = n%16\n",
    "        c = h[r] + c\n",
    "        n = n//16\n",
    "    return c\n",
    "print('Decimal to hexa:- ',q3_hexa(x))\n"
   ]
  },
  {
   "cell_type": "code",
   "execution_count": 199,
   "id": "b374a521",
   "metadata": {},
   "outputs": [
    {
     "name": "stdout",
     "output_type": "stream",
     "text": [
      "Enter a decimal number: 15\n",
      "Binary representation: 1111\n",
      "Octal representation: 17\n",
      "Hexadecimal representation: F\n"
     ]
    }
   ],
   "source": [
    "decimal_number = int(input(\"Enter a decimal number: \"))\n",
    "\n",
    "# Convert to binary\n",
    "def decimal_to_binary(decimal):\n",
    "    if decimal > 1:\n",
    "        return decimal_to_binary(decimal // 2) + str(decimal % 2)\n",
    "    else:\n",
    "        return str(decimal)\n",
    "\n",
    "binary_number = decimal_to_binary(decimal_number)\n",
    "print(\"Binary representation:\", binary_number)\n",
    "\n",
    "# Convert to octal\n",
    "def decimal_to_octal(decimal):\n",
    "    if decimal > 7:\n",
    "        return decimal_to_octal(decimal // 8) + str(decimal % 8)\n",
    "    else:\n",
    "        return str(decimal)\n",
    "\n",
    "octal_number = decimal_to_octal(decimal_number)\n",
    "print(\"Octal representation:\", octal_number)\n",
    "\n",
    "# Convert to hexadecimal\n",
    "def decimal_to_hexadecimal(decimal):\n",
    "    hex_digits = \"0123456789ABCDEF\"\n",
    "    if decimal > 15:\n",
    "        return decimal_to_hexadecimal(decimal // 16) + hex_digits[decimal % 16]\n",
    "    else:\n",
    "        return hex_digits[decimal]\n",
    "\n",
    "hex_number = decimal_to_hexadecimal(decimal_number)\n",
    "print(\"Hexadecimal representation:\", hex_number)\n"
   ]
  },
  {
   "cell_type": "code",
   "execution_count": 310,
   "id": "ff200da0",
   "metadata": {},
   "outputs": [
    {
     "data": {
      "text/plain": [
       "90"
      ]
     },
     "execution_count": 310,
     "metadata": {},
     "output_type": "execute_result"
    }
   ],
   "source": [
    "# 4. Write a Python Program To Find ASCII value of a character?\n",
    "\n",
    "#65 - 90 A to Z\n",
    "#97 - 122 a to z\n",
    "\n",
    "def q4_upper(n):\n",
    "    try:\n",
    "        upper='ABCDEFGHIJKLMNOPQRSTUVWXYZ'\n",
    "        lower='abcdefghijklmnopqrstuvwxyz'\n",
    "        if n.isupper():\n",
    "            return upper.find(n) + 97\n",
    "        else:\n",
    "            return lower.find(n) + 65\n",
    "    except Exception as e:\n",
    "        print(e, 'Note:- Please enter only aplhabets')\n",
    "q4_upper('z')"
   ]
  },
  {
   "cell_type": "code",
   "execution_count": 407,
   "id": "ede5ad36",
   "metadata": {},
   "outputs": [],
   "source": [
    "# 5. Write a Python Program to Make a Simple Calculator with 4 basic mathematical operations?\n",
    "\n",
    "def q5_calcu(a,b):\n",
    "    try:\n",
    "        x = input('Enter an operation to perform(+,-,*,%,/,//):- ')\n",
    "        if x == '+':\n",
    "            return a+b\n",
    "        elif x=='-':\n",
    "            return a-b\n",
    "        elif x == '*':\n",
    "            return a*b\n",
    "        elif x == '%':\n",
    "            return a%b\n",
    "        elif x == '/':\n",
    "            return a/b\n",
    "        elif x == '//':\n",
    "            return a//b\n",
    "        else:\n",
    "            print('Invalid operation')\n",
    "    except Exception as e:\n",
    "        print(e)"
   ]
  },
  {
   "cell_type": "code",
   "execution_count": 408,
   "id": "8d7016b9",
   "metadata": {},
   "outputs": [
    {
     "name": "stdout",
     "output_type": "stream",
     "text": [
      "Enter an operation to perform(+,-,*,%,/,//):- #\n",
      "Invalid operation\n"
     ]
    }
   ],
   "source": [
    "q5_calcu(2,3)"
   ]
  },
  {
   "cell_type": "code",
   "execution_count": 351,
   "id": "f42b08e5",
   "metadata": {},
   "outputs": [
    {
     "data": {
      "text/plain": [
       "([10, 4, 6], tuple)"
      ]
     },
     "execution_count": 351,
     "metadata": {},
     "output_type": "execute_result"
    }
   ],
   "source": [
    "q(5,2,3)"
   ]
  },
  {
   "cell_type": "code",
   "execution_count": 409,
   "id": "35e9bfef",
   "metadata": {},
   "outputs": [],
   "source": [
    "def calci(*a):\n",
    "    try:\n",
    "        x = input('Enter an operation to perform(+,-,*,%,/,//):- ')\n",
    "        if x=='+':\n",
    "            c=0\n",
    "            for i in a:\n",
    "                c = c + i\n",
    "            return c\n",
    "        elif x=='-':\n",
    "            c=a[0]\n",
    "            for i in a[1:]:\n",
    "                c = c - i\n",
    "            return c\n",
    "        elif x=='*':\n",
    "            c=1\n",
    "            for i in a:\n",
    "                c = c * i\n",
    "            return c\n",
    "        elif x=='%':\n",
    "            c=a[0]\n",
    "            for i in a[1:]:\n",
    "                c = c % i\n",
    "            return c\n",
    "        elif x=='/':\n",
    "            c=a[0]\n",
    "            for i in a[1:]:\n",
    "                c = c / i\n",
    "            return c\n",
    "        elif x=='//':\n",
    "            c=a[0]\n",
    "            for i in a[1:]:\n",
    "                c = c // i\n",
    "            return c\n",
    "        else:\n",
    "            print('Invalid operation')\n",
    "    except Exception as e:\n",
    "        print(e)"
   ]
  },
  {
   "cell_type": "code",
   "execution_count": 410,
   "id": "09eb6691",
   "metadata": {},
   "outputs": [
    {
     "name": "stdout",
     "output_type": "stream",
     "text": [
      "Enter an operation to perform(+,-,*,%,/,//):- \n",
      "Invalid operation\n"
     ]
    }
   ],
   "source": [
    "calci(2,3)"
   ]
  }
 ],
 "metadata": {
  "kernelspec": {
   "display_name": "Python 3",
   "language": "python",
   "name": "python3"
  },
  "language_info": {
   "codemirror_mode": {
    "name": "ipython",
    "version": 3
   },
   "file_extension": ".py",
   "mimetype": "text/x-python",
   "name": "python",
   "nbconvert_exporter": "python",
   "pygments_lexer": "ipython3",
   "version": "3.6.2"
  }
 },
 "nbformat": 4,
 "nbformat_minor": 5
}
