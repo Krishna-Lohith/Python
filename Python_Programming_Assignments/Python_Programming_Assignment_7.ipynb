{
 "cells": [
  {
   "cell_type": "markdown",
   "id": "3009e57e",
   "metadata": {},
   "source": [
    "**Topics Covere:-**\n",
    "1) Functions  \n",
    "2) loops  \n",
    "3) Lists  "
   ]
  },
  {
   "cell_type": "code",
   "execution_count": 10,
   "id": "9d4c6694",
   "metadata": {},
   "outputs": [],
   "source": [
    "# 1. Write a Python Program to find sum of array?\n",
    "def q1(l):\n",
    "    try:\n",
    "        c = 0\n",
    "        for i in l:\n",
    "            c = c +i\n",
    "        return c\n",
    "    except Exception as e:\n",
    "        print('Error Occured:- ',e)"
   ]
  },
  {
   "cell_type": "code",
   "execution_count": 11,
   "id": "9e8bc0ae",
   "metadata": {},
   "outputs": [
    {
     "data": {
      "text/plain": [
       "15"
      ]
     },
     "execution_count": 11,
     "metadata": {},
     "output_type": "execute_result"
    }
   ],
   "source": [
    "l = [1,2,3,4,5]\n",
    "q1(l)"
   ]
  },
  {
   "cell_type": "code",
   "execution_count": 12,
   "id": "3bdb1784",
   "metadata": {},
   "outputs": [],
   "source": [
    "# 2. Write a Python Program to find largest element in an array?"
   ]
  },
  {
   "cell_type": "code",
   "execution_count": 31,
   "id": "3a9f65e6",
   "metadata": {},
   "outputs": [
    {
     "data": {
      "text/plain": [
       "77"
      ]
     },
     "execution_count": 31,
     "metadata": {},
     "output_type": "execute_result"
    }
   ],
   "source": [
    "l = [5,2,3,4,77,42,53]\n",
    "max(l)"
   ]
  },
  {
   "cell_type": "code",
   "execution_count": 72,
   "id": "47022544",
   "metadata": {},
   "outputs": [],
   "source": [
    "\n",
    "def q2(l):\n",
    "    try:\n",
    "        n = l[0]\n",
    "        for i in l:\n",
    "            if i > n:\n",
    "                n = i\n",
    "        return n\n",
    "    except Exception as e:\n",
    "        print(e)\n"
   ]
  },
  {
   "cell_type": "code",
   "execution_count": 74,
   "id": "d559e604",
   "metadata": {},
   "outputs": [
    {
     "data": {
      "text/plain": [
       "77"
      ]
     },
     "execution_count": 74,
     "metadata": {},
     "output_type": "execute_result"
    }
   ],
   "source": [
    "l = [5,2,3,4,77,42,53]\n",
    "q2(l)"
   ]
  },
  {
   "cell_type": "code",
   "execution_count": 97,
   "id": "f5118285",
   "metadata": {},
   "outputs": [],
   "source": [
    "#3. Write a Python Program for array rotation?\n",
    "def q3(l):\n",
    "    try:\n",
    "        l1=[]\n",
    "        n = len(l)\n",
    "        for i in range(n-1,0-1,-1):\n",
    "            l1.append(l[i])\n",
    "        return l1\n",
    "    except Exception as e:\n",
    "        print(e)"
   ]
  },
  {
   "cell_type": "code",
   "execution_count": 101,
   "id": "6bdbd7bd",
   "metadata": {},
   "outputs": [
    {
     "name": "stdout",
     "output_type": "stream",
     "text": [
      "[53, 42, 77, 4, 3, 2, 5]\n"
     ]
    }
   ],
   "source": [
    "l = [5,2,3,4,77,42,53]\n",
    "print(l[::-1])"
   ]
  },
  {
   "cell_type": "code",
   "execution_count": 98,
   "id": "985a6217",
   "metadata": {},
   "outputs": [
    {
     "data": {
      "text/plain": [
       "[53, 42, 77, 4, 3, 2, 5]"
      ]
     },
     "execution_count": 98,
     "metadata": {},
     "output_type": "execute_result"
    }
   ],
   "source": [
    "q3([5,2,3,4,77,42,53])"
   ]
  },
  {
   "cell_type": "code",
   "execution_count": 114,
   "id": "01cc7a5d",
   "metadata": {},
   "outputs": [],
   "source": [
    "# 4. Write a Python Program to Split the array and add the first part to the end?\n",
    "def q4(l:list)->list:\n",
    "    try:\n",
    "        m = len(l)//2\n",
    "        s = l[:m]\n",
    "        e = l[m:]\n",
    "        return e+s\n",
    "    except Exception as e:\n",
    "        print(e)"
   ]
  },
  {
   "cell_type": "code",
   "execution_count": 115,
   "id": "57e7f836",
   "metadata": {},
   "outputs": [
    {
     "data": {
      "text/plain": [
       "[4, 77, 42, 53, 5, 2, 1, 3]"
      ]
     },
     "execution_count": 115,
     "metadata": {},
     "output_type": "execute_result"
    }
   ],
   "source": [
    "q4([5,2,1,3,4,77,42,53])"
   ]
  },
  {
   "cell_type": "code",
   "execution_count": 130,
   "id": "e4214ae9",
   "metadata": {},
   "outputs": [],
   "source": [
    "# 5. Write a Python Program to check if given array is Monotonic?\n",
    "\n",
    "def q5(f):\n",
    "    try:\n",
    "        increasing = decreasing = True\n",
    "        for i in range(1,len(f)):\n",
    "            if f[i] > f[i-1]:\n",
    "                decreasing = False\n",
    "            if f[i] < f[i-1]:\n",
    "                increasing = False\n",
    "        if increasing or decreasing:\n",
    "            print('Monotonic')\n",
    "        else:\n",
    "            print('Not Monotonic')\n",
    "    except Exception as e:\n",
    "        print(e)"
   ]
  },
  {
   "cell_type": "code",
   "execution_count": 131,
   "id": "ad044b88",
   "metadata": {},
   "outputs": [
    {
     "name": "stdout",
     "output_type": "stream",
     "text": [
      "Monotonic\n"
     ]
    }
   ],
   "source": [
    "q5([1,2,3,4,5])"
   ]
  },
  {
   "cell_type": "code",
   "execution_count": 134,
   "id": "373845ec",
   "metadata": {},
   "outputs": [
    {
     "name": "stdout",
     "output_type": "stream",
     "text": [
      "4 5\n",
      "3 4\n",
      "2 3\n",
      "1 2\n"
     ]
    }
   ],
   "source": [
    "f=[5,4,3,2,1]\n",
    "for i in range(1,len(f)):\n",
    "    print(f[i],f[i-1])"
   ]
  },
  {
   "cell_type": "code",
   "execution_count": null,
   "id": "2391a7c3",
   "metadata": {},
   "outputs": [],
   "source": []
  }
 ],
 "metadata": {
  "kernelspec": {
   "display_name": "Python 3",
   "language": "python",
   "name": "python3"
  },
  "language_info": {
   "codemirror_mode": {
    "name": "ipython",
    "version": 3
   },
   "file_extension": ".py",
   "mimetype": "text/x-python",
   "name": "python",
   "nbconvert_exporter": "python",
   "pygments_lexer": "ipython3",
   "version": "3.6.2"
  }
 },
 "nbformat": 4,
 "nbformat_minor": 5
}
