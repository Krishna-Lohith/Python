{
 "cells": [
  {
   "cell_type": "code",
   "execution_count": 1,
   "id": "32104ed7",
   "metadata": {},
   "outputs": [],
   "source": [
    "# 1. Write a Python Program to Display Fibonacci Sequence Using Recursion?"
   ]
  },
  {
   "cell_type": "code",
   "execution_count": 77,
   "id": "86abd4cf",
   "metadata": {},
   "outputs": [
    {
     "name": "stdout",
     "output_type": "stream",
     "text": [
      "Enter the number of terms in the sequence: 5\n",
      "Fibonacci sequence:\n",
      "0\n",
      "1\n",
      "1\n",
      "2\n",
      "3\n"
     ]
    }
   ],
   "source": [
    "def fibonacci(n):\n",
    "    if n <= 1:\n",
    "        return n\n",
    "    else:\n",
    "        return (fibonacci(n-1) + fibonacci(n-2))\n",
    "\n",
    "try:\n",
    "    # Taking input from user\n",
    "    terms = int(input(\"Enter the number of terms in the sequence: \"))\n",
    "\n",
    "    # Check if the number of terms is valid\n",
    "    if terms <= 0:\n",
    "        print(\"Invalid input. Please enter a positive integer.\")\n",
    "    else:\n",
    "        print(\"Fibonacci sequence:\")\n",
    "        for i in range(terms):\n",
    "            print(fibonacci(i))\n",
    "except Exception as e:\n",
    "    print('Error has occured', e)"
   ]
  },
  {
   "cell_type": "code",
   "execution_count": 15,
   "id": "bf0b00db",
   "metadata": {},
   "outputs": [],
   "source": [
    "# 2. Write a Python Program to Find Factorial of Number Using Recursion?"
   ]
  },
  {
   "cell_type": "code",
   "execution_count": 50,
   "id": "f87552cc",
   "metadata": {},
   "outputs": [],
   "source": [
    "def fact(n):\n",
    "    c=1\n",
    "    if n > 0 :\n",
    "        c = fibi(n-1) * n\n",
    "    return c"
   ]
  },
  {
   "cell_type": "code",
   "execution_count": 51,
   "id": "bea503ce",
   "metadata": {},
   "outputs": [
    {
     "data": {
      "text/plain": [
       "120"
      ]
     },
     "execution_count": 51,
     "metadata": {},
     "output_type": "execute_result"
    }
   ],
   "source": [
    "fact(5)"
   ]
  },
  {
   "cell_type": "code",
   "execution_count": 52,
   "id": "0fcd6f88",
   "metadata": {},
   "outputs": [],
   "source": [
    "# 3. Write a Python Program to calculate your Body Mass Index?\n",
    "#BMI = kg/m^2\n",
    "\n",
    "def BMI(weight,height):\n",
    "    \"\"\"\n",
    "    weight in kgs and height in cms \"\"\"\n",
    "    m = height * 0.01\n",
    "    d = m**2\n",
    "    c = weight/d\n",
    "    return c"
   ]
  },
  {
   "cell_type": "code",
   "execution_count": 53,
   "id": "fa221ed4",
   "metadata": {},
   "outputs": [
    {
     "data": {
      "text/plain": [
       "23.148148148148145"
      ]
     },
     "execution_count": 53,
     "metadata": {},
     "output_type": "execute_result"
    }
   ],
   "source": [
    "BMI(75,180)"
   ]
  },
  {
   "cell_type": "code",
   "execution_count": 54,
   "id": "4d9ff9fc",
   "metadata": {},
   "outputs": [
    {
     "name": "stdout",
     "output_type": "stream",
     "text": [
      "Enter a number: 4\n",
      "The natural logarithm of 4.0 is 1.298155320117072e+45\n"
     ]
    }
   ],
   "source": [
    "# 4. Write a Python Program to calculate the natural logarithm of any number?\n",
    "\n",
    "# get user input for the number to calculate natural logarithm\n",
    "num = float(input(\"Enter a number: \"))\n",
    "\n",
    "# calculate the natural logarithm using the formula\n",
    "result = 0\n",
    "for n in range(1, 100):\n",
    "    result += ((-1) ** (n + 1)) * ((num - 1) ** n) / n\n",
    "\n",
    "# print the result\n",
    "print(f\"The natural logarithm of {num} is {result}\")\n"
   ]
  },
  {
   "cell_type": "code",
   "execution_count": 55,
   "id": "d3c19873",
   "metadata": {},
   "outputs": [
    {
     "name": "stdout",
     "output_type": "stream",
     "text": [
      "Enter a number: 7\n",
      "The natural logarithm of 7.0 is 1.9459101490553132\n"
     ]
    }
   ],
   "source": [
    "import math\n",
    "\n",
    "# get user input for the number to calculate natural logarithm\n",
    "num = float(input(\"Enter a number: \"))\n",
    "\n",
    "# calculate the natural logarithm using math.log() function\n",
    "result = math.log(num)\n",
    "\n",
    "# print the result\n",
    "print(f\"The natural logarithm of {num} is {result}\")\n"
   ]
  },
  {
   "cell_type": "code",
   "execution_count": 56,
   "id": "85b8ae37",
   "metadata": {},
   "outputs": [],
   "source": [
    "# 5. Write a Python Program for cube sum of first n natural numbers?\n",
    "\n",
    "def q5(n:int)->int:\n",
    "    s = n*(n+1)/2\n",
    "    cube_sum = s ** 3\n",
    "\n",
    "    return print(f\"The cube sum of the first {n} natural numbers is {cube_sum}\")\n"
   ]
  },
  {
   "cell_type": "code",
   "execution_count": 57,
   "id": "4325563a",
   "metadata": {},
   "outputs": [
    {
     "name": "stdout",
     "output_type": "stream",
     "text": [
      "The cube sum of the first 2 natural numbers is 27.0\n"
     ]
    }
   ],
   "source": [
    "q5(2)"
   ]
  }
 ],
 "metadata": {
  "kernelspec": {
   "display_name": "Python 3",
   "language": "python",
   "name": "python3"
  },
  "language_info": {
   "codemirror_mode": {
    "name": "ipython",
    "version": 3
   },
   "file_extension": ".py",
   "mimetype": "text/x-python",
   "name": "python",
   "nbconvert_exporter": "python",
   "pygments_lexer": "ipython3",
   "version": "3.6.2"
  }
 },
 "nbformat": 4,
 "nbformat_minor": 5
}
