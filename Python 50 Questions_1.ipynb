{
 "cells": [
  {
   "cell_type": "markdown",
   "id": "6c4cdd74",
   "metadata": {},
   "source": [
    "## 50 Questions on python\n",
    "\n",
    "**Python topics covered:-**  \n",
    "Loops  \n",
    "index sclicing  \n",
    "control flow statements   \n",
    "functions  \n",
    "decorators  \n",
    "lambda functions  \n",
    "map   \n",
    "filter  "
   ]
  },
  {
   "cell_type": "raw",
   "id": "60b6f0c4-87d7-464a-a919-fafe79fbb6eb",
   "metadata": {},
   "source": [
    "1. Print the first 5 positive integers in ascending order with one number \n",
    "in each line"
   ]
  },
  {
   "cell_type": "code",
   "execution_count": 385,
   "id": "e46114bd",
   "metadata": {},
   "outputs": [
    {
     "name": "stdout",
     "output_type": "stream",
     "text": [
      "1\n",
      "2\n",
      "3\n",
      "4\n",
      "5\n"
     ]
    }
   ],
   "source": [
    "for i in range(1,6):\n",
    "    print(i)"
   ]
  },
  {
   "cell_type": "raw",
   "id": "a723c70f-2393-4dcc-b34c-2e045588207b",
   "metadata": {},
   "source": [
    "2. Print the following pattern\n",
    "*\n",
    "**\n",
    "***\n",
    "****\n",
    "*****\n",
    "There are no spaces between consecutive stars. There are no spaces \n",
    "at the end of each line."
   ]
  },
  {
   "cell_type": "code",
   "execution_count": 386,
   "id": "b7ff6c3d",
   "metadata": {},
   "outputs": [
    {
     "name": "stdout",
     "output_type": "stream",
     "text": [
      "\r\n",
      "*\r\n",
      "**\r\n",
      "***\r\n",
      "****\r\n",
      "*****\r\n"
     ]
    }
   ],
   "source": [
    "for i in range(6):\n",
    "    for j in range(i):\n",
    "        print(\"*\",end=\"\")\n",
    "    print(\"\\r\")"
   ]
  },
  {
   "cell_type": "raw",
   "id": "d9263791-a394-44ee-8ba9-4fb01759b6ac",
   "metadata": {},
   "source": [
    "3. Accept an integer as input and print its square as output."
   ]
  },
  {
   "cell_type": "code",
   "execution_count": 387,
   "id": "6d79b296",
   "metadata": {},
   "outputs": [
    {
     "name": "stdout",
     "output_type": "stream",
     "text": [
      "Enter a number to square it:- 5\n",
      "25\n"
     ]
    }
   ],
   "source": [
    "n = int(input(\"Enter a number to square it:- \"))\n",
    "print(n**2)"
   ]
  },
  {
   "cell_type": "code",
   "execution_count": 388,
   "id": "a9aba6ea",
   "metadata": {},
   "outputs": [
    {
     "data": {
      "text/plain": [
       "4"
      ]
     },
     "execution_count": 388,
     "metadata": {},
     "output_type": "execute_result"
    }
   ],
   "source": [
    "q3 = lambda a: a**2\n",
    "q3(2)"
   ]
  },
  {
   "cell_type": "code",
   "execution_count": 389,
   "id": "c7c795cd",
   "metadata": {},
   "outputs": [
    {
     "data": {
      "text/plain": [
       "20.25"
      ]
     },
     "execution_count": 389,
     "metadata": {},
     "output_type": "execute_result"
    }
   ],
   "source": [
    "def q3(a:int):\n",
    "    \"\"\"\n",
    "    Enter a number to square it\n",
    "    \"\"\"\n",
    "    return a**2\n",
    "q3(4.5)"
   ]
  },
  {
   "cell_type": "raw",
   "id": "49ca4411-ab36-4e57-8d62-3628156bc49b",
   "metadata": {},
   "source": [
    "4.Accept two integers as input and print their sum as output."
   ]
  },
  {
   "cell_type": "code",
   "execution_count": 390,
   "id": "a1df348d",
   "metadata": {},
   "outputs": [
    {
     "data": {
      "text/plain": [
       "5"
      ]
     },
     "execution_count": 390,
     "metadata": {},
     "output_type": "execute_result"
    }
   ],
   "source": [
    "q4 = lambda a,b: a+b\n",
    "q4(2,3)"
   ]
  },
  {
   "cell_type": "code",
   "execution_count": 391,
   "id": "3fad59c2",
   "metadata": {},
   "outputs": [
    {
     "data": {
      "text/plain": [
       "5"
      ]
     },
     "execution_count": 391,
     "metadata": {},
     "output_type": "execute_result"
    }
   ],
   "source": [
    "def q4(a,b):\n",
    "    return a+b\n",
    "q4(2,3)"
   ]
  },
  {
   "cell_type": "raw",
   "id": "f303afc2-f3af-4d9d-a4d8-7c2da8f24e3c",
   "metadata": {},
   "source": [
    "5. Accept two words as input and print the two words after adding a \n",
    "space between them"
   ]
  },
  {
   "cell_type": "code",
   "execution_count": 393,
   "id": "50055c06",
   "metadata": {},
   "outputs": [
    {
     "name": "stdout",
     "output_type": "stream",
     "text": [
      "Enter your first name:- krishna\n",
      "Enter your second name:- lohith\n",
      "krishna lohith\n"
     ]
    }
   ],
   "source": [
    "a,b = input(\"Enter your first name:- \"), input(\"Enter your second name:- \")\n",
    "print(a,b)"
   ]
  },
  {
   "cell_type": "code",
   "execution_count": 394,
   "id": "8a5623bd",
   "metadata": {},
   "outputs": [
    {
     "name": "stdout",
     "output_type": "stream",
     "text": [
      "krishna lohith\n"
     ]
    }
   ],
   "source": [
    "def q5(a:str,b:str)->str:\n",
    "    \"\"\"\n",
    "    Space between 2 words\n",
    "    \"\"\"\n",
    "    print(a,b)\n",
    "q5('krishna','lohith')"
   ]
  },
  {
   "cell_type": "raw",
   "id": "1fdd53ab-a380-4caa-bdec-2876024a044d",
   "metadata": {},
   "source": [
    "6. Accept the registration number of a vehicle as input and print its \n",
    "state-code as output."
   ]
  },
  {
   "cell_type": "code",
   "execution_count": 395,
   "id": "5396761f",
   "metadata": {},
   "outputs": [
    {
     "data": {
      "text/plain": [
       "'AP'"
      ]
     },
     "execution_count": 395,
     "metadata": {},
     "output_type": "execute_result"
    }
   ],
   "source": [
    "n = lambda a: a[0:2]\n",
    "n('AP23R45')"
   ]
  },
  {
   "cell_type": "code",
   "execution_count": 396,
   "id": "5ea93e4d",
   "metadata": {},
   "outputs": [
    {
     "data": {
      "text/plain": [
       "'TS'"
      ]
     },
     "execution_count": 396,
     "metadata": {},
     "output_type": "execute_result"
    }
   ],
   "source": [
    "def q6(a:str) ->str:\n",
    "    \"\"\"\n",
    "    Enter vehcile number to get your state code\n",
    "    \"\"\"\n",
    "    return a[0:2]\n",
    "q6('TS1676E2')"
   ]
  },
  {
   "cell_type": "raw",
   "id": "e476d0d4-2d90-4764-b4ce-91d6d67729c2",
   "metadata": {},
   "source": [
    "7.Accept a five-digit number as input and print the sum of its digits as \n",
    "output."
   ]
  },
  {
   "cell_type": "code",
   "execution_count": 397,
   "id": "d09377a0",
   "metadata": {},
   "outputs": [
    {
     "name": "stdout",
     "output_type": "stream",
     "text": [
      "9\n"
     ]
    }
   ],
   "source": [
    "a = str(234)\n",
    "c=0\n",
    "for i in a:\n",
    "    c=c+int(i)\n",
    "print(c)\n"
   ]
  },
  {
   "cell_type": "code",
   "execution_count": 398,
   "id": "adf91d0e",
   "metadata": {},
   "outputs": [
    {
     "data": {
      "text/plain": [
       "36"
      ]
     },
     "execution_count": 398,
     "metadata": {},
     "output_type": "execute_result"
    }
   ],
   "source": [
    "def q7(a:int)->int:\n",
    "    \"\"\"\n",
    "    Enter a five digit input and gives their sum\n",
    "    \"\"\"\n",
    "    a=str(a)\n",
    "    c=0\n",
    "    for i in a:\n",
    "        c=c+int(i)\n",
    "    return c\n",
    "\n",
    "q7(23456781000)"
   ]
  },
  {
   "cell_type": "raw",
   "id": "47ef2a83-4d51-4340-8770-9490474f43a9",
   "metadata": {},
   "source": [
    "8.Accept five words as input and print the sentence formed by these \n",
    "words after adding a space between consecutive words and a full stop \n",
    "at the end."
   ]
  },
  {
   "cell_type": "code",
   "execution_count": 399,
   "id": "7f247c75",
   "metadata": {},
   "outputs": [
    {
     "name": "stdout",
     "output_type": "stream",
     "text": [
      "Enter 1 word:- hi\n",
      "Enter 2 word:- ho\n",
      "Enter 3 word:- are\n",
      "Enter 4 word:- u\n",
      "Enter 5 word:- ?\n",
      "hi ho are u ?\n"
     ]
    }
   ],
   "source": [
    "def q8(a):\n",
    "    words = []\n",
    "    for i in range(1,a+1):\n",
    "        n = input(f\"Enter {i} word:- \")\n",
    "        words.append(n)\n",
    "        sentence = \" \".join(words)\n",
    "    print(sentence)\n",
    "q8(5)"
   ]
  },
  {
   "cell_type": "raw",
   "id": "7b0fb9d7-98dc-4ab9-9548-c12f49f787a0",
   "metadata": {},
   "source": [
    "9.Accept the date in DD-MM-YYYY format as input and print the \n",
    "year as output."
   ]
  },
  {
   "cell_type": "code",
   "execution_count": 400,
   "id": "e62864fe",
   "metadata": {},
   "outputs": [
    {
     "data": {
      "text/plain": [
       "'1999'"
      ]
     },
     "execution_count": 400,
     "metadata": {},
     "output_type": "execute_result"
    }
   ],
   "source": [
    "def q9(DMY):\n",
    "    \"\"\"\n",
    "    Enter Date Month and Year in the format of DD-MM-YYYY\n",
    "    \"\"\"\n",
    "    return DMY[6:]\n",
    "q9('22-02-1999')"
   ]
  },
  {
   "cell_type": "code",
   "execution_count": 401,
   "id": "a65de5b8",
   "metadata": {},
   "outputs": [
    {
     "name": "stdout",
     "output_type": "stream",
     "text": [
      "Enter Date:- 22\n",
      "Enter Month:- 02\n",
      "Enter Year:- 1999\n",
      "Year is  1999\n"
     ]
    }
   ],
   "source": [
    "def q9():\n",
    "    \"\"\"\n",
    "    Enter Date month year to get output as year.\n",
    "    \"\"\"\n",
    "    l = ['Date','Month','Year']\n",
    "    output = []\n",
    "    for i in l:\n",
    "        n = input(f\"Enter {i}:- \")\n",
    "        output.append(n)\n",
    "        DMY = \"-\".join(output)\n",
    "    print(\"Year is \",DMY[6:])\n",
    "q9()"
   ]
  },
  {
   "cell_type": "raw",
   "id": "521abc20-5c4a-4fda-a3d7-45c626ad4d1c",
   "metadata": {},
   "source": [
    "10.Accept a sequence of five single digit numbers separated by commas \n",
    "as input. Print the product of all five numbers."
   ]
  },
  {
   "cell_type": "code",
   "execution_count": 402,
   "id": "64a8426d",
   "metadata": {},
   "outputs": [
    {
     "data": {
      "text/plain": [
       "240"
      ]
     },
     "execution_count": 402,
     "metadata": {},
     "output_type": "execute_result"
    }
   ],
   "source": [
    "def q10(a):\n",
    "    count = 1\n",
    "    if type(a) == list:\n",
    "        for i in a:\n",
    "            if type(i) == int:\n",
    "                count = count * i\n",
    "        return count\n",
    "q10([2,2,3,4,5])"
   ]
  },
  {
   "cell_type": "raw",
   "id": "482e853e-2564-4eaf-a46b-0f31d3369f58",
   "metadata": {},
   "source": [
    "11. Accept two positive integers x and y as input. Print the number of \n",
    "digits in xy(X to the power of y"
   ]
  },
  {
   "cell_type": "code",
   "execution_count": 403,
   "id": "1122320f",
   "metadata": {},
   "outputs": [
    {
     "data": {
      "text/plain": [
       "7"
      ]
     },
     "execution_count": 403,
     "metadata": {},
     "output_type": "execute_result"
    }
   ],
   "source": [
    "def q11(a,b):\n",
    "    c1 = 0\n",
    "    c2 = 0\n",
    "    for i in str(a):\n",
    "        c1 = c1 + 1\n",
    "    for j in str(b):\n",
    "        c2 = c2+ 1\n",
    "    return c1+c2\n",
    "q11(123,4567)"
   ]
  },
  {
   "cell_type": "code",
   "execution_count": 404,
   "id": "f8c29441",
   "metadata": {},
   "outputs": [
    {
     "name": "stdout",
     "output_type": "stream",
     "text": [
      "a square b:-  16\n",
      "Length of the output:-  2\n"
     ]
    }
   ],
   "source": [
    "#X to the power of y\n",
    "def q11(a,b):\n",
    "    r = a**b\n",
    "    print(\"a square b:- \",r)\n",
    "    print(\"Length of the output:- \",len(str(r)))\n",
    "q11(2,4)"
   ]
  },
  {
   "cell_type": "raw",
   "id": "af890b67-6c1f-412c-bbbe-8fc1358e0a91",
   "metadata": {},
   "source": [
    "12. Accept a string as input. If the input string is of odd length, then \n",
    "continue with it. If the input string is of even length, make the \n",
    "string of odd length as below:\n",
    "• If the last character is a period (.), then remove it \n",
    "• If the last character is not a period, then add a period (.) to the \n",
    "end of the string\n",
    "Call this string of odd length word. Select a substring made up of \n",
    "three consecutive characters from word such that there are an \n",
    "equal number of characters to the left and right of this substring. \n",
    "Print this substring as output. You can assume that all input \n",
    "strings will be in lower case and will have a length of at least four"
   ]
  },
  {
   "cell_type": "code",
   "execution_count": 46,
   "id": "d282b3bf",
   "metadata": {},
   "outputs": [
    {
     "name": "stdout",
     "output_type": "stream",
     "text": [
      "hi.\n"
     ]
    }
   ],
   "source": [
    "n = 'hi'\n",
    "\n",
    "if len(n)%2==0:\n",
    "    if n[-1] == '.' :\n",
    "        print(n.replace('.',''))\n",
    "    else:\n",
    "        new = n + '.'\n",
    "        print(new)"
   ]
  },
  {
   "cell_type": "raw",
   "id": "7188ddf7-aeae-43c7-add9-8a31e08a2bc9",
   "metadata": {},
   "source": [
    "13. Accept three positive integers as input and check if they form the \n",
    "sides of a right triangle. Print YES if they form one, and NO is they do \n",
    "not. The input will have three lines, with one integer on each line. \n",
    "The output should be a single line containing one of these two \n",
    "strings: YES or NO."
   ]
  },
  {
   "cell_type": "code",
   "execution_count": 405,
   "id": "1514165c",
   "metadata": {},
   "outputs": [
    {
     "name": "stdout",
     "output_type": "stream",
     "text": [
      "Yes\n"
     ]
    }
   ],
   "source": [
    "# Formula x2 + y2 = z2\n",
    "\n",
    "def q13(x,y,z):\n",
    "    if x**2 + y**2 == z**2 or z**2 + y**2 == x**2 or x**2 + z**2 == y**2:\n",
    "        print('Yes')\n",
    "    else:\n",
    "        print('No') \n",
    "q13(3,4,5)"
   ]
  },
  {
   "cell_type": "raw",
   "id": "5e16b40c-a122-4dbc-a681-bca1fe32a1dc",
   "metadata": {},
   "source": [
    "14. EvenOdd is a tech startup. Each employee at the startup is given an employee id which is a unique \n",
    "positive integer. On one warm Sunday evening, five employees of the company come together for a \n",
    "meeting and sit at a circular table:\n",
    "The employees follow a strange convention. They will continue the meeting only if the following \n",
    "condition is satisfied.\n",
    "The sum of the employee-ids of every pair of adjacent employees at the table must be an even \n",
    "number.\n",
    "They are so lazy that they won’t move around to satisfy the above condition, If the current seating \n",
    "plan doesn’t satisfy the condition, the meeting will be cancelled. You are given the employee-id of all \n",
    "five employees. Your task is to decide if the meeting happened or not.\n",
    "The input will be five lined, each containing an integer. The ith line will have the employee-id of Ei. \n",
    "The output will be a single line containing one of these two strings: YES or NO"
   ]
  },
  {
   "cell_type": "code",
   "execution_count": 407,
   "id": "df1ea871",
   "metadata": {},
   "outputs": [
    {
     "name": "stdout",
     "output_type": "stream",
     "text": [
      "Enter 1st employee id:- 1\n",
      "Enter 2nd employee id:- 2\n",
      "Enter 3rd employee id:- 3\n",
      "Enter 4th employee id:- 4\n",
      "Enter 5th employee id:- 5\n",
      "No Meeting\n"
     ]
    }
   ],
   "source": [
    "e1 = int(input('Enter 1st employee id:- '))\n",
    "e2 = int(input('Enter 2nd employee id:- '))\n",
    "e3 = int(input('Enter 3rd employee id:- '))\n",
    "e4 = int(input('Enter 4th employee id:- '))\n",
    "e5 = int(input('Enter 5th employee id:- '))\n",
    "\n",
    "if ((e1+e2) % 2== 0 and \n",
    "    (e2+e3) % 2== 0 and \n",
    "     (e3+e4) % 2== 0 and \n",
    "     (e4+e5) % 2== 0 and \n",
    "     (e5+e1) % 2== 0):\n",
    "    print('Yes')\n",
    "else:\n",
    "    print('No Meeting')"
   ]
  },
  {
   "cell_type": "raw",
   "id": "2c41a3fc",
   "metadata": {},
   "source": [
    "15. Accept a string as input and print the vowels present in the string in \n",
    "alphabetical order. If the string doesn’t contain any vowels, then \n",
    "print the string none as output. Each vowel that appears in the input \n",
    "string – irrespective of its case should appear just once in lower case \n",
    "in the output"
   ]
  },
  {
   "cell_type": "code",
   "execution_count": 408,
   "id": "9e2dbd6f",
   "metadata": {},
   "outputs": [
    {
     "name": "stdout",
     "output_type": "stream",
     "text": [
      "lohith\n",
      "io\n"
     ]
    }
   ],
   "source": [
    "n = input().lower()\n",
    "vowels = ''\n",
    "l = ['a','e','i','o','u']\n",
    "for i in l:\n",
    "    if i in n:\n",
    "        vowels += i\n",
    "print(vowels)"
   ]
  },
  {
   "cell_type": "raw",
   "id": "f7e76b4b-b3f7-4766-a82b-5e63a879b380",
   "metadata": {},
   "source": [
    "16.You are given the date of birth of two persons, not necessarily from \n",
    "the same family. Your task is to find the younger of the two. If both \n",
    "of them share the same date of birth, then the younger of the two is \n",
    "assumed to be that person whose name comes first in alphabetical \n",
    "order.\n",
    "The input will have four lines. The first two lines correspond to the \n",
    "first person, while the last two lines correspond to the second \n",
    "person. For each person, the first line corresponds to the name and \n",
    "the second line corresponds to the date of birth in “DD-MM-YYYY” \n",
    "format. Your output should be the name of the younger of the two."
   ]
  },
  {
   "cell_type": "code",
   "execution_count": 411,
   "id": "2d56afd9",
   "metadata": {},
   "outputs": [
    {
     "name": "stdout",
     "output_type": "stream",
     "text": [
      "Enter 1st person name:- krishna\n",
      "Enter 1st person DOB in the format of DD-MM-YYYY:- 22-02-1995\n",
      "Enter 2nd person name:- lohith\n",
      "Enter 2nd person DOB in the format of DD-MM-YYYY:- 22-02-1999\n",
      "lohith is younger\n"
     ]
    }
   ],
   "source": [
    "p1_name = input('Enter 1st person name:- ')\n",
    "p1_dob = input('Enter 1st person DOB in the format of DD-MM-YYYY:- ')\n",
    "p2_name = input('Enter 2nd person name:- ')\n",
    "p2_dob = input('Enter 2nd person DOB in the format of DD-MM-YYYY:- ')\n",
    "\n",
    "if p1_dob == p2_dob:\n",
    "    if p1_name < p2_name:\n",
    "        print('yonger is ',p1_name)\n",
    "    else:\n",
    "        print('yonger is ',p2_name)\n",
    "else:\n",
    "    if p1_dob < p2_dob :\n",
    "        print(f'{p2_name} is younger')\n",
    "    else:\n",
    "        print(f'{p1_name} is younger')"
   ]
  },
  {
   "cell_type": "raw",
   "id": "6ee8f8bd-15aa-40d8-9cef-2f7e22f6cf5d",
   "metadata": {},
   "source": [
    "17.Accept a string as input. Your task is to determine if the input string is a valid password or not. For a \n",
    "string to be a valid password, it must satisfy all the conditions given below:\n",
    "(1) It should have at least 8 and at most 32 characters\n",
    "(2) It should start with an uppercase or lowercase letter\n",
    "(3) It should not have any of these characters: / \\ = ' \"\n",
    "(4) It should not have spaces\n",
    "It could have any character that is not mentioned in the list of characters to be avoided (points 3 and \n",
    "4). Output True if the string forms a valid password and False otherwise"
   ]
  },
  {
   "cell_type": "code",
   "execution_count": 81,
   "id": "7dbc832a",
   "metadata": {},
   "outputs": [
    {
     "name": "stdout",
     "output_type": "stream",
     "text": [
      "Valid password\n"
     ]
    }
   ],
   "source": [
    "n = 'krishna@123'\n",
    "#k = [ '\\','/', \" = \" ,\" ' \", ' \" ']\n",
    "\n",
    "if   8 < len(n) < 32:\n",
    "    if n[0].isalpha():\n",
    "        if '/' not in n and ' \\ ' not in n and '=' not in n and ' \" ' not in n and \" ' \" not in n and ' ' not in n:\n",
    "            print('Valid password')\n",
    "else:\n",
    "    print('False')"
   ]
  },
  {
   "cell_type": "raw",
   "id": "a4d2f09c-6787-477e-8ed5-4ed4257469cb",
   "metadata": {},
   "source": [
    "18. Accept a positive integer n as input and print the first n positive \n",
    "integers, one number on each line."
   ]
  },
  {
   "cell_type": "code",
   "execution_count": 413,
   "id": "b17696bd",
   "metadata": {},
   "outputs": [
    {
     "name": "stdout",
     "output_type": "stream",
     "text": [
      "Enter a number:- 5\n",
      "1\n",
      "2\n",
      "3\n",
      "4\n",
      "5\n"
     ]
    }
   ],
   "source": [
    "n = input('Enter a number:- ')\n",
    "for i in range(1,int(n)+1):\n",
    "    print(i)"
   ]
  },
  {
   "cell_type": "raw",
   "id": "0527265b-0110-476d-8bf6-6a724749197e",
   "metadata": {},
   "source": [
    "19.Accept a positive integer n as input, where n is greater than 1. \n",
    "Print PRIME ifnis a prime number and NOTPRIME otherwise."
   ]
  },
  {
   "cell_type": "code",
   "execution_count": 414,
   "id": "67f36082",
   "metadata": {},
   "outputs": [
    {
     "name": "stdout",
     "output_type": "stream",
     "text": [
      "Enter a number to check prime or not:- 3\n",
      "Prime Number\n"
     ]
    }
   ],
   "source": [
    "n = int(input('Enter a number to check prime or not:- '))\n",
    "c=0\n",
    "if n>=1:\n",
    "    for i in range(1,n+1):\n",
    "        for j in range(1,n+1):\n",
    "            if i * j == n:\n",
    "                c = c + 1\n",
    "    if c==2:\n",
    "        print('Prime Number')\n",
    "    else:\n",
    "        print('Not a Prime Number')\n",
    "else:\n",
    "    print('Enter Non negaive value')\n",
    "    "
   ]
  },
  {
   "cell_type": "raw",
   "id": "8d8297d3-a658-4afd-9b7f-b2ee198faa52",
   "metadata": {},
   "source": [
    "20. Accept two strings as input and form a new string by removing all \n",
    "characters from the second string which are present in the first string. \n",
    "Print this new string as output. You can assume that all input strings \n",
    "will be in lower case."
   ]
  },
  {
   "cell_type": "code",
   "execution_count": 415,
   "id": "971b8458",
   "metadata": {},
   "outputs": [
    {
     "name": "stdout",
     "output_type": "stream",
     "text": [
      "Enter first word:- krishna\n",
      "Enter second word:- lohith\n",
      "krishna lot\n"
     ]
    }
   ],
   "source": [
    "n1=input('Enter first word:- ')\n",
    "n2= input('Enter second word:- ')\n",
    "new= ''\n",
    "for i in n2:\n",
    "    if i not in  n1:\n",
    "        new +=i\n",
    "print(n1 + ' ' + new)"
   ]
  },
  {
   "cell_type": "raw",
   "id": "9d4ca698-02c3-415a-8b99-7b59c5702d8d",
   "metadata": {},
   "source": [
    "21.Accept a phone number as input. A valid phone number should satisfy \n",
    "the following constraints.\n",
    "(1) The number should start with one of these digits: 6, 7, 8, 9\n",
    "(2) The number should be exactly 10 digits long.\n",
    "(3) No digit should appear more than 7 times in the number.\n",
    "(4) No digit should appear more than 5 times in a row in the \n",
    "number.\n",
    "If the fourth condition is not very clear, then consider this example: \n",
    "the number 9888888765 is invalid because the digit 8 appears more \n",
    "than 5 times in a row. Print the string valid if the phone number is \n",
    "valid. If not, print the string invalid."
   ]
  },
  {
   "cell_type": "code",
   "execution_count": 416,
   "id": "e437c716",
   "metadata": {},
   "outputs": [
    {
     "name": "stdout",
     "output_type": "stream",
     "text": [
      "Enter a phone number:- 923231442\n",
      "Invalid\n"
     ]
    }
   ],
   "source": [
    "n = input('Enter a phone number:- ')\n",
    "a=False\n",
    "if len(n)==10 and int(n[0]) > 5 and n.isdigit():\n",
    "    for i in range(10):\n",
    "        if n.count(n[i]) < 8:\n",
    "            a=True\n",
    "            if n[i]*6 in n:\n",
    "                a=False\n",
    "                break\n",
    "        else:\n",
    "            break\n",
    "if a:\n",
    "    print('Valid')\n",
    "else:\n",
    "    print('Invalid')"
   ]
  },
  {
   "cell_type": "raw",
   "id": "781b0869-d8b7-4f2f-b4cd-16d0e128fd0f",
   "metadata": {},
   "source": [
    "22. In the first line of input, accept a sequence of space-separated words. In the second line of \n",
    "input, accept a single word. If this word is not present in the sequence, print NO. If this word \n",
    "is present in the sequence, then print YES and in the next line of the output, print the number \n",
    "of times the word appears in the sequence."
   ]
  },
  {
   "cell_type": "code",
   "execution_count": 417,
   "id": "d7c93564",
   "metadata": {},
   "outputs": [
    {
     "name": "stdout",
     "output_type": "stream",
     "text": [
      "Yes\n",
      "3\n"
     ]
    }
   ],
   "source": [
    "a ='krishna lohith'\n",
    "b = 'h'\n",
    "c=0\n",
    "if b in a:\n",
    "    print('Yes')\n",
    "    for i in a:\n",
    "        if b == i:\n",
    "            c=c+1\n",
    "    print(c)\n",
    "else:\n",
    "    print('No')"
   ]
  },
  {
   "cell_type": "raw",
   "id": "fb131f6a",
   "metadata": {},
   "source": [
    "23. Write a function named factorial that accepts an integer n as argument. It should return,\n",
    "    the factorial of n if n is a positive integer. It should return -1 if n is a negative integer, and it,\n",
    "    should return 1 if n is zero."
   ]
  },
  {
   "cell_type": "code",
   "execution_count": 418,
   "id": "cb23cdc0",
   "metadata": {},
   "outputs": [
    {
     "data": {
      "text/plain": [
       "120"
      ]
     },
     "execution_count": 418,
     "metadata": {},
     "output_type": "execute_result"
    }
   ],
   "source": [
    "def factorial(a):\n",
    "    c=1\n",
    "    if a>=1:\n",
    "        for i in range(1,a+1):\n",
    "            c*=i\n",
    "        return c\n",
    "    elif a<0:\n",
    "        return -1\n",
    "    else:\n",
    "        return 1\n",
    "factorial(5)"
   ]
  },
  {
   "cell_type": "raw",
   "id": "c757a0b6-8450-47af-9b1f-f6ce69ebc775",
   "metadata": {},
   "source": [
    "24. \n",
    "The range of a list of numbers is the difference between the maximum and minimum values in the list\n",
    "Write a function named get_range that accepts a non-empty list of real numbers as argument. It \n",
    "should return the range of the list.\n",
    "(1) Avoid using built-in function such as max and min.\n",
    "(2) You do not have to accept input from the user or print output to the console. You just have to write \n",
    "the function definition."
   ]
  },
  {
   "cell_type": "code",
   "execution_count": 82,
   "id": "35196ca5",
   "metadata": {},
   "outputs": [
    {
     "data": {
      "text/plain": [
       "6"
      ]
     },
     "execution_count": 82,
     "metadata": {},
     "output_type": "execute_result"
    }
   ],
   "source": [
    "def get_range(a):\n",
    "    b = set(a)  # converting into set which will be unordered. \n",
    "    c = list(b)  # converting into list for indexing\n",
    "    maxi= c[0]\n",
    "    mini = c[-1]\n",
    "    return (mini-maxi)\n",
    "get_range([6,1,3,5,7])"
   ]
  },
  {
   "cell_type": "raw",
   "id": "8f3ba3db-9ed9-4c14-ac23-41f3225ad874",
   "metadata": {},
   "source": [
    "25. Write a function named read_file that accepts a text file named filename as argument. Within \n",
    "the function, read the file and print each line of the file on a separate line in the console. You shouldn't \n",
    "print any extra characters at the end of a line. There shouldn't be an empty line between any two \n",
    "consecutive lines.\n",
    "(1) filename is a string variable that holds the name of the file. For example, in the first test case, it \n",
    "is filename = 'public_1.txt'.\n",
    "(2) You do not have to accept input from the console. You have to write the function definition and \n",
    "print the contents of the file within the function"
   ]
  },
  {
   "cell_type": "code",
   "execution_count": 83,
   "id": "bbdd11a9",
   "metadata": {},
   "outputs": [
    {
     "data": {
      "text/plain": [
       "'I completed my under graduation in Electronics and communication engineering in 2020 which is in covid-19 lockdown. Due to the corona period our college is closed and the placements are not conducted. So, our college degree was received in 2021. Which actually has to be released in 2020. The gap in education impacts my career a lot due to covid-19. The recession is going on at this time it is hard to find a job. So I need to enhance my skills in the latest technologies and want a certification for it to prove myself. A gap due to covid-19 impacts my career a lot so I need a proper guide for IBM Machine Learning full course( https://www.coursera.org/professional-certificates/ibm-machine-learning ). So that I can get a good job in FAANG companies which is my goal. As I am an ECE student I was interested in maths and coding in my under graduation period. So Machine learning is a great course that matches my area of interest. Please help me to enroll in the IBM Machine learning full course.'"
      ]
     },
     "execution_count": 83,
     "metadata": {},
     "output_type": "execute_result"
    }
   ],
   "source": [
    "def read_file():\n",
    "    file = open('coursera financial aid.txt')\n",
    "    content = file.read()\n",
    "    return content\n",
    "    file.close()\n",
    "read_file()"
   ]
  },
  {
   "cell_type": "raw",
   "id": "b2d94805-f65b-47c2-9d18-2a8bdbe5c2dc",
   "metadata": {},
   "source": [
    "26. A simple algorithm has to be designed to find out whether a student \n",
    "belongs to the Data Science branch or not. The input will be a \n",
    "student's roll number, which is of the form BR18B0000. \n",
    "Here, BR represents the branch code, 18 represents the year of \n",
    "joining, B represents the education level and 0000 represents the \n",
    "specific identification given to the student of that batch. The branch \n",
    "code for Data Science is DS. Print True if the student belongs to \n",
    "Data Science branch and False otherwise."
   ]
  },
  {
   "cell_type": "code",
   "execution_count": 84,
   "id": "c637751f",
   "metadata": {},
   "outputs": [
    {
     "name": "stdout",
     "output_type": "stream",
     "text": [
      "True\n"
     ]
    }
   ],
   "source": [
    "def DS_branch(a):\n",
    "    if 'DS' in a:\n",
    "        print(True)\n",
    "    else:\n",
    "        print(False)\n",
    "        \n",
    "DS_branch('DS18B0000')"
   ]
  },
  {
   "cell_type": "code",
   "execution_count": 85,
   "id": "1e1c0b4b",
   "metadata": {},
   "outputs": [
    {
     "data": {
      "text/plain": [
       "True"
      ]
     },
     "execution_count": 85,
     "metadata": {},
     "output_type": "execute_result"
    }
   ],
   "source": [
    "def DS_branch(a):\n",
    "    for i in a:\n",
    "        if a[0:2] == 'DS':\n",
    "            return True\n",
    "        else:\n",
    "            return False\n",
    "\n",
    "DS_branch('DS18B0000')"
   ]
  },
  {
   "cell_type": "raw",
   "id": "52e69e6b-ab1d-411c-8750-7a2de08bc8dd",
   "metadata": {},
   "source": [
    "27.The police are trying to track a criminal based on the evidence \n",
    "available at a crime site. Their main clue is a vehicle's damaged \n",
    "number plate. Only the string TN07 is visible. The format of the \n",
    "registration number is AA00AA00, where the first two letters are \n",
    "alphabets, next two are numbers, next two are again alphabets \n",
    "followed by two numbers at the end. A number plate is picked from a \n",
    "database of registration numbers and is given to you as input. Your \n",
    "task is to determine if this could belong to the criminal or not. \n",
    "Print True if the number plate \n",
    "contains TN07 and False otherwise."
   ]
  },
  {
   "cell_type": "code",
   "execution_count": 86,
   "id": "890d40af",
   "metadata": {},
   "outputs": [
    {
     "name": "stdout",
     "output_type": "stream",
     "text": [
      "Enter number plate:- TS02EL98\n",
      "False\n"
     ]
    }
   ],
   "source": [
    "a = input('Enter number plate:- ')\n",
    "if (a[0:4] == 'TN07') or (a[4:8] == 'TN07'):\n",
    "    print('True')\n",
    "else:\n",
    "    print('False')"
   ]
  },
  {
   "cell_type": "raw",
   "id": "11b4a079-30a1-480d-a759-2b54ab29f90f",
   "metadata": {},
   "source": [
    "28. You are given a string and two non-negative integers as input. The \n",
    "two integers specify the start and end indices of a substring in the \n",
    "given string. Create a new string by replicating the substring a \n",
    "minimum number of times so that the resulting string is longer than \n",
    "the input string. The input parameters are the string, start index of \n",
    "the substring and the end index of substring (endpoints inclusive) \n",
    "each on a different line."
   ]
  },
  {
   "cell_type": "code",
   "execution_count": 87,
   "id": "19579958",
   "metadata": {},
   "outputs": [
    {
     "name": "stdout",
     "output_type": "stream",
     "text": [
      "isisisis\n"
     ]
    }
   ],
   "source": [
    "a='krishna'\n",
    "s=2\n",
    "e=4\n",
    "b =a[s:e]\n",
    "c=len(a)\n",
    "e = (c//2)+1\n",
    "print(b*e)"
   ]
  },
  {
   "cell_type": "code",
   "execution_count": 88,
   "id": "46bd46f2",
   "metadata": {},
   "outputs": [
    {
     "name": "stdout",
     "output_type": "stream",
     "text": [
      "isisisisisisis 13 14\n"
     ]
    }
   ],
   "source": [
    "a='krishnalohith'\n",
    "s=2\n",
    "e=4\n",
    "b =a[s:e]\n",
    "c=len(a)\n",
    "e = (c//2)+1\n",
    "while len(b) < len(a):\n",
    "    b = b*e\n",
    "print(b, len(a), len(b))"
   ]
  },
  {
   "cell_type": "raw",
   "id": "2c2d9d8e-e84a-4ca1-8791-8033b8e650a0",
   "metadata": {},
   "source": [
    "29. A class teacher has decided to split her entire class into four groups, namely Sapphire, Peridot, Ruby, \n",
    "and Emerald for sports competitions. For dividing the students into these four groups, she has \n",
    "followed the pattern given below:\n",
    "Sapphire - 1, 5, 9, 13, 17, 21, ...\n",
    "Peridot - 2, 6, 10, 14, 18, 22, ...\n",
    "Ruby - 3, 7, 11, 15, 19, 23, ...\n",
    "Emerald - 4, 8, 12, 16, 20, 24, ...\n",
    "All the students are represented by their roll numbers. Based on the above pattern, given the roll \n",
    "number as input, print the group the student belongs to. Note that the roll number can be any \n",
    "positive integer and not necessarily less than 25."
   ]
  },
  {
   "cell_type": "code",
   "execution_count": 89,
   "id": "c954c33a",
   "metadata": {},
   "outputs": [
    {
     "name": "stdout",
     "output_type": "stream",
     "text": [
      "Sapphire\n"
     ]
    }
   ],
   "source": [
    "def q29(n):\n",
    "    if n>=1 and n<=25:\n",
    "        if n in range(1,22,4):\n",
    "            print('Sapphire')\n",
    "        elif n in range(2,23,4):\n",
    "            print('Peridot')\n",
    "        elif n in range(3,24,4):\n",
    "            print('Ruby')\n",
    "        else:\n",
    "            print('Emerlad')\n",
    "    else:\n",
    "        print('Enter a number between 1 to 25')\n",
    "q29(1)"
   ]
  },
  {
   "cell_type": "raw",
   "id": "7e18467c-5ccb-4820-bc5f-c4adc9babe2c",
   "metadata": {},
   "source": [
    "30. A data science company wants to hire data scientists from abc college. \n",
    "The company follows a certain criteria for selection: for a student to \n",
    "be selected, the number of backlogs should be at most 5 and the \n",
    "CGPA (Cumulative Grade Point Average) should be greater than 6. If \n",
    "the student does not fit the above criteria, then the student is not \n",
    "offered the job. If the student is selected, then the salary offered is \n",
    "equal to 5 times his/her CGPA (in lakhs).\n",
    "Accept the number of backlogs (integer) and the CGPA (float) of the \n",
    "student as input. Your task is to determine if the student is selected or \n",
    "not. If the student is selected, then print the package. If not, then \n",
    "print the string Not Selected."
   ]
  },
  {
   "cell_type": "code",
   "execution_count": 90,
   "id": "6296b8c5",
   "metadata": {},
   "outputs": [
    {
     "name": "stdout",
     "output_type": "stream",
     "text": [
      "Enter number of backlogs:- 15\n",
      "Enter CGPA:- 7.18\n",
      "Not Selected\n"
     ]
    }
   ],
   "source": [
    "n = int(input('Enter number of backlogs:- '))\n",
    "p = float(input('Enter CGPA:- '))\n",
    "\n",
    "if n<=5 and p>=6:\n",
    "    print(5*p)\n",
    "else:\n",
    "    print('Not Selected')"
   ]
  },
  {
   "cell_type": "raw",
   "id": "15b2b2b3-e511-4184-af23-c42d9ee021b8",
   "metadata": {},
   "source": [
    "31. Accept a string as input and print PALINDROME if it is a \n",
    "palindrome, and NOT PALINDROME otherwise"
   ]
  },
  {
   "cell_type": "code",
   "execution_count": 91,
   "id": "42d6c181",
   "metadata": {},
   "outputs": [
    {
     "name": "stdout",
     "output_type": "stream",
     "text": [
      "Not palindrom\n"
     ]
    }
   ],
   "source": [
    "n = 'maddam'\n",
    "n = n.lower()\n",
    "b = len(n)\n",
    "if b%2!=0:\n",
    "    c = (b-1)//2\n",
    "    if n[0:c] == n[b-1:b-3:-1]:\n",
    "        print('Palindrom')\n",
    "else:\n",
    "    print('Not palindrom')"
   ]
  },
  {
   "cell_type": "raw",
   "id": "92cfcd2b-ae26-4009-85b4-15e7996421ac",
   "metadata": {},
   "source": [
    "32. In a portal login website, you are asked to write a function get_password_strength to decide \n",
    "the strength of a password. The strength is decided based on the total score of the password, Use \n",
    "following conditions:\n",
    "1) If password has length greater than 7 then score increases by one point.\n",
    "2) If password has at least one upper case and one lower case alphabets score increases by one point.\n",
    "3) If password has at least one number and no consecutive numbers like 12 or 234 then score \n",
    "increases by one point.\n",
    "4) If password has at least one special character (any character other than numbers and alphabets) then \n",
    "score increases by one point.\n",
    "5) If password contains username, then it is invalid password.\n",
    "If the password has score of four points, three points, two points, or one point then print Very \n",
    "Strong, Strong, Moderate, or Weak respectively. If the password is invalid, then \n",
    "print PASSWORD SHOULD NOT CONTAIN USERNAME and If the score is zero, then print Use a \n",
    "different password.The arguments to the function are username and password which are \n",
    "already defined"
   ]
  },
  {
   "cell_type": "code",
   "execution_count": 92,
   "id": "0662e398",
   "metadata": {},
   "outputs": [],
   "source": [
    "def get_password_strength(user_name,pass_word):\n",
    "    c = 0\n",
    "    upper_case = 'ABCDEFGHIJKLMNOPQRSTUVWXYZ'\n",
    "    upper_flag = False\n",
    "    lower_case = 'abcdefghijklmnopqrstuvwxyz'\n",
    "    lower_flag = False\n",
    "    numbers = '0123456789'\n",
    "    numbers_flag = False\n",
    "    noncons_num = True\n",
    "\n",
    "    if user_name in pass_word:\n",
    "        print('Password should not include username')\n",
    "        return\n",
    "    if len(pass_word) > 7:\n",
    "        c=c+1\n",
    "    for i in range(len(pass_word)):\n",
    "        if pass_word[i] in upper_case:\n",
    "            upper_flag = True\n",
    "        elif pass_word[i] in lower_case:\n",
    "            lower_flag = True\n",
    "        elif pass_word[i] in numbers:\n",
    "            numbers_flag = True\n",
    "        if numbers_flag:\n",
    "            if i != (len(pass_word)-1):\n",
    "                if numbers[((numbers.index(pass_word[i]))+1)] == pass_word[i+1]:\n",
    "                    noncons_num = False   \n",
    "    if upper_flag and lower_flag:\n",
    "        c=c+1   \n",
    "    if numbers_flag and noncons_num:\n",
    "        c=c+1   \n",
    "    if not pass_word.isalnum():\n",
    "        c=c+1\n",
    "    if c==4:\n",
    "        print('Very Strong')\n",
    "        return\n",
    "    if c==3:\n",
    "        print('Strong')\n",
    "        return\n",
    "    if c==2:\n",
    "        print('Moderate')\n",
    "        return\n",
    "    if c==1:\n",
    "        print('Weak')\n",
    "        return\n",
    "    if c==0:\n",
    "        print('Use a different password')\n",
    "        return\n"
   ]
  },
  {
   "cell_type": "code",
   "execution_count": 93,
   "id": "01d1ee44",
   "metadata": {},
   "outputs": [
    {
     "name": "stdout",
     "output_type": "stream",
     "text": [
      "Very Strong\n"
     ]
    }
   ],
   "source": [
    "get_password_strength('Lohith','KriShna@147')"
   ]
  },
  {
   "cell_type": "raw",
   "id": "67644faf-c8dc-439d-9c26-54b16751b2e0",
   "metadata": {},
   "source": [
    "33.decorator that logs the date and time"
   ]
  },
  {
   "cell_type": "code",
   "execution_count": 94,
   "id": "3c5c21e3",
   "metadata": {},
   "outputs": [],
   "source": [
    "import datetime\n",
    "\n",
    "def get_date_time(func):\n",
    "    def wrapper(*args):\n",
    "        func(*args)\n",
    "        c = datetime.datetime.now()\n",
    "        print('-'*40)\n",
    "        return print('Run on:-',c)\n",
    "    return wrapper\n",
    "\n",
    "@get_date_time\n",
    "def mul_10(a):\n",
    "    return print('Multiply with 10 :-',a*10)"
   ]
  },
  {
   "cell_type": "code",
   "execution_count": 95,
   "id": "bfa9bdda",
   "metadata": {},
   "outputs": [
    {
     "name": "stdout",
     "output_type": "stream",
     "text": [
      "Multiply with 10 :- 20\n",
      "----------------------------------------\n",
      "Run on:- 2023-02-17 11:10:00.974867\n"
     ]
    }
   ],
   "source": [
    "mul_10(2)"
   ]
  },
  {
   "cell_type": "raw",
   "id": "93474414-e8ba-439d-9f7d-0f3f4eb648b9",
   "metadata": {},
   "source": [
    "34.Program to Get Data Items From a List Appearing Odd Number of Times"
   ]
  },
  {
   "cell_type": "code",
   "execution_count": 96,
   "id": "849b0868",
   "metadata": {},
   "outputs": [
    {
     "data": {
      "text/plain": [
       "[1, 2, 5]"
      ]
     },
     "execution_count": 96,
     "metadata": {},
     "output_type": "execute_result"
    }
   ],
   "source": [
    "#l = [3,4,3,1,2,4,4]\n",
    "def q34(l:list)->list:\n",
    "    l1= []\n",
    "    for i in range(len(l)):\n",
    "        if l.count(l[i]) %2 != 0:\n",
    "            l1.append(l[i])\n",
    "    return list(set(l1))\n",
    "\n",
    "q34([3,4,3,1,2,4,4,4,5])"
   ]
  },
  {
   "cell_type": "raw",
   "id": "70caf71f-6a2d-42a5-bb41-a83e99f3b0cb",
   "metadata": {},
   "source": [
    "35.What are decorators in Python?"
   ]
  },
  {
   "cell_type": "markdown",
   "id": "89371301",
   "metadata": {},
   "source": [
    "In Python, a decorator is a function that takes another function as an argument, adds some functionality to it, and then returns the modified function. In other words, a decorator is a higher-order function that modifies the behavior of another function without changing its source code."
   ]
  },
  {
   "cell_type": "code",
   "execution_count": 97,
   "id": "49d14c4f",
   "metadata": {},
   "outputs": [
    {
     "name": "stdout",
     "output_type": "stream",
     "text": [
      "Lower is completed\n",
      "split is completed\n"
     ]
    },
    {
     "data": {
      "text/plain": [
       "['krishna', 'lohith']"
      ]
     },
     "execution_count": 97,
     "metadata": {},
     "output_type": "execute_result"
    }
   ],
   "source": [
    "# Lower case\n",
    "def lower_case(funclower):\n",
    "    def wrapper(*args):\n",
    "        z = funclower(*args)\n",
    "        f = z.lower()\n",
    "        print('Lower is completed')\n",
    "        return f\n",
    "    return wrapper\n",
    "\n",
    "# split\n",
    "def split_fun(funcsplit):\n",
    "    def wrapper(*args):\n",
    "        d = funcsplit(*args)\n",
    "        e = d.split()\n",
    "        print('split is completed')\n",
    "        return e\n",
    "    return wrapper\n",
    "\n",
    "# Here first lower then split\n",
    "@split_fun\n",
    "@lower_case\n",
    "def q36(a):\n",
    "    return a\n",
    "\n",
    "q36('KRISHNA LOHITH')"
   ]
  },
  {
   "cell_type": "raw",
   "id": "00d3f3e6-8d1a-459c-8f05-fec2d7a72f0b",
   "metadata": {},
   "source": [
    "36. remove items from a list while iterating but without creating a different copy of a list.\n",
    "Remove numbers greater than 50\n",
    "number_list = [10, 20, 30, 40, 50, 60, 70, 80, 90, 100]\n",
    "Expected Output: [10, 20, 30, 40, 50]"
   ]
  },
  {
   "cell_type": "code",
   "execution_count": 98,
   "id": "04480550",
   "metadata": {},
   "outputs": [
    {
     "name": "stdout",
     "output_type": "stream",
     "text": [
      "[10, 20, 30, 40, 50]\n"
     ]
    }
   ],
   "source": [
    "l = [10, 20, 30, 40, 50, 60, 70, 80, 90, 100]\n",
    "newl = [i for i in l if i <= 50]\n",
    "print(newl)"
   ]
  },
  {
   "cell_type": "code",
   "execution_count": 99,
   "id": "3de04dd3",
   "metadata": {},
   "outputs": [
    {
     "name": "stdout",
     "output_type": "stream",
     "text": [
      "[10, 20, 30, 40, 50]\n"
     ]
    }
   ],
   "source": [
    "l = [10, 20, 30, 40, 50, 60, 70, 80, 90, 100]\n",
    "i = 0\n",
    "n = len(l)\n",
    "\n",
    "while i<n:\n",
    "    if l[i]>50:\n",
    "        del l[i]\n",
    "        n = n-1\n",
    "    else:\n",
    "        i = i+1\n",
    "print(l)"
   ]
  },
  {
   "cell_type": "raw",
   "id": "6a034cd6-9a75-4912-8286-2396360ffa28",
   "metadata": {},
   "source": [
    "37.  Display all duplicate items from a list\n",
    "sample_list = [10, 20, 60, 30, 20, 40, 30, 60, 70, 80]\n",
    "Expected Output: [20, 60, 30]"
   ]
  },
  {
   "cell_type": "code",
   "execution_count": 100,
   "id": "c7dfaf4c",
   "metadata": {},
   "outputs": [
    {
     "name": "stdout",
     "output_type": "stream",
     "text": [
      "[20, 60, 30]\n"
     ]
    }
   ],
   "source": [
    "l = [10, 20, 60, 30, 20, 40, 30, 60, 70, 80]\n",
    "l1 = []\n",
    "for i in l:\n",
    "    if l.count(i) > 1:\n",
    "        l1.append(i)\n",
    "print(list(set(l1)))"
   ]
  },
  {
   "cell_type": "code",
   "execution_count": 101,
   "id": "738d37e7",
   "metadata": {},
   "outputs": [
    {
     "name": "stdout",
     "output_type": "stream",
     "text": [
      "[20, 60, 30]\n"
     ]
    }
   ],
   "source": [
    "import collections\n",
    "l = [10, 20, 60, 30, 20, 40, 30, 60, 70, 80]\n",
    "d = []\n",
    "\n",
    "for item,count in collections.Counter(l).items():\n",
    "    if count >1:\n",
    "        d.append(item)\n",
    "print(d)"
   ]
  },
  {
   "cell_type": "raw",
   "id": "03607aeb-291c-41e0-bb35-101d53d1f25f",
   "metadata": {},
   "source": [
    "38. Create an outer function that will accept two strings, x and y. (x= 'Emma' and y = 'Kelly'.\n",
    "Create an inner function inside an outer function that will concatenate x and y.\n",
    "At last, an outer function will join the word 'developer' to it."
   ]
  },
  {
   "cell_type": "code",
   "execution_count": 102,
   "id": "1f8fd2c6",
   "metadata": {},
   "outputs": [],
   "source": [
    "def outer_(a,b):\n",
    "    def inner_():\n",
    "        c  = a+' '+b\n",
    "        return c\n",
    "    return inner_() + ' ' + 'Developer'"
   ]
  },
  {
   "cell_type": "code",
   "execution_count": 103,
   "id": "06976caa",
   "metadata": {},
   "outputs": [
    {
     "data": {
      "text/plain": [
       "'emma kelly Developer'"
      ]
     },
     "execution_count": 103,
     "metadata": {},
     "output_type": "execute_result"
    }
   ],
   "source": [
    "outer_('emma','kelly')"
   ]
  },
  {
   "cell_type": "raw",
   "id": "c3238d35-61fa-4d2a-8e92-c393399b1b5b",
   "metadata": {},
   "source": [
    "39. Modify the element of a nested list inside the following list\n",
    "Change the element 35 to 3500\n",
    "list1 = [5, [10, 15, [20, 25, [30, 35], 40], 45], 50]"
   ]
  },
  {
   "cell_type": "code",
   "execution_count": 104,
   "id": "9873720b",
   "metadata": {},
   "outputs": [
    {
     "data": {
      "text/plain": [
       "[5, [10, 15, [20, 25, [30, 3500], 40], 45], 50]"
      ]
     },
     "execution_count": 104,
     "metadata": {},
     "output_type": "execute_result"
    }
   ],
   "source": [
    "l = [5, [10, 15, [20, 25, [30, 35], 40], 45], 50]\n",
    "\n",
    "l[1][2][2][1] = 3500\n",
    "l\n"
   ]
  },
  {
   "cell_type": "raw",
   "id": "0106b7da-e95f-46ba-873a-e641d7199be7",
   "metadata": {},
   "source": [
    "40.  Access the nested key increment from the following dictionary\n",
    "Access 12\n",
    "emp_dict = {\n",
    "    \"company\": {\n",
    "        \"employee\": {\n",
    "            \"name\": \"Jess\",\n",
    "            \"payable\": {\n",
    "                \"salary\": 9000,\n",
    "                \"increment\": 12\n",
    "            }\n",
    "        }\n",
    "    }\n",
    "}"
   ]
  },
  {
   "cell_type": "code",
   "execution_count": 105,
   "id": "f009366d",
   "metadata": {},
   "outputs": [],
   "source": [
    "emp_dict = {\n",
    "    \"company\": {\n",
    "        \"employee\": {\n",
    "            \"name\": \"Jess\",\n",
    "            \"payable\": {\n",
    "                \"salary\": 9000,\n",
    "                \"increment\": 12\n",
    "            }\n",
    "        }\n",
    "    }\n",
    "}"
   ]
  },
  {
   "cell_type": "code",
   "execution_count": 106,
   "id": "b5d74e19",
   "metadata": {},
   "outputs": [
    {
     "data": {
      "text/plain": [
       "12"
      ]
     },
     "execution_count": 106,
     "metadata": {},
     "output_type": "execute_result"
    }
   ],
   "source": [
    "emp_dict['company']['employee']['payable']['increment']"
   ]
  },
  {
   "cell_type": "raw",
   "id": "a36e12a4-baf9-4c0b-90e6-c16fd60b02ba",
   "metadata": {},
   "source": [
    "41. Print the sum of the current number and the previous number\n",
    "Write a program to iterate the first 10 numbers and in each iteration, print the sum of the current and previous number.\n",
    "Printing current and previous number sum in a range(10)\n",
    "Current Number 0 Previous Number  0  Sum:  0\n",
    "Current Number 1 Previous Number  0  Sum:  1\n",
    "Current Number 2 Previous Number  1  Sum:  3\n",
    "Current Number 3 Previous Number  2  Sum:  5\n",
    "Current Number 4 Previous Number  3  Sum:  7\n",
    "Current Number 5 Previous Number  4  Sum:  9\n",
    "Current Number 6 Previous Number  5  Sum:  11\n",
    "Current Number 7 Previous Number  6  Sum:  13\n",
    "Current Number 8 Previous Number  7  Sum:  15\n",
    "Current Number 9 Previous Number  8  Sum:  17"
   ]
  },
  {
   "cell_type": "code",
   "execution_count": 107,
   "id": "eda4ace0",
   "metadata": {},
   "outputs": [
    {
     "name": "stdout",
     "output_type": "stream",
     "text": [
      "0 0 0\n",
      "1 0 1\n",
      "2 1 3\n",
      "3 2 5\n",
      "4 3 7\n",
      "5 4 9\n",
      "6 5 11\n",
      "7 6 13\n",
      "8 7 15\n",
      "9 8 17\n"
     ]
    }
   ],
   "source": [
    "p = 0\n",
    "for i in range(10):\n",
    "    c = i\n",
    "    if c==0:\n",
    "        p=0\n",
    "    elif c>1:\n",
    "        p = c-1\n",
    "    s=c+p\n",
    "    print(c,p,s)"
   ]
  },
  {
   "cell_type": "raw",
   "id": "04f5ef21-9056-4a31-bc4d-b5641a6bc80d",
   "metadata": {},
   "source": [
    "42. Print characters from a string that are present at an even index number\n",
    "Write a program to accept a string from the user and display characters that are present at an even index number.\n",
    "\n",
    "For example, str = \"ineuron\" so you should display ‘i’, ‘e’, ‘r’, ‘n’."
   ]
  },
  {
   "cell_type": "code",
   "execution_count": 108,
   "id": "03b96dda",
   "metadata": {},
   "outputs": [
    {
     "name": "stdout",
     "output_type": "stream",
     "text": [
      "Enter a string:- lohith\n",
      "l h t "
     ]
    }
   ],
   "source": [
    "n = input('Enter a string:- ')\n",
    "for i in range(len(n)):\n",
    "    if i%2==0:\n",
    "        print(n[i],end=' ')"
   ]
  },
  {
   "cell_type": "code",
   "execution_count": 109,
   "id": "61d25e78",
   "metadata": {},
   "outputs": [
    {
     "name": "stdout",
     "output_type": "stream",
     "text": [
      "i e r n "
     ]
    }
   ],
   "source": [
    "s = 'ineuron'\n",
    "n = len(s)\n",
    "for i in range(0,len(s),2):\n",
    "    print(s[i],end=' ')"
   ]
  },
  {
   "cell_type": "raw",
   "id": "19f5f95f-8e4e-48c8-8639-247f8f058efa",
   "metadata": {},
   "source": [
    "43. Print multiplication table form 1 to 10\n",
    "1  2 3 4 5 6 7 8 9 10 \t\t\n",
    "2  4 6 8 10 12 14 16 18 20 \t\t\n",
    "3  6 9 12 15 18 21 24 27 30 \t\t\n",
    "4  8 12 16 20 24 28 32 36 40 \t\t\n",
    "5  10 15 20 25 30 35 40 45 50 \t\t\n",
    "6  12 18 24 30 36 42 48 54 60 \t\t\n",
    "7  14 21 28 35 42 49 56 63 70 \t\t\n",
    "8  16 24 32 40 48 56 64 72 80 \t\t\n",
    "9  18 27 36 45 54 63 72 81 90 \t\t\n",
    "10 20 30 40 50 60 70 80 90 100 "
   ]
  },
  {
   "cell_type": "code",
   "execution_count": 110,
   "id": "30a91f0c",
   "metadata": {},
   "outputs": [
    {
     "name": "stdout",
     "output_type": "stream",
     "text": [
      "1  2  3  4  5  6  7  8  9  10  \n",
      "\n",
      "2  4  6  8  10  12  14  16  18  20  \n",
      "\n",
      "3  6  9  12  15  18  21  24  27  30  \n",
      "\n",
      "4  8  12  16  20  24  28  32  36  40  \n",
      "\n",
      "5  10  15  20  25  30  35  40  45  50  \n",
      "\n",
      "6  12  18  24  30  36  42  48  54  60  \n",
      "\n",
      "7  14  21  28  35  42  49  56  63  70  \n",
      "\n",
      "8  16  24  32  40  48  56  64  72  80  \n",
      "\n",
      "9  18  27  36  45  54  63  72  81  90  \n",
      "\n",
      "10  20  30  40  50  60  70  80  90  100  \n",
      "\n"
     ]
    }
   ],
   "source": [
    "for i in range(1,11):\n",
    "    for j in range(1,11):\n",
    "        k = i * j \n",
    "        print(f'{k}', end = '  ')\n",
    "    print('\\n')"
   ]
  },
  {
   "cell_type": "code",
   "execution_count": 111,
   "id": "0614d4ad",
   "metadata": {},
   "outputs": [
    {
     "name": "stdout",
     "output_type": "stream",
     "text": [
      "1 * 1 = 1 \n",
      "1 * 2 = 2 \n",
      "1 * 3 = 3 \n",
      "1 * 4 = 4 \n",
      "1 * 5 = 5 \n",
      "1 * 6 = 6 \n",
      "1 * 7 = 7 \n",
      "1 * 8 = 8 \n",
      "1 * 9 = 9 \n",
      "1 * 10 = 10 \n",
      "\n",
      "\n",
      "2 * 1 = 2 \n",
      "2 * 2 = 4 \n",
      "2 * 3 = 6 \n",
      "2 * 4 = 8 \n",
      "2 * 5 = 10 \n",
      "2 * 6 = 12 \n",
      "2 * 7 = 14 \n",
      "2 * 8 = 16 \n",
      "2 * 9 = 18 \n",
      "2 * 10 = 20 \n",
      "\n",
      "\n",
      "3 * 1 = 3 \n",
      "3 * 2 = 6 \n",
      "3 * 3 = 9 \n",
      "3 * 4 = 12 \n",
      "3 * 5 = 15 \n",
      "3 * 6 = 18 \n",
      "3 * 7 = 21 \n",
      "3 * 8 = 24 \n",
      "3 * 9 = 27 \n",
      "3 * 10 = 30 \n",
      "\n",
      "\n",
      "4 * 1 = 4 \n",
      "4 * 2 = 8 \n",
      "4 * 3 = 12 \n",
      "4 * 4 = 16 \n",
      "4 * 5 = 20 \n",
      "4 * 6 = 24 \n",
      "4 * 7 = 28 \n",
      "4 * 8 = 32 \n",
      "4 * 9 = 36 \n",
      "4 * 10 = 40 \n",
      "\n",
      "\n",
      "5 * 1 = 5 \n",
      "5 * 2 = 10 \n",
      "5 * 3 = 15 \n",
      "5 * 4 = 20 \n",
      "5 * 5 = 25 \n",
      "5 * 6 = 30 \n",
      "5 * 7 = 35 \n",
      "5 * 8 = 40 \n",
      "5 * 9 = 45 \n",
      "5 * 10 = 50 \n",
      "\n",
      "\n",
      "6 * 1 = 6 \n",
      "6 * 2 = 12 \n",
      "6 * 3 = 18 \n",
      "6 * 4 = 24 \n",
      "6 * 5 = 30 \n",
      "6 * 6 = 36 \n",
      "6 * 7 = 42 \n",
      "6 * 8 = 48 \n",
      "6 * 9 = 54 \n",
      "6 * 10 = 60 \n",
      "\n",
      "\n",
      "7 * 1 = 7 \n",
      "7 * 2 = 14 \n",
      "7 * 3 = 21 \n",
      "7 * 4 = 28 \n",
      "7 * 5 = 35 \n",
      "7 * 6 = 42 \n",
      "7 * 7 = 49 \n",
      "7 * 8 = 56 \n",
      "7 * 9 = 63 \n",
      "7 * 10 = 70 \n",
      "\n",
      "\n",
      "8 * 1 = 8 \n",
      "8 * 2 = 16 \n",
      "8 * 3 = 24 \n",
      "8 * 4 = 32 \n",
      "8 * 5 = 40 \n",
      "8 * 6 = 48 \n",
      "8 * 7 = 56 \n",
      "8 * 8 = 64 \n",
      "8 * 9 = 72 \n",
      "8 * 10 = 80 \n",
      "\n",
      "\n",
      "9 * 1 = 9 \n",
      "9 * 2 = 18 \n",
      "9 * 3 = 27 \n",
      "9 * 4 = 36 \n",
      "9 * 5 = 45 \n",
      "9 * 6 = 54 \n",
      "9 * 7 = 63 \n",
      "9 * 8 = 72 \n",
      "9 * 9 = 81 \n",
      "9 * 10 = 90 \n",
      "\n",
      "\n",
      "10 * 1 = 10 \n",
      "10 * 2 = 20 \n",
      "10 * 3 = 30 \n",
      "10 * 4 = 40 \n",
      "10 * 5 = 50 \n",
      "10 * 6 = 60 \n",
      "10 * 7 = 70 \n",
      "10 * 8 = 80 \n",
      "10 * 9 = 90 \n",
      "10 * 10 = 100 \n",
      "\n",
      "\n"
     ]
    }
   ],
   "source": [
    "for i in range(1,11):\n",
    "    for j in range(1,11):\n",
    "        k = i * j\n",
    "        print(f'{i} * {j} = {k} ')\n",
    "    print('\\n')"
   ]
  },
  {
   "cell_type": "raw",
   "id": "07f9b814-fc05-4a97-8a50-b762ab2522e6",
   "metadata": {},
   "source": [
    "44. Remove duplicates from a list and create a tuple and find the minimum and maximum number\n",
    "sample_list = [87, 45, 41, 65, 94, 41, 99, 94]\n",
    "Expected Outcome:\n",
    "unique items [87, 45, 41, 65, 99,94]\n",
    "tuple (87, 45, 41, 65, 99)\n",
    "min: 41\n",
    "max: 99"
   ]
  },
  {
   "cell_type": "code",
   "execution_count": 112,
   "id": "f2953e79",
   "metadata": {},
   "outputs": [
    {
     "name": "stdout",
     "output_type": "stream",
     "text": [
      "[65, 99, 41, 45, 87, 94]\n",
      "(65, 99, 41, 45, 87, 94)\n",
      "maximum:-  99\n",
      "minimum:-  41\n"
     ]
    }
   ],
   "source": [
    "l = [87, 45, 41, 65, 94, 41, 99, 94]\n",
    "\n",
    "s = set(l)\n",
    "print(list(s))\n",
    "print(tuple(s))\n",
    "print('maximum:- ',max(s))\n",
    "print('minimum:- ',min(s))"
   ]
  },
  {
   "cell_type": "raw",
   "id": "f4d4b1a2-7c19-43c4-922c-837b6c40f5fb",
   "metadata": {},
   "source": [
    "45. Write a Python program to create a lambda function that adds 15 to a given number passed in as an argument,\n",
    "also create a lambda function\n",
    "that multiplies argument x with argument y and print the result."
   ]
  },
  {
   "cell_type": "code",
   "execution_count": 113,
   "id": "18d4dea9",
   "metadata": {},
   "outputs": [
    {
     "name": "stdout",
     "output_type": "stream",
     "text": [
      "20\n"
     ]
    },
    {
     "data": {
      "text/plain": [
       "6"
      ]
     },
     "execution_count": 113,
     "metadata": {},
     "output_type": "execute_result"
    }
   ],
   "source": [
    "da1 = lambda a: a+15\n",
    "da2 = lambda a,b: a*b\n",
    "print(da1(5))\n",
    "da2(2,3)"
   ]
  },
  {
   "cell_type": "raw",
   "id": "58df2f9a-6310-4e59-a5fe-6658ff7898e1",
   "metadata": {},
   "source": [
    "46. Write a Python program to sort a list of tuples using Lambda."
   ]
  },
  {
   "cell_type": "code",
   "execution_count": 114,
   "id": "2c6f38cc",
   "metadata": {},
   "outputs": [
    {
     "data": {
      "text/plain": [
       "[(2, 'l'), (3, 'k'), (6, 'r')]"
      ]
     },
     "execution_count": 114,
     "metadata": {},
     "output_type": "execute_result"
    }
   ],
   "source": [
    "t = lambda args: sorted(args)\n",
    "\n",
    "l = [(6,'r'),(3,'k'),(2,'l')]\n",
    "t(l)"
   ]
  },
  {
   "cell_type": "raw",
   "id": "745bbb70-f71c-4042-a99a-f42bccef267e",
   "metadata": {},
   "source": [
    "47. Write a Python program to extract year, month, date and time using Lambda."
   ]
  },
  {
   "cell_type": "code",
   "execution_count": 115,
   "id": "46e256ae",
   "metadata": {},
   "outputs": [
    {
     "data": {
      "text/plain": [
       "datetime.datetime(2023, 2, 17, 11, 12, 54, 981873)"
      ]
     },
     "execution_count": 115,
     "metadata": {},
     "output_type": "execute_result"
    }
   ],
   "source": [
    "import datetime\n",
    "d = lambda : datetime.datetime.now()\n",
    "d()"
   ]
  },
  {
   "cell_type": "code",
   "execution_count": 116,
   "id": "5f4cc208",
   "metadata": {},
   "outputs": [
    {
     "name": "stdout",
     "output_type": "stream",
     "text": [
      "2023-02-17 11:12:55.721864\n",
      "year:-  2023\n",
      "month:-  2\n",
      "date:-  17\n",
      "time:-  11:12:55.721864\n"
     ]
    }
   ],
   "source": [
    "now = datetime.datetime.now()  #now is the argument\n",
    "print(now)\n",
    "\n",
    "year = lambda x: x.year   # year is the function and now is the argument\n",
    "month = lambda x: x.month\n",
    "date = lambda x: x.day\n",
    "time = lambda x: x.time()\n",
    "print('year:- ',year(now))\n",
    "print('month:- ',month(now))\n",
    "print('date:- ',date(now))\n",
    "print('time:- ',time(now))"
   ]
  },
  {
   "cell_type": "raw",
   "id": "afcf0f97-d39b-4554-a14f-411096bd515e",
   "metadata": {},
   "source": [
    "48. Write a Python program to count the even, odd numbers in a given array of integers using Lambda."
   ]
  },
  {
   "cell_type": "code",
   "execution_count": 117,
   "id": "5957660a",
   "metadata": {},
   "outputs": [
    {
     "name": "stdout",
     "output_type": "stream",
     "text": [
      "5\n",
      "5\n"
     ]
    }
   ],
   "source": [
    "l = [1,2,3,4,5,6,7,8,9,0]\n",
    "\n",
    "print(len(list(filter(lambda a: a%2==0,l))))\n",
    "print(len(list(filter(lambda a: a%2!=0,l))))"
   ]
  },
  {
   "cell_type": "raw",
   "id": "dbd65ee9-2f83-4286-a7b3-52f398ab8527",
   "metadata": {},
   "source": [
    "49. Write a Python program to convert all the characters in uppercase and lowercase and eliminate duplicate letters from a given sequence.\n",
    "Use map() function."
   ]
  },
  {
   "cell_type": "code",
   "execution_count": 118,
   "id": "6e071ad8",
   "metadata": {},
   "outputs": [
    {
     "data": {
      "text/plain": [
       "('HI.', 'hi.')"
      ]
     },
     "execution_count": 118,
     "metadata": {},
     "output_type": "execute_result"
    }
   ],
   "source": [
    "def q49(n):\n",
    "    def dup(n):\n",
    "        new =''\n",
    "        for i in n:\n",
    "            if i not in new:\n",
    "                new = new+i\n",
    "    return str(new).upper(),str(new).lower()\n",
    "\n",
    "q49('Krishhnna')"
   ]
  },
  {
   "cell_type": "code",
   "execution_count": 119,
   "id": "dc771950",
   "metadata": {},
   "outputs": [
    {
     "name": "stdout",
     "output_type": "stream",
     "text": [
      "('KRISHNA', 'LOHITH')\n",
      "('krishna', 'lohith')\n"
     ]
    }
   ],
   "source": [
    "s = ('Krishna', 'Lohith')\n",
    "print(tuple(map(lambda a: a.upper(),s)))\n",
    "print(tuple(map(lambda a: a.lower(),s)))"
   ]
  },
  {
   "cell_type": "raw",
   "id": "78c63beb-b43b-48ad-bb20-31f403af2f10",
   "metadata": {},
   "source": [
    "50.  Write a Python program to square the elements of a list using map() function."
   ]
  },
  {
   "cell_type": "code",
   "execution_count": 120,
   "id": "031b8e2f",
   "metadata": {},
   "outputs": [
    {
     "name": "stdout",
     "output_type": "stream",
     "text": [
      "[1, 4, 9, 16, 25, 36, 49, 64, 81, 0]\n"
     ]
    }
   ],
   "source": [
    "l = [1,2,3,4,5,6,7,8,9,0]\n",
    "print(list(map(lambda a: a**2,l)))"
   ]
  },
  {
   "cell_type": "code",
   "execution_count": null,
   "id": "440a0bbe",
   "metadata": {},
   "outputs": [],
   "source": []
  }
 ],
 "metadata": {
  "kernelspec": {
   "display_name": "Python 3",
   "language": "python",
   "name": "python3"
  },
  "language_info": {
   "codemirror_mode": {
    "name": "ipython",
    "version": 3
   },
   "file_extension": ".py",
   "mimetype": "text/x-python",
   "name": "python",
   "nbconvert_exporter": "python",
   "pygments_lexer": "ipython3",
   "version": "3.6.2"
  }
 },
 "nbformat": 4,
 "nbformat_minor": 5
}
